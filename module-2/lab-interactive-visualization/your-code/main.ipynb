{
 "cells": [
  {
   "cell_type": "markdown",
   "metadata": {},
   "source": [
    "# Interactive Visualization Lab\n",
    "\n",
    "Complete the following set of exercises to solidify your knowledge of interactive visualization using Plotly, Cufflinks, and IPyWidgets."
   ]
  },
  {
   "cell_type": "code",
   "execution_count": 1,
   "metadata": {},
   "outputs": [
    {
     "data": {
      "text/html": [
       "        <script type=\"text/javascript\">\n",
       "        window.PlotlyConfig = {MathJaxConfig: 'local'};\n",
       "        if (window.MathJax) {MathJax.Hub.Config({SVG: {font: \"STIX-Web\"}});}\n",
       "        if (typeof require !== 'undefined') {\n",
       "        require.undef(\"plotly\");\n",
       "        requirejs.config({\n",
       "            paths: {\n",
       "                'plotly': ['https://cdn.plot.ly/plotly-latest.min']\n",
       "            }\n",
       "        });\n",
       "        require(['plotly'], function(Plotly) {\n",
       "            window._Plotly = Plotly;\n",
       "        });\n",
       "        }\n",
       "        </script>\n",
       "        "
      ]
     },
     "metadata": {},
     "output_type": "display_data"
    }
   ],
   "source": [
    "import pandas as pd\n",
    "import chart_studio.plotly as py\n",
    "import cufflinks as cf\n",
    "from ipywidgets import interact\n",
    "\n",
    "cf.go_offline()"
   ]
  },
  {
   "cell_type": "code",
   "execution_count": 2,
   "metadata": {},
   "outputs": [
    {
     "data": {
      "text/html": [
       "<div>\n",
       "<style scoped>\n",
       "    .dataframe tbody tr th:only-of-type {\n",
       "        vertical-align: middle;\n",
       "    }\n",
       "\n",
       "    .dataframe tbody tr th {\n",
       "        vertical-align: top;\n",
       "    }\n",
       "\n",
       "    .dataframe thead th {\n",
       "        text-align: right;\n",
       "    }\n",
       "</style>\n",
       "<table border=\"1\" class=\"dataframe\">\n",
       "  <thead>\n",
       "    <tr style=\"text-align: right;\">\n",
       "      <th></th>\n",
       "      <th>InvoiceNo</th>\n",
       "      <th>InvoiceDate</th>\n",
       "      <th>StockCode</th>\n",
       "      <th>Description</th>\n",
       "      <th>Quantity</th>\n",
       "      <th>UnitPrice</th>\n",
       "      <th>Revenue</th>\n",
       "      <th>CustomerID</th>\n",
       "      <th>Country</th>\n",
       "    </tr>\n",
       "  </thead>\n",
       "  <tbody>\n",
       "    <tr>\n",
       "      <th>0</th>\n",
       "      <td>536365</td>\n",
       "      <td>2010-12-01 08:26:00</td>\n",
       "      <td>85123A</td>\n",
       "      <td>CREAM HANGING HEART T-LIGHT HOLDER</td>\n",
       "      <td>6</td>\n",
       "      <td>2.55</td>\n",
       "      <td>15.3</td>\n",
       "      <td>17850</td>\n",
       "      <td>United Kingdom</td>\n",
       "    </tr>\n",
       "    <tr>\n",
       "      <th>1</th>\n",
       "      <td>536373</td>\n",
       "      <td>2010-12-01 09:02:00</td>\n",
       "      <td>85123A</td>\n",
       "      <td>CREAM HANGING HEART T-LIGHT HOLDER</td>\n",
       "      <td>6</td>\n",
       "      <td>2.55</td>\n",
       "      <td>15.3</td>\n",
       "      <td>17850</td>\n",
       "      <td>United Kingdom</td>\n",
       "    </tr>\n",
       "    <tr>\n",
       "      <th>2</th>\n",
       "      <td>536375</td>\n",
       "      <td>2010-12-01 09:32:00</td>\n",
       "      <td>85123A</td>\n",
       "      <td>CREAM HANGING HEART T-LIGHT HOLDER</td>\n",
       "      <td>6</td>\n",
       "      <td>2.55</td>\n",
       "      <td>15.3</td>\n",
       "      <td>17850</td>\n",
       "      <td>United Kingdom</td>\n",
       "    </tr>\n",
       "    <tr>\n",
       "      <th>3</th>\n",
       "      <td>536390</td>\n",
       "      <td>2010-12-01 10:19:00</td>\n",
       "      <td>85123A</td>\n",
       "      <td>CREAM HANGING HEART T-LIGHT HOLDER</td>\n",
       "      <td>64</td>\n",
       "      <td>2.55</td>\n",
       "      <td>163.2</td>\n",
       "      <td>17511</td>\n",
       "      <td>United Kingdom</td>\n",
       "    </tr>\n",
       "    <tr>\n",
       "      <th>4</th>\n",
       "      <td>536394</td>\n",
       "      <td>2010-12-01 10:39:00</td>\n",
       "      <td>85123A</td>\n",
       "      <td>CREAM HANGING HEART T-LIGHT HOLDER</td>\n",
       "      <td>32</td>\n",
       "      <td>2.55</td>\n",
       "      <td>81.6</td>\n",
       "      <td>13408</td>\n",
       "      <td>United Kingdom</td>\n",
       "    </tr>\n",
       "  </tbody>\n",
       "</table>\n",
       "</div>"
      ],
      "text/plain": [
       "   InvoiceNo         InvoiceDate StockCode  \\\n",
       "0     536365 2010-12-01 08:26:00    85123A   \n",
       "1     536373 2010-12-01 09:02:00    85123A   \n",
       "2     536375 2010-12-01 09:32:00    85123A   \n",
       "3     536390 2010-12-01 10:19:00    85123A   \n",
       "4     536394 2010-12-01 10:39:00    85123A   \n",
       "\n",
       "                          Description  Quantity  UnitPrice  Revenue  \\\n",
       "0  CREAM HANGING HEART T-LIGHT HOLDER         6       2.55     15.3   \n",
       "1  CREAM HANGING HEART T-LIGHT HOLDER         6       2.55     15.3   \n",
       "2  CREAM HANGING HEART T-LIGHT HOLDER         6       2.55     15.3   \n",
       "3  CREAM HANGING HEART T-LIGHT HOLDER        64       2.55    163.2   \n",
       "4  CREAM HANGING HEART T-LIGHT HOLDER        32       2.55     81.6   \n",
       "\n",
       "   CustomerID         Country  \n",
       "0       17850  United Kingdom  \n",
       "1       17850  United Kingdom  \n",
       "2       17850  United Kingdom  \n",
       "3       17511  United Kingdom  \n",
       "4       13408  United Kingdom  "
      ]
     },
     "execution_count": 2,
     "metadata": {},
     "output_type": "execute_result"
    }
   ],
   "source": [
    "data = pd.read_excel('../data/Online Retail.xlsx')\n",
    "data.head()"
   ]
  },
  {
   "cell_type": "markdown",
   "metadata": {},
   "source": [
    "## 1. Create an interactive bar chart showing total quantity and revenue by country (excluding United Kingdom) for the month of April 2011."
   ]
  },
  {
   "cell_type": "code",
   "execution_count": 3,
   "metadata": {},
   "outputs": [
    {
     "name": "stderr",
     "output_type": "stream",
     "text": [
      "/home/elisa/.local/lib/python3.7/site-packages/pandas/core/strings.py:1952: UserWarning:\n",
      "\n",
      "This pattern has match groups. To actually get the groups, use str.extract.\n",
      "\n"
     ]
    },
    {
     "data": {
      "application/vnd.plotly.v1+json": {
       "config": {
        "linkText": "Export to plot.ly",
        "plotlyServerURL": "https://plot.ly",
        "showLink": true
       },
       "data": [
        {
         "marker": {
          "color": "rgba(255, 153, 51, 0.6)",
          "line": {
           "color": "rgba(255, 153, 51, 1.0)",
           "width": 1
          }
         },
         "name": "Quantity",
         "orientation": "v",
         "text": "",
         "type": "bar",
         "x": [
          "Australia",
          "Austria",
          "Belgium",
          "Brazil",
          "Channel Islands",
          "EIRE",
          "Finland",
          "France",
          "Germany",
          "Greece",
          "Iceland",
          "Italy",
          "Japan",
          "Netherlands",
          "Poland",
          "Portugal",
          "Singapore",
          "Spain",
          "Sweden",
          "Switzerland",
          "USA"
         ],
         "y": [
          224,
          308,
          1170,
          356,
          96,
          4129,
          810,
          2265,
          5702,
          260,
          483,
          653,
          8058,
          1762,
          432,
          951,
          1384,
          948,
          306,
          878,
          137
         ]
        },
        {
         "marker": {
          "color": "rgba(55, 128, 191, 0.6)",
          "line": {
           "color": "rgba(55, 128, 191, 1.0)",
           "width": 1
          }
         },
         "name": "Revenue",
         "orientation": "v",
         "text": "",
         "type": "bar",
         "x": [
          "Australia",
          "Austria",
          "Belgium",
          "Brazil",
          "Channel Islands",
          "EIRE",
          "Finland",
          "France",
          "Germany",
          "Greece",
          "Iceland",
          "Italy",
          "Japan",
          "Netherlands",
          "Poland",
          "Portugal",
          "Singapore",
          "Spain",
          "Sweden",
          "Switzerland",
          "USA"
         ],
         "y": [
          421.6,
          584.78,
          1788.4799999999989,
          1143.6000000000001,
          243.00000000000003,
          7270.4999999999945,
          1368.92,
          3899.309999999998,
          10994.789999999995,
          509.73999999999995,
          636.2499999999999,
          737.8300000000002,
          6548.500000000001,
          2886.5600000000004,
          705.8399999999999,
          1687.7499999999998,
          2118.74,
          1645.65,
          649.1,
          1756.9399999999998,
          383.94999999999993
         ]
        }
       ],
       "layout": {
        "legend": {
         "bgcolor": "#F5F6F9",
         "font": {
          "color": "#4D5663"
         }
        },
        "paper_bgcolor": "#F5F6F9",
        "plot_bgcolor": "#F5F6F9",
        "template": {
         "data": {
          "bar": [
           {
            "error_x": {
             "color": "#2a3f5f"
            },
            "error_y": {
             "color": "#2a3f5f"
            },
            "marker": {
             "line": {
              "color": "#E5ECF6",
              "width": 0.5
             }
            },
            "type": "bar"
           }
          ],
          "barpolar": [
           {
            "marker": {
             "line": {
              "color": "#E5ECF6",
              "width": 0.5
             }
            },
            "type": "barpolar"
           }
          ],
          "carpet": [
           {
            "aaxis": {
             "endlinecolor": "#2a3f5f",
             "gridcolor": "white",
             "linecolor": "white",
             "minorgridcolor": "white",
             "startlinecolor": "#2a3f5f"
            },
            "baxis": {
             "endlinecolor": "#2a3f5f",
             "gridcolor": "white",
             "linecolor": "white",
             "minorgridcolor": "white",
             "startlinecolor": "#2a3f5f"
            },
            "type": "carpet"
           }
          ],
          "choropleth": [
           {
            "colorbar": {
             "outlinewidth": 0,
             "ticks": ""
            },
            "type": "choropleth"
           }
          ],
          "contour": [
           {
            "colorbar": {
             "outlinewidth": 0,
             "ticks": ""
            },
            "colorscale": [
             [
              0,
              "#0d0887"
             ],
             [
              0.1111111111111111,
              "#46039f"
             ],
             [
              0.2222222222222222,
              "#7201a8"
             ],
             [
              0.3333333333333333,
              "#9c179e"
             ],
             [
              0.4444444444444444,
              "#bd3786"
             ],
             [
              0.5555555555555556,
              "#d8576b"
             ],
             [
              0.6666666666666666,
              "#ed7953"
             ],
             [
              0.7777777777777778,
              "#fb9f3a"
             ],
             [
              0.8888888888888888,
              "#fdca26"
             ],
             [
              1,
              "#f0f921"
             ]
            ],
            "type": "contour"
           }
          ],
          "contourcarpet": [
           {
            "colorbar": {
             "outlinewidth": 0,
             "ticks": ""
            },
            "type": "contourcarpet"
           }
          ],
          "heatmap": [
           {
            "colorbar": {
             "outlinewidth": 0,
             "ticks": ""
            },
            "colorscale": [
             [
              0,
              "#0d0887"
             ],
             [
              0.1111111111111111,
              "#46039f"
             ],
             [
              0.2222222222222222,
              "#7201a8"
             ],
             [
              0.3333333333333333,
              "#9c179e"
             ],
             [
              0.4444444444444444,
              "#bd3786"
             ],
             [
              0.5555555555555556,
              "#d8576b"
             ],
             [
              0.6666666666666666,
              "#ed7953"
             ],
             [
              0.7777777777777778,
              "#fb9f3a"
             ],
             [
              0.8888888888888888,
              "#fdca26"
             ],
             [
              1,
              "#f0f921"
             ]
            ],
            "type": "heatmap"
           }
          ],
          "heatmapgl": [
           {
            "colorbar": {
             "outlinewidth": 0,
             "ticks": ""
            },
            "colorscale": [
             [
              0,
              "#0d0887"
             ],
             [
              0.1111111111111111,
              "#46039f"
             ],
             [
              0.2222222222222222,
              "#7201a8"
             ],
             [
              0.3333333333333333,
              "#9c179e"
             ],
             [
              0.4444444444444444,
              "#bd3786"
             ],
             [
              0.5555555555555556,
              "#d8576b"
             ],
             [
              0.6666666666666666,
              "#ed7953"
             ],
             [
              0.7777777777777778,
              "#fb9f3a"
             ],
             [
              0.8888888888888888,
              "#fdca26"
             ],
             [
              1,
              "#f0f921"
             ]
            ],
            "type": "heatmapgl"
           }
          ],
          "histogram": [
           {
            "marker": {
             "colorbar": {
              "outlinewidth": 0,
              "ticks": ""
             }
            },
            "type": "histogram"
           }
          ],
          "histogram2d": [
           {
            "colorbar": {
             "outlinewidth": 0,
             "ticks": ""
            },
            "colorscale": [
             [
              0,
              "#0d0887"
             ],
             [
              0.1111111111111111,
              "#46039f"
             ],
             [
              0.2222222222222222,
              "#7201a8"
             ],
             [
              0.3333333333333333,
              "#9c179e"
             ],
             [
              0.4444444444444444,
              "#bd3786"
             ],
             [
              0.5555555555555556,
              "#d8576b"
             ],
             [
              0.6666666666666666,
              "#ed7953"
             ],
             [
              0.7777777777777778,
              "#fb9f3a"
             ],
             [
              0.8888888888888888,
              "#fdca26"
             ],
             [
              1,
              "#f0f921"
             ]
            ],
            "type": "histogram2d"
           }
          ],
          "histogram2dcontour": [
           {
            "colorbar": {
             "outlinewidth": 0,
             "ticks": ""
            },
            "colorscale": [
             [
              0,
              "#0d0887"
             ],
             [
              0.1111111111111111,
              "#46039f"
             ],
             [
              0.2222222222222222,
              "#7201a8"
             ],
             [
              0.3333333333333333,
              "#9c179e"
             ],
             [
              0.4444444444444444,
              "#bd3786"
             ],
             [
              0.5555555555555556,
              "#d8576b"
             ],
             [
              0.6666666666666666,
              "#ed7953"
             ],
             [
              0.7777777777777778,
              "#fb9f3a"
             ],
             [
              0.8888888888888888,
              "#fdca26"
             ],
             [
              1,
              "#f0f921"
             ]
            ],
            "type": "histogram2dcontour"
           }
          ],
          "mesh3d": [
           {
            "colorbar": {
             "outlinewidth": 0,
             "ticks": ""
            },
            "type": "mesh3d"
           }
          ],
          "parcoords": [
           {
            "line": {
             "colorbar": {
              "outlinewidth": 0,
              "ticks": ""
             }
            },
            "type": "parcoords"
           }
          ],
          "pie": [
           {
            "automargin": true,
            "type": "pie"
           }
          ],
          "scatter": [
           {
            "marker": {
             "colorbar": {
              "outlinewidth": 0,
              "ticks": ""
             }
            },
            "type": "scatter"
           }
          ],
          "scatter3d": [
           {
            "line": {
             "colorbar": {
              "outlinewidth": 0,
              "ticks": ""
             }
            },
            "marker": {
             "colorbar": {
              "outlinewidth": 0,
              "ticks": ""
             }
            },
            "type": "scatter3d"
           }
          ],
          "scattercarpet": [
           {
            "marker": {
             "colorbar": {
              "outlinewidth": 0,
              "ticks": ""
             }
            },
            "type": "scattercarpet"
           }
          ],
          "scattergeo": [
           {
            "marker": {
             "colorbar": {
              "outlinewidth": 0,
              "ticks": ""
             }
            },
            "type": "scattergeo"
           }
          ],
          "scattergl": [
           {
            "marker": {
             "colorbar": {
              "outlinewidth": 0,
              "ticks": ""
             }
            },
            "type": "scattergl"
           }
          ],
          "scattermapbox": [
           {
            "marker": {
             "colorbar": {
              "outlinewidth": 0,
              "ticks": ""
             }
            },
            "type": "scattermapbox"
           }
          ],
          "scatterpolar": [
           {
            "marker": {
             "colorbar": {
              "outlinewidth": 0,
              "ticks": ""
             }
            },
            "type": "scatterpolar"
           }
          ],
          "scatterpolargl": [
           {
            "marker": {
             "colorbar": {
              "outlinewidth": 0,
              "ticks": ""
             }
            },
            "type": "scatterpolargl"
           }
          ],
          "scatterternary": [
           {
            "marker": {
             "colorbar": {
              "outlinewidth": 0,
              "ticks": ""
             }
            },
            "type": "scatterternary"
           }
          ],
          "surface": [
           {
            "colorbar": {
             "outlinewidth": 0,
             "ticks": ""
            },
            "colorscale": [
             [
              0,
              "#0d0887"
             ],
             [
              0.1111111111111111,
              "#46039f"
             ],
             [
              0.2222222222222222,
              "#7201a8"
             ],
             [
              0.3333333333333333,
              "#9c179e"
             ],
             [
              0.4444444444444444,
              "#bd3786"
             ],
             [
              0.5555555555555556,
              "#d8576b"
             ],
             [
              0.6666666666666666,
              "#ed7953"
             ],
             [
              0.7777777777777778,
              "#fb9f3a"
             ],
             [
              0.8888888888888888,
              "#fdca26"
             ],
             [
              1,
              "#f0f921"
             ]
            ],
            "type": "surface"
           }
          ],
          "table": [
           {
            "cells": {
             "fill": {
              "color": "#EBF0F8"
             },
             "line": {
              "color": "white"
             }
            },
            "header": {
             "fill": {
              "color": "#C8D4E3"
             },
             "line": {
              "color": "white"
             }
            },
            "type": "table"
           }
          ]
         },
         "layout": {
          "annotationdefaults": {
           "arrowcolor": "#2a3f5f",
           "arrowhead": 0,
           "arrowwidth": 1
          },
          "coloraxis": {
           "colorbar": {
            "outlinewidth": 0,
            "ticks": ""
           }
          },
          "colorscale": {
           "diverging": [
            [
             0,
             "#8e0152"
            ],
            [
             0.1,
             "#c51b7d"
            ],
            [
             0.2,
             "#de77ae"
            ],
            [
             0.3,
             "#f1b6da"
            ],
            [
             0.4,
             "#fde0ef"
            ],
            [
             0.5,
             "#f7f7f7"
            ],
            [
             0.6,
             "#e6f5d0"
            ],
            [
             0.7,
             "#b8e186"
            ],
            [
             0.8,
             "#7fbc41"
            ],
            [
             0.9,
             "#4d9221"
            ],
            [
             1,
             "#276419"
            ]
           ],
           "sequential": [
            [
             0,
             "#0d0887"
            ],
            [
             0.1111111111111111,
             "#46039f"
            ],
            [
             0.2222222222222222,
             "#7201a8"
            ],
            [
             0.3333333333333333,
             "#9c179e"
            ],
            [
             0.4444444444444444,
             "#bd3786"
            ],
            [
             0.5555555555555556,
             "#d8576b"
            ],
            [
             0.6666666666666666,
             "#ed7953"
            ],
            [
             0.7777777777777778,
             "#fb9f3a"
            ],
            [
             0.8888888888888888,
             "#fdca26"
            ],
            [
             1,
             "#f0f921"
            ]
           ],
           "sequentialminus": [
            [
             0,
             "#0d0887"
            ],
            [
             0.1111111111111111,
             "#46039f"
            ],
            [
             0.2222222222222222,
             "#7201a8"
            ],
            [
             0.3333333333333333,
             "#9c179e"
            ],
            [
             0.4444444444444444,
             "#bd3786"
            ],
            [
             0.5555555555555556,
             "#d8576b"
            ],
            [
             0.6666666666666666,
             "#ed7953"
            ],
            [
             0.7777777777777778,
             "#fb9f3a"
            ],
            [
             0.8888888888888888,
             "#fdca26"
            ],
            [
             1,
             "#f0f921"
            ]
           ]
          },
          "colorway": [
           "#636efa",
           "#EF553B",
           "#00cc96",
           "#ab63fa",
           "#FFA15A",
           "#19d3f3",
           "#FF6692",
           "#B6E880",
           "#FF97FF",
           "#FECB52"
          ],
          "font": {
           "color": "#2a3f5f"
          },
          "geo": {
           "bgcolor": "white",
           "lakecolor": "white",
           "landcolor": "#E5ECF6",
           "showlakes": true,
           "showland": true,
           "subunitcolor": "white"
          },
          "hoverlabel": {
           "align": "left"
          },
          "hovermode": "closest",
          "mapbox": {
           "style": "light"
          },
          "paper_bgcolor": "white",
          "plot_bgcolor": "#E5ECF6",
          "polar": {
           "angularaxis": {
            "gridcolor": "white",
            "linecolor": "white",
            "ticks": ""
           },
           "bgcolor": "#E5ECF6",
           "radialaxis": {
            "gridcolor": "white",
            "linecolor": "white",
            "ticks": ""
           }
          },
          "scene": {
           "xaxis": {
            "backgroundcolor": "#E5ECF6",
            "gridcolor": "white",
            "gridwidth": 2,
            "linecolor": "white",
            "showbackground": true,
            "ticks": "",
            "zerolinecolor": "white"
           },
           "yaxis": {
            "backgroundcolor": "#E5ECF6",
            "gridcolor": "white",
            "gridwidth": 2,
            "linecolor": "white",
            "showbackground": true,
            "ticks": "",
            "zerolinecolor": "white"
           },
           "zaxis": {
            "backgroundcolor": "#E5ECF6",
            "gridcolor": "white",
            "gridwidth": 2,
            "linecolor": "white",
            "showbackground": true,
            "ticks": "",
            "zerolinecolor": "white"
           }
          },
          "shapedefaults": {
           "line": {
            "color": "#2a3f5f"
           }
          },
          "ternary": {
           "aaxis": {
            "gridcolor": "white",
            "linecolor": "white",
            "ticks": ""
           },
           "baxis": {
            "gridcolor": "white",
            "linecolor": "white",
            "ticks": ""
           },
           "bgcolor": "#E5ECF6",
           "caxis": {
            "gridcolor": "white",
            "linecolor": "white",
            "ticks": ""
           }
          },
          "title": {
           "x": 0.05
          },
          "xaxis": {
           "automargin": true,
           "gridcolor": "white",
           "linecolor": "white",
           "ticks": "",
           "title": {
            "standoff": 15
           },
           "zerolinecolor": "white",
           "zerolinewidth": 2
          },
          "yaxis": {
           "automargin": true,
           "gridcolor": "white",
           "linecolor": "white",
           "ticks": "",
           "title": {
            "standoff": 15
           },
           "zerolinecolor": "white",
           "zerolinewidth": 2
          }
         }
        },
        "title": {
         "font": {
          "color": "#4D5663"
         },
         "text": "Total quantity and revenue"
        },
        "xaxis": {
         "gridcolor": "#E1E5ED",
         "showgrid": true,
         "tickfont": {
          "color": "#4D5663"
         },
         "title": {
          "font": {
           "color": "#4D5663"
          },
          "text": ""
         },
         "zerolinecolor": "#E1E5ED"
        },
        "yaxis": {
         "gridcolor": "#E1E5ED",
         "showgrid": true,
         "tickfont": {
          "color": "#4D5663"
         },
         "title": {
          "font": {
           "color": "#4D5663"
          },
          "text": "Count"
         },
         "zerolinecolor": "#E1E5ED"
        }
       }
      },
      "text/html": [
       "<div>\n",
       "        \n",
       "        \n",
       "            <div id=\"4cae05b6-e810-4e14-b004-500a1a3346f6\" class=\"plotly-graph-div\" style=\"height:525px; width:100%;\"></div>\n",
       "            <script type=\"text/javascript\">\n",
       "                require([\"plotly\"], function(Plotly) {\n",
       "                    window.PLOTLYENV=window.PLOTLYENV || {};\n",
       "                    window.PLOTLYENV.BASE_URL='https://plot.ly';\n",
       "                    \n",
       "                if (document.getElementById(\"4cae05b6-e810-4e14-b004-500a1a3346f6\")) {\n",
       "                    Plotly.newPlot(\n",
       "                        '4cae05b6-e810-4e14-b004-500a1a3346f6',\n",
       "                        [{\"marker\": {\"color\": \"rgba(255, 153, 51, 0.6)\", \"line\": {\"color\": \"rgba(255, 153, 51, 1.0)\", \"width\": 1}}, \"name\": \"Quantity\", \"orientation\": \"v\", \"text\": \"\", \"type\": \"bar\", \"x\": [\"Australia\", \"Austria\", \"Belgium\", \"Brazil\", \"Channel Islands\", \"EIRE\", \"Finland\", \"France\", \"Germany\", \"Greece\", \"Iceland\", \"Italy\", \"Japan\", \"Netherlands\", \"Poland\", \"Portugal\", \"Singapore\", \"Spain\", \"Sweden\", \"Switzerland\", \"USA\"], \"y\": [224, 308, 1170, 356, 96, 4129, 810, 2265, 5702, 260, 483, 653, 8058, 1762, 432, 951, 1384, 948, 306, 878, 137]}, {\"marker\": {\"color\": \"rgba(55, 128, 191, 0.6)\", \"line\": {\"color\": \"rgba(55, 128, 191, 1.0)\", \"width\": 1}}, \"name\": \"Revenue\", \"orientation\": \"v\", \"text\": \"\", \"type\": \"bar\", \"x\": [\"Australia\", \"Austria\", \"Belgium\", \"Brazil\", \"Channel Islands\", \"EIRE\", \"Finland\", \"France\", \"Germany\", \"Greece\", \"Iceland\", \"Italy\", \"Japan\", \"Netherlands\", \"Poland\", \"Portugal\", \"Singapore\", \"Spain\", \"Sweden\", \"Switzerland\", \"USA\"], \"y\": [421.6, 584.78, 1788.4799999999989, 1143.6000000000001, 243.00000000000003, 7270.4999999999945, 1368.92, 3899.309999999998, 10994.789999999995, 509.73999999999995, 636.2499999999999, 737.8300000000002, 6548.500000000001, 2886.5600000000004, 705.8399999999999, 1687.7499999999998, 2118.74, 1645.65, 649.1, 1756.9399999999998, 383.94999999999993]}],\n",
       "                        {\"legend\": {\"bgcolor\": \"#F5F6F9\", \"font\": {\"color\": \"#4D5663\"}}, \"paper_bgcolor\": \"#F5F6F9\", \"plot_bgcolor\": \"#F5F6F9\", \"template\": {\"data\": {\"bar\": [{\"error_x\": {\"color\": \"#2a3f5f\"}, \"error_y\": {\"color\": \"#2a3f5f\"}, \"marker\": {\"line\": {\"color\": \"#E5ECF6\", \"width\": 0.5}}, \"type\": \"bar\"}], \"barpolar\": [{\"marker\": {\"line\": {\"color\": \"#E5ECF6\", \"width\": 0.5}}, \"type\": \"barpolar\"}], \"carpet\": [{\"aaxis\": {\"endlinecolor\": \"#2a3f5f\", \"gridcolor\": \"white\", \"linecolor\": \"white\", \"minorgridcolor\": \"white\", \"startlinecolor\": \"#2a3f5f\"}, \"baxis\": {\"endlinecolor\": \"#2a3f5f\", \"gridcolor\": \"white\", \"linecolor\": \"white\", \"minorgridcolor\": \"white\", \"startlinecolor\": \"#2a3f5f\"}, \"type\": \"carpet\"}], \"choropleth\": [{\"colorbar\": {\"outlinewidth\": 0, \"ticks\": \"\"}, \"type\": \"choropleth\"}], \"contour\": [{\"colorbar\": {\"outlinewidth\": 0, \"ticks\": \"\"}, \"colorscale\": [[0.0, \"#0d0887\"], [0.1111111111111111, \"#46039f\"], [0.2222222222222222, \"#7201a8\"], [0.3333333333333333, \"#9c179e\"], [0.4444444444444444, \"#bd3786\"], [0.5555555555555556, \"#d8576b\"], [0.6666666666666666, \"#ed7953\"], [0.7777777777777778, \"#fb9f3a\"], [0.8888888888888888, \"#fdca26\"], [1.0, \"#f0f921\"]], \"type\": \"contour\"}], \"contourcarpet\": [{\"colorbar\": {\"outlinewidth\": 0, \"ticks\": \"\"}, \"type\": \"contourcarpet\"}], \"heatmap\": [{\"colorbar\": {\"outlinewidth\": 0, \"ticks\": \"\"}, \"colorscale\": [[0.0, \"#0d0887\"], [0.1111111111111111, \"#46039f\"], [0.2222222222222222, \"#7201a8\"], [0.3333333333333333, \"#9c179e\"], [0.4444444444444444, \"#bd3786\"], [0.5555555555555556, \"#d8576b\"], [0.6666666666666666, \"#ed7953\"], [0.7777777777777778, \"#fb9f3a\"], [0.8888888888888888, \"#fdca26\"], [1.0, \"#f0f921\"]], \"type\": \"heatmap\"}], \"heatmapgl\": [{\"colorbar\": {\"outlinewidth\": 0, \"ticks\": \"\"}, \"colorscale\": [[0.0, \"#0d0887\"], [0.1111111111111111, \"#46039f\"], [0.2222222222222222, \"#7201a8\"], [0.3333333333333333, \"#9c179e\"], [0.4444444444444444, \"#bd3786\"], [0.5555555555555556, \"#d8576b\"], [0.6666666666666666, \"#ed7953\"], [0.7777777777777778, \"#fb9f3a\"], [0.8888888888888888, \"#fdca26\"], [1.0, \"#f0f921\"]], \"type\": \"heatmapgl\"}], \"histogram\": [{\"marker\": {\"colorbar\": {\"outlinewidth\": 0, \"ticks\": \"\"}}, \"type\": \"histogram\"}], \"histogram2d\": [{\"colorbar\": {\"outlinewidth\": 0, \"ticks\": \"\"}, \"colorscale\": [[0.0, \"#0d0887\"], [0.1111111111111111, \"#46039f\"], [0.2222222222222222, \"#7201a8\"], [0.3333333333333333, \"#9c179e\"], [0.4444444444444444, \"#bd3786\"], [0.5555555555555556, \"#d8576b\"], [0.6666666666666666, \"#ed7953\"], [0.7777777777777778, \"#fb9f3a\"], [0.8888888888888888, \"#fdca26\"], [1.0, \"#f0f921\"]], \"type\": \"histogram2d\"}], \"histogram2dcontour\": [{\"colorbar\": {\"outlinewidth\": 0, \"ticks\": \"\"}, \"colorscale\": [[0.0, \"#0d0887\"], [0.1111111111111111, \"#46039f\"], [0.2222222222222222, \"#7201a8\"], [0.3333333333333333, \"#9c179e\"], [0.4444444444444444, \"#bd3786\"], [0.5555555555555556, \"#d8576b\"], [0.6666666666666666, \"#ed7953\"], [0.7777777777777778, \"#fb9f3a\"], [0.8888888888888888, \"#fdca26\"], [1.0, \"#f0f921\"]], \"type\": \"histogram2dcontour\"}], \"mesh3d\": [{\"colorbar\": {\"outlinewidth\": 0, \"ticks\": \"\"}, \"type\": \"mesh3d\"}], \"parcoords\": [{\"line\": {\"colorbar\": {\"outlinewidth\": 0, \"ticks\": \"\"}}, \"type\": \"parcoords\"}], \"pie\": [{\"automargin\": true, \"type\": \"pie\"}], \"scatter\": [{\"marker\": {\"colorbar\": {\"outlinewidth\": 0, \"ticks\": \"\"}}, \"type\": \"scatter\"}], \"scatter3d\": [{\"line\": {\"colorbar\": {\"outlinewidth\": 0, \"ticks\": \"\"}}, \"marker\": {\"colorbar\": {\"outlinewidth\": 0, \"ticks\": \"\"}}, \"type\": \"scatter3d\"}], \"scattercarpet\": [{\"marker\": {\"colorbar\": {\"outlinewidth\": 0, \"ticks\": \"\"}}, \"type\": \"scattercarpet\"}], \"scattergeo\": [{\"marker\": {\"colorbar\": {\"outlinewidth\": 0, \"ticks\": \"\"}}, \"type\": \"scattergeo\"}], \"scattergl\": [{\"marker\": {\"colorbar\": {\"outlinewidth\": 0, \"ticks\": \"\"}}, \"type\": \"scattergl\"}], \"scattermapbox\": [{\"marker\": {\"colorbar\": {\"outlinewidth\": 0, \"ticks\": \"\"}}, \"type\": \"scattermapbox\"}], \"scatterpolar\": [{\"marker\": {\"colorbar\": {\"outlinewidth\": 0, \"ticks\": \"\"}}, \"type\": \"scatterpolar\"}], \"scatterpolargl\": [{\"marker\": {\"colorbar\": {\"outlinewidth\": 0, \"ticks\": \"\"}}, \"type\": \"scatterpolargl\"}], \"scatterternary\": [{\"marker\": {\"colorbar\": {\"outlinewidth\": 0, \"ticks\": \"\"}}, \"type\": \"scatterternary\"}], \"surface\": [{\"colorbar\": {\"outlinewidth\": 0, \"ticks\": \"\"}, \"colorscale\": [[0.0, \"#0d0887\"], [0.1111111111111111, \"#46039f\"], [0.2222222222222222, \"#7201a8\"], [0.3333333333333333, \"#9c179e\"], [0.4444444444444444, \"#bd3786\"], [0.5555555555555556, \"#d8576b\"], [0.6666666666666666, \"#ed7953\"], [0.7777777777777778, \"#fb9f3a\"], [0.8888888888888888, \"#fdca26\"], [1.0, \"#f0f921\"]], \"type\": \"surface\"}], \"table\": [{\"cells\": {\"fill\": {\"color\": \"#EBF0F8\"}, \"line\": {\"color\": \"white\"}}, \"header\": {\"fill\": {\"color\": \"#C8D4E3\"}, \"line\": {\"color\": \"white\"}}, \"type\": \"table\"}]}, \"layout\": {\"annotationdefaults\": {\"arrowcolor\": \"#2a3f5f\", \"arrowhead\": 0, \"arrowwidth\": 1}, \"coloraxis\": {\"colorbar\": {\"outlinewidth\": 0, \"ticks\": \"\"}}, \"colorscale\": {\"diverging\": [[0, \"#8e0152\"], [0.1, \"#c51b7d\"], [0.2, \"#de77ae\"], [0.3, \"#f1b6da\"], [0.4, \"#fde0ef\"], [0.5, \"#f7f7f7\"], [0.6, \"#e6f5d0\"], [0.7, \"#b8e186\"], [0.8, \"#7fbc41\"], [0.9, \"#4d9221\"], [1, \"#276419\"]], \"sequential\": [[0.0, \"#0d0887\"], [0.1111111111111111, \"#46039f\"], [0.2222222222222222, \"#7201a8\"], [0.3333333333333333, \"#9c179e\"], [0.4444444444444444, \"#bd3786\"], [0.5555555555555556, \"#d8576b\"], [0.6666666666666666, \"#ed7953\"], [0.7777777777777778, \"#fb9f3a\"], [0.8888888888888888, \"#fdca26\"], [1.0, \"#f0f921\"]], \"sequentialminus\": [[0.0, \"#0d0887\"], [0.1111111111111111, \"#46039f\"], [0.2222222222222222, \"#7201a8\"], [0.3333333333333333, \"#9c179e\"], [0.4444444444444444, \"#bd3786\"], [0.5555555555555556, \"#d8576b\"], [0.6666666666666666, \"#ed7953\"], [0.7777777777777778, \"#fb9f3a\"], [0.8888888888888888, \"#fdca26\"], [1.0, \"#f0f921\"]]}, \"colorway\": [\"#636efa\", \"#EF553B\", \"#00cc96\", \"#ab63fa\", \"#FFA15A\", \"#19d3f3\", \"#FF6692\", \"#B6E880\", \"#FF97FF\", \"#FECB52\"], \"font\": {\"color\": \"#2a3f5f\"}, \"geo\": {\"bgcolor\": \"white\", \"lakecolor\": \"white\", \"landcolor\": \"#E5ECF6\", \"showlakes\": true, \"showland\": true, \"subunitcolor\": \"white\"}, \"hoverlabel\": {\"align\": \"left\"}, \"hovermode\": \"closest\", \"mapbox\": {\"style\": \"light\"}, \"paper_bgcolor\": \"white\", \"plot_bgcolor\": \"#E5ECF6\", \"polar\": {\"angularaxis\": {\"gridcolor\": \"white\", \"linecolor\": \"white\", \"ticks\": \"\"}, \"bgcolor\": \"#E5ECF6\", \"radialaxis\": {\"gridcolor\": \"white\", \"linecolor\": \"white\", \"ticks\": \"\"}}, \"scene\": {\"xaxis\": {\"backgroundcolor\": \"#E5ECF6\", \"gridcolor\": \"white\", \"gridwidth\": 2, \"linecolor\": \"white\", \"showbackground\": true, \"ticks\": \"\", \"zerolinecolor\": \"white\"}, \"yaxis\": {\"backgroundcolor\": \"#E5ECF6\", \"gridcolor\": \"white\", \"gridwidth\": 2, \"linecolor\": \"white\", \"showbackground\": true, \"ticks\": \"\", \"zerolinecolor\": \"white\"}, \"zaxis\": {\"backgroundcolor\": \"#E5ECF6\", \"gridcolor\": \"white\", \"gridwidth\": 2, \"linecolor\": \"white\", \"showbackground\": true, \"ticks\": \"\", \"zerolinecolor\": \"white\"}}, \"shapedefaults\": {\"line\": {\"color\": \"#2a3f5f\"}}, \"ternary\": {\"aaxis\": {\"gridcolor\": \"white\", \"linecolor\": \"white\", \"ticks\": \"\"}, \"baxis\": {\"gridcolor\": \"white\", \"linecolor\": \"white\", \"ticks\": \"\"}, \"bgcolor\": \"#E5ECF6\", \"caxis\": {\"gridcolor\": \"white\", \"linecolor\": \"white\", \"ticks\": \"\"}}, \"title\": {\"x\": 0.05}, \"xaxis\": {\"automargin\": true, \"gridcolor\": \"white\", \"linecolor\": \"white\", \"ticks\": \"\", \"title\": {\"standoff\": 15}, \"zerolinecolor\": \"white\", \"zerolinewidth\": 2}, \"yaxis\": {\"automargin\": true, \"gridcolor\": \"white\", \"linecolor\": \"white\", \"ticks\": \"\", \"title\": {\"standoff\": 15}, \"zerolinecolor\": \"white\", \"zerolinewidth\": 2}}}, \"title\": {\"font\": {\"color\": \"#4D5663\"}, \"text\": \"Total quantity and revenue\"}, \"xaxis\": {\"gridcolor\": \"#E1E5ED\", \"showgrid\": true, \"tickfont\": {\"color\": \"#4D5663\"}, \"title\": {\"font\": {\"color\": \"#4D5663\"}, \"text\": \"\"}, \"zerolinecolor\": \"#E1E5ED\"}, \"yaxis\": {\"gridcolor\": \"#E1E5ED\", \"showgrid\": true, \"tickfont\": {\"color\": \"#4D5663\"}, \"title\": {\"font\": {\"color\": \"#4D5663\"}, \"text\": \"Count\"}, \"zerolinecolor\": \"#E1E5ED\"}},\n",
       "                        {\"showLink\": true, \"linkText\": \"Export to plot.ly\", \"plotlyServerURL\": \"https://plot.ly\", \"responsive\": true}\n",
       "                    ).then(function(){\n",
       "                            \n",
       "var gd = document.getElementById('4cae05b6-e810-4e14-b004-500a1a3346f6');\n",
       "var x = new MutationObserver(function (mutations, observer) {{\n",
       "        var display = window.getComputedStyle(gd).display;\n",
       "        if (!display || display === 'none') {{\n",
       "            console.log([gd, 'removed!']);\n",
       "            Plotly.purge(gd);\n",
       "            observer.disconnect();\n",
       "        }}\n",
       "}});\n",
       "\n",
       "// Listen for the removal of the full notebook cells\n",
       "var notebookContainer = gd.closest('#notebook-container');\n",
       "if (notebookContainer) {{\n",
       "    x.observe(notebookContainer, {childList: true});\n",
       "}}\n",
       "\n",
       "// Listen for the clearing of the current output cell\n",
       "var outputEl = gd.closest('.output');\n",
       "if (outputEl) {{\n",
       "    x.observe(outputEl, {childList: true});\n",
       "}}\n",
       "\n",
       "                        })\n",
       "                };\n",
       "                });\n",
       "            </script>\n",
       "        </div>"
      ]
     },
     "metadata": {},
     "output_type": "display_data"
    }
   ],
   "source": [
    "import re \n",
    "filtro = data[(data['Country']!='United Kingdom')&(data['InvoiceDate'].astype(str).str.contains(r\"2011-04(.+)\", regex=True))]\n",
    "value = filtro.groupby(['Country']).agg({'Quantity':'sum','Revenue':'sum'})\n",
    "value.iplot(kind='bar', yTitle='Count', title='Total quantity and revenue',filename='cufflinks/categorical-bar-chart')"
   ]
  },
  {
   "cell_type": "markdown",
   "metadata": {},
   "source": [
    "## 2. Create an interactive line chart showing quantity and revenue sold to France between January 1st and May 31st 2011."
   ]
  },
  {
   "cell_type": "code",
   "execution_count": 4,
   "metadata": {},
   "outputs": [
    {
     "data": {
      "application/vnd.plotly.v1+json": {
       "config": {
        "linkText": "Export to plot.ly",
        "plotlyServerURL": "https://plot.ly",
        "showLink": true
       },
       "data": [
        {
         "line": {
          "color": "rgba(255, 153, 51, 1.0)",
          "dash": "solid",
          "shape": "linear",
          "width": 1.3
         },
         "mode": "lines",
         "name": "Quantity",
         "text": "",
         "type": "scatter",
         "x": [
          "2011-01-31 09:57:00",
          "2011-01-31 15:36:00",
          "2011-02-01 14:58:00",
          "2011-02-02 09:06:00",
          "2011-02-02 15:22:00",
          "2011-02-04 11:45:00",
          "2011-02-08 13:28:00",
          "2011-02-09 10:11:00",
          "2011-02-10 15:38:00",
          "2011-02-15 14:17:00",
          "2011-02-16 11:45:00",
          "2011-02-17 10:08:00",
          "2011-02-18 10:53:00",
          "2011-02-18 15:23:00",
          "2011-02-21 08:38:00",
          "2011-02-21 14:58:00",
          "2011-02-23 16:44:00",
          "2011-02-23 16:45:00",
          "2011-02-27 11:58:00",
          "2011-02-28 11:43:00",
          "2011-02-28 11:58:00",
          "2011-02-28 14:42:00",
          "2011-02-28 14:45:00",
          "2011-03-01 10:31:00",
          "2011-03-01 12:26:00",
          "2011-03-03 12:06:00",
          "2011-03-03 12:20:00",
          "2011-03-04 09:08:00",
          "2011-03-11 12:00:00",
          "2011-03-13 14:55:00",
          "2011-03-14 11:38:00",
          "2011-03-15 16:39:00",
          "2011-03-16 14:37:00",
          "2011-03-16 15:17:00",
          "2011-03-20 15:58:00",
          "2011-03-21 12:42:00",
          "2011-03-21 12:44:00",
          "2011-03-22 11:28:00",
          "2011-03-23 12:06:00",
          "2011-03-23 13:33:00",
          "2011-03-23 13:39:00",
          "2011-03-23 14:55:00",
          "2011-03-25 10:19:00",
          "2011-03-27 13:07:00",
          "2011-03-28 10:15:00",
          "2011-03-31 10:27:00",
          "2011-03-31 10:29:00",
          "2011-03-31 13:40:00",
          "2011-04-01 09:19:00",
          "2011-04-01 11:10:00",
          "2011-04-04 11:18:00",
          "2011-04-07 13:07:00",
          "2011-04-14 14:15:00",
          "2011-04-17 11:21:00",
          "2011-04-17 15:33:00",
          "2011-04-20 09:20:00",
          "2011-04-21 08:54:00",
          "2011-04-21 10:16:00",
          "2011-04-26 15:52:00",
          "2011-04-28 11:45:00",
          "2011-05-03 08:40:00",
          "2011-05-03 09:33:00",
          "2011-05-03 09:34:00",
          "2011-05-03 12:02:00",
          "2011-05-03 12:03:00",
          "2011-05-05 09:29:00",
          "2011-05-08 16:10:00",
          "2011-05-09 09:47:00",
          "2011-05-09 15:12:00",
          "2011-05-10 12:55:00",
          "2011-05-11 13:20:00",
          "2011-05-11 15:07:00",
          "2011-05-12 11:50:00",
          "2011-05-13 09:24:00",
          "2011-05-13 13:15:00",
          "2011-05-13 15:48:00",
          "2011-05-15 13:45:00",
          "2011-05-16 09:10:00",
          "2011-05-16 12:04:00",
          "2011-05-17 09:28:00",
          "2011-05-18 09:09:00",
          "2011-05-18 10:34:00",
          "2011-05-18 12:18:00",
          "2011-05-19 12:10:00",
          "2011-05-19 12:29:00",
          "2011-05-20 11:34:00",
          "2011-05-22 13:01:00",
          "2011-05-22 14:33:00",
          "2011-05-23 09:48:00",
          "2011-05-24 09:25:00",
          "2011-05-25 10:08:00",
          "2011-05-25 12:44:00",
          "2011-05-25 12:54:00",
          "2011-05-26 14:53:00",
          "2011-05-26 17:16:00",
          "2011-05-27 13:49:00"
         ],
         "y": [
          1617,
          202,
          197,
          159,
          206,
          611,
          214,
          298,
          452,
          96,
          772,
          114,
          748,
          15,
          256,
          77,
          264,
          96,
          70,
          213,
          310,
          72,
          54,
          245,
          329,
          314,
          24,
          123,
          323,
          183,
          184,
          314,
          97,
          62,
          422,
          85,
          5,
          198,
          136,
          713,
          242,
          130,
          261,
          59,
          842,
          946,
          132,
          2271,
          88,
          240,
          293,
          236,
          284,
          375,
          25,
          196,
          23,
          275,
          84,
          146,
          368,
          350,
          6,
          120,
          192,
          98,
          773,
          162,
          332,
          458,
          859,
          734,
          105,
          202,
          33,
          267,
          140,
          220,
          58,
          476,
          103,
          152,
          72,
          434,
          126,
          464,
          229,
          62,
          304,
          208,
          180,
          180,
          374,
          86,
          424,
          155
         ]
        },
        {
         "line": {
          "color": "rgba(55, 128, 191, 1.0)",
          "dash": "solid",
          "shape": "linear",
          "width": 1.3
         },
         "mode": "lines",
         "name": "Revenue",
         "text": "",
         "type": "scatter",
         "x": [
          "2011-01-31 09:57:00",
          "2011-01-31 15:36:00",
          "2011-02-01 14:58:00",
          "2011-02-02 09:06:00",
          "2011-02-02 15:22:00",
          "2011-02-04 11:45:00",
          "2011-02-08 13:28:00",
          "2011-02-09 10:11:00",
          "2011-02-10 15:38:00",
          "2011-02-15 14:17:00",
          "2011-02-16 11:45:00",
          "2011-02-17 10:08:00",
          "2011-02-18 10:53:00",
          "2011-02-18 15:23:00",
          "2011-02-21 08:38:00",
          "2011-02-21 14:58:00",
          "2011-02-23 16:44:00",
          "2011-02-23 16:45:00",
          "2011-02-27 11:58:00",
          "2011-02-28 11:43:00",
          "2011-02-28 11:58:00",
          "2011-02-28 14:42:00",
          "2011-02-28 14:45:00",
          "2011-03-01 10:31:00",
          "2011-03-01 12:26:00",
          "2011-03-03 12:06:00",
          "2011-03-03 12:20:00",
          "2011-03-04 09:08:00",
          "2011-03-11 12:00:00",
          "2011-03-13 14:55:00",
          "2011-03-14 11:38:00",
          "2011-03-15 16:39:00",
          "2011-03-16 14:37:00",
          "2011-03-16 15:17:00",
          "2011-03-20 15:58:00",
          "2011-03-21 12:42:00",
          "2011-03-21 12:44:00",
          "2011-03-22 11:28:00",
          "2011-03-23 12:06:00",
          "2011-03-23 13:33:00",
          "2011-03-23 13:39:00",
          "2011-03-23 14:55:00",
          "2011-03-25 10:19:00",
          "2011-03-27 13:07:00",
          "2011-03-28 10:15:00",
          "2011-03-31 10:27:00",
          "2011-03-31 10:29:00",
          "2011-03-31 13:40:00",
          "2011-04-01 09:19:00",
          "2011-04-01 11:10:00",
          "2011-04-04 11:18:00",
          "2011-04-07 13:07:00",
          "2011-04-14 14:15:00",
          "2011-04-17 11:21:00",
          "2011-04-17 15:33:00",
          "2011-04-20 09:20:00",
          "2011-04-21 08:54:00",
          "2011-04-21 10:16:00",
          "2011-04-26 15:52:00",
          "2011-04-28 11:45:00",
          "2011-05-03 08:40:00",
          "2011-05-03 09:33:00",
          "2011-05-03 09:34:00",
          "2011-05-03 12:02:00",
          "2011-05-03 12:03:00",
          "2011-05-05 09:29:00",
          "2011-05-08 16:10:00",
          "2011-05-09 09:47:00",
          "2011-05-09 15:12:00",
          "2011-05-10 12:55:00",
          "2011-05-11 13:20:00",
          "2011-05-11 15:07:00",
          "2011-05-12 11:50:00",
          "2011-05-13 09:24:00",
          "2011-05-13 13:15:00",
          "2011-05-13 15:48:00",
          "2011-05-15 13:45:00",
          "2011-05-16 09:10:00",
          "2011-05-16 12:04:00",
          "2011-05-17 09:28:00",
          "2011-05-18 09:09:00",
          "2011-05-18 10:34:00",
          "2011-05-18 12:18:00",
          "2011-05-19 12:10:00",
          "2011-05-19 12:29:00",
          "2011-05-20 11:34:00",
          "2011-05-22 13:01:00",
          "2011-05-22 14:33:00",
          "2011-05-23 09:48:00",
          "2011-05-24 09:25:00",
          "2011-05-25 10:08:00",
          "2011-05-25 12:44:00",
          "2011-05-25 12:54:00",
          "2011-05-26 14:53:00",
          "2011-05-26 17:16:00",
          "2011-05-27 13:49:00"
         ],
         "y": [
          3174.43,
          363.54,
          456.84999999999997,
          454.89,
          132.5,
          1128.7299999999998,
          165.85999999999999,
          401.02000000000004,
          285.56,
          219.6,
          829.6600000000002,
          214,
          878.3000000000002,
          6.3,
          603.4200000000001,
          125.4,
          308,
          95.75999999999999,
          92.6,
          335.43,
          612.8599999999999,
          182.72,
          158.5,
          316.19999999999993,
          722.0600000000003,
          480.76000000000005,
          20.4,
          281.25,
          676.85,
          307.28999999999996,
          425.40000000000003,
          511.53999999999996,
          129.70999999999998,
          115.09000000000002,
          298.02,
          201.23999999999995,
          4.63,
          469.9800000000001,
          160.49999999999997,
          733.8800000000002,
          378,
          402.90000000000003,
          303.90999999999997,
          128.05,
          1028.2999999999995,
          1937.0600000000006,
          413.4,
          3243.1299999999997,
          138.75,
          252,
          513.5500000000001,
          312.2,
          615.1999999999999,
          509.57000000000005,
          84.65,
          469.2,
          73.50000000000003,
          579.0500000000001,
          160.54,
          191.1,
          528.8799999999999,
          620.8399999999999,
          24.9,
          162.48000000000002,
          336.24,
          200,
          984.4299999999998,
          295.5,
          205.4,
          453.09999999999997,
          1637.4299999999994,
          1381.3,
          278.53000000000003,
          459.98,
          89.25,
          397.28,
          133.4,
          550.74,
          121.88,
          739.62,
          335.01000000000005,
          332.20000000000005,
          76.32000000000001,
          561.6600000000001,
          316.85,
          956.4000000000001,
          615.21,
          169.5,
          385.96000000000004,
          357.34,
          231.12,
          390.96,
          514.74,
          196.5,
          362,
          367.0899999999999
         ]
        }
       ],
       "layout": {
        "legend": {
         "bgcolor": "#F5F6F9",
         "font": {
          "color": "#4D5663"
         }
        },
        "paper_bgcolor": "#F5F6F9",
        "plot_bgcolor": "#F5F6F9",
        "template": {
         "data": {
          "bar": [
           {
            "error_x": {
             "color": "#2a3f5f"
            },
            "error_y": {
             "color": "#2a3f5f"
            },
            "marker": {
             "line": {
              "color": "#E5ECF6",
              "width": 0.5
             }
            },
            "type": "bar"
           }
          ],
          "barpolar": [
           {
            "marker": {
             "line": {
              "color": "#E5ECF6",
              "width": 0.5
             }
            },
            "type": "barpolar"
           }
          ],
          "carpet": [
           {
            "aaxis": {
             "endlinecolor": "#2a3f5f",
             "gridcolor": "white",
             "linecolor": "white",
             "minorgridcolor": "white",
             "startlinecolor": "#2a3f5f"
            },
            "baxis": {
             "endlinecolor": "#2a3f5f",
             "gridcolor": "white",
             "linecolor": "white",
             "minorgridcolor": "white",
             "startlinecolor": "#2a3f5f"
            },
            "type": "carpet"
           }
          ],
          "choropleth": [
           {
            "colorbar": {
             "outlinewidth": 0,
             "ticks": ""
            },
            "type": "choropleth"
           }
          ],
          "contour": [
           {
            "colorbar": {
             "outlinewidth": 0,
             "ticks": ""
            },
            "colorscale": [
             [
              0,
              "#0d0887"
             ],
             [
              0.1111111111111111,
              "#46039f"
             ],
             [
              0.2222222222222222,
              "#7201a8"
             ],
             [
              0.3333333333333333,
              "#9c179e"
             ],
             [
              0.4444444444444444,
              "#bd3786"
             ],
             [
              0.5555555555555556,
              "#d8576b"
             ],
             [
              0.6666666666666666,
              "#ed7953"
             ],
             [
              0.7777777777777778,
              "#fb9f3a"
             ],
             [
              0.8888888888888888,
              "#fdca26"
             ],
             [
              1,
              "#f0f921"
             ]
            ],
            "type": "contour"
           }
          ],
          "contourcarpet": [
           {
            "colorbar": {
             "outlinewidth": 0,
             "ticks": ""
            },
            "type": "contourcarpet"
           }
          ],
          "heatmap": [
           {
            "colorbar": {
             "outlinewidth": 0,
             "ticks": ""
            },
            "colorscale": [
             [
              0,
              "#0d0887"
             ],
             [
              0.1111111111111111,
              "#46039f"
             ],
             [
              0.2222222222222222,
              "#7201a8"
             ],
             [
              0.3333333333333333,
              "#9c179e"
             ],
             [
              0.4444444444444444,
              "#bd3786"
             ],
             [
              0.5555555555555556,
              "#d8576b"
             ],
             [
              0.6666666666666666,
              "#ed7953"
             ],
             [
              0.7777777777777778,
              "#fb9f3a"
             ],
             [
              0.8888888888888888,
              "#fdca26"
             ],
             [
              1,
              "#f0f921"
             ]
            ],
            "type": "heatmap"
           }
          ],
          "heatmapgl": [
           {
            "colorbar": {
             "outlinewidth": 0,
             "ticks": ""
            },
            "colorscale": [
             [
              0,
              "#0d0887"
             ],
             [
              0.1111111111111111,
              "#46039f"
             ],
             [
              0.2222222222222222,
              "#7201a8"
             ],
             [
              0.3333333333333333,
              "#9c179e"
             ],
             [
              0.4444444444444444,
              "#bd3786"
             ],
             [
              0.5555555555555556,
              "#d8576b"
             ],
             [
              0.6666666666666666,
              "#ed7953"
             ],
             [
              0.7777777777777778,
              "#fb9f3a"
             ],
             [
              0.8888888888888888,
              "#fdca26"
             ],
             [
              1,
              "#f0f921"
             ]
            ],
            "type": "heatmapgl"
           }
          ],
          "histogram": [
           {
            "marker": {
             "colorbar": {
              "outlinewidth": 0,
              "ticks": ""
             }
            },
            "type": "histogram"
           }
          ],
          "histogram2d": [
           {
            "colorbar": {
             "outlinewidth": 0,
             "ticks": ""
            },
            "colorscale": [
             [
              0,
              "#0d0887"
             ],
             [
              0.1111111111111111,
              "#46039f"
             ],
             [
              0.2222222222222222,
              "#7201a8"
             ],
             [
              0.3333333333333333,
              "#9c179e"
             ],
             [
              0.4444444444444444,
              "#bd3786"
             ],
             [
              0.5555555555555556,
              "#d8576b"
             ],
             [
              0.6666666666666666,
              "#ed7953"
             ],
             [
              0.7777777777777778,
              "#fb9f3a"
             ],
             [
              0.8888888888888888,
              "#fdca26"
             ],
             [
              1,
              "#f0f921"
             ]
            ],
            "type": "histogram2d"
           }
          ],
          "histogram2dcontour": [
           {
            "colorbar": {
             "outlinewidth": 0,
             "ticks": ""
            },
            "colorscale": [
             [
              0,
              "#0d0887"
             ],
             [
              0.1111111111111111,
              "#46039f"
             ],
             [
              0.2222222222222222,
              "#7201a8"
             ],
             [
              0.3333333333333333,
              "#9c179e"
             ],
             [
              0.4444444444444444,
              "#bd3786"
             ],
             [
              0.5555555555555556,
              "#d8576b"
             ],
             [
              0.6666666666666666,
              "#ed7953"
             ],
             [
              0.7777777777777778,
              "#fb9f3a"
             ],
             [
              0.8888888888888888,
              "#fdca26"
             ],
             [
              1,
              "#f0f921"
             ]
            ],
            "type": "histogram2dcontour"
           }
          ],
          "mesh3d": [
           {
            "colorbar": {
             "outlinewidth": 0,
             "ticks": ""
            },
            "type": "mesh3d"
           }
          ],
          "parcoords": [
           {
            "line": {
             "colorbar": {
              "outlinewidth": 0,
              "ticks": ""
             }
            },
            "type": "parcoords"
           }
          ],
          "pie": [
           {
            "automargin": true,
            "type": "pie"
           }
          ],
          "scatter": [
           {
            "marker": {
             "colorbar": {
              "outlinewidth": 0,
              "ticks": ""
             }
            },
            "type": "scatter"
           }
          ],
          "scatter3d": [
           {
            "line": {
             "colorbar": {
              "outlinewidth": 0,
              "ticks": ""
             }
            },
            "marker": {
             "colorbar": {
              "outlinewidth": 0,
              "ticks": ""
             }
            },
            "type": "scatter3d"
           }
          ],
          "scattercarpet": [
           {
            "marker": {
             "colorbar": {
              "outlinewidth": 0,
              "ticks": ""
             }
            },
            "type": "scattercarpet"
           }
          ],
          "scattergeo": [
           {
            "marker": {
             "colorbar": {
              "outlinewidth": 0,
              "ticks": ""
             }
            },
            "type": "scattergeo"
           }
          ],
          "scattergl": [
           {
            "marker": {
             "colorbar": {
              "outlinewidth": 0,
              "ticks": ""
             }
            },
            "type": "scattergl"
           }
          ],
          "scattermapbox": [
           {
            "marker": {
             "colorbar": {
              "outlinewidth": 0,
              "ticks": ""
             }
            },
            "type": "scattermapbox"
           }
          ],
          "scatterpolar": [
           {
            "marker": {
             "colorbar": {
              "outlinewidth": 0,
              "ticks": ""
             }
            },
            "type": "scatterpolar"
           }
          ],
          "scatterpolargl": [
           {
            "marker": {
             "colorbar": {
              "outlinewidth": 0,
              "ticks": ""
             }
            },
            "type": "scatterpolargl"
           }
          ],
          "scatterternary": [
           {
            "marker": {
             "colorbar": {
              "outlinewidth": 0,
              "ticks": ""
             }
            },
            "type": "scatterternary"
           }
          ],
          "surface": [
           {
            "colorbar": {
             "outlinewidth": 0,
             "ticks": ""
            },
            "colorscale": [
             [
              0,
              "#0d0887"
             ],
             [
              0.1111111111111111,
              "#46039f"
             ],
             [
              0.2222222222222222,
              "#7201a8"
             ],
             [
              0.3333333333333333,
              "#9c179e"
             ],
             [
              0.4444444444444444,
              "#bd3786"
             ],
             [
              0.5555555555555556,
              "#d8576b"
             ],
             [
              0.6666666666666666,
              "#ed7953"
             ],
             [
              0.7777777777777778,
              "#fb9f3a"
             ],
             [
              0.8888888888888888,
              "#fdca26"
             ],
             [
              1,
              "#f0f921"
             ]
            ],
            "type": "surface"
           }
          ],
          "table": [
           {
            "cells": {
             "fill": {
              "color": "#EBF0F8"
             },
             "line": {
              "color": "white"
             }
            },
            "header": {
             "fill": {
              "color": "#C8D4E3"
             },
             "line": {
              "color": "white"
             }
            },
            "type": "table"
           }
          ]
         },
         "layout": {
          "annotationdefaults": {
           "arrowcolor": "#2a3f5f",
           "arrowhead": 0,
           "arrowwidth": 1
          },
          "coloraxis": {
           "colorbar": {
            "outlinewidth": 0,
            "ticks": ""
           }
          },
          "colorscale": {
           "diverging": [
            [
             0,
             "#8e0152"
            ],
            [
             0.1,
             "#c51b7d"
            ],
            [
             0.2,
             "#de77ae"
            ],
            [
             0.3,
             "#f1b6da"
            ],
            [
             0.4,
             "#fde0ef"
            ],
            [
             0.5,
             "#f7f7f7"
            ],
            [
             0.6,
             "#e6f5d0"
            ],
            [
             0.7,
             "#b8e186"
            ],
            [
             0.8,
             "#7fbc41"
            ],
            [
             0.9,
             "#4d9221"
            ],
            [
             1,
             "#276419"
            ]
           ],
           "sequential": [
            [
             0,
             "#0d0887"
            ],
            [
             0.1111111111111111,
             "#46039f"
            ],
            [
             0.2222222222222222,
             "#7201a8"
            ],
            [
             0.3333333333333333,
             "#9c179e"
            ],
            [
             0.4444444444444444,
             "#bd3786"
            ],
            [
             0.5555555555555556,
             "#d8576b"
            ],
            [
             0.6666666666666666,
             "#ed7953"
            ],
            [
             0.7777777777777778,
             "#fb9f3a"
            ],
            [
             0.8888888888888888,
             "#fdca26"
            ],
            [
             1,
             "#f0f921"
            ]
           ],
           "sequentialminus": [
            [
             0,
             "#0d0887"
            ],
            [
             0.1111111111111111,
             "#46039f"
            ],
            [
             0.2222222222222222,
             "#7201a8"
            ],
            [
             0.3333333333333333,
             "#9c179e"
            ],
            [
             0.4444444444444444,
             "#bd3786"
            ],
            [
             0.5555555555555556,
             "#d8576b"
            ],
            [
             0.6666666666666666,
             "#ed7953"
            ],
            [
             0.7777777777777778,
             "#fb9f3a"
            ],
            [
             0.8888888888888888,
             "#fdca26"
            ],
            [
             1,
             "#f0f921"
            ]
           ]
          },
          "colorway": [
           "#636efa",
           "#EF553B",
           "#00cc96",
           "#ab63fa",
           "#FFA15A",
           "#19d3f3",
           "#FF6692",
           "#B6E880",
           "#FF97FF",
           "#FECB52"
          ],
          "font": {
           "color": "#2a3f5f"
          },
          "geo": {
           "bgcolor": "white",
           "lakecolor": "white",
           "landcolor": "#E5ECF6",
           "showlakes": true,
           "showland": true,
           "subunitcolor": "white"
          },
          "hoverlabel": {
           "align": "left"
          },
          "hovermode": "closest",
          "mapbox": {
           "style": "light"
          },
          "paper_bgcolor": "white",
          "plot_bgcolor": "#E5ECF6",
          "polar": {
           "angularaxis": {
            "gridcolor": "white",
            "linecolor": "white",
            "ticks": ""
           },
           "bgcolor": "#E5ECF6",
           "radialaxis": {
            "gridcolor": "white",
            "linecolor": "white",
            "ticks": ""
           }
          },
          "scene": {
           "xaxis": {
            "backgroundcolor": "#E5ECF6",
            "gridcolor": "white",
            "gridwidth": 2,
            "linecolor": "white",
            "showbackground": true,
            "ticks": "",
            "zerolinecolor": "white"
           },
           "yaxis": {
            "backgroundcolor": "#E5ECF6",
            "gridcolor": "white",
            "gridwidth": 2,
            "linecolor": "white",
            "showbackground": true,
            "ticks": "",
            "zerolinecolor": "white"
           },
           "zaxis": {
            "backgroundcolor": "#E5ECF6",
            "gridcolor": "white",
            "gridwidth": 2,
            "linecolor": "white",
            "showbackground": true,
            "ticks": "",
            "zerolinecolor": "white"
           }
          },
          "shapedefaults": {
           "line": {
            "color": "#2a3f5f"
           }
          },
          "ternary": {
           "aaxis": {
            "gridcolor": "white",
            "linecolor": "white",
            "ticks": ""
           },
           "baxis": {
            "gridcolor": "white",
            "linecolor": "white",
            "ticks": ""
           },
           "bgcolor": "#E5ECF6",
           "caxis": {
            "gridcolor": "white",
            "linecolor": "white",
            "ticks": ""
           }
          },
          "title": {
           "x": 0.05
          },
          "xaxis": {
           "automargin": true,
           "gridcolor": "white",
           "linecolor": "white",
           "ticks": "",
           "title": {
            "standoff": 15
           },
           "zerolinecolor": "white",
           "zerolinewidth": 2
          },
          "yaxis": {
           "automargin": true,
           "gridcolor": "white",
           "linecolor": "white",
           "ticks": "",
           "title": {
            "standoff": 15
           },
           "zerolinecolor": "white",
           "zerolinewidth": 2
          }
         }
        },
        "title": {
         "font": {
          "color": "#4D5663"
         }
        },
        "xaxis": {
         "gridcolor": "#E1E5ED",
         "showgrid": true,
         "tickfont": {
          "color": "#4D5663"
         },
         "title": {
          "font": {
           "color": "#4D5663"
          },
          "text": ""
         },
         "zerolinecolor": "#E1E5ED"
        },
        "yaxis": {
         "gridcolor": "#E1E5ED",
         "showgrid": true,
         "tickfont": {
          "color": "#4D5663"
         },
         "title": {
          "font": {
           "color": "#4D5663"
          },
          "text": ""
         },
         "zerolinecolor": "#E1E5ED"
        }
       }
      },
      "text/html": [
       "<div>\n",
       "        \n",
       "        \n",
       "            <div id=\"aef18f8e-5ee2-4dd1-b614-d6f22e5435cf\" class=\"plotly-graph-div\" style=\"height:525px; width:100%;\"></div>\n",
       "            <script type=\"text/javascript\">\n",
       "                require([\"plotly\"], function(Plotly) {\n",
       "                    window.PLOTLYENV=window.PLOTLYENV || {};\n",
       "                    window.PLOTLYENV.BASE_URL='https://plot.ly';\n",
       "                    \n",
       "                if (document.getElementById(\"aef18f8e-5ee2-4dd1-b614-d6f22e5435cf\")) {\n",
       "                    Plotly.newPlot(\n",
       "                        'aef18f8e-5ee2-4dd1-b614-d6f22e5435cf',\n",
       "                        [{\"line\": {\"color\": \"rgba(255, 153, 51, 1.0)\", \"dash\": \"solid\", \"shape\": \"linear\", \"width\": 1.3}, \"mode\": \"lines\", \"name\": \"Quantity\", \"text\": \"\", \"type\": \"scatter\", \"x\": [\"2011-01-31 09:57:00\", \"2011-01-31 15:36:00\", \"2011-02-01 14:58:00\", \"2011-02-02 09:06:00\", \"2011-02-02 15:22:00\", \"2011-02-04 11:45:00\", \"2011-02-08 13:28:00\", \"2011-02-09 10:11:00\", \"2011-02-10 15:38:00\", \"2011-02-15 14:17:00\", \"2011-02-16 11:45:00\", \"2011-02-17 10:08:00\", \"2011-02-18 10:53:00\", \"2011-02-18 15:23:00\", \"2011-02-21 08:38:00\", \"2011-02-21 14:58:00\", \"2011-02-23 16:44:00\", \"2011-02-23 16:45:00\", \"2011-02-27 11:58:00\", \"2011-02-28 11:43:00\", \"2011-02-28 11:58:00\", \"2011-02-28 14:42:00\", \"2011-02-28 14:45:00\", \"2011-03-01 10:31:00\", \"2011-03-01 12:26:00\", \"2011-03-03 12:06:00\", \"2011-03-03 12:20:00\", \"2011-03-04 09:08:00\", \"2011-03-11 12:00:00\", \"2011-03-13 14:55:00\", \"2011-03-14 11:38:00\", \"2011-03-15 16:39:00\", \"2011-03-16 14:37:00\", \"2011-03-16 15:17:00\", \"2011-03-20 15:58:00\", \"2011-03-21 12:42:00\", \"2011-03-21 12:44:00\", \"2011-03-22 11:28:00\", \"2011-03-23 12:06:00\", \"2011-03-23 13:33:00\", \"2011-03-23 13:39:00\", \"2011-03-23 14:55:00\", \"2011-03-25 10:19:00\", \"2011-03-27 13:07:00\", \"2011-03-28 10:15:00\", \"2011-03-31 10:27:00\", \"2011-03-31 10:29:00\", \"2011-03-31 13:40:00\", \"2011-04-01 09:19:00\", \"2011-04-01 11:10:00\", \"2011-04-04 11:18:00\", \"2011-04-07 13:07:00\", \"2011-04-14 14:15:00\", \"2011-04-17 11:21:00\", \"2011-04-17 15:33:00\", \"2011-04-20 09:20:00\", \"2011-04-21 08:54:00\", \"2011-04-21 10:16:00\", \"2011-04-26 15:52:00\", \"2011-04-28 11:45:00\", \"2011-05-03 08:40:00\", \"2011-05-03 09:33:00\", \"2011-05-03 09:34:00\", \"2011-05-03 12:02:00\", \"2011-05-03 12:03:00\", \"2011-05-05 09:29:00\", \"2011-05-08 16:10:00\", \"2011-05-09 09:47:00\", \"2011-05-09 15:12:00\", \"2011-05-10 12:55:00\", \"2011-05-11 13:20:00\", \"2011-05-11 15:07:00\", \"2011-05-12 11:50:00\", \"2011-05-13 09:24:00\", \"2011-05-13 13:15:00\", \"2011-05-13 15:48:00\", \"2011-05-15 13:45:00\", \"2011-05-16 09:10:00\", \"2011-05-16 12:04:00\", \"2011-05-17 09:28:00\", \"2011-05-18 09:09:00\", \"2011-05-18 10:34:00\", \"2011-05-18 12:18:00\", \"2011-05-19 12:10:00\", \"2011-05-19 12:29:00\", \"2011-05-20 11:34:00\", \"2011-05-22 13:01:00\", \"2011-05-22 14:33:00\", \"2011-05-23 09:48:00\", \"2011-05-24 09:25:00\", \"2011-05-25 10:08:00\", \"2011-05-25 12:44:00\", \"2011-05-25 12:54:00\", \"2011-05-26 14:53:00\", \"2011-05-26 17:16:00\", \"2011-05-27 13:49:00\"], \"y\": [1617, 202, 197, 159, 206, 611, 214, 298, 452, 96, 772, 114, 748, 15, 256, 77, 264, 96, 70, 213, 310, 72, 54, 245, 329, 314, 24, 123, 323, 183, 184, 314, 97, 62, 422, 85, 5, 198, 136, 713, 242, 130, 261, 59, 842, 946, 132, 2271, 88, 240, 293, 236, 284, 375, 25, 196, 23, 275, 84, 146, 368, 350, 6, 120, 192, 98, 773, 162, 332, 458, 859, 734, 105, 202, 33, 267, 140, 220, 58, 476, 103, 152, 72, 434, 126, 464, 229, 62, 304, 208, 180, 180, 374, 86, 424, 155]}, {\"line\": {\"color\": \"rgba(55, 128, 191, 1.0)\", \"dash\": \"solid\", \"shape\": \"linear\", \"width\": 1.3}, \"mode\": \"lines\", \"name\": \"Revenue\", \"text\": \"\", \"type\": \"scatter\", \"x\": [\"2011-01-31 09:57:00\", \"2011-01-31 15:36:00\", \"2011-02-01 14:58:00\", \"2011-02-02 09:06:00\", \"2011-02-02 15:22:00\", \"2011-02-04 11:45:00\", \"2011-02-08 13:28:00\", \"2011-02-09 10:11:00\", \"2011-02-10 15:38:00\", \"2011-02-15 14:17:00\", \"2011-02-16 11:45:00\", \"2011-02-17 10:08:00\", \"2011-02-18 10:53:00\", \"2011-02-18 15:23:00\", \"2011-02-21 08:38:00\", \"2011-02-21 14:58:00\", \"2011-02-23 16:44:00\", \"2011-02-23 16:45:00\", \"2011-02-27 11:58:00\", \"2011-02-28 11:43:00\", \"2011-02-28 11:58:00\", \"2011-02-28 14:42:00\", \"2011-02-28 14:45:00\", \"2011-03-01 10:31:00\", \"2011-03-01 12:26:00\", \"2011-03-03 12:06:00\", \"2011-03-03 12:20:00\", \"2011-03-04 09:08:00\", \"2011-03-11 12:00:00\", \"2011-03-13 14:55:00\", \"2011-03-14 11:38:00\", \"2011-03-15 16:39:00\", \"2011-03-16 14:37:00\", \"2011-03-16 15:17:00\", \"2011-03-20 15:58:00\", \"2011-03-21 12:42:00\", \"2011-03-21 12:44:00\", \"2011-03-22 11:28:00\", \"2011-03-23 12:06:00\", \"2011-03-23 13:33:00\", \"2011-03-23 13:39:00\", \"2011-03-23 14:55:00\", \"2011-03-25 10:19:00\", \"2011-03-27 13:07:00\", \"2011-03-28 10:15:00\", \"2011-03-31 10:27:00\", \"2011-03-31 10:29:00\", \"2011-03-31 13:40:00\", \"2011-04-01 09:19:00\", \"2011-04-01 11:10:00\", \"2011-04-04 11:18:00\", \"2011-04-07 13:07:00\", \"2011-04-14 14:15:00\", \"2011-04-17 11:21:00\", \"2011-04-17 15:33:00\", \"2011-04-20 09:20:00\", \"2011-04-21 08:54:00\", \"2011-04-21 10:16:00\", \"2011-04-26 15:52:00\", \"2011-04-28 11:45:00\", \"2011-05-03 08:40:00\", \"2011-05-03 09:33:00\", \"2011-05-03 09:34:00\", \"2011-05-03 12:02:00\", \"2011-05-03 12:03:00\", \"2011-05-05 09:29:00\", \"2011-05-08 16:10:00\", \"2011-05-09 09:47:00\", \"2011-05-09 15:12:00\", \"2011-05-10 12:55:00\", \"2011-05-11 13:20:00\", \"2011-05-11 15:07:00\", \"2011-05-12 11:50:00\", \"2011-05-13 09:24:00\", \"2011-05-13 13:15:00\", \"2011-05-13 15:48:00\", \"2011-05-15 13:45:00\", \"2011-05-16 09:10:00\", \"2011-05-16 12:04:00\", \"2011-05-17 09:28:00\", \"2011-05-18 09:09:00\", \"2011-05-18 10:34:00\", \"2011-05-18 12:18:00\", \"2011-05-19 12:10:00\", \"2011-05-19 12:29:00\", \"2011-05-20 11:34:00\", \"2011-05-22 13:01:00\", \"2011-05-22 14:33:00\", \"2011-05-23 09:48:00\", \"2011-05-24 09:25:00\", \"2011-05-25 10:08:00\", \"2011-05-25 12:44:00\", \"2011-05-25 12:54:00\", \"2011-05-26 14:53:00\", \"2011-05-26 17:16:00\", \"2011-05-27 13:49:00\"], \"y\": [3174.43, 363.54, 456.84999999999997, 454.89, 132.5, 1128.7299999999998, 165.85999999999999, 401.02000000000004, 285.56, 219.6, 829.6600000000002, 214.0, 878.3000000000002, 6.3, 603.4200000000001, 125.4, 308.0, 95.75999999999999, 92.6, 335.43, 612.8599999999999, 182.72, 158.5, 316.19999999999993, 722.0600000000003, 480.76000000000005, 20.4, 281.25, 676.85, 307.28999999999996, 425.40000000000003, 511.53999999999996, 129.70999999999998, 115.09000000000002, 298.02, 201.23999999999995, 4.63, 469.9800000000001, 160.49999999999997, 733.8800000000002, 378.0, 402.90000000000003, 303.90999999999997, 128.05, 1028.2999999999995, 1937.0600000000006, 413.4, 3243.1299999999997, 138.75, 252.0, 513.5500000000001, 312.2, 615.1999999999999, 509.57000000000005, 84.65, 469.2, 73.50000000000003, 579.0500000000001, 160.54, 191.1, 528.8799999999999, 620.8399999999999, 24.9, 162.48000000000002, 336.24, 200.0, 984.4299999999998, 295.5, 205.4, 453.09999999999997, 1637.4299999999994, 1381.3, 278.53000000000003, 459.98, 89.25, 397.28, 133.4, 550.74, 121.88, 739.62, 335.01000000000005, 332.20000000000005, 76.32000000000001, 561.6600000000001, 316.85, 956.4000000000001, 615.21, 169.5, 385.96000000000004, 357.34, 231.12, 390.96, 514.74, 196.5, 362.0, 367.0899999999999]}],\n",
       "                        {\"legend\": {\"bgcolor\": \"#F5F6F9\", \"font\": {\"color\": \"#4D5663\"}}, \"paper_bgcolor\": \"#F5F6F9\", \"plot_bgcolor\": \"#F5F6F9\", \"template\": {\"data\": {\"bar\": [{\"error_x\": {\"color\": \"#2a3f5f\"}, \"error_y\": {\"color\": \"#2a3f5f\"}, \"marker\": {\"line\": {\"color\": \"#E5ECF6\", \"width\": 0.5}}, \"type\": \"bar\"}], \"barpolar\": [{\"marker\": {\"line\": {\"color\": \"#E5ECF6\", \"width\": 0.5}}, \"type\": \"barpolar\"}], \"carpet\": [{\"aaxis\": {\"endlinecolor\": \"#2a3f5f\", \"gridcolor\": \"white\", \"linecolor\": \"white\", \"minorgridcolor\": \"white\", \"startlinecolor\": \"#2a3f5f\"}, \"baxis\": {\"endlinecolor\": \"#2a3f5f\", \"gridcolor\": \"white\", \"linecolor\": \"white\", \"minorgridcolor\": \"white\", \"startlinecolor\": \"#2a3f5f\"}, \"type\": \"carpet\"}], \"choropleth\": [{\"colorbar\": {\"outlinewidth\": 0, \"ticks\": \"\"}, \"type\": \"choropleth\"}], \"contour\": [{\"colorbar\": {\"outlinewidth\": 0, \"ticks\": \"\"}, \"colorscale\": [[0.0, \"#0d0887\"], [0.1111111111111111, \"#46039f\"], [0.2222222222222222, \"#7201a8\"], [0.3333333333333333, \"#9c179e\"], [0.4444444444444444, \"#bd3786\"], [0.5555555555555556, \"#d8576b\"], [0.6666666666666666, \"#ed7953\"], [0.7777777777777778, \"#fb9f3a\"], [0.8888888888888888, \"#fdca26\"], [1.0, \"#f0f921\"]], \"type\": \"contour\"}], \"contourcarpet\": [{\"colorbar\": {\"outlinewidth\": 0, \"ticks\": \"\"}, \"type\": \"contourcarpet\"}], \"heatmap\": [{\"colorbar\": {\"outlinewidth\": 0, \"ticks\": \"\"}, \"colorscale\": [[0.0, \"#0d0887\"], [0.1111111111111111, \"#46039f\"], [0.2222222222222222, \"#7201a8\"], [0.3333333333333333, \"#9c179e\"], [0.4444444444444444, \"#bd3786\"], [0.5555555555555556, \"#d8576b\"], [0.6666666666666666, \"#ed7953\"], [0.7777777777777778, \"#fb9f3a\"], [0.8888888888888888, \"#fdca26\"], [1.0, \"#f0f921\"]], \"type\": \"heatmap\"}], \"heatmapgl\": [{\"colorbar\": {\"outlinewidth\": 0, \"ticks\": \"\"}, \"colorscale\": [[0.0, \"#0d0887\"], [0.1111111111111111, \"#46039f\"], [0.2222222222222222, \"#7201a8\"], [0.3333333333333333, \"#9c179e\"], [0.4444444444444444, \"#bd3786\"], [0.5555555555555556, \"#d8576b\"], [0.6666666666666666, \"#ed7953\"], [0.7777777777777778, \"#fb9f3a\"], [0.8888888888888888, \"#fdca26\"], [1.0, \"#f0f921\"]], \"type\": \"heatmapgl\"}], \"histogram\": [{\"marker\": {\"colorbar\": {\"outlinewidth\": 0, \"ticks\": \"\"}}, \"type\": \"histogram\"}], \"histogram2d\": [{\"colorbar\": {\"outlinewidth\": 0, \"ticks\": \"\"}, \"colorscale\": [[0.0, \"#0d0887\"], [0.1111111111111111, \"#46039f\"], [0.2222222222222222, \"#7201a8\"], [0.3333333333333333, \"#9c179e\"], [0.4444444444444444, \"#bd3786\"], [0.5555555555555556, \"#d8576b\"], [0.6666666666666666, \"#ed7953\"], [0.7777777777777778, \"#fb9f3a\"], [0.8888888888888888, \"#fdca26\"], [1.0, \"#f0f921\"]], \"type\": \"histogram2d\"}], \"histogram2dcontour\": [{\"colorbar\": {\"outlinewidth\": 0, \"ticks\": \"\"}, \"colorscale\": [[0.0, \"#0d0887\"], [0.1111111111111111, \"#46039f\"], [0.2222222222222222, \"#7201a8\"], [0.3333333333333333, \"#9c179e\"], [0.4444444444444444, \"#bd3786\"], [0.5555555555555556, \"#d8576b\"], [0.6666666666666666, \"#ed7953\"], [0.7777777777777778, \"#fb9f3a\"], [0.8888888888888888, \"#fdca26\"], [1.0, \"#f0f921\"]], \"type\": \"histogram2dcontour\"}], \"mesh3d\": [{\"colorbar\": {\"outlinewidth\": 0, \"ticks\": \"\"}, \"type\": \"mesh3d\"}], \"parcoords\": [{\"line\": {\"colorbar\": {\"outlinewidth\": 0, \"ticks\": \"\"}}, \"type\": \"parcoords\"}], \"pie\": [{\"automargin\": true, \"type\": \"pie\"}], \"scatter\": [{\"marker\": {\"colorbar\": {\"outlinewidth\": 0, \"ticks\": \"\"}}, \"type\": \"scatter\"}], \"scatter3d\": [{\"line\": {\"colorbar\": {\"outlinewidth\": 0, \"ticks\": \"\"}}, \"marker\": {\"colorbar\": {\"outlinewidth\": 0, \"ticks\": \"\"}}, \"type\": \"scatter3d\"}], \"scattercarpet\": [{\"marker\": {\"colorbar\": {\"outlinewidth\": 0, \"ticks\": \"\"}}, \"type\": \"scattercarpet\"}], \"scattergeo\": [{\"marker\": {\"colorbar\": {\"outlinewidth\": 0, \"ticks\": \"\"}}, \"type\": \"scattergeo\"}], \"scattergl\": [{\"marker\": {\"colorbar\": {\"outlinewidth\": 0, \"ticks\": \"\"}}, \"type\": \"scattergl\"}], \"scattermapbox\": [{\"marker\": {\"colorbar\": {\"outlinewidth\": 0, \"ticks\": \"\"}}, \"type\": \"scattermapbox\"}], \"scatterpolar\": [{\"marker\": {\"colorbar\": {\"outlinewidth\": 0, \"ticks\": \"\"}}, \"type\": \"scatterpolar\"}], \"scatterpolargl\": [{\"marker\": {\"colorbar\": {\"outlinewidth\": 0, \"ticks\": \"\"}}, \"type\": \"scatterpolargl\"}], \"scatterternary\": [{\"marker\": {\"colorbar\": {\"outlinewidth\": 0, \"ticks\": \"\"}}, \"type\": \"scatterternary\"}], \"surface\": [{\"colorbar\": {\"outlinewidth\": 0, \"ticks\": \"\"}, \"colorscale\": [[0.0, \"#0d0887\"], [0.1111111111111111, \"#46039f\"], [0.2222222222222222, \"#7201a8\"], [0.3333333333333333, \"#9c179e\"], [0.4444444444444444, \"#bd3786\"], [0.5555555555555556, \"#d8576b\"], [0.6666666666666666, \"#ed7953\"], [0.7777777777777778, \"#fb9f3a\"], [0.8888888888888888, \"#fdca26\"], [1.0, \"#f0f921\"]], \"type\": \"surface\"}], \"table\": [{\"cells\": {\"fill\": {\"color\": \"#EBF0F8\"}, \"line\": {\"color\": \"white\"}}, \"header\": {\"fill\": {\"color\": \"#C8D4E3\"}, \"line\": {\"color\": \"white\"}}, \"type\": \"table\"}]}, \"layout\": {\"annotationdefaults\": {\"arrowcolor\": \"#2a3f5f\", \"arrowhead\": 0, \"arrowwidth\": 1}, \"coloraxis\": {\"colorbar\": {\"outlinewidth\": 0, \"ticks\": \"\"}}, \"colorscale\": {\"diverging\": [[0, \"#8e0152\"], [0.1, \"#c51b7d\"], [0.2, \"#de77ae\"], [0.3, \"#f1b6da\"], [0.4, \"#fde0ef\"], [0.5, \"#f7f7f7\"], [0.6, \"#e6f5d0\"], [0.7, \"#b8e186\"], [0.8, \"#7fbc41\"], [0.9, \"#4d9221\"], [1, \"#276419\"]], \"sequential\": [[0.0, \"#0d0887\"], [0.1111111111111111, \"#46039f\"], [0.2222222222222222, \"#7201a8\"], [0.3333333333333333, \"#9c179e\"], [0.4444444444444444, \"#bd3786\"], [0.5555555555555556, \"#d8576b\"], [0.6666666666666666, \"#ed7953\"], [0.7777777777777778, \"#fb9f3a\"], [0.8888888888888888, \"#fdca26\"], [1.0, \"#f0f921\"]], \"sequentialminus\": [[0.0, \"#0d0887\"], [0.1111111111111111, \"#46039f\"], [0.2222222222222222, \"#7201a8\"], [0.3333333333333333, \"#9c179e\"], [0.4444444444444444, \"#bd3786\"], [0.5555555555555556, \"#d8576b\"], [0.6666666666666666, \"#ed7953\"], [0.7777777777777778, \"#fb9f3a\"], [0.8888888888888888, \"#fdca26\"], [1.0, \"#f0f921\"]]}, \"colorway\": [\"#636efa\", \"#EF553B\", \"#00cc96\", \"#ab63fa\", \"#FFA15A\", \"#19d3f3\", \"#FF6692\", \"#B6E880\", \"#FF97FF\", \"#FECB52\"], \"font\": {\"color\": \"#2a3f5f\"}, \"geo\": {\"bgcolor\": \"white\", \"lakecolor\": \"white\", \"landcolor\": \"#E5ECF6\", \"showlakes\": true, \"showland\": true, \"subunitcolor\": \"white\"}, \"hoverlabel\": {\"align\": \"left\"}, \"hovermode\": \"closest\", \"mapbox\": {\"style\": \"light\"}, \"paper_bgcolor\": \"white\", \"plot_bgcolor\": \"#E5ECF6\", \"polar\": {\"angularaxis\": {\"gridcolor\": \"white\", \"linecolor\": \"white\", \"ticks\": \"\"}, \"bgcolor\": \"#E5ECF6\", \"radialaxis\": {\"gridcolor\": \"white\", \"linecolor\": \"white\", \"ticks\": \"\"}}, \"scene\": {\"xaxis\": {\"backgroundcolor\": \"#E5ECF6\", \"gridcolor\": \"white\", \"gridwidth\": 2, \"linecolor\": \"white\", \"showbackground\": true, \"ticks\": \"\", \"zerolinecolor\": \"white\"}, \"yaxis\": {\"backgroundcolor\": \"#E5ECF6\", \"gridcolor\": \"white\", \"gridwidth\": 2, \"linecolor\": \"white\", \"showbackground\": true, \"ticks\": \"\", \"zerolinecolor\": \"white\"}, \"zaxis\": {\"backgroundcolor\": \"#E5ECF6\", \"gridcolor\": \"white\", \"gridwidth\": 2, \"linecolor\": \"white\", \"showbackground\": true, \"ticks\": \"\", \"zerolinecolor\": \"white\"}}, \"shapedefaults\": {\"line\": {\"color\": \"#2a3f5f\"}}, \"ternary\": {\"aaxis\": {\"gridcolor\": \"white\", \"linecolor\": \"white\", \"ticks\": \"\"}, \"baxis\": {\"gridcolor\": \"white\", \"linecolor\": \"white\", \"ticks\": \"\"}, \"bgcolor\": \"#E5ECF6\", \"caxis\": {\"gridcolor\": \"white\", \"linecolor\": \"white\", \"ticks\": \"\"}}, \"title\": {\"x\": 0.05}, \"xaxis\": {\"automargin\": true, \"gridcolor\": \"white\", \"linecolor\": \"white\", \"ticks\": \"\", \"title\": {\"standoff\": 15}, \"zerolinecolor\": \"white\", \"zerolinewidth\": 2}, \"yaxis\": {\"automargin\": true, \"gridcolor\": \"white\", \"linecolor\": \"white\", \"ticks\": \"\", \"title\": {\"standoff\": 15}, \"zerolinecolor\": \"white\", \"zerolinewidth\": 2}}}, \"title\": {\"font\": {\"color\": \"#4D5663\"}}, \"xaxis\": {\"gridcolor\": \"#E1E5ED\", \"showgrid\": true, \"tickfont\": {\"color\": \"#4D5663\"}, \"title\": {\"font\": {\"color\": \"#4D5663\"}, \"text\": \"\"}, \"zerolinecolor\": \"#E1E5ED\"}, \"yaxis\": {\"gridcolor\": \"#E1E5ED\", \"showgrid\": true, \"tickfont\": {\"color\": \"#4D5663\"}, \"title\": {\"font\": {\"color\": \"#4D5663\"}, \"text\": \"\"}, \"zerolinecolor\": \"#E1E5ED\"}},\n",
       "                        {\"showLink\": true, \"linkText\": \"Export to plot.ly\", \"plotlyServerURL\": \"https://plot.ly\", \"responsive\": true}\n",
       "                    ).then(function(){\n",
       "                            \n",
       "var gd = document.getElementById('aef18f8e-5ee2-4dd1-b614-d6f22e5435cf');\n",
       "var x = new MutationObserver(function (mutations, observer) {{\n",
       "        var display = window.getComputedStyle(gd).display;\n",
       "        if (!display || display === 'none') {{\n",
       "            console.log([gd, 'removed!']);\n",
       "            Plotly.purge(gd);\n",
       "            observer.disconnect();\n",
       "        }}\n",
       "}});\n",
       "\n",
       "// Listen for the removal of the full notebook cells\n",
       "var notebookContainer = gd.closest('#notebook-container');\n",
       "if (notebookContainer) {{\n",
       "    x.observe(notebookContainer, {childList: true});\n",
       "}}\n",
       "\n",
       "// Listen for the clearing of the current output cell\n",
       "var outputEl = gd.closest('.output');\n",
       "if (outputEl) {{\n",
       "    x.observe(outputEl, {childList: true});\n",
       "}}\n",
       "\n",
       "                        })\n",
       "                };\n",
       "                });\n",
       "            </script>\n",
       "        </div>"
      ]
     },
     "metadata": {},
     "output_type": "display_data"
    }
   ],
   "source": [
    "import plotly.express as px\n",
    "filtro2 = data[(data['Country']=='France')&(data['InvoiceDate']<'2011-05-31')&(data['InvoiceDate']>'2011-01-31')]\n",
    "filtro2.groupby('InvoiceDate'). agg({'Quantity':'sum','Revenue':'sum'}).iplot(filename='cufflinks/line-example')\n"
   ]
  },
  {
   "cell_type": "markdown",
   "metadata": {},
   "source": [
    "## 3. Create an interactive scatter plot showing the relationship between average quantity (x-axis) and average unit price (y-axis) for the product PARTY BUNTING with the plot points color-coded by country (categories)."
   ]
  },
  {
   "cell_type": "code",
   "execution_count": 5,
   "metadata": {},
   "outputs": [
    {
     "data": {
      "application/vnd.plotly.v1+json": {
       "config": {
        "plotlyServerURL": "https://plot.ly"
       },
       "data": [
        {
         "hoverlabel": {
          "namelength": 0
         },
         "hovertemplate": "Country=Australia<br>Quantity=%{x}<br>UnitPrice=%{y}",
         "legendgroup": "Australia",
         "marker": {
          "color": "#636efa",
          "symbol": "circle"
         },
         "mode": "markers",
         "name": "Australia",
         "showlegend": true,
         "type": "scatter",
         "x": [
          33.125
         ],
         "xaxis": "x",
         "y": [
          4.7125
         ],
         "yaxis": "y"
        },
        {
         "hoverlabel": {
          "namelength": 0
         },
         "hovertemplate": "Country=Austria<br>Quantity=%{x}<br>UnitPrice=%{y}",
         "legendgroup": "Austria",
         "marker": {
          "color": "#EF553B",
          "symbol": "circle"
         },
         "mode": "markers",
         "name": "Austria",
         "showlegend": true,
         "type": "scatter",
         "x": [
          8
         ],
         "xaxis": "x",
         "y": [
          4.95
         ],
         "yaxis": "y"
        },
        {
         "hoverlabel": {
          "namelength": 0
         },
         "hovertemplate": "Country=Belgium<br>Quantity=%{x}<br>UnitPrice=%{y}",
         "legendgroup": "Belgium",
         "marker": {
          "color": "#00cc96",
          "symbol": "circle"
         },
         "mode": "markers",
         "name": "Belgium",
         "showlegend": true,
         "type": "scatter",
         "x": [
          4
         ],
         "xaxis": "x",
         "y": [
          4.95
         ],
         "yaxis": "y"
        },
        {
         "hoverlabel": {
          "namelength": 0
         },
         "hovertemplate": "Country=Channel Islands<br>Quantity=%{x}<br>UnitPrice=%{y}",
         "legendgroup": "Channel Islands",
         "marker": {
          "color": "#ab63fa",
          "symbol": "circle"
         },
         "mode": "markers",
         "name": "Channel Islands",
         "showlegend": true,
         "type": "scatter",
         "x": [
          13.333333333333334
         ],
         "xaxis": "x",
         "y": [
          4.95
         ],
         "yaxis": "y"
        },
        {
         "hoverlabel": {
          "namelength": 0
         },
         "hovertemplate": "Country=Cyprus<br>Quantity=%{x}<br>UnitPrice=%{y}",
         "legendgroup": "Cyprus",
         "marker": {
          "color": "#FFA15A",
          "symbol": "circle"
         },
         "mode": "markers",
         "name": "Cyprus",
         "showlegend": true,
         "type": "scatter",
         "x": [
          2.3333333333333335
         ],
         "xaxis": "x",
         "y": [
          4.75
         ],
         "yaxis": "y"
        },
        {
         "hoverlabel": {
          "namelength": 0
         },
         "hovertemplate": "Country=Denmark<br>Quantity=%{x}<br>UnitPrice=%{y}",
         "legendgroup": "Denmark",
         "marker": {
          "color": "#19d3f3",
          "symbol": "circle"
         },
         "mode": "markers",
         "name": "Denmark",
         "showlegend": true,
         "type": "scatter",
         "x": [
          12
         ],
         "xaxis": "x",
         "y": [
          4.95
         ],
         "yaxis": "y"
        },
        {
         "hoverlabel": {
          "namelength": 0
         },
         "hovertemplate": "Country=EIRE<br>Quantity=%{x}<br>UnitPrice=%{y}",
         "legendgroup": "EIRE",
         "marker": {
          "color": "#FF6692",
          "symbol": "circle"
         },
         "mode": "markers",
         "name": "EIRE",
         "showlegend": true,
         "type": "scatter",
         "x": [
          21.210526315789473
         ],
         "xaxis": "x",
         "y": [
          4.739473684210528
         ],
         "yaxis": "y"
        },
        {
         "hoverlabel": {
          "namelength": 0
         },
         "hovertemplate": "Country=Finland<br>Quantity=%{x}<br>UnitPrice=%{y}",
         "legendgroup": "Finland",
         "marker": {
          "color": "#B6E880",
          "symbol": "circle"
         },
         "mode": "markers",
         "name": "Finland",
         "showlegend": true,
         "type": "scatter",
         "x": [
          6
         ],
         "xaxis": "x",
         "y": [
          4.95
         ],
         "yaxis": "y"
        },
        {
         "hoverlabel": {
          "namelength": 0
         },
         "hovertemplate": "Country=France<br>Quantity=%{x}<br>UnitPrice=%{y}",
         "legendgroup": "France",
         "marker": {
          "color": "#FF97FF",
          "symbol": "circle"
         },
         "mode": "markers",
         "name": "France",
         "showlegend": true,
         "type": "scatter",
         "x": [
          5.7272727272727275
         ],
         "xaxis": "x",
         "y": [
          4.922727272727275
         ],
         "yaxis": "y"
        },
        {
         "hoverlabel": {
          "namelength": 0
         },
         "hovertemplate": "Country=Germany<br>Quantity=%{x}<br>UnitPrice=%{y}",
         "legendgroup": "Germany",
         "marker": {
          "color": "#FECB52",
          "symbol": "circle"
         },
         "mode": "markers",
         "name": "Germany",
         "showlegend": true,
         "type": "scatter",
         "x": [
          6.8
         ],
         "xaxis": "x",
         "y": [
          4.89
         ],
         "yaxis": "y"
        },
        {
         "hoverlabel": {
          "namelength": 0
         },
         "hovertemplate": "Country=Israel<br>Quantity=%{x}<br>UnitPrice=%{y}",
         "legendgroup": "Israel",
         "marker": {
          "color": "#636efa",
          "symbol": "circle"
         },
         "mode": "markers",
         "name": "Israel",
         "showlegend": true,
         "type": "scatter",
         "x": [
          1
         ],
         "xaxis": "x",
         "y": [
          4.95
         ],
         "yaxis": "y"
        },
        {
         "hoverlabel": {
          "namelength": 0
         },
         "hovertemplate": "Country=Japan<br>Quantity=%{x}<br>UnitPrice=%{y}",
         "legendgroup": "Japan",
         "marker": {
          "color": "#EF553B",
          "symbol": "circle"
         },
         "mode": "markers",
         "name": "Japan",
         "showlegend": true,
         "type": "scatter",
         "x": [
          56.666666666666664
         ],
         "xaxis": "x",
         "y": [
          4.183333333333334
         ],
         "yaxis": "y"
        },
        {
         "hoverlabel": {
          "namelength": 0
         },
         "hovertemplate": "Country=Lebanon<br>Quantity=%{x}<br>UnitPrice=%{y}",
         "legendgroup": "Lebanon",
         "marker": {
          "color": "#00cc96",
          "symbol": "circle"
         },
         "mode": "markers",
         "name": "Lebanon",
         "showlegend": true,
         "type": "scatter",
         "x": [
          15
         ],
         "xaxis": "x",
         "y": [
          4.65
         ],
         "yaxis": "y"
        },
        {
         "hoverlabel": {
          "namelength": 0
         },
         "hovertemplate": "Country=Netherlands<br>Quantity=%{x}<br>UnitPrice=%{y}",
         "legendgroup": "Netherlands",
         "marker": {
          "color": "#ab63fa",
          "symbol": "circle"
         },
         "mode": "markers",
         "name": "Netherlands",
         "showlegend": true,
         "type": "scatter",
         "x": [
          50
         ],
         "xaxis": "x",
         "y": [
          4.15
         ],
         "yaxis": "y"
        },
        {
         "hoverlabel": {
          "namelength": 0
         },
         "hovertemplate": "Country=Norway<br>Quantity=%{x}<br>UnitPrice=%{y}",
         "legendgroup": "Norway",
         "marker": {
          "color": "#FFA15A",
          "symbol": "circle"
         },
         "mode": "markers",
         "name": "Norway",
         "showlegend": true,
         "type": "scatter",
         "x": [
          6
         ],
         "xaxis": "x",
         "y": [
          4.95
         ],
         "yaxis": "y"
        },
        {
         "hoverlabel": {
          "namelength": 0
         },
         "hovertemplate": "Country=Singapore<br>Quantity=%{x}<br>UnitPrice=%{y}",
         "legendgroup": "Singapore",
         "marker": {
          "color": "#19d3f3",
          "symbol": "circle"
         },
         "mode": "markers",
         "name": "Singapore",
         "showlegend": true,
         "type": "scatter",
         "x": [
          8
         ],
         "xaxis": "x",
         "y": [
          4.95
         ],
         "yaxis": "y"
        },
        {
         "hoverlabel": {
          "namelength": 0
         },
         "hovertemplate": "Country=South Africa<br>Quantity=%{x}<br>UnitPrice=%{y}",
         "legendgroup": "South Africa",
         "marker": {
          "color": "#FF6692",
          "symbol": "circle"
         },
         "mode": "markers",
         "name": "South Africa",
         "showlegend": true,
         "type": "scatter",
         "x": [
          4
         ],
         "xaxis": "x",
         "y": [
          4.95
         ],
         "yaxis": "y"
        },
        {
         "hoverlabel": {
          "namelength": 0
         },
         "hovertemplate": "Country=Spain<br>Quantity=%{x}<br>UnitPrice=%{y}",
         "legendgroup": "Spain",
         "marker": {
          "color": "#B6E880",
          "symbol": "circle"
         },
         "mode": "markers",
         "name": "Spain",
         "showlegend": true,
         "type": "scatter",
         "x": [
          4.75
         ],
         "xaxis": "x",
         "y": [
          4.8375
         ],
         "yaxis": "y"
        },
        {
         "hoverlabel": {
          "namelength": 0
         },
         "hovertemplate": "Country=Switzerland<br>Quantity=%{x}<br>UnitPrice=%{y}",
         "legendgroup": "Switzerland",
         "marker": {
          "color": "#FF97FF",
          "symbol": "circle"
         },
         "mode": "markers",
         "name": "Switzerland",
         "showlegend": true,
         "type": "scatter",
         "x": [
          17.2
         ],
         "xaxis": "x",
         "y": [
          4.79
         ],
         "yaxis": "y"
        },
        {
         "hoverlabel": {
          "namelength": 0
         },
         "hovertemplate": "Country=United Kingdom<br>Quantity=%{x}<br>UnitPrice=%{y}",
         "legendgroup": "United Kingdom",
         "marker": {
          "color": "#FECB52",
          "symbol": "circle"
         },
         "mode": "markers",
         "name": "United Kingdom",
         "showlegend": true,
         "type": "scatter",
         "x": [
          10.705432287681713
         ],
         "xaxis": "x",
         "y": [
          4.880925784238609
         ],
         "yaxis": "y"
        }
       ],
       "layout": {
        "legend": {
         "title": {
          "text": "Country"
         },
         "tracegroupgap": 0
        },
        "margin": {
         "t": 60
        },
        "template": {
         "data": {
          "bar": [
           {
            "error_x": {
             "color": "#2a3f5f"
            },
            "error_y": {
             "color": "#2a3f5f"
            },
            "marker": {
             "line": {
              "color": "#E5ECF6",
              "width": 0.5
             }
            },
            "type": "bar"
           }
          ],
          "barpolar": [
           {
            "marker": {
             "line": {
              "color": "#E5ECF6",
              "width": 0.5
             }
            },
            "type": "barpolar"
           }
          ],
          "carpet": [
           {
            "aaxis": {
             "endlinecolor": "#2a3f5f",
             "gridcolor": "white",
             "linecolor": "white",
             "minorgridcolor": "white",
             "startlinecolor": "#2a3f5f"
            },
            "baxis": {
             "endlinecolor": "#2a3f5f",
             "gridcolor": "white",
             "linecolor": "white",
             "minorgridcolor": "white",
             "startlinecolor": "#2a3f5f"
            },
            "type": "carpet"
           }
          ],
          "choropleth": [
           {
            "colorbar": {
             "outlinewidth": 0,
             "ticks": ""
            },
            "type": "choropleth"
           }
          ],
          "contour": [
           {
            "colorbar": {
             "outlinewidth": 0,
             "ticks": ""
            },
            "colorscale": [
             [
              0,
              "#0d0887"
             ],
             [
              0.1111111111111111,
              "#46039f"
             ],
             [
              0.2222222222222222,
              "#7201a8"
             ],
             [
              0.3333333333333333,
              "#9c179e"
             ],
             [
              0.4444444444444444,
              "#bd3786"
             ],
             [
              0.5555555555555556,
              "#d8576b"
             ],
             [
              0.6666666666666666,
              "#ed7953"
             ],
             [
              0.7777777777777778,
              "#fb9f3a"
             ],
             [
              0.8888888888888888,
              "#fdca26"
             ],
             [
              1,
              "#f0f921"
             ]
            ],
            "type": "contour"
           }
          ],
          "contourcarpet": [
           {
            "colorbar": {
             "outlinewidth": 0,
             "ticks": ""
            },
            "type": "contourcarpet"
           }
          ],
          "heatmap": [
           {
            "colorbar": {
             "outlinewidth": 0,
             "ticks": ""
            },
            "colorscale": [
             [
              0,
              "#0d0887"
             ],
             [
              0.1111111111111111,
              "#46039f"
             ],
             [
              0.2222222222222222,
              "#7201a8"
             ],
             [
              0.3333333333333333,
              "#9c179e"
             ],
             [
              0.4444444444444444,
              "#bd3786"
             ],
             [
              0.5555555555555556,
              "#d8576b"
             ],
             [
              0.6666666666666666,
              "#ed7953"
             ],
             [
              0.7777777777777778,
              "#fb9f3a"
             ],
             [
              0.8888888888888888,
              "#fdca26"
             ],
             [
              1,
              "#f0f921"
             ]
            ],
            "type": "heatmap"
           }
          ],
          "heatmapgl": [
           {
            "colorbar": {
             "outlinewidth": 0,
             "ticks": ""
            },
            "colorscale": [
             [
              0,
              "#0d0887"
             ],
             [
              0.1111111111111111,
              "#46039f"
             ],
             [
              0.2222222222222222,
              "#7201a8"
             ],
             [
              0.3333333333333333,
              "#9c179e"
             ],
             [
              0.4444444444444444,
              "#bd3786"
             ],
             [
              0.5555555555555556,
              "#d8576b"
             ],
             [
              0.6666666666666666,
              "#ed7953"
             ],
             [
              0.7777777777777778,
              "#fb9f3a"
             ],
             [
              0.8888888888888888,
              "#fdca26"
             ],
             [
              1,
              "#f0f921"
             ]
            ],
            "type": "heatmapgl"
           }
          ],
          "histogram": [
           {
            "marker": {
             "colorbar": {
              "outlinewidth": 0,
              "ticks": ""
             }
            },
            "type": "histogram"
           }
          ],
          "histogram2d": [
           {
            "colorbar": {
             "outlinewidth": 0,
             "ticks": ""
            },
            "colorscale": [
             [
              0,
              "#0d0887"
             ],
             [
              0.1111111111111111,
              "#46039f"
             ],
             [
              0.2222222222222222,
              "#7201a8"
             ],
             [
              0.3333333333333333,
              "#9c179e"
             ],
             [
              0.4444444444444444,
              "#bd3786"
             ],
             [
              0.5555555555555556,
              "#d8576b"
             ],
             [
              0.6666666666666666,
              "#ed7953"
             ],
             [
              0.7777777777777778,
              "#fb9f3a"
             ],
             [
              0.8888888888888888,
              "#fdca26"
             ],
             [
              1,
              "#f0f921"
             ]
            ],
            "type": "histogram2d"
           }
          ],
          "histogram2dcontour": [
           {
            "colorbar": {
             "outlinewidth": 0,
             "ticks": ""
            },
            "colorscale": [
             [
              0,
              "#0d0887"
             ],
             [
              0.1111111111111111,
              "#46039f"
             ],
             [
              0.2222222222222222,
              "#7201a8"
             ],
             [
              0.3333333333333333,
              "#9c179e"
             ],
             [
              0.4444444444444444,
              "#bd3786"
             ],
             [
              0.5555555555555556,
              "#d8576b"
             ],
             [
              0.6666666666666666,
              "#ed7953"
             ],
             [
              0.7777777777777778,
              "#fb9f3a"
             ],
             [
              0.8888888888888888,
              "#fdca26"
             ],
             [
              1,
              "#f0f921"
             ]
            ],
            "type": "histogram2dcontour"
           }
          ],
          "mesh3d": [
           {
            "colorbar": {
             "outlinewidth": 0,
             "ticks": ""
            },
            "type": "mesh3d"
           }
          ],
          "parcoords": [
           {
            "line": {
             "colorbar": {
              "outlinewidth": 0,
              "ticks": ""
             }
            },
            "type": "parcoords"
           }
          ],
          "pie": [
           {
            "automargin": true,
            "type": "pie"
           }
          ],
          "scatter": [
           {
            "marker": {
             "colorbar": {
              "outlinewidth": 0,
              "ticks": ""
             }
            },
            "type": "scatter"
           }
          ],
          "scatter3d": [
           {
            "line": {
             "colorbar": {
              "outlinewidth": 0,
              "ticks": ""
             }
            },
            "marker": {
             "colorbar": {
              "outlinewidth": 0,
              "ticks": ""
             }
            },
            "type": "scatter3d"
           }
          ],
          "scattercarpet": [
           {
            "marker": {
             "colorbar": {
              "outlinewidth": 0,
              "ticks": ""
             }
            },
            "type": "scattercarpet"
           }
          ],
          "scattergeo": [
           {
            "marker": {
             "colorbar": {
              "outlinewidth": 0,
              "ticks": ""
             }
            },
            "type": "scattergeo"
           }
          ],
          "scattergl": [
           {
            "marker": {
             "colorbar": {
              "outlinewidth": 0,
              "ticks": ""
             }
            },
            "type": "scattergl"
           }
          ],
          "scattermapbox": [
           {
            "marker": {
             "colorbar": {
              "outlinewidth": 0,
              "ticks": ""
             }
            },
            "type": "scattermapbox"
           }
          ],
          "scatterpolar": [
           {
            "marker": {
             "colorbar": {
              "outlinewidth": 0,
              "ticks": ""
             }
            },
            "type": "scatterpolar"
           }
          ],
          "scatterpolargl": [
           {
            "marker": {
             "colorbar": {
              "outlinewidth": 0,
              "ticks": ""
             }
            },
            "type": "scatterpolargl"
           }
          ],
          "scatterternary": [
           {
            "marker": {
             "colorbar": {
              "outlinewidth": 0,
              "ticks": ""
             }
            },
            "type": "scatterternary"
           }
          ],
          "surface": [
           {
            "colorbar": {
             "outlinewidth": 0,
             "ticks": ""
            },
            "colorscale": [
             [
              0,
              "#0d0887"
             ],
             [
              0.1111111111111111,
              "#46039f"
             ],
             [
              0.2222222222222222,
              "#7201a8"
             ],
             [
              0.3333333333333333,
              "#9c179e"
             ],
             [
              0.4444444444444444,
              "#bd3786"
             ],
             [
              0.5555555555555556,
              "#d8576b"
             ],
             [
              0.6666666666666666,
              "#ed7953"
             ],
             [
              0.7777777777777778,
              "#fb9f3a"
             ],
             [
              0.8888888888888888,
              "#fdca26"
             ],
             [
              1,
              "#f0f921"
             ]
            ],
            "type": "surface"
           }
          ],
          "table": [
           {
            "cells": {
             "fill": {
              "color": "#EBF0F8"
             },
             "line": {
              "color": "white"
             }
            },
            "header": {
             "fill": {
              "color": "#C8D4E3"
             },
             "line": {
              "color": "white"
             }
            },
            "type": "table"
           }
          ]
         },
         "layout": {
          "annotationdefaults": {
           "arrowcolor": "#2a3f5f",
           "arrowhead": 0,
           "arrowwidth": 1
          },
          "coloraxis": {
           "colorbar": {
            "outlinewidth": 0,
            "ticks": ""
           }
          },
          "colorscale": {
           "diverging": [
            [
             0,
             "#8e0152"
            ],
            [
             0.1,
             "#c51b7d"
            ],
            [
             0.2,
             "#de77ae"
            ],
            [
             0.3,
             "#f1b6da"
            ],
            [
             0.4,
             "#fde0ef"
            ],
            [
             0.5,
             "#f7f7f7"
            ],
            [
             0.6,
             "#e6f5d0"
            ],
            [
             0.7,
             "#b8e186"
            ],
            [
             0.8,
             "#7fbc41"
            ],
            [
             0.9,
             "#4d9221"
            ],
            [
             1,
             "#276419"
            ]
           ],
           "sequential": [
            [
             0,
             "#0d0887"
            ],
            [
             0.1111111111111111,
             "#46039f"
            ],
            [
             0.2222222222222222,
             "#7201a8"
            ],
            [
             0.3333333333333333,
             "#9c179e"
            ],
            [
             0.4444444444444444,
             "#bd3786"
            ],
            [
             0.5555555555555556,
             "#d8576b"
            ],
            [
             0.6666666666666666,
             "#ed7953"
            ],
            [
             0.7777777777777778,
             "#fb9f3a"
            ],
            [
             0.8888888888888888,
             "#fdca26"
            ],
            [
             1,
             "#f0f921"
            ]
           ],
           "sequentialminus": [
            [
             0,
             "#0d0887"
            ],
            [
             0.1111111111111111,
             "#46039f"
            ],
            [
             0.2222222222222222,
             "#7201a8"
            ],
            [
             0.3333333333333333,
             "#9c179e"
            ],
            [
             0.4444444444444444,
             "#bd3786"
            ],
            [
             0.5555555555555556,
             "#d8576b"
            ],
            [
             0.6666666666666666,
             "#ed7953"
            ],
            [
             0.7777777777777778,
             "#fb9f3a"
            ],
            [
             0.8888888888888888,
             "#fdca26"
            ],
            [
             1,
             "#f0f921"
            ]
           ]
          },
          "colorway": [
           "#636efa",
           "#EF553B",
           "#00cc96",
           "#ab63fa",
           "#FFA15A",
           "#19d3f3",
           "#FF6692",
           "#B6E880",
           "#FF97FF",
           "#FECB52"
          ],
          "font": {
           "color": "#2a3f5f"
          },
          "geo": {
           "bgcolor": "white",
           "lakecolor": "white",
           "landcolor": "#E5ECF6",
           "showlakes": true,
           "showland": true,
           "subunitcolor": "white"
          },
          "hoverlabel": {
           "align": "left"
          },
          "hovermode": "closest",
          "mapbox": {
           "style": "light"
          },
          "paper_bgcolor": "white",
          "plot_bgcolor": "#E5ECF6",
          "polar": {
           "angularaxis": {
            "gridcolor": "white",
            "linecolor": "white",
            "ticks": ""
           },
           "bgcolor": "#E5ECF6",
           "radialaxis": {
            "gridcolor": "white",
            "linecolor": "white",
            "ticks": ""
           }
          },
          "scene": {
           "xaxis": {
            "backgroundcolor": "#E5ECF6",
            "gridcolor": "white",
            "gridwidth": 2,
            "linecolor": "white",
            "showbackground": true,
            "ticks": "",
            "zerolinecolor": "white"
           },
           "yaxis": {
            "backgroundcolor": "#E5ECF6",
            "gridcolor": "white",
            "gridwidth": 2,
            "linecolor": "white",
            "showbackground": true,
            "ticks": "",
            "zerolinecolor": "white"
           },
           "zaxis": {
            "backgroundcolor": "#E5ECF6",
            "gridcolor": "white",
            "gridwidth": 2,
            "linecolor": "white",
            "showbackground": true,
            "ticks": "",
            "zerolinecolor": "white"
           }
          },
          "shapedefaults": {
           "line": {
            "color": "#2a3f5f"
           }
          },
          "ternary": {
           "aaxis": {
            "gridcolor": "white",
            "linecolor": "white",
            "ticks": ""
           },
           "baxis": {
            "gridcolor": "white",
            "linecolor": "white",
            "ticks": ""
           },
           "bgcolor": "#E5ECF6",
           "caxis": {
            "gridcolor": "white",
            "linecolor": "white",
            "ticks": ""
           }
          },
          "title": {
           "x": 0.05
          },
          "xaxis": {
           "automargin": true,
           "gridcolor": "white",
           "linecolor": "white",
           "ticks": "",
           "title": {
            "standoff": 15
           },
           "zerolinecolor": "white",
           "zerolinewidth": 2
          },
          "yaxis": {
           "automargin": true,
           "gridcolor": "white",
           "linecolor": "white",
           "ticks": "",
           "title": {
            "standoff": 15
           },
           "zerolinecolor": "white",
           "zerolinewidth": 2
          }
         }
        },
        "xaxis": {
         "anchor": "y",
         "domain": [
          0,
          1
         ],
         "title": {
          "text": "Quantity"
         }
        },
        "yaxis": {
         "anchor": "x",
         "domain": [
          0,
          1
         ],
         "title": {
          "text": "UnitPrice"
         }
        }
       }
      },
      "text/html": [
       "<div>\n",
       "        \n",
       "        \n",
       "            <div id=\"0328bdda-17e7-4c25-936b-56b0a51208d8\" class=\"plotly-graph-div\" style=\"height:525px; width:100%;\"></div>\n",
       "            <script type=\"text/javascript\">\n",
       "                require([\"plotly\"], function(Plotly) {\n",
       "                    window.PLOTLYENV=window.PLOTLYENV || {};\n",
       "                    \n",
       "                if (document.getElementById(\"0328bdda-17e7-4c25-936b-56b0a51208d8\")) {\n",
       "                    Plotly.newPlot(\n",
       "                        '0328bdda-17e7-4c25-936b-56b0a51208d8',\n",
       "                        [{\"hoverlabel\": {\"namelength\": 0}, \"hovertemplate\": \"Country=Australia<br>Quantity=%{x}<br>UnitPrice=%{y}\", \"legendgroup\": \"Australia\", \"marker\": {\"color\": \"#636efa\", \"symbol\": \"circle\"}, \"mode\": \"markers\", \"name\": \"Australia\", \"showlegend\": true, \"type\": \"scatter\", \"x\": [33.125], \"xaxis\": \"x\", \"y\": [4.7125], \"yaxis\": \"y\"}, {\"hoverlabel\": {\"namelength\": 0}, \"hovertemplate\": \"Country=Austria<br>Quantity=%{x}<br>UnitPrice=%{y}\", \"legendgroup\": \"Austria\", \"marker\": {\"color\": \"#EF553B\", \"symbol\": \"circle\"}, \"mode\": \"markers\", \"name\": \"Austria\", \"showlegend\": true, \"type\": \"scatter\", \"x\": [8.0], \"xaxis\": \"x\", \"y\": [4.95], \"yaxis\": \"y\"}, {\"hoverlabel\": {\"namelength\": 0}, \"hovertemplate\": \"Country=Belgium<br>Quantity=%{x}<br>UnitPrice=%{y}\", \"legendgroup\": \"Belgium\", \"marker\": {\"color\": \"#00cc96\", \"symbol\": \"circle\"}, \"mode\": \"markers\", \"name\": \"Belgium\", \"showlegend\": true, \"type\": \"scatter\", \"x\": [4.0], \"xaxis\": \"x\", \"y\": [4.95], \"yaxis\": \"y\"}, {\"hoverlabel\": {\"namelength\": 0}, \"hovertemplate\": \"Country=Channel Islands<br>Quantity=%{x}<br>UnitPrice=%{y}\", \"legendgroup\": \"Channel Islands\", \"marker\": {\"color\": \"#ab63fa\", \"symbol\": \"circle\"}, \"mode\": \"markers\", \"name\": \"Channel Islands\", \"showlegend\": true, \"type\": \"scatter\", \"x\": [13.333333333333334], \"xaxis\": \"x\", \"y\": [4.95], \"yaxis\": \"y\"}, {\"hoverlabel\": {\"namelength\": 0}, \"hovertemplate\": \"Country=Cyprus<br>Quantity=%{x}<br>UnitPrice=%{y}\", \"legendgroup\": \"Cyprus\", \"marker\": {\"color\": \"#FFA15A\", \"symbol\": \"circle\"}, \"mode\": \"markers\", \"name\": \"Cyprus\", \"showlegend\": true, \"type\": \"scatter\", \"x\": [2.3333333333333335], \"xaxis\": \"x\", \"y\": [4.75], \"yaxis\": \"y\"}, {\"hoverlabel\": {\"namelength\": 0}, \"hovertemplate\": \"Country=Denmark<br>Quantity=%{x}<br>UnitPrice=%{y}\", \"legendgroup\": \"Denmark\", \"marker\": {\"color\": \"#19d3f3\", \"symbol\": \"circle\"}, \"mode\": \"markers\", \"name\": \"Denmark\", \"showlegend\": true, \"type\": \"scatter\", \"x\": [12.0], \"xaxis\": \"x\", \"y\": [4.95], \"yaxis\": \"y\"}, {\"hoverlabel\": {\"namelength\": 0}, \"hovertemplate\": \"Country=EIRE<br>Quantity=%{x}<br>UnitPrice=%{y}\", \"legendgroup\": \"EIRE\", \"marker\": {\"color\": \"#FF6692\", \"symbol\": \"circle\"}, \"mode\": \"markers\", \"name\": \"EIRE\", \"showlegend\": true, \"type\": \"scatter\", \"x\": [21.210526315789473], \"xaxis\": \"x\", \"y\": [4.739473684210528], \"yaxis\": \"y\"}, {\"hoverlabel\": {\"namelength\": 0}, \"hovertemplate\": \"Country=Finland<br>Quantity=%{x}<br>UnitPrice=%{y}\", \"legendgroup\": \"Finland\", \"marker\": {\"color\": \"#B6E880\", \"symbol\": \"circle\"}, \"mode\": \"markers\", \"name\": \"Finland\", \"showlegend\": true, \"type\": \"scatter\", \"x\": [6.0], \"xaxis\": \"x\", \"y\": [4.95], \"yaxis\": \"y\"}, {\"hoverlabel\": {\"namelength\": 0}, \"hovertemplate\": \"Country=France<br>Quantity=%{x}<br>UnitPrice=%{y}\", \"legendgroup\": \"France\", \"marker\": {\"color\": \"#FF97FF\", \"symbol\": \"circle\"}, \"mode\": \"markers\", \"name\": \"France\", \"showlegend\": true, \"type\": \"scatter\", \"x\": [5.7272727272727275], \"xaxis\": \"x\", \"y\": [4.922727272727275], \"yaxis\": \"y\"}, {\"hoverlabel\": {\"namelength\": 0}, \"hovertemplate\": \"Country=Germany<br>Quantity=%{x}<br>UnitPrice=%{y}\", \"legendgroup\": \"Germany\", \"marker\": {\"color\": \"#FECB52\", \"symbol\": \"circle\"}, \"mode\": \"markers\", \"name\": \"Germany\", \"showlegend\": true, \"type\": \"scatter\", \"x\": [6.8], \"xaxis\": \"x\", \"y\": [4.89], \"yaxis\": \"y\"}, {\"hoverlabel\": {\"namelength\": 0}, \"hovertemplate\": \"Country=Israel<br>Quantity=%{x}<br>UnitPrice=%{y}\", \"legendgroup\": \"Israel\", \"marker\": {\"color\": \"#636efa\", \"symbol\": \"circle\"}, \"mode\": \"markers\", \"name\": \"Israel\", \"showlegend\": true, \"type\": \"scatter\", \"x\": [1.0], \"xaxis\": \"x\", \"y\": [4.95], \"yaxis\": \"y\"}, {\"hoverlabel\": {\"namelength\": 0}, \"hovertemplate\": \"Country=Japan<br>Quantity=%{x}<br>UnitPrice=%{y}\", \"legendgroup\": \"Japan\", \"marker\": {\"color\": \"#EF553B\", \"symbol\": \"circle\"}, \"mode\": \"markers\", \"name\": \"Japan\", \"showlegend\": true, \"type\": \"scatter\", \"x\": [56.666666666666664], \"xaxis\": \"x\", \"y\": [4.183333333333334], \"yaxis\": \"y\"}, {\"hoverlabel\": {\"namelength\": 0}, \"hovertemplate\": \"Country=Lebanon<br>Quantity=%{x}<br>UnitPrice=%{y}\", \"legendgroup\": \"Lebanon\", \"marker\": {\"color\": \"#00cc96\", \"symbol\": \"circle\"}, \"mode\": \"markers\", \"name\": \"Lebanon\", \"showlegend\": true, \"type\": \"scatter\", \"x\": [15.0], \"xaxis\": \"x\", \"y\": [4.65], \"yaxis\": \"y\"}, {\"hoverlabel\": {\"namelength\": 0}, \"hovertemplate\": \"Country=Netherlands<br>Quantity=%{x}<br>UnitPrice=%{y}\", \"legendgroup\": \"Netherlands\", \"marker\": {\"color\": \"#ab63fa\", \"symbol\": \"circle\"}, \"mode\": \"markers\", \"name\": \"Netherlands\", \"showlegend\": true, \"type\": \"scatter\", \"x\": [50.0], \"xaxis\": \"x\", \"y\": [4.15], \"yaxis\": \"y\"}, {\"hoverlabel\": {\"namelength\": 0}, \"hovertemplate\": \"Country=Norway<br>Quantity=%{x}<br>UnitPrice=%{y}\", \"legendgroup\": \"Norway\", \"marker\": {\"color\": \"#FFA15A\", \"symbol\": \"circle\"}, \"mode\": \"markers\", \"name\": \"Norway\", \"showlegend\": true, \"type\": \"scatter\", \"x\": [6.0], \"xaxis\": \"x\", \"y\": [4.95], \"yaxis\": \"y\"}, {\"hoverlabel\": {\"namelength\": 0}, \"hovertemplate\": \"Country=Singapore<br>Quantity=%{x}<br>UnitPrice=%{y}\", \"legendgroup\": \"Singapore\", \"marker\": {\"color\": \"#19d3f3\", \"symbol\": \"circle\"}, \"mode\": \"markers\", \"name\": \"Singapore\", \"showlegend\": true, \"type\": \"scatter\", \"x\": [8.0], \"xaxis\": \"x\", \"y\": [4.95], \"yaxis\": \"y\"}, {\"hoverlabel\": {\"namelength\": 0}, \"hovertemplate\": \"Country=South Africa<br>Quantity=%{x}<br>UnitPrice=%{y}\", \"legendgroup\": \"South Africa\", \"marker\": {\"color\": \"#FF6692\", \"symbol\": \"circle\"}, \"mode\": \"markers\", \"name\": \"South Africa\", \"showlegend\": true, \"type\": \"scatter\", \"x\": [4.0], \"xaxis\": \"x\", \"y\": [4.95], \"yaxis\": \"y\"}, {\"hoverlabel\": {\"namelength\": 0}, \"hovertemplate\": \"Country=Spain<br>Quantity=%{x}<br>UnitPrice=%{y}\", \"legendgroup\": \"Spain\", \"marker\": {\"color\": \"#B6E880\", \"symbol\": \"circle\"}, \"mode\": \"markers\", \"name\": \"Spain\", \"showlegend\": true, \"type\": \"scatter\", \"x\": [4.75], \"xaxis\": \"x\", \"y\": [4.8375], \"yaxis\": \"y\"}, {\"hoverlabel\": {\"namelength\": 0}, \"hovertemplate\": \"Country=Switzerland<br>Quantity=%{x}<br>UnitPrice=%{y}\", \"legendgroup\": \"Switzerland\", \"marker\": {\"color\": \"#FF97FF\", \"symbol\": \"circle\"}, \"mode\": \"markers\", \"name\": \"Switzerland\", \"showlegend\": true, \"type\": \"scatter\", \"x\": [17.2], \"xaxis\": \"x\", \"y\": [4.79], \"yaxis\": \"y\"}, {\"hoverlabel\": {\"namelength\": 0}, \"hovertemplate\": \"Country=United Kingdom<br>Quantity=%{x}<br>UnitPrice=%{y}\", \"legendgroup\": \"United Kingdom\", \"marker\": {\"color\": \"#FECB52\", \"symbol\": \"circle\"}, \"mode\": \"markers\", \"name\": \"United Kingdom\", \"showlegend\": true, \"type\": \"scatter\", \"x\": [10.705432287681713], \"xaxis\": \"x\", \"y\": [4.880925784238609], \"yaxis\": \"y\"}],\n",
       "                        {\"legend\": {\"title\": {\"text\": \"Country\"}, \"tracegroupgap\": 0}, \"margin\": {\"t\": 60}, \"template\": {\"data\": {\"bar\": [{\"error_x\": {\"color\": \"#2a3f5f\"}, \"error_y\": {\"color\": \"#2a3f5f\"}, \"marker\": {\"line\": {\"color\": \"#E5ECF6\", \"width\": 0.5}}, \"type\": \"bar\"}], \"barpolar\": [{\"marker\": {\"line\": {\"color\": \"#E5ECF6\", \"width\": 0.5}}, \"type\": \"barpolar\"}], \"carpet\": [{\"aaxis\": {\"endlinecolor\": \"#2a3f5f\", \"gridcolor\": \"white\", \"linecolor\": \"white\", \"minorgridcolor\": \"white\", \"startlinecolor\": \"#2a3f5f\"}, \"baxis\": {\"endlinecolor\": \"#2a3f5f\", \"gridcolor\": \"white\", \"linecolor\": \"white\", \"minorgridcolor\": \"white\", \"startlinecolor\": \"#2a3f5f\"}, \"type\": \"carpet\"}], \"choropleth\": [{\"colorbar\": {\"outlinewidth\": 0, \"ticks\": \"\"}, \"type\": \"choropleth\"}], \"contour\": [{\"colorbar\": {\"outlinewidth\": 0, \"ticks\": \"\"}, \"colorscale\": [[0.0, \"#0d0887\"], [0.1111111111111111, \"#46039f\"], [0.2222222222222222, \"#7201a8\"], [0.3333333333333333, \"#9c179e\"], [0.4444444444444444, \"#bd3786\"], [0.5555555555555556, \"#d8576b\"], [0.6666666666666666, \"#ed7953\"], [0.7777777777777778, \"#fb9f3a\"], [0.8888888888888888, \"#fdca26\"], [1.0, \"#f0f921\"]], \"type\": \"contour\"}], \"contourcarpet\": [{\"colorbar\": {\"outlinewidth\": 0, \"ticks\": \"\"}, \"type\": \"contourcarpet\"}], \"heatmap\": [{\"colorbar\": {\"outlinewidth\": 0, \"ticks\": \"\"}, \"colorscale\": [[0.0, \"#0d0887\"], [0.1111111111111111, \"#46039f\"], [0.2222222222222222, \"#7201a8\"], [0.3333333333333333, \"#9c179e\"], [0.4444444444444444, \"#bd3786\"], [0.5555555555555556, \"#d8576b\"], [0.6666666666666666, \"#ed7953\"], [0.7777777777777778, \"#fb9f3a\"], [0.8888888888888888, \"#fdca26\"], [1.0, \"#f0f921\"]], \"type\": \"heatmap\"}], \"heatmapgl\": [{\"colorbar\": {\"outlinewidth\": 0, \"ticks\": \"\"}, \"colorscale\": [[0.0, \"#0d0887\"], [0.1111111111111111, \"#46039f\"], [0.2222222222222222, \"#7201a8\"], [0.3333333333333333, \"#9c179e\"], [0.4444444444444444, \"#bd3786\"], [0.5555555555555556, \"#d8576b\"], [0.6666666666666666, \"#ed7953\"], [0.7777777777777778, \"#fb9f3a\"], [0.8888888888888888, \"#fdca26\"], [1.0, \"#f0f921\"]], \"type\": \"heatmapgl\"}], \"histogram\": [{\"marker\": {\"colorbar\": {\"outlinewidth\": 0, \"ticks\": \"\"}}, \"type\": \"histogram\"}], \"histogram2d\": [{\"colorbar\": {\"outlinewidth\": 0, \"ticks\": \"\"}, \"colorscale\": [[0.0, \"#0d0887\"], [0.1111111111111111, \"#46039f\"], [0.2222222222222222, \"#7201a8\"], [0.3333333333333333, \"#9c179e\"], [0.4444444444444444, \"#bd3786\"], [0.5555555555555556, \"#d8576b\"], [0.6666666666666666, \"#ed7953\"], [0.7777777777777778, \"#fb9f3a\"], [0.8888888888888888, \"#fdca26\"], [1.0, \"#f0f921\"]], \"type\": \"histogram2d\"}], \"histogram2dcontour\": [{\"colorbar\": {\"outlinewidth\": 0, \"ticks\": \"\"}, \"colorscale\": [[0.0, \"#0d0887\"], [0.1111111111111111, \"#46039f\"], [0.2222222222222222, \"#7201a8\"], [0.3333333333333333, \"#9c179e\"], [0.4444444444444444, \"#bd3786\"], [0.5555555555555556, \"#d8576b\"], [0.6666666666666666, \"#ed7953\"], [0.7777777777777778, \"#fb9f3a\"], [0.8888888888888888, \"#fdca26\"], [1.0, \"#f0f921\"]], \"type\": \"histogram2dcontour\"}], \"mesh3d\": [{\"colorbar\": {\"outlinewidth\": 0, \"ticks\": \"\"}, \"type\": \"mesh3d\"}], \"parcoords\": [{\"line\": {\"colorbar\": {\"outlinewidth\": 0, \"ticks\": \"\"}}, \"type\": \"parcoords\"}], \"pie\": [{\"automargin\": true, \"type\": \"pie\"}], \"scatter\": [{\"marker\": {\"colorbar\": {\"outlinewidth\": 0, \"ticks\": \"\"}}, \"type\": \"scatter\"}], \"scatter3d\": [{\"line\": {\"colorbar\": {\"outlinewidth\": 0, \"ticks\": \"\"}}, \"marker\": {\"colorbar\": {\"outlinewidth\": 0, \"ticks\": \"\"}}, \"type\": \"scatter3d\"}], \"scattercarpet\": [{\"marker\": {\"colorbar\": {\"outlinewidth\": 0, \"ticks\": \"\"}}, \"type\": \"scattercarpet\"}], \"scattergeo\": [{\"marker\": {\"colorbar\": {\"outlinewidth\": 0, \"ticks\": \"\"}}, \"type\": \"scattergeo\"}], \"scattergl\": [{\"marker\": {\"colorbar\": {\"outlinewidth\": 0, \"ticks\": \"\"}}, \"type\": \"scattergl\"}], \"scattermapbox\": [{\"marker\": {\"colorbar\": {\"outlinewidth\": 0, \"ticks\": \"\"}}, \"type\": \"scattermapbox\"}], \"scatterpolar\": [{\"marker\": {\"colorbar\": {\"outlinewidth\": 0, \"ticks\": \"\"}}, \"type\": \"scatterpolar\"}], \"scatterpolargl\": [{\"marker\": {\"colorbar\": {\"outlinewidth\": 0, \"ticks\": \"\"}}, \"type\": \"scatterpolargl\"}], \"scatterternary\": [{\"marker\": {\"colorbar\": {\"outlinewidth\": 0, \"ticks\": \"\"}}, \"type\": \"scatterternary\"}], \"surface\": [{\"colorbar\": {\"outlinewidth\": 0, \"ticks\": \"\"}, \"colorscale\": [[0.0, \"#0d0887\"], [0.1111111111111111, \"#46039f\"], [0.2222222222222222, \"#7201a8\"], [0.3333333333333333, \"#9c179e\"], [0.4444444444444444, \"#bd3786\"], [0.5555555555555556, \"#d8576b\"], [0.6666666666666666, \"#ed7953\"], [0.7777777777777778, \"#fb9f3a\"], [0.8888888888888888, \"#fdca26\"], [1.0, \"#f0f921\"]], \"type\": \"surface\"}], \"table\": [{\"cells\": {\"fill\": {\"color\": \"#EBF0F8\"}, \"line\": {\"color\": \"white\"}}, \"header\": {\"fill\": {\"color\": \"#C8D4E3\"}, \"line\": {\"color\": \"white\"}}, \"type\": \"table\"}]}, \"layout\": {\"annotationdefaults\": {\"arrowcolor\": \"#2a3f5f\", \"arrowhead\": 0, \"arrowwidth\": 1}, \"coloraxis\": {\"colorbar\": {\"outlinewidth\": 0, \"ticks\": \"\"}}, \"colorscale\": {\"diverging\": [[0, \"#8e0152\"], [0.1, \"#c51b7d\"], [0.2, \"#de77ae\"], [0.3, \"#f1b6da\"], [0.4, \"#fde0ef\"], [0.5, \"#f7f7f7\"], [0.6, \"#e6f5d0\"], [0.7, \"#b8e186\"], [0.8, \"#7fbc41\"], [0.9, \"#4d9221\"], [1, \"#276419\"]], \"sequential\": [[0.0, \"#0d0887\"], [0.1111111111111111, \"#46039f\"], [0.2222222222222222, \"#7201a8\"], [0.3333333333333333, \"#9c179e\"], [0.4444444444444444, \"#bd3786\"], [0.5555555555555556, \"#d8576b\"], [0.6666666666666666, \"#ed7953\"], [0.7777777777777778, \"#fb9f3a\"], [0.8888888888888888, \"#fdca26\"], [1.0, \"#f0f921\"]], \"sequentialminus\": [[0.0, \"#0d0887\"], [0.1111111111111111, \"#46039f\"], [0.2222222222222222, \"#7201a8\"], [0.3333333333333333, \"#9c179e\"], [0.4444444444444444, \"#bd3786\"], [0.5555555555555556, \"#d8576b\"], [0.6666666666666666, \"#ed7953\"], [0.7777777777777778, \"#fb9f3a\"], [0.8888888888888888, \"#fdca26\"], [1.0, \"#f0f921\"]]}, \"colorway\": [\"#636efa\", \"#EF553B\", \"#00cc96\", \"#ab63fa\", \"#FFA15A\", \"#19d3f3\", \"#FF6692\", \"#B6E880\", \"#FF97FF\", \"#FECB52\"], \"font\": {\"color\": \"#2a3f5f\"}, \"geo\": {\"bgcolor\": \"white\", \"lakecolor\": \"white\", \"landcolor\": \"#E5ECF6\", \"showlakes\": true, \"showland\": true, \"subunitcolor\": \"white\"}, \"hoverlabel\": {\"align\": \"left\"}, \"hovermode\": \"closest\", \"mapbox\": {\"style\": \"light\"}, \"paper_bgcolor\": \"white\", \"plot_bgcolor\": \"#E5ECF6\", \"polar\": {\"angularaxis\": {\"gridcolor\": \"white\", \"linecolor\": \"white\", \"ticks\": \"\"}, \"bgcolor\": \"#E5ECF6\", \"radialaxis\": {\"gridcolor\": \"white\", \"linecolor\": \"white\", \"ticks\": \"\"}}, \"scene\": {\"xaxis\": {\"backgroundcolor\": \"#E5ECF6\", \"gridcolor\": \"white\", \"gridwidth\": 2, \"linecolor\": \"white\", \"showbackground\": true, \"ticks\": \"\", \"zerolinecolor\": \"white\"}, \"yaxis\": {\"backgroundcolor\": \"#E5ECF6\", \"gridcolor\": \"white\", \"gridwidth\": 2, \"linecolor\": \"white\", \"showbackground\": true, \"ticks\": \"\", \"zerolinecolor\": \"white\"}, \"zaxis\": {\"backgroundcolor\": \"#E5ECF6\", \"gridcolor\": \"white\", \"gridwidth\": 2, \"linecolor\": \"white\", \"showbackground\": true, \"ticks\": \"\", \"zerolinecolor\": \"white\"}}, \"shapedefaults\": {\"line\": {\"color\": \"#2a3f5f\"}}, \"ternary\": {\"aaxis\": {\"gridcolor\": \"white\", \"linecolor\": \"white\", \"ticks\": \"\"}, \"baxis\": {\"gridcolor\": \"white\", \"linecolor\": \"white\", \"ticks\": \"\"}, \"bgcolor\": \"#E5ECF6\", \"caxis\": {\"gridcolor\": \"white\", \"linecolor\": \"white\", \"ticks\": \"\"}}, \"title\": {\"x\": 0.05}, \"xaxis\": {\"automargin\": true, \"gridcolor\": \"white\", \"linecolor\": \"white\", \"ticks\": \"\", \"title\": {\"standoff\": 15}, \"zerolinecolor\": \"white\", \"zerolinewidth\": 2}, \"yaxis\": {\"automargin\": true, \"gridcolor\": \"white\", \"linecolor\": \"white\", \"ticks\": \"\", \"title\": {\"standoff\": 15}, \"zerolinecolor\": \"white\", \"zerolinewidth\": 2}}}, \"xaxis\": {\"anchor\": \"y\", \"domain\": [0.0, 1.0], \"title\": {\"text\": \"Quantity\"}}, \"yaxis\": {\"anchor\": \"x\", \"domain\": [0.0, 1.0], \"title\": {\"text\": \"UnitPrice\"}}},\n",
       "                        {\"responsive\": true}\n",
       "                    ).then(function(){\n",
       "                            \n",
       "var gd = document.getElementById('0328bdda-17e7-4c25-936b-56b0a51208d8');\n",
       "var x = new MutationObserver(function (mutations, observer) {{\n",
       "        var display = window.getComputedStyle(gd).display;\n",
       "        if (!display || display === 'none') {{\n",
       "            console.log([gd, 'removed!']);\n",
       "            Plotly.purge(gd);\n",
       "            observer.disconnect();\n",
       "        }}\n",
       "}});\n",
       "\n",
       "// Listen for the removal of the full notebook cells\n",
       "var notebookContainer = gd.closest('#notebook-container');\n",
       "if (notebookContainer) {{\n",
       "    x.observe(notebookContainer, {childList: true});\n",
       "}}\n",
       "\n",
       "// Listen for the clearing of the current output cell\n",
       "var outputEl = gd.closest('.output');\n",
       "if (outputEl) {{\n",
       "    x.observe(outputEl, {childList: true});\n",
       "}}\n",
       "\n",
       "                        })\n",
       "                };\n",
       "                });\n",
       "            </script>\n",
       "        </div>"
      ]
     },
     "metadata": {},
     "output_type": "display_data"
    }
   ],
   "source": [
    "filtro3 = data[(data['Description']=='PARTY BUNTING')]\n",
    "filtro3 = filtro3.groupby('Country').agg({'Quantity':'mean','UnitPrice':'mean'}).reset_index()\n",
    "import plotly.express as px\n",
    "df = px.data.iris()\n",
    "fig = px.scatter(filtro3, x=\"Quantity\", y=\"UnitPrice\", color=\"Country\")\n",
    "fig.show()"
   ]
  },
  {
   "cell_type": "markdown",
   "metadata": {},
   "source": [
    "## 4. Create a set of interactive histograms showing the distributions of quantity per invoice for the following countries: EIRE, Germany, France, and Netherlands."
   ]
  },
  {
   "cell_type": "code",
   "execution_count": 21,
   "metadata": {},
   "outputs": [
    {
     "data": {
      "application/vnd.plotly.v1+json": {
       "config": {
        "plotlyServerURL": "https://plot.ly"
       },
       "data": [
        {
         "alignmentgroup": "True",
         "bingroup": "x",
         "hoverlabel": {
          "namelength": 0
         },
         "hovertemplate": "Country=EIRE<br>Quantity=%{x}<br>count of InvoiceNo=%{y}",
         "legendgroup": "EIRE",
         "marker": {
          "color": "#636efa"
         },
         "name": "EIRE",
         "offsetgroup": "EIRE",
         "orientation": "v",
         "showlegend": true,
         "type": "histogram",
         "x": [
          230,
          12,
          6,
          1548,
          827,
          134,
          475,
          3,
          287,
          379,
          358,
          373,
          154,
          344,
          107,
          84,
          6198,
          286,
          1332,
          46,
          690,
          154,
          463,
          270,
          74,
          939,
          470,
          1932,
          86,
          60,
          668,
          669,
          263,
          593,
          263,
          2826,
          108,
          218,
          206,
          498,
          230,
          511,
          328,
          335,
          416,
          265,
          72,
          113,
          533,
          744,
          44,
          713,
          1162,
          76,
          655,
          271,
          118,
          477,
          112,
          150,
          233,
          162,
          297,
          235,
          192,
          1694,
          446,
          138,
          526,
          543,
          711,
          494,
          636,
          112,
          284,
          225,
          401,
          304,
          4,
          4,
          404,
          191,
          2090,
          492,
          244,
          261,
          427,
          2642,
          384,
          268,
          355,
          83,
          48,
          308,
          280,
          186,
          1,
          571,
          48,
          314,
          79,
          2086,
          17,
          394,
          81,
          18,
          697,
          20,
          688,
          177,
          1202,
          5726,
          496,
          762,
          256,
          269,
          228,
          146,
          251,
          602,
          55,
          362,
          2270,
          286,
          1410,
          5246,
          2270,
          744,
          603,
          391,
          314,
          872,
          554,
          491,
          579,
          579,
          12,
          38,
          644,
          147,
          572,
          276,
          1776,
          408,
          163,
          1272,
          5034,
          456,
          1145,
          140,
          417,
          331,
          942,
          185,
          734,
          225,
          84,
          166,
          615,
          342,
          93,
          132,
          670,
          5,
          717,
          1242,
          223,
          256,
          202,
          549,
          70,
          333,
          58,
          16,
          2720,
          385,
          18,
          228,
          448,
          360,
          646,
          12,
          85,
          416,
          1704,
          46,
          75,
          510,
          2,
          406,
          352,
          668,
          456,
          66,
          599,
          223,
          572,
          36,
          283,
          342,
          711,
          4462,
          490,
          414,
          487,
          220,
          184,
          391,
          624,
          270,
          324,
          29,
          334,
          78,
          580,
          496,
          152,
          840,
          258,
          1200,
          945,
          205,
          533,
          198,
          52,
          226,
          194,
          2900,
          147,
          248,
          383,
          296,
          440,
          12,
          614,
          870,
          238,
          375,
          59,
          142,
          91,
          225,
          605,
          340,
          99,
          354,
          132,
          131,
          256,
          534,
          184,
          34,
          817,
          609,
          572,
          806
         ],
         "xaxis": "x",
         "y": [
          536540,
          536541,
          536803,
          536890,
          536975,
          537368,
          537378,
          537386,
          538009,
          538255,
          539320,
          539421,
          539473,
          539722,
          539984,
          540547,
          541220,
          541434,
          541670,
          541979,
          542216,
          542278,
          542777,
          543114,
          543178,
          543828,
          544074,
          544075,
          544210,
          544390,
          544690,
          545320,
          545634,
          545657,
          546172,
          546212,
          546213,
          546263,
          546509,
          546520,
          546541,
          546569,
          546580,
          546660,
          546861,
          546917,
          547048,
          547702,
          547789,
          547882,
          548449,
          548664,
          548718,
          548858,
          549118,
          549196,
          549242,
          549667,
          549721,
          550302,
          550618,
          551187,
          551656,
          551657,
          551950,
          552038,
          552262,
          553203,
          553206,
          553210,
          553348,
          553375,
          553686,
          553897,
          553901,
          553931,
          554139,
          554770,
          554776,
          554791,
          555650,
          555858,
          555947,
          556060,
          556126,
          556206,
          556510,
          556927,
          556928,
          556953,
          557136,
          557318,
          557605,
          557742,
          557759,
          557872,
          557880,
          558067,
          558069,
          558113,
          558114,
          558417,
          558431,
          558613,
          558640,
          558644,
          558684,
          559010,
          560036,
          560041,
          560300,
          560445,
          560446,
          560451,
          560534,
          560894,
          560916,
          560922,
          561257,
          561471,
          561472,
          561631,
          561645,
          561798,
          561870,
          561901,
          562374,
          562560,
          562670,
          562935,
          562960,
          562973,
          563098,
          563169,
          563355,
          563558,
          563559,
          563685,
          563848,
          563913,
          564565,
          564654,
          565213,
          565214,
          565289,
          565412,
          565475,
          565476,
          565748,
          565749,
          565800,
          565851,
          565857,
          565916,
          566625,
          566776,
          566846,
          567334,
          567378,
          567428,
          567616,
          567720,
          567899,
          567900,
          568048,
          568095,
          568221,
          568310,
          568417,
          568654,
          568656,
          568698,
          568706,
          568707,
          569010,
          569028,
          569130,
          569739,
          570016,
          570253,
          570388,
          570485,
          570651,
          570657,
          570674,
          570694,
          570700,
          570703,
          570706,
          570839,
          571129,
          571313,
          571314,
          571377,
          571409,
          571425,
          571446,
          571447,
          571559,
          571562,
          571745,
          571937,
          572069,
          572124,
          572127,
          572459,
          573391,
          573581,
          573748,
          573892,
          574745,
          574841,
          574874,
          574938,
          575486,
          575728,
          575735,
          575751,
          575871,
          575933,
          576051,
          576141,
          576371,
          576595,
          576596,
          576602,
          576603,
          576653,
          576880,
          576899,
          577061,
          577355,
          577479,
          577607,
          577613,
          577850,
          578054,
          578093,
          578105,
          578331,
          578792,
          578994,
          579069,
          579102,
          579539,
          579553,
          579768,
          579910,
          580127,
          580528,
          580555,
          580557,
          581003,
          581006,
          581098,
          581433
         ],
         "yaxis": "y"
        },
        {
         "alignmentgroup": "True",
         "boxpoints": "all",
         "customdata": [
          [
           "EIRE",
           536540,
           230
          ],
          [
           "EIRE",
           536541,
           12
          ],
          [
           "EIRE",
           536803,
           6
          ],
          [
           "EIRE",
           536890,
           1548
          ],
          [
           "EIRE",
           536975,
           827
          ],
          [
           "EIRE",
           537368,
           134
          ],
          [
           "EIRE",
           537378,
           475
          ],
          [
           "EIRE",
           537386,
           3
          ],
          [
           "EIRE",
           538009,
           287
          ],
          [
           "EIRE",
           538255,
           379
          ],
          [
           "EIRE",
           539320,
           358
          ],
          [
           "EIRE",
           539421,
           373
          ],
          [
           "EIRE",
           539473,
           154
          ],
          [
           "EIRE",
           539722,
           344
          ],
          [
           "EIRE",
           539984,
           107
          ],
          [
           "EIRE",
           540547,
           84
          ],
          [
           "EIRE",
           541220,
           6198
          ],
          [
           "EIRE",
           541434,
           286
          ],
          [
           "EIRE",
           541670,
           1332
          ],
          [
           "EIRE",
           541979,
           46
          ],
          [
           "EIRE",
           542216,
           690
          ],
          [
           "EIRE",
           542278,
           154
          ],
          [
           "EIRE",
           542777,
           463
          ],
          [
           "EIRE",
           543114,
           270
          ],
          [
           "EIRE",
           543178,
           74
          ],
          [
           "EIRE",
           543828,
           939
          ],
          [
           "EIRE",
           544074,
           470
          ],
          [
           "EIRE",
           544075,
           1932
          ],
          [
           "EIRE",
           544210,
           86
          ],
          [
           "EIRE",
           544390,
           60
          ],
          [
           "EIRE",
           544690,
           668
          ],
          [
           "EIRE",
           545320,
           669
          ],
          [
           "EIRE",
           545634,
           263
          ],
          [
           "EIRE",
           545657,
           593
          ],
          [
           "EIRE",
           546172,
           263
          ],
          [
           "EIRE",
           546212,
           2826
          ],
          [
           "EIRE",
           546213,
           108
          ],
          [
           "EIRE",
           546263,
           218
          ],
          [
           "EIRE",
           546509,
           206
          ],
          [
           "EIRE",
           546520,
           498
          ],
          [
           "EIRE",
           546541,
           230
          ],
          [
           "EIRE",
           546569,
           511
          ],
          [
           "EIRE",
           546580,
           328
          ],
          [
           "EIRE",
           546660,
           335
          ],
          [
           "EIRE",
           546861,
           416
          ],
          [
           "EIRE",
           546917,
           265
          ],
          [
           "EIRE",
           547048,
           72
          ],
          [
           "EIRE",
           547702,
           113
          ],
          [
           "EIRE",
           547789,
           533
          ],
          [
           "EIRE",
           547882,
           744
          ],
          [
           "EIRE",
           548449,
           44
          ],
          [
           "EIRE",
           548664,
           713
          ],
          [
           "EIRE",
           548718,
           1162
          ],
          [
           "EIRE",
           548858,
           76
          ],
          [
           "EIRE",
           549118,
           655
          ],
          [
           "EIRE",
           549196,
           271
          ],
          [
           "EIRE",
           549242,
           118
          ],
          [
           "EIRE",
           549667,
           477
          ],
          [
           "EIRE",
           549721,
           112
          ],
          [
           "EIRE",
           550302,
           150
          ],
          [
           "EIRE",
           550618,
           233
          ],
          [
           "EIRE",
           551187,
           162
          ],
          [
           "EIRE",
           551656,
           297
          ],
          [
           "EIRE",
           551657,
           235
          ],
          [
           "EIRE",
           551950,
           192
          ],
          [
           "EIRE",
           552038,
           1694
          ],
          [
           "EIRE",
           552262,
           446
          ],
          [
           "EIRE",
           553203,
           138
          ],
          [
           "EIRE",
           553206,
           526
          ],
          [
           "EIRE",
           553210,
           543
          ],
          [
           "EIRE",
           553348,
           711
          ],
          [
           "EIRE",
           553375,
           494
          ],
          [
           "EIRE",
           553686,
           636
          ],
          [
           "EIRE",
           553897,
           112
          ],
          [
           "EIRE",
           553901,
           284
          ],
          [
           "EIRE",
           553931,
           225
          ],
          [
           "EIRE",
           554139,
           401
          ],
          [
           "EIRE",
           554770,
           304
          ],
          [
           "EIRE",
           554776,
           4
          ],
          [
           "EIRE",
           554791,
           4
          ],
          [
           "EIRE",
           555650,
           404
          ],
          [
           "EIRE",
           555858,
           191
          ],
          [
           "EIRE",
           555947,
           2090
          ],
          [
           "EIRE",
           556060,
           492
          ],
          [
           "EIRE",
           556126,
           244
          ],
          [
           "EIRE",
           556206,
           261
          ],
          [
           "EIRE",
           556510,
           427
          ],
          [
           "EIRE",
           556927,
           2642
          ],
          [
           "EIRE",
           556928,
           384
          ],
          [
           "EIRE",
           556953,
           268
          ],
          [
           "EIRE",
           557136,
           355
          ],
          [
           "EIRE",
           557318,
           83
          ],
          [
           "EIRE",
           557605,
           48
          ],
          [
           "EIRE",
           557742,
           308
          ],
          [
           "EIRE",
           557759,
           280
          ],
          [
           "EIRE",
           557872,
           186
          ],
          [
           "EIRE",
           557880,
           1
          ],
          [
           "EIRE",
           558067,
           571
          ],
          [
           "EIRE",
           558069,
           48
          ],
          [
           "EIRE",
           558113,
           314
          ],
          [
           "EIRE",
           558114,
           79
          ],
          [
           "EIRE",
           558417,
           2086
          ],
          [
           "EIRE",
           558431,
           17
          ],
          [
           "EIRE",
           558613,
           394
          ],
          [
           "EIRE",
           558640,
           81
          ],
          [
           "EIRE",
           558644,
           18
          ],
          [
           "EIRE",
           558684,
           697
          ],
          [
           "EIRE",
           559010,
           20
          ],
          [
           "EIRE",
           560036,
           688
          ],
          [
           "EIRE",
           560041,
           177
          ],
          [
           "EIRE",
           560300,
           1202
          ],
          [
           "EIRE",
           560445,
           5726
          ],
          [
           "EIRE",
           560446,
           496
          ],
          [
           "EIRE",
           560451,
           762
          ],
          [
           "EIRE",
           560534,
           256
          ],
          [
           "EIRE",
           560894,
           269
          ],
          [
           "EIRE",
           560916,
           228
          ],
          [
           "EIRE",
           560922,
           146
          ],
          [
           "EIRE",
           561257,
           251
          ],
          [
           "EIRE",
           561471,
           602
          ],
          [
           "EIRE",
           561472,
           55
          ],
          [
           "EIRE",
           561631,
           362
          ],
          [
           "EIRE",
           561645,
           2270
          ],
          [
           "EIRE",
           561798,
           286
          ],
          [
           "EIRE",
           561870,
           1410
          ],
          [
           "EIRE",
           561901,
           5246
          ],
          [
           "EIRE",
           562374,
           2270
          ],
          [
           "EIRE",
           562560,
           744
          ],
          [
           "EIRE",
           562670,
           603
          ],
          [
           "EIRE",
           562935,
           391
          ],
          [
           "EIRE",
           562960,
           314
          ],
          [
           "EIRE",
           562973,
           872
          ],
          [
           "EIRE",
           563098,
           554
          ],
          [
           "EIRE",
           563169,
           491
          ],
          [
           "EIRE",
           563355,
           579
          ],
          [
           "EIRE",
           563558,
           579
          ],
          [
           "EIRE",
           563559,
           12
          ],
          [
           "EIRE",
           563685,
           38
          ],
          [
           "EIRE",
           563848,
           644
          ],
          [
           "EIRE",
           563913,
           147
          ],
          [
           "EIRE",
           564565,
           572
          ],
          [
           "EIRE",
           564654,
           276
          ],
          [
           "EIRE",
           565213,
           1776
          ],
          [
           "EIRE",
           565214,
           408
          ],
          [
           "EIRE",
           565289,
           163
          ],
          [
           "EIRE",
           565412,
           1272
          ],
          [
           "EIRE",
           565475,
           5034
          ],
          [
           "EIRE",
           565476,
           456
          ],
          [
           "EIRE",
           565748,
           1145
          ],
          [
           "EIRE",
           565749,
           140
          ],
          [
           "EIRE",
           565800,
           417
          ],
          [
           "EIRE",
           565851,
           331
          ],
          [
           "EIRE",
           565857,
           942
          ],
          [
           "EIRE",
           565916,
           185
          ],
          [
           "EIRE",
           566625,
           734
          ],
          [
           "EIRE",
           566776,
           225
          ],
          [
           "EIRE",
           566846,
           84
          ],
          [
           "EIRE",
           567334,
           166
          ],
          [
           "EIRE",
           567378,
           615
          ],
          [
           "EIRE",
           567428,
           342
          ],
          [
           "EIRE",
           567616,
           93
          ],
          [
           "EIRE",
           567720,
           132
          ],
          [
           "EIRE",
           567899,
           670
          ],
          [
           "EIRE",
           567900,
           5
          ],
          [
           "EIRE",
           568048,
           717
          ],
          [
           "EIRE",
           568095,
           1242
          ],
          [
           "EIRE",
           568221,
           223
          ],
          [
           "EIRE",
           568310,
           256
          ],
          [
           "EIRE",
           568417,
           202
          ],
          [
           "EIRE",
           568654,
           549
          ],
          [
           "EIRE",
           568656,
           70
          ],
          [
           "EIRE",
           568698,
           333
          ],
          [
           "EIRE",
           568706,
           58
          ],
          [
           "EIRE",
           568707,
           16
          ],
          [
           "EIRE",
           569010,
           2720
          ],
          [
           "EIRE",
           569028,
           385
          ],
          [
           "EIRE",
           569130,
           18
          ],
          [
           "EIRE",
           569739,
           228
          ],
          [
           "EIRE",
           570016,
           448
          ],
          [
           "EIRE",
           570253,
           360
          ],
          [
           "EIRE",
           570388,
           646
          ],
          [
           "EIRE",
           570485,
           12
          ],
          [
           "EIRE",
           570651,
           85
          ],
          [
           "EIRE",
           570657,
           416
          ],
          [
           "EIRE",
           570674,
           1704
          ],
          [
           "EIRE",
           570694,
           46
          ],
          [
           "EIRE",
           570700,
           75
          ],
          [
           "EIRE",
           570703,
           510
          ],
          [
           "EIRE",
           570706,
           2
          ],
          [
           "EIRE",
           570839,
           406
          ],
          [
           "EIRE",
           571129,
           352
          ],
          [
           "EIRE",
           571313,
           668
          ],
          [
           "EIRE",
           571314,
           456
          ],
          [
           "EIRE",
           571377,
           66
          ],
          [
           "EIRE",
           571409,
           599
          ],
          [
           "EIRE",
           571425,
           223
          ],
          [
           "EIRE",
           571446,
           572
          ],
          [
           "EIRE",
           571447,
           36
          ],
          [
           "EIRE",
           571559,
           283
          ],
          [
           "EIRE",
           571562,
           342
          ],
          [
           "EIRE",
           571745,
           711
          ],
          [
           "EIRE",
           571937,
           4462
          ],
          [
           "EIRE",
           572069,
           490
          ],
          [
           "EIRE",
           572124,
           414
          ],
          [
           "EIRE",
           572127,
           487
          ],
          [
           "EIRE",
           572459,
           220
          ],
          [
           "EIRE",
           573391,
           184
          ],
          [
           "EIRE",
           573581,
           391
          ],
          [
           "EIRE",
           573748,
           624
          ],
          [
           "EIRE",
           573892,
           270
          ],
          [
           "EIRE",
           574745,
           324
          ],
          [
           "EIRE",
           574841,
           29
          ],
          [
           "EIRE",
           574874,
           334
          ],
          [
           "EIRE",
           574938,
           78
          ],
          [
           "EIRE",
           575486,
           580
          ],
          [
           "EIRE",
           575728,
           496
          ],
          [
           "EIRE",
           575735,
           152
          ],
          [
           "EIRE",
           575751,
           840
          ],
          [
           "EIRE",
           575871,
           258
          ],
          [
           "EIRE",
           575933,
           1200
          ],
          [
           "EIRE",
           576051,
           945
          ],
          [
           "EIRE",
           576141,
           205
          ],
          [
           "EIRE",
           576371,
           533
          ],
          [
           "EIRE",
           576595,
           198
          ],
          [
           "EIRE",
           576596,
           52
          ],
          [
           "EIRE",
           576602,
           226
          ],
          [
           "EIRE",
           576603,
           194
          ],
          [
           "EIRE",
           576653,
           2900
          ],
          [
           "EIRE",
           576880,
           147
          ],
          [
           "EIRE",
           576899,
           248
          ],
          [
           "EIRE",
           577061,
           383
          ],
          [
           "EIRE",
           577355,
           296
          ],
          [
           "EIRE",
           577479,
           440
          ],
          [
           "EIRE",
           577607,
           12
          ],
          [
           "EIRE",
           577613,
           614
          ],
          [
           "EIRE",
           577850,
           870
          ],
          [
           "EIRE",
           578054,
           238
          ],
          [
           "EIRE",
           578093,
           375
          ],
          [
           "EIRE",
           578105,
           59
          ],
          [
           "EIRE",
           578331,
           142
          ],
          [
           "EIRE",
           578792,
           91
          ],
          [
           "EIRE",
           578994,
           225
          ],
          [
           "EIRE",
           579069,
           605
          ],
          [
           "EIRE",
           579102,
           340
          ],
          [
           "EIRE",
           579539,
           99
          ],
          [
           "EIRE",
           579553,
           354
          ],
          [
           "EIRE",
           579768,
           132
          ],
          [
           "EIRE",
           579910,
           131
          ],
          [
           "EIRE",
           580127,
           256
          ],
          [
           "EIRE",
           580528,
           534
          ],
          [
           "EIRE",
           580555,
           184
          ],
          [
           "EIRE",
           580557,
           34
          ],
          [
           "EIRE",
           581003,
           817
          ],
          [
           "EIRE",
           581006,
           609
          ],
          [
           "EIRE",
           581098,
           572
          ],
          [
           "EIRE",
           581433,
           806
          ]
         ],
         "fillcolor": "rgba(255,255,255,0)",
         "hoverlabel": {
          "namelength": 0
         },
         "hoveron": "points",
         "hovertemplate": "Country=%{customdata[0]}<br>Quantity=%{customdata[2]}<br>InvoiceNo=%{customdata[1]}",
         "jitter": 0,
         "legendgroup": "EIRE",
         "line": {
          "color": "rgba(255,255,255,0)"
         },
         "marker": {
          "color": "#636efa",
          "symbol": "line-ns-open"
         },
         "name": "EIRE",
         "offsetgroup": "EIRE",
         "showlegend": false,
         "type": "box",
         "x": [
          230,
          12,
          6,
          1548,
          827,
          134,
          475,
          3,
          287,
          379,
          358,
          373,
          154,
          344,
          107,
          84,
          6198,
          286,
          1332,
          46,
          690,
          154,
          463,
          270,
          74,
          939,
          470,
          1932,
          86,
          60,
          668,
          669,
          263,
          593,
          263,
          2826,
          108,
          218,
          206,
          498,
          230,
          511,
          328,
          335,
          416,
          265,
          72,
          113,
          533,
          744,
          44,
          713,
          1162,
          76,
          655,
          271,
          118,
          477,
          112,
          150,
          233,
          162,
          297,
          235,
          192,
          1694,
          446,
          138,
          526,
          543,
          711,
          494,
          636,
          112,
          284,
          225,
          401,
          304,
          4,
          4,
          404,
          191,
          2090,
          492,
          244,
          261,
          427,
          2642,
          384,
          268,
          355,
          83,
          48,
          308,
          280,
          186,
          1,
          571,
          48,
          314,
          79,
          2086,
          17,
          394,
          81,
          18,
          697,
          20,
          688,
          177,
          1202,
          5726,
          496,
          762,
          256,
          269,
          228,
          146,
          251,
          602,
          55,
          362,
          2270,
          286,
          1410,
          5246,
          2270,
          744,
          603,
          391,
          314,
          872,
          554,
          491,
          579,
          579,
          12,
          38,
          644,
          147,
          572,
          276,
          1776,
          408,
          163,
          1272,
          5034,
          456,
          1145,
          140,
          417,
          331,
          942,
          185,
          734,
          225,
          84,
          166,
          615,
          342,
          93,
          132,
          670,
          5,
          717,
          1242,
          223,
          256,
          202,
          549,
          70,
          333,
          58,
          16,
          2720,
          385,
          18,
          228,
          448,
          360,
          646,
          12,
          85,
          416,
          1704,
          46,
          75,
          510,
          2,
          406,
          352,
          668,
          456,
          66,
          599,
          223,
          572,
          36,
          283,
          342,
          711,
          4462,
          490,
          414,
          487,
          220,
          184,
          391,
          624,
          270,
          324,
          29,
          334,
          78,
          580,
          496,
          152,
          840,
          258,
          1200,
          945,
          205,
          533,
          198,
          52,
          226,
          194,
          2900,
          147,
          248,
          383,
          296,
          440,
          12,
          614,
          870,
          238,
          375,
          59,
          142,
          91,
          225,
          605,
          340,
          99,
          354,
          132,
          131,
          256,
          534,
          184,
          34,
          817,
          609,
          572,
          806
         ],
         "xaxis": "x2",
         "yaxis": "y2"
        },
        {
         "alignmentgroup": "True",
         "bingroup": "x",
         "hoverlabel": {
          "namelength": 0
         },
         "hovertemplate": "Country=France<br>Quantity=%{x}<br>count of InvoiceNo=%{y}",
         "legendgroup": "France",
         "marker": {
          "color": "#EF553B"
         },
         "name": "France",
         "offsetgroup": "France",
         "orientation": "v",
         "showlegend": true,
         "type": "histogram",
         "x": [
          446,
          106,
          130,
          602,
          581,
          164,
          120,
          106,
          8,
          552,
          339,
          410,
          134,
          3,
          332,
          64,
          128,
          599,
          24,
          88,
          359,
          369,
          261,
          177,
          488,
          103,
          78,
          628,
          168,
          576,
          120,
          114,
          43,
          131,
          498,
          543,
          78,
          440,
          263,
          383,
          702,
          120,
          84,
          59,
          406,
          102,
          1617,
          202,
          197,
          159,
          206,
          611,
          214,
          298,
          452,
          96,
          772,
          114,
          748,
          15,
          256,
          77,
          264,
          96,
          70,
          213,
          310,
          72,
          54,
          245,
          329,
          314,
          24,
          123,
          323,
          183,
          184,
          314,
          97,
          62,
          422,
          85,
          5,
          198,
          136,
          713,
          242,
          130,
          261,
          59,
          842,
          946,
          132,
          2271,
          88,
          240,
          293,
          236,
          284,
          375,
          25,
          196,
          23,
          275,
          84,
          146,
          368,
          350,
          6,
          120,
          192,
          98,
          773,
          162,
          332,
          458,
          859,
          734,
          105,
          202,
          33,
          267,
          140,
          220,
          58,
          476,
          103,
          152,
          72,
          434,
          126,
          464,
          229,
          62,
          304,
          208,
          180,
          180,
          374,
          86,
          424,
          155,
          200,
          1184,
          347,
          358,
          115,
          216,
          216,
          464,
          444,
          320,
          460,
          160,
          714,
          549,
          110,
          232,
          356,
          170,
          139,
          206,
          267,
          514,
          62,
          50,
          208,
          350,
          270,
          384,
          410,
          118,
          108,
          284,
          78,
          256,
          321,
          592,
          322,
          135,
          198,
          236,
          48,
          76,
          262,
          156,
          116,
          666,
          46,
          82,
          838,
          32,
          234,
          147,
          500,
          52,
          690,
          279,
          320,
          162,
          197,
          178,
          3,
          603,
          400,
          231,
          228,
          459,
          33,
          234,
          54,
          402,
          105,
          139,
          784,
          170,
          204,
          145,
          688,
          820,
          120,
          198,
          270,
          98,
          54,
          506,
          142,
          184,
          265,
          646,
          719,
          644,
          209,
          104,
          292,
          719,
          42,
          72,
          436,
          1060,
          164,
          6,
          228,
          241,
          177,
          189,
          306,
          274,
          416,
          64,
          63,
          484,
          255,
          172,
          282,
          475,
          169,
          111,
          64,
          265,
          335,
          162,
          201,
          286,
          710,
          173,
          183,
          156,
          80,
          34,
          885,
          160,
          188,
          2,
          29,
          184,
          342,
          60,
          158,
          2801,
          162,
          72,
          98,
          218,
          100,
          122,
          232,
          566,
          165,
          524,
          136,
          297,
          48,
          76,
          5202,
          36,
          5,
          208,
          326,
          90,
          344,
          258,
          421,
          288,
          567,
          373,
          92,
          304,
          33,
          406,
          459,
          341,
          151,
          183,
          104,
          100,
          206,
          213,
          330,
          203,
          220,
          336,
          760,
          200,
          96,
          69,
          343,
          320,
          222,
          36,
          439,
          24,
          662,
          108,
          766,
          210,
          510,
          298,
          154,
          92,
          221,
          77,
          268,
          182,
          171,
          212,
          7,
          132,
          825,
          439,
          310,
          68,
          126,
          386,
          386,
          338,
          300,
          267,
          147,
          236,
          806,
          97,
          168,
          320,
          84,
          694,
          14,
          210,
          74,
          252,
          467,
          203,
          300,
          24,
          250,
          309,
          247,
          18,
          105
         ],
         "xaxis": "x",
         "y": [
          536370,
          536852,
          536974,
          537065,
          537463,
          537468,
          537693,
          537897,
          537967,
          538008,
          538093,
          538196,
          539050,
          539113,
          539407,
          539435,
          539551,
          539607,
          539727,
          539829,
          540178,
          540239,
          540351,
          540365,
          540455,
          540463,
          540521,
          540642,
          540688,
          540789,
          540824,
          540835,
          540851,
          540972,
          540976,
          541120,
          541121,
          541138,
          541405,
          541567,
          541631,
          541857,
          541981,
          542425,
          542433,
          542535,
          542629,
          542735,
          542904,
          542922,
          543030,
          543188,
          543459,
          543484,
          543625,
          544069,
          544115,
          544200,
          544355,
          544423,
          544470,
          544585,
          544817,
          544818,
          545051,
          545086,
          545105,
          545180,
          545181,
          545235,
          545301,
          545515,
          545517,
          545583,
          546373,
          546428,
          546479,
          546678,
          546765,
          546770,
          547087,
          547194,
          547196,
          547327,
          547492,
          547504,
          547508,
          547520,
          547722,
          547863,
          547892,
          548409,
          548410,
          548496,
          548553,
          548606,
          548737,
          549274,
          550145,
          550313,
          550338,
          550661,
          550821,
          550827,
          551163,
          551389,
          551539,
          551544,
          551545,
          551649,
          551652,
          551887,
          552315,
          552325,
          552464,
          552631,
          552826,
          552851,
          552946,
          553044,
          553143,
          553161,
          553195,
          553208,
          553316,
          553411,
          553566,
          553577,
          553666,
          553838,
          553843,
          553997,
          554097,
          554109,
          554134,
          554356,
          554555,
          554648,
          554650,
          554826,
          554840,
          554940,
          555096,
          555531,
          555547,
          555569,
          555637,
          555933,
          555936,
          555937,
          555941,
          556258,
          556259,
          556305,
          556463,
          556507,
          556526,
          556529,
          556816,
          556819,
          556820,
          556886,
          557069,
          557247,
          557295,
          557483,
          557489,
          557627,
          557669,
          557734,
          558045,
          558124,
          558334,
          558687,
          558699,
          558813,
          559036,
          559134,
          559418,
          559422,
          559441,
          559607,
          559685,
          559699,
          559704,
          559782,
          559819,
          559889,
          560272,
          560363,
          560398,
          560452,
          561029,
          561470,
          561795,
          562039,
          562207,
          562275,
          562450,
          562520,
          562894,
          563189,
          563202,
          563288,
          563502,
          563662,
          563712,
          563753,
          563897,
          563926,
          564159,
          564173,
          564226,
          564314,
          564372,
          564471,
          564479,
          564531,
          564670,
          564897,
          564906,
          564912,
          565239,
          565321,
          565322,
          565443,
          565587,
          565612,
          565801,
          565854,
          565865,
          565930,
          565931,
          566074,
          566115,
          566163,
          566256,
          566492,
          566736,
          566816,
          566873,
          566918,
          567191,
          567293,
          567296,
          567300,
          567380,
          567552,
          567618,
          567640,
          567657,
          567756,
          567793,
          567910,
          567915,
          568040,
          568137,
          568176,
          568518,
          568645,
          568798,
          568953,
          568988,
          568994,
          569097,
          569120,
          569122,
          569332,
          569402,
          569531,
          569568,
          569686,
          569699,
          569701,
          569921,
          570020,
          570030,
          570267,
          570409,
          570672,
          570724,
          570798,
          570823,
          570841,
          570851,
          570879,
          571240,
          571864,
          571923,
          572087,
          572925,
          572986,
          572992,
          573036,
          573153,
          573273,
          573316,
          573402,
          573428,
          573442,
          573867,
          573868,
          573891,
          574068,
          574093,
          574104,
          574252,
          574501,
          574506,
          575049,
          575067,
          575193,
          575326,
          575519,
          575581,
          575584,
          575629,
          575661,
          575671,
          575692,
          575747,
          575845,
          575880,
          575884,
          575916,
          576064,
          576087,
          576222,
          576245,
          576373,
          576399,
          576669,
          576672,
          576894,
          576927,
          576941,
          577121,
          577152,
          577295,
          577344,
          577502,
          577512,
          577687,
          577856,
          578033,
          578277,
          578287,
          578348,
          578541,
          578698,
          578736,
          578835,
          579153,
          579190,
          579193,
          579345,
          579492,
          579529,
          579634,
          579708,
          579792,
          579870,
          580120,
          580126,
          580144,
          580160,
          580285,
          580509,
          580534,
          580536,
          580705,
          580736,
          580753,
          580756,
          580986,
          581001,
          581171,
          581279,
          581587
         ],
         "yaxis": "y"
        },
        {
         "alignmentgroup": "True",
         "boxpoints": "all",
         "customdata": [
          [
           "France",
           536370,
           446
          ],
          [
           "France",
           536852,
           106
          ],
          [
           "France",
           536974,
           130
          ],
          [
           "France",
           537065,
           602
          ],
          [
           "France",
           537463,
           581
          ],
          [
           "France",
           537468,
           164
          ],
          [
           "France",
           537693,
           120
          ],
          [
           "France",
           537897,
           106
          ],
          [
           "France",
           537967,
           8
          ],
          [
           "France",
           538008,
           552
          ],
          [
           "France",
           538093,
           339
          ],
          [
           "France",
           538196,
           410
          ],
          [
           "France",
           539050,
           134
          ],
          [
           "France",
           539113,
           3
          ],
          [
           "France",
           539407,
           332
          ],
          [
           "France",
           539435,
           64
          ],
          [
           "France",
           539551,
           128
          ],
          [
           "France",
           539607,
           599
          ],
          [
           "France",
           539727,
           24
          ],
          [
           "France",
           539829,
           88
          ],
          [
           "France",
           540178,
           359
          ],
          [
           "France",
           540239,
           369
          ],
          [
           "France",
           540351,
           261
          ],
          [
           "France",
           540365,
           177
          ],
          [
           "France",
           540455,
           488
          ],
          [
           "France",
           540463,
           103
          ],
          [
           "France",
           540521,
           78
          ],
          [
           "France",
           540642,
           628
          ],
          [
           "France",
           540688,
           168
          ],
          [
           "France",
           540789,
           576
          ],
          [
           "France",
           540824,
           120
          ],
          [
           "France",
           540835,
           114
          ],
          [
           "France",
           540851,
           43
          ],
          [
           "France",
           540972,
           131
          ],
          [
           "France",
           540976,
           498
          ],
          [
           "France",
           541120,
           543
          ],
          [
           "France",
           541121,
           78
          ],
          [
           "France",
           541138,
           440
          ],
          [
           "France",
           541405,
           263
          ],
          [
           "France",
           541567,
           383
          ],
          [
           "France",
           541631,
           702
          ],
          [
           "France",
           541857,
           120
          ],
          [
           "France",
           541981,
           84
          ],
          [
           "France",
           542425,
           59
          ],
          [
           "France",
           542433,
           406
          ],
          [
           "France",
           542535,
           102
          ],
          [
           "France",
           542629,
           1617
          ],
          [
           "France",
           542735,
           202
          ],
          [
           "France",
           542904,
           197
          ],
          [
           "France",
           542922,
           159
          ],
          [
           "France",
           543030,
           206
          ],
          [
           "France",
           543188,
           611
          ],
          [
           "France",
           543459,
           214
          ],
          [
           "France",
           543484,
           298
          ],
          [
           "France",
           543625,
           452
          ],
          [
           "France",
           544069,
           96
          ],
          [
           "France",
           544115,
           772
          ],
          [
           "France",
           544200,
           114
          ],
          [
           "France",
           544355,
           748
          ],
          [
           "France",
           544423,
           15
          ],
          [
           "France",
           544470,
           256
          ],
          [
           "France",
           544585,
           77
          ],
          [
           "France",
           544817,
           264
          ],
          [
           "France",
           544818,
           96
          ],
          [
           "France",
           545051,
           70
          ],
          [
           "France",
           545086,
           213
          ],
          [
           "France",
           545105,
           310
          ],
          [
           "France",
           545180,
           72
          ],
          [
           "France",
           545181,
           54
          ],
          [
           "France",
           545235,
           245
          ],
          [
           "France",
           545301,
           329
          ],
          [
           "France",
           545515,
           314
          ],
          [
           "France",
           545517,
           24
          ],
          [
           "France",
           545583,
           123
          ],
          [
           "France",
           546373,
           323
          ],
          [
           "France",
           546428,
           183
          ],
          [
           "France",
           546479,
           184
          ],
          [
           "France",
           546678,
           314
          ],
          [
           "France",
           546765,
           97
          ],
          [
           "France",
           546770,
           62
          ],
          [
           "France",
           547087,
           422
          ],
          [
           "France",
           547194,
           85
          ],
          [
           "France",
           547196,
           5
          ],
          [
           "France",
           547327,
           198
          ],
          [
           "France",
           547492,
           136
          ],
          [
           "France",
           547504,
           713
          ],
          [
           "France",
           547508,
           242
          ],
          [
           "France",
           547520,
           130
          ],
          [
           "France",
           547722,
           261
          ],
          [
           "France",
           547863,
           59
          ],
          [
           "France",
           547892,
           842
          ],
          [
           "France",
           548409,
           946
          ],
          [
           "France",
           548410,
           132
          ],
          [
           "France",
           548496,
           2271
          ],
          [
           "France",
           548553,
           88
          ],
          [
           "France",
           548606,
           240
          ],
          [
           "France",
           548737,
           293
          ],
          [
           "France",
           549274,
           236
          ],
          [
           "France",
           550145,
           284
          ],
          [
           "France",
           550313,
           375
          ],
          [
           "France",
           550338,
           25
          ],
          [
           "France",
           550661,
           196
          ],
          [
           "France",
           550821,
           23
          ],
          [
           "France",
           550827,
           275
          ],
          [
           "France",
           551163,
           84
          ],
          [
           "France",
           551389,
           146
          ],
          [
           "France",
           551539,
           368
          ],
          [
           "France",
           551544,
           350
          ],
          [
           "France",
           551545,
           6
          ],
          [
           "France",
           551649,
           120
          ],
          [
           "France",
           551652,
           192
          ],
          [
           "France",
           551887,
           98
          ],
          [
           "France",
           552315,
           773
          ],
          [
           "France",
           552325,
           162
          ],
          [
           "France",
           552464,
           332
          ],
          [
           "France",
           552631,
           458
          ],
          [
           "France",
           552826,
           859
          ],
          [
           "France",
           552851,
           734
          ],
          [
           "France",
           552946,
           105
          ],
          [
           "France",
           553044,
           202
          ],
          [
           "France",
           553143,
           33
          ],
          [
           "France",
           553161,
           267
          ],
          [
           "France",
           553195,
           140
          ],
          [
           "France",
           553208,
           220
          ],
          [
           "France",
           553316,
           58
          ],
          [
           "France",
           553411,
           476
          ],
          [
           "France",
           553566,
           103
          ],
          [
           "France",
           553577,
           152
          ],
          [
           "France",
           553666,
           72
          ],
          [
           "France",
           553838,
           434
          ],
          [
           "France",
           553843,
           126
          ],
          [
           "France",
           553997,
           464
          ],
          [
           "France",
           554097,
           229
          ],
          [
           "France",
           554109,
           62
          ],
          [
           "France",
           554134,
           304
          ],
          [
           "France",
           554356,
           208
          ],
          [
           "France",
           554555,
           180
          ],
          [
           "France",
           554648,
           180
          ],
          [
           "France",
           554650,
           374
          ],
          [
           "France",
           554826,
           86
          ],
          [
           "France",
           554840,
           424
          ],
          [
           "France",
           554940,
           155
          ],
          [
           "France",
           555096,
           200
          ],
          [
           "France",
           555531,
           1184
          ],
          [
           "France",
           555547,
           347
          ],
          [
           "France",
           555569,
           358
          ],
          [
           "France",
           555637,
           115
          ],
          [
           "France",
           555933,
           216
          ],
          [
           "France",
           555936,
           216
          ],
          [
           "France",
           555937,
           464
          ],
          [
           "France",
           555941,
           444
          ],
          [
           "France",
           556258,
           320
          ],
          [
           "France",
           556259,
           460
          ],
          [
           "France",
           556305,
           160
          ],
          [
           "France",
           556463,
           714
          ],
          [
           "France",
           556507,
           549
          ],
          [
           "France",
           556526,
           110
          ],
          [
           "France",
           556529,
           232
          ],
          [
           "France",
           556816,
           356
          ],
          [
           "France",
           556819,
           170
          ],
          [
           "France",
           556820,
           139
          ],
          [
           "France",
           556886,
           206
          ],
          [
           "France",
           557069,
           267
          ],
          [
           "France",
           557247,
           514
          ],
          [
           "France",
           557295,
           62
          ],
          [
           "France",
           557483,
           50
          ],
          [
           "France",
           557489,
           208
          ],
          [
           "France",
           557627,
           350
          ],
          [
           "France",
           557669,
           270
          ],
          [
           "France",
           557734,
           384
          ],
          [
           "France",
           558045,
           410
          ],
          [
           "France",
           558124,
           118
          ],
          [
           "France",
           558334,
           108
          ],
          [
           "France",
           558687,
           284
          ],
          [
           "France",
           558699,
           78
          ],
          [
           "France",
           558813,
           256
          ],
          [
           "France",
           559036,
           321
          ],
          [
           "France",
           559134,
           592
          ],
          [
           "France",
           559418,
           322
          ],
          [
           "France",
           559422,
           135
          ],
          [
           "France",
           559441,
           198
          ],
          [
           "France",
           559607,
           236
          ],
          [
           "France",
           559685,
           48
          ],
          [
           "France",
           559699,
           76
          ],
          [
           "France",
           559704,
           262
          ],
          [
           "France",
           559782,
           156
          ],
          [
           "France",
           559819,
           116
          ],
          [
           "France",
           559889,
           666
          ],
          [
           "France",
           560272,
           46
          ],
          [
           "France",
           560363,
           82
          ],
          [
           "France",
           560398,
           838
          ],
          [
           "France",
           560452,
           32
          ],
          [
           "France",
           561029,
           234
          ],
          [
           "France",
           561470,
           147
          ],
          [
           "France",
           561795,
           500
          ],
          [
           "France",
           562039,
           52
          ],
          [
           "France",
           562207,
           690
          ],
          [
           "France",
           562275,
           279
          ],
          [
           "France",
           562450,
           320
          ],
          [
           "France",
           562520,
           162
          ],
          [
           "France",
           562894,
           197
          ],
          [
           "France",
           563189,
           178
          ],
          [
           "France",
           563202,
           3
          ],
          [
           "France",
           563288,
           603
          ],
          [
           "France",
           563502,
           400
          ],
          [
           "France",
           563662,
           231
          ],
          [
           "France",
           563712,
           228
          ],
          [
           "France",
           563753,
           459
          ],
          [
           "France",
           563897,
           33
          ],
          [
           "France",
           563926,
           234
          ],
          [
           "France",
           564159,
           54
          ],
          [
           "France",
           564173,
           402
          ],
          [
           "France",
           564226,
           105
          ],
          [
           "France",
           564314,
           139
          ],
          [
           "France",
           564372,
           784
          ],
          [
           "France",
           564471,
           170
          ],
          [
           "France",
           564479,
           204
          ],
          [
           "France",
           564531,
           145
          ],
          [
           "France",
           564670,
           688
          ],
          [
           "France",
           564897,
           820
          ],
          [
           "France",
           564906,
           120
          ],
          [
           "France",
           564912,
           198
          ],
          [
           "France",
           565239,
           270
          ],
          [
           "France",
           565321,
           98
          ],
          [
           "France",
           565322,
           54
          ],
          [
           "France",
           565443,
           506
          ],
          [
           "France",
           565587,
           142
          ],
          [
           "France",
           565612,
           184
          ],
          [
           "France",
           565801,
           265
          ],
          [
           "France",
           565854,
           646
          ],
          [
           "France",
           565865,
           719
          ],
          [
           "France",
           565930,
           644
          ],
          [
           "France",
           565931,
           209
          ],
          [
           "France",
           566074,
           104
          ],
          [
           "France",
           566115,
           292
          ],
          [
           "France",
           566163,
           719
          ],
          [
           "France",
           566256,
           42
          ],
          [
           "France",
           566492,
           72
          ],
          [
           "France",
           566736,
           436
          ],
          [
           "France",
           566816,
           1060
          ],
          [
           "France",
           566873,
           164
          ],
          [
           "France",
           566918,
           6
          ],
          [
           "France",
           567191,
           228
          ],
          [
           "France",
           567293,
           241
          ],
          [
           "France",
           567296,
           177
          ],
          [
           "France",
           567300,
           189
          ],
          [
           "France",
           567380,
           306
          ],
          [
           "France",
           567552,
           274
          ],
          [
           "France",
           567618,
           416
          ],
          [
           "France",
           567640,
           64
          ],
          [
           "France",
           567657,
           63
          ],
          [
           "France",
           567756,
           484
          ],
          [
           "France",
           567793,
           255
          ],
          [
           "France",
           567910,
           172
          ],
          [
           "France",
           567915,
           282
          ],
          [
           "France",
           568040,
           475
          ],
          [
           "France",
           568137,
           169
          ],
          [
           "France",
           568176,
           111
          ],
          [
           "France",
           568518,
           64
          ],
          [
           "France",
           568645,
           265
          ],
          [
           "France",
           568798,
           335
          ],
          [
           "France",
           568953,
           162
          ],
          [
           "France",
           568988,
           201
          ],
          [
           "France",
           568994,
           286
          ],
          [
           "France",
           569097,
           710
          ],
          [
           "France",
           569120,
           173
          ],
          [
           "France",
           569122,
           183
          ],
          [
           "France",
           569332,
           156
          ],
          [
           "France",
           569402,
           80
          ],
          [
           "France",
           569531,
           34
          ],
          [
           "France",
           569568,
           885
          ],
          [
           "France",
           569686,
           160
          ],
          [
           "France",
           569699,
           188
          ],
          [
           "France",
           569701,
           2
          ],
          [
           "France",
           569921,
           29
          ],
          [
           "France",
           570020,
           184
          ],
          [
           "France",
           570030,
           342
          ],
          [
           "France",
           570267,
           60
          ],
          [
           "France",
           570409,
           158
          ],
          [
           "France",
           570672,
           2801
          ],
          [
           "France",
           570724,
           162
          ],
          [
           "France",
           570798,
           72
          ],
          [
           "France",
           570823,
           98
          ],
          [
           "France",
           570841,
           218
          ],
          [
           "France",
           570851,
           100
          ],
          [
           "France",
           570879,
           122
          ],
          [
           "France",
           571240,
           232
          ],
          [
           "France",
           571864,
           566
          ],
          [
           "France",
           571923,
           165
          ],
          [
           "France",
           572087,
           524
          ],
          [
           "France",
           572925,
           136
          ],
          [
           "France",
           572986,
           297
          ],
          [
           "France",
           572992,
           48
          ],
          [
           "France",
           573036,
           76
          ],
          [
           "France",
           573153,
           5202
          ],
          [
           "France",
           573273,
           36
          ],
          [
           "France",
           573316,
           5
          ],
          [
           "France",
           573402,
           208
          ],
          [
           "France",
           573428,
           326
          ],
          [
           "France",
           573442,
           90
          ],
          [
           "France",
           573867,
           344
          ],
          [
           "France",
           573868,
           258
          ],
          [
           "France",
           573891,
           421
          ],
          [
           "France",
           574068,
           288
          ],
          [
           "France",
           574093,
           567
          ],
          [
           "France",
           574104,
           373
          ],
          [
           "France",
           574252,
           92
          ],
          [
           "France",
           574501,
           304
          ],
          [
           "France",
           574506,
           33
          ],
          [
           "France",
           575049,
           406
          ],
          [
           "France",
           575067,
           459
          ],
          [
           "France",
           575193,
           341
          ],
          [
           "France",
           575326,
           151
          ],
          [
           "France",
           575519,
           183
          ],
          [
           "France",
           575581,
           104
          ],
          [
           "France",
           575584,
           100
          ],
          [
           "France",
           575629,
           206
          ],
          [
           "France",
           575661,
           213
          ],
          [
           "France",
           575671,
           330
          ],
          [
           "France",
           575692,
           203
          ],
          [
           "France",
           575747,
           220
          ],
          [
           "France",
           575845,
           336
          ],
          [
           "France",
           575880,
           760
          ],
          [
           "France",
           575884,
           200
          ],
          [
           "France",
           575916,
           96
          ],
          [
           "France",
           576064,
           69
          ],
          [
           "France",
           576087,
           343
          ],
          [
           "France",
           576222,
           320
          ],
          [
           "France",
           576245,
           222
          ],
          [
           "France",
           576373,
           36
          ],
          [
           "France",
           576399,
           439
          ],
          [
           "France",
           576669,
           24
          ],
          [
           "France",
           576672,
           662
          ],
          [
           "France",
           576894,
           108
          ],
          [
           "France",
           576927,
           766
          ],
          [
           "France",
           576941,
           210
          ],
          [
           "France",
           577121,
           510
          ],
          [
           "France",
           577152,
           298
          ],
          [
           "France",
           577295,
           154
          ],
          [
           "France",
           577344,
           92
          ],
          [
           "France",
           577502,
           221
          ],
          [
           "France",
           577512,
           77
          ],
          [
           "France",
           577687,
           268
          ],
          [
           "France",
           577856,
           182
          ],
          [
           "France",
           578033,
           171
          ],
          [
           "France",
           578277,
           212
          ],
          [
           "France",
           578287,
           7
          ],
          [
           "France",
           578348,
           132
          ],
          [
           "France",
           578541,
           825
          ],
          [
           "France",
           578698,
           439
          ],
          [
           "France",
           578736,
           310
          ],
          [
           "France",
           578835,
           68
          ],
          [
           "France",
           579153,
           126
          ],
          [
           "France",
           579190,
           386
          ],
          [
           "France",
           579193,
           386
          ],
          [
           "France",
           579345,
           338
          ],
          [
           "France",
           579492,
           300
          ],
          [
           "France",
           579529,
           267
          ],
          [
           "France",
           579634,
           147
          ],
          [
           "France",
           579708,
           236
          ],
          [
           "France",
           579792,
           806
          ],
          [
           "France",
           579870,
           97
          ],
          [
           "France",
           580120,
           168
          ],
          [
           "France",
           580126,
           320
          ],
          [
           "France",
           580144,
           84
          ],
          [
           "France",
           580160,
           694
          ],
          [
           "France",
           580285,
           14
          ],
          [
           "France",
           580509,
           210
          ],
          [
           "France",
           580534,
           74
          ],
          [
           "France",
           580536,
           252
          ],
          [
           "France",
           580705,
           467
          ],
          [
           "France",
           580736,
           203
          ],
          [
           "France",
           580753,
           300
          ],
          [
           "France",
           580756,
           24
          ],
          [
           "France",
           580986,
           250
          ],
          [
           "France",
           581001,
           309
          ],
          [
           "France",
           581171,
           247
          ],
          [
           "France",
           581279,
           18
          ],
          [
           "France",
           581587,
           105
          ]
         ],
         "fillcolor": "rgba(255,255,255,0)",
         "hoverlabel": {
          "namelength": 0
         },
         "hoveron": "points",
         "hovertemplate": "Country=%{customdata[0]}<br>Quantity=%{customdata[2]}<br>InvoiceNo=%{customdata[1]}",
         "jitter": 0,
         "legendgroup": "France",
         "line": {
          "color": "rgba(255,255,255,0)"
         },
         "marker": {
          "color": "#EF553B",
          "symbol": "line-ns-open"
         },
         "name": "France",
         "offsetgroup": "France",
         "showlegend": false,
         "type": "box",
         "x": [
          446,
          106,
          130,
          602,
          581,
          164,
          120,
          106,
          8,
          552,
          339,
          410,
          134,
          3,
          332,
          64,
          128,
          599,
          24,
          88,
          359,
          369,
          261,
          177,
          488,
          103,
          78,
          628,
          168,
          576,
          120,
          114,
          43,
          131,
          498,
          543,
          78,
          440,
          263,
          383,
          702,
          120,
          84,
          59,
          406,
          102,
          1617,
          202,
          197,
          159,
          206,
          611,
          214,
          298,
          452,
          96,
          772,
          114,
          748,
          15,
          256,
          77,
          264,
          96,
          70,
          213,
          310,
          72,
          54,
          245,
          329,
          314,
          24,
          123,
          323,
          183,
          184,
          314,
          97,
          62,
          422,
          85,
          5,
          198,
          136,
          713,
          242,
          130,
          261,
          59,
          842,
          946,
          132,
          2271,
          88,
          240,
          293,
          236,
          284,
          375,
          25,
          196,
          23,
          275,
          84,
          146,
          368,
          350,
          6,
          120,
          192,
          98,
          773,
          162,
          332,
          458,
          859,
          734,
          105,
          202,
          33,
          267,
          140,
          220,
          58,
          476,
          103,
          152,
          72,
          434,
          126,
          464,
          229,
          62,
          304,
          208,
          180,
          180,
          374,
          86,
          424,
          155,
          200,
          1184,
          347,
          358,
          115,
          216,
          216,
          464,
          444,
          320,
          460,
          160,
          714,
          549,
          110,
          232,
          356,
          170,
          139,
          206,
          267,
          514,
          62,
          50,
          208,
          350,
          270,
          384,
          410,
          118,
          108,
          284,
          78,
          256,
          321,
          592,
          322,
          135,
          198,
          236,
          48,
          76,
          262,
          156,
          116,
          666,
          46,
          82,
          838,
          32,
          234,
          147,
          500,
          52,
          690,
          279,
          320,
          162,
          197,
          178,
          3,
          603,
          400,
          231,
          228,
          459,
          33,
          234,
          54,
          402,
          105,
          139,
          784,
          170,
          204,
          145,
          688,
          820,
          120,
          198,
          270,
          98,
          54,
          506,
          142,
          184,
          265,
          646,
          719,
          644,
          209,
          104,
          292,
          719,
          42,
          72,
          436,
          1060,
          164,
          6,
          228,
          241,
          177,
          189,
          306,
          274,
          416,
          64,
          63,
          484,
          255,
          172,
          282,
          475,
          169,
          111,
          64,
          265,
          335,
          162,
          201,
          286,
          710,
          173,
          183,
          156,
          80,
          34,
          885,
          160,
          188,
          2,
          29,
          184,
          342,
          60,
          158,
          2801,
          162,
          72,
          98,
          218,
          100,
          122,
          232,
          566,
          165,
          524,
          136,
          297,
          48,
          76,
          5202,
          36,
          5,
          208,
          326,
          90,
          344,
          258,
          421,
          288,
          567,
          373,
          92,
          304,
          33,
          406,
          459,
          341,
          151,
          183,
          104,
          100,
          206,
          213,
          330,
          203,
          220,
          336,
          760,
          200,
          96,
          69,
          343,
          320,
          222,
          36,
          439,
          24,
          662,
          108,
          766,
          210,
          510,
          298,
          154,
          92,
          221,
          77,
          268,
          182,
          171,
          212,
          7,
          132,
          825,
          439,
          310,
          68,
          126,
          386,
          386,
          338,
          300,
          267,
          147,
          236,
          806,
          97,
          168,
          320,
          84,
          694,
          14,
          210,
          74,
          252,
          467,
          203,
          300,
          24,
          250,
          309,
          247,
          18,
          105
         ],
         "xaxis": "x2",
         "yaxis": "y2"
        },
        {
         "alignmentgroup": "True",
         "bingroup": "x",
         "hoverlabel": {
          "namelength": 0
         },
         "hovertemplate": "Country=Germany<br>Quantity=%{x}<br>count of InvoiceNo=%{y}",
         "legendgroup": "Germany",
         "marker": {
          "color": "#00cc96"
         },
         "name": "Germany",
         "offsetgroup": "Germany",
         "orientation": "v",
         "showlegend": true,
         "type": "histogram",
         "x": [
          156,
          147,
          76,
          30,
          59,
          76,
          10,
          966,
          295,
          88,
          150,
          132,
          84,
          225,
          82,
          1075,
          2,
          42,
          433,
          6,
          133,
          81,
          322,
          221,
          388,
          333,
          228,
          62,
          866,
          92,
          410,
          1775,
          363,
          242,
          389,
          86,
          95,
          95,
          164,
          10,
          70,
          404,
          171,
          112,
          36,
          245,
          45,
          902,
          603,
          314,
          221,
          482,
          206,
          234,
          125,
          46,
          278,
          180,
          126,
          468,
          59,
          36,
          102,
          174,
          182,
          159,
          50,
          177,
          639,
          46,
          409,
          302,
          76,
          108,
          266,
          515,
          198,
          583,
          122,
          384,
          341,
          192,
          90,
          190,
          76,
          75,
          168,
          189,
          613,
          48,
          366,
          388,
          168,
          288,
          12,
          222,
          546,
          87,
          24,
          484,
          482,
          126,
          480,
          506,
          421,
          268,
          156,
          172,
          48,
          44,
          108,
          347,
          40,
          236,
          757,
          84,
          218,
          244,
          40,
          98,
          728,
          78,
          226,
          27,
          617,
          401,
          466,
          230,
          145,
          68,
          460,
          84,
          639,
          110,
          10,
          142,
          238,
          48,
          16,
          224,
          377,
          164,
          145,
          202,
          83,
          643,
          104,
          695,
          4282,
          288,
          32,
          526,
          425,
          90,
          196,
          468,
          46,
          34,
          578,
          382,
          161,
          12,
          30,
          242,
          119,
          191,
          79,
          39,
          34,
          184,
          337,
          254,
          32,
          553,
          653,
          420,
          22,
          237,
          288,
          290,
          78,
          36,
          88,
          342,
          99,
          412,
          784,
          457,
          12,
          1346,
          270,
          143,
          71,
          15,
          166,
          46,
          578,
          60,
          863,
          292,
          148,
          142,
          396,
          159,
          124,
          252,
          192,
          91,
          776,
          300,
          115,
          294,
          105,
          25,
          56,
          192,
          331,
          812,
          306,
          152,
          516,
          297,
          422,
          469,
          408,
          332,
          222,
          174,
          645,
          262,
          136,
          325,
          187,
          552,
          32,
          132,
          416,
          60,
          271,
          34,
          460,
          20,
          316,
          48,
          99,
          214,
          185,
          384,
          348,
          322,
          359,
          275,
          70,
          176,
          29,
          375,
          6,
          392,
          109,
          288,
          190,
          68,
          131,
          1151,
          486,
          312,
          402,
          38,
          340,
          266,
          556,
          324,
          10,
          316,
          20,
          532,
          124,
          8,
          766,
          193,
          80,
          212,
          262,
          226,
          181,
          68,
          13,
          1231,
          174,
          230,
          104,
          430,
          336,
          128,
          63,
          138,
          424,
          526,
          456,
          292,
          260,
          208,
          163,
          321,
          163,
          175,
          395,
          782,
          962,
          194,
          50,
          849,
          66,
          175,
          244,
          862,
          12,
          346,
          180,
          1292,
          100,
          122,
          112,
          311,
          252,
          322,
          93,
          26,
          328,
          67,
          878,
          176,
          316,
          222,
          532,
          476,
          1550,
          295,
          82,
          343,
          290,
          576,
          1,
          917,
          128,
          106,
          48,
          552,
          201,
          68,
          292,
          128,
          4,
          18,
          136,
          108,
          74,
          457,
          160,
          154,
          112,
          64,
          63,
          372,
          39,
          520,
          256,
          105,
          139,
          136,
          84,
          12,
          146,
          48,
          131,
          158,
          321,
          317,
          603,
          165,
          70,
          55,
          536,
          250,
          90,
          259,
          495,
          108,
          5,
          121,
          576,
          221,
          42,
          152,
          511,
          473,
          127,
          96,
          338,
          56,
          80,
          9,
          52,
          317,
          3,
          341,
          219,
          39,
          72,
          458,
          200,
          256,
          582,
          130,
          358,
          59,
          322,
          45,
          292,
          382,
          48,
          306,
          228,
          48,
          148,
          108,
          85,
          156,
          8,
          286,
          178,
          33,
          6,
          146,
          163,
          889,
          134,
          22,
          987,
          186,
          95,
          86,
          505
         ],
         "xaxis": "x",
         "y": [
          536527,
          536840,
          536861,
          536967,
          536983,
          537197,
          537198,
          537201,
          537212,
          537250,
          537594,
          537673,
          537892,
          537894,
          537995,
          538174,
          538644,
          539327,
          539395,
          539398,
          539401,
          539403,
          539405,
          539408,
          539446,
          539466,
          539636,
          539946,
          539957,
          540410,
          540414,
          540458,
          540480,
          540553,
          540562,
          540769,
          540900,
          541093,
          541122,
          541125,
          541224,
          541269,
          541277,
          541480,
          541517,
          541877,
          541962,
          541965,
          542080,
          542106,
          542128,
          542215,
          542229,
          542369,
          542371,
          542375,
          542621,
          542626,
          542648,
          542713,
          542782,
          542926,
          543048,
          543056,
          543121,
          543492,
          543550,
          543587,
          543737,
          543833,
          543900,
          544281,
          544302,
          544340,
          544483,
          544573,
          544811,
          544933,
          544996,
          545295,
          545533,
          545557,
          545706,
          545709,
          545718,
          545916,
          545988,
          545994,
          546365,
          546759,
          546843,
          546851,
          546919,
          546920,
          546921,
          546925,
          547005,
          547071,
          547085,
          547379,
          547383,
          547715,
          547821,
          547822,
          547925,
          547926,
          547934,
          548320,
          548412,
          548489,
          548654,
          548745,
          548746,
          549193,
          549316,
          549434,
          549614,
          549680,
          550002,
          550004,
          550137,
          550162,
          550178,
          550187,
          550527,
          550620,
          550625,
          550665,
          550946,
          550960,
          551258,
          551467,
          551529,
          551728,
          551729,
          551818,
          551820,
          551886,
          552008,
          552211,
          552337,
          552649,
          552656,
          552844,
          552871,
          552874,
          552875,
          552878,
          552978,
          553037,
          553038,
          553547,
          553731,
          553732,
          553741,
          553842,
          553884,
          553885,
          554104,
          554106,
          554137,
          554263,
          554324,
          554325,
          554363,
          554699,
          554700,
          554711,
          554713,
          554794,
          554861,
          554985,
          555093,
          555162,
          555282,
          555383,
          555417,
          555523,
          555553,
          555719,
          556114,
          556118,
          556443,
          556469,
          556509,
          556517,
          556578,
          557055,
          557056,
          557466,
          557569,
          557850,
          557972,
          558109,
          558608,
          558626,
          558628,
          558717,
          558881,
          559298,
          559300,
          559316,
          559362,
          559421,
          559710,
          559797,
          559798,
          559899,
          559987,
          560038,
          560202,
          560211,
          560230,
          560544,
          560545,
          560566,
          560569,
          560590,
          560635,
          560728,
          560876,
          560901,
          560997,
          561037,
          561094,
          561194,
          561468,
          561583,
          561911,
          562035,
          562038,
          562045,
          562137,
          562370,
          562435,
          562527,
          562537,
          562568,
          562605,
          562729,
          563345,
          563373,
          563540,
          563548,
          563776,
          563808,
          563914,
          563950,
          564039,
          564079,
          564140,
          564216,
          564309,
          564328,
          564329,
          564337,
          564338,
          564360,
          564367,
          564475,
          564638,
          564666,
          564749,
          564856,
          564972,
          565261,
          565416,
          565423,
          565430,
          565440,
          565442,
          565759,
          565760,
          565765,
          565777,
          566041,
          566054,
          566059,
          566233,
          566267,
          566268,
          566586,
          566739,
          566984,
          566987,
          567134,
          567291,
          567298,
          567305,
          567336,
          567512,
          567578,
          567666,
          567904,
          567914,
          567924,
          567958,
          567959,
          568056,
          568103,
          568350,
          568472,
          568674,
          568987,
          569001,
          569017,
          569562,
          569563,
          569640,
          569721,
          569727,
          569844,
          569860,
          569861,
          569867,
          569893,
          569907,
          570002,
          570007,
          570082,
          570095,
          570189,
          570452,
          570637,
          570640,
          570718,
          570754,
          570784,
          570792,
          570881,
          571065,
          571215,
          571227,
          571304,
          571308,
          571312,
          571328,
          571556,
          571565,
          571658,
          571724,
          571729,
          571739,
          571824,
          571904,
          572054,
          572060,
          572061,
          572134,
          572241,
          572559,
          572560,
          572894,
          572895,
          573106,
          573136,
          573284,
          573289,
          573417,
          573424,
          573430,
          573629,
          574071,
          574097,
          574255,
          574653,
          574679,
          574713,
          574869,
          574885,
          575352,
          575498,
          575713,
          575732,
          575733,
          575750,
          575787,
          575886,
          575896,
          576322,
          576327,
          576390,
          576607,
          576629,
          576630,
          576657,
          576787,
          576789,
          576790,
          576863,
          576869,
          576890,
          576891,
          576893,
          576909,
          576910,
          577027,
          577054,
          577135,
          577168,
          577299,
          577301,
          577406,
          577615,
          577776,
          578024,
          578043,
          578273,
          578295,
          578298,
          578333,
          578469,
          578472,
          578509,
          578547,
          578550,
          578626,
          578705,
          579094,
          579152,
          579276,
          579393,
          579416,
          579419,
          579747,
          579786,
          579901,
          579927,
          580154,
          580511,
          580512,
          580531,
          580548,
          580648,
          581000,
          581179,
          581183,
          581184,
          581266,
          581494,
          581570,
          581574,
          581578
         ],
         "yaxis": "y"
        },
        {
         "alignmentgroup": "True",
         "boxpoints": "all",
         "customdata": [
          [
           "Germany",
           536527,
           156
          ],
          [
           "Germany",
           536840,
           147
          ],
          [
           "Germany",
           536861,
           76
          ],
          [
           "Germany",
           536967,
           30
          ],
          [
           "Germany",
           536983,
           59
          ],
          [
           "Germany",
           537197,
           76
          ],
          [
           "Germany",
           537198,
           10
          ],
          [
           "Germany",
           537201,
           966
          ],
          [
           "Germany",
           537212,
           295
          ],
          [
           "Germany",
           537250,
           88
          ],
          [
           "Germany",
           537594,
           150
          ],
          [
           "Germany",
           537673,
           132
          ],
          [
           "Germany",
           537892,
           84
          ],
          [
           "Germany",
           537894,
           225
          ],
          [
           "Germany",
           537995,
           82
          ],
          [
           "Germany",
           538174,
           1075
          ],
          [
           "Germany",
           538644,
           2
          ],
          [
           "Germany",
           539327,
           42
          ],
          [
           "Germany",
           539395,
           433
          ],
          [
           "Germany",
           539398,
           6
          ],
          [
           "Germany",
           539401,
           133
          ],
          [
           "Germany",
           539403,
           81
          ],
          [
           "Germany",
           539405,
           322
          ],
          [
           "Germany",
           539408,
           221
          ],
          [
           "Germany",
           539446,
           388
          ],
          [
           "Germany",
           539466,
           333
          ],
          [
           "Germany",
           539636,
           228
          ],
          [
           "Germany",
           539946,
           62
          ],
          [
           "Germany",
           539957,
           866
          ],
          [
           "Germany",
           540410,
           92
          ],
          [
           "Germany",
           540414,
           410
          ],
          [
           "Germany",
           540458,
           1775
          ],
          [
           "Germany",
           540480,
           363
          ],
          [
           "Germany",
           540553,
           242
          ],
          [
           "Germany",
           540562,
           389
          ],
          [
           "Germany",
           540769,
           86
          ],
          [
           "Germany",
           540900,
           95
          ],
          [
           "Germany",
           541093,
           95
          ],
          [
           "Germany",
           541122,
           164
          ],
          [
           "Germany",
           541125,
           10
          ],
          [
           "Germany",
           541224,
           70
          ],
          [
           "Germany",
           541269,
           404
          ],
          [
           "Germany",
           541277,
           171
          ],
          [
           "Germany",
           541480,
           112
          ],
          [
           "Germany",
           541517,
           36
          ],
          [
           "Germany",
           541877,
           245
          ],
          [
           "Germany",
           541962,
           45
          ],
          [
           "Germany",
           541965,
           902
          ],
          [
           "Germany",
           542080,
           603
          ],
          [
           "Germany",
           542106,
           314
          ],
          [
           "Germany",
           542128,
           221
          ],
          [
           "Germany",
           542215,
           482
          ],
          [
           "Germany",
           542229,
           206
          ],
          [
           "Germany",
           542369,
           234
          ],
          [
           "Germany",
           542371,
           125
          ],
          [
           "Germany",
           542375,
           46
          ],
          [
           "Germany",
           542621,
           278
          ],
          [
           "Germany",
           542626,
           180
          ],
          [
           "Germany",
           542648,
           126
          ],
          [
           "Germany",
           542713,
           468
          ],
          [
           "Germany",
           542782,
           59
          ],
          [
           "Germany",
           542926,
           36
          ],
          [
           "Germany",
           543048,
           102
          ],
          [
           "Germany",
           543056,
           174
          ],
          [
           "Germany",
           543121,
           182
          ],
          [
           "Germany",
           543492,
           159
          ],
          [
           "Germany",
           543550,
           50
          ],
          [
           "Germany",
           543587,
           177
          ],
          [
           "Germany",
           543737,
           639
          ],
          [
           "Germany",
           543833,
           46
          ],
          [
           "Germany",
           543900,
           409
          ],
          [
           "Germany",
           544281,
           302
          ],
          [
           "Germany",
           544302,
           76
          ],
          [
           "Germany",
           544340,
           108
          ],
          [
           "Germany",
           544483,
           266
          ],
          [
           "Germany",
           544573,
           515
          ],
          [
           "Germany",
           544811,
           198
          ],
          [
           "Germany",
           544933,
           583
          ],
          [
           "Germany",
           544996,
           122
          ],
          [
           "Germany",
           545295,
           384
          ],
          [
           "Germany",
           545533,
           341
          ],
          [
           "Germany",
           545557,
           192
          ],
          [
           "Germany",
           545706,
           90
          ],
          [
           "Germany",
           545709,
           190
          ],
          [
           "Germany",
           545718,
           76
          ],
          [
           "Germany",
           545916,
           75
          ],
          [
           "Germany",
           545988,
           168
          ],
          [
           "Germany",
           545994,
           189
          ],
          [
           "Germany",
           546365,
           613
          ],
          [
           "Germany",
           546759,
           48
          ],
          [
           "Germany",
           546843,
           366
          ],
          [
           "Germany",
           546851,
           388
          ],
          [
           "Germany",
           546919,
           168
          ],
          [
           "Germany",
           546920,
           288
          ],
          [
           "Germany",
           546921,
           12
          ],
          [
           "Germany",
           546925,
           222
          ],
          [
           "Germany",
           547005,
           546
          ],
          [
           "Germany",
           547071,
           87
          ],
          [
           "Germany",
           547085,
           24
          ],
          [
           "Germany",
           547379,
           484
          ],
          [
           "Germany",
           547383,
           482
          ],
          [
           "Germany",
           547715,
           126
          ],
          [
           "Germany",
           547821,
           480
          ],
          [
           "Germany",
           547822,
           506
          ],
          [
           "Germany",
           547925,
           421
          ],
          [
           "Germany",
           547926,
           268
          ],
          [
           "Germany",
           547934,
           156
          ],
          [
           "Germany",
           548320,
           172
          ],
          [
           "Germany",
           548412,
           48
          ],
          [
           "Germany",
           548489,
           44
          ],
          [
           "Germany",
           548654,
           108
          ],
          [
           "Germany",
           548745,
           347
          ],
          [
           "Germany",
           548746,
           40
          ],
          [
           "Germany",
           549193,
           236
          ],
          [
           "Germany",
           549316,
           757
          ],
          [
           "Germany",
           549434,
           84
          ],
          [
           "Germany",
           549614,
           218
          ],
          [
           "Germany",
           549680,
           244
          ],
          [
           "Germany",
           550002,
           40
          ],
          [
           "Germany",
           550004,
           98
          ],
          [
           "Germany",
           550137,
           728
          ],
          [
           "Germany",
           550162,
           78
          ],
          [
           "Germany",
           550178,
           226
          ],
          [
           "Germany",
           550187,
           27
          ],
          [
           "Germany",
           550527,
           617
          ],
          [
           "Germany",
           550620,
           401
          ],
          [
           "Germany",
           550625,
           466
          ],
          [
           "Germany",
           550665,
           230
          ],
          [
           "Germany",
           550946,
           145
          ],
          [
           "Germany",
           550960,
           68
          ],
          [
           "Germany",
           551258,
           460
          ],
          [
           "Germany",
           551467,
           84
          ],
          [
           "Germany",
           551529,
           639
          ],
          [
           "Germany",
           551728,
           110
          ],
          [
           "Germany",
           551729,
           10
          ],
          [
           "Germany",
           551818,
           142
          ],
          [
           "Germany",
           551820,
           238
          ],
          [
           "Germany",
           551886,
           48
          ],
          [
           "Germany",
           552008,
           16
          ],
          [
           "Germany",
           552211,
           224
          ],
          [
           "Germany",
           552337,
           377
          ],
          [
           "Germany",
           552649,
           164
          ],
          [
           "Germany",
           552656,
           145
          ],
          [
           "Germany",
           552844,
           202
          ],
          [
           "Germany",
           552871,
           83
          ],
          [
           "Germany",
           552874,
           643
          ],
          [
           "Germany",
           552875,
           104
          ],
          [
           "Germany",
           552878,
           695
          ],
          [
           "Germany",
           552978,
           4282
          ],
          [
           "Germany",
           553037,
           288
          ],
          [
           "Germany",
           553038,
           32
          ],
          [
           "Germany",
           553547,
           526
          ],
          [
           "Germany",
           553731,
           425
          ],
          [
           "Germany",
           553732,
           90
          ],
          [
           "Germany",
           553741,
           196
          ],
          [
           "Germany",
           553842,
           468
          ],
          [
           "Germany",
           553884,
           46
          ],
          [
           "Germany",
           553885,
           34
          ],
          [
           "Germany",
           554104,
           578
          ],
          [
           "Germany",
           554106,
           382
          ],
          [
           "Germany",
           554137,
           161
          ],
          [
           "Germany",
           554263,
           12
          ],
          [
           "Germany",
           554324,
           30
          ],
          [
           "Germany",
           554325,
           242
          ],
          [
           "Germany",
           554363,
           119
          ],
          [
           "Germany",
           554699,
           191
          ],
          [
           "Germany",
           554700,
           79
          ],
          [
           "Germany",
           554711,
           39
          ],
          [
           "Germany",
           554713,
           34
          ],
          [
           "Germany",
           554794,
           184
          ],
          [
           "Germany",
           554861,
           337
          ],
          [
           "Germany",
           554985,
           254
          ],
          [
           "Germany",
           555093,
           32
          ],
          [
           "Germany",
           555162,
           553
          ],
          [
           "Germany",
           555282,
           653
          ],
          [
           "Germany",
           555383,
           420
          ],
          [
           "Germany",
           555417,
           22
          ],
          [
           "Germany",
           555523,
           237
          ],
          [
           "Germany",
           555553,
           288
          ],
          [
           "Germany",
           555719,
           290
          ],
          [
           "Germany",
           556114,
           78
          ],
          [
           "Germany",
           556118,
           36
          ],
          [
           "Germany",
           556443,
           88
          ],
          [
           "Germany",
           556469,
           342
          ],
          [
           "Germany",
           556509,
           99
          ],
          [
           "Germany",
           556517,
           412
          ],
          [
           "Germany",
           556578,
           784
          ],
          [
           "Germany",
           557055,
           457
          ],
          [
           "Germany",
           557056,
           12
          ],
          [
           "Germany",
           557466,
           1346
          ],
          [
           "Germany",
           557569,
           270
          ],
          [
           "Germany",
           557850,
           143
          ],
          [
           "Germany",
           557972,
           71
          ],
          [
           "Germany",
           558109,
           15
          ],
          [
           "Germany",
           558608,
           166
          ],
          [
           "Germany",
           558626,
           46
          ],
          [
           "Germany",
           558628,
           578
          ],
          [
           "Germany",
           558717,
           60
          ],
          [
           "Germany",
           558881,
           863
          ],
          [
           "Germany",
           559298,
           292
          ],
          [
           "Germany",
           559300,
           148
          ],
          [
           "Germany",
           559316,
           142
          ],
          [
           "Germany",
           559362,
           396
          ],
          [
           "Germany",
           559421,
           159
          ],
          [
           "Germany",
           559710,
           124
          ],
          [
           "Germany",
           559797,
           252
          ],
          [
           "Germany",
           559798,
           192
          ],
          [
           "Germany",
           559899,
           91
          ],
          [
           "Germany",
           559987,
           776
          ],
          [
           "Germany",
           560038,
           300
          ],
          [
           "Germany",
           560202,
           115
          ],
          [
           "Germany",
           560211,
           294
          ],
          [
           "Germany",
           560230,
           105
          ],
          [
           "Germany",
           560544,
           25
          ],
          [
           "Germany",
           560545,
           56
          ],
          [
           "Germany",
           560566,
           192
          ],
          [
           "Germany",
           560569,
           331
          ],
          [
           "Germany",
           560590,
           812
          ],
          [
           "Germany",
           560635,
           306
          ],
          [
           "Germany",
           560728,
           152
          ],
          [
           "Germany",
           560876,
           516
          ],
          [
           "Germany",
           560901,
           297
          ],
          [
           "Germany",
           560997,
           422
          ],
          [
           "Germany",
           561037,
           469
          ],
          [
           "Germany",
           561094,
           408
          ],
          [
           "Germany",
           561194,
           332
          ],
          [
           "Germany",
           561468,
           222
          ],
          [
           "Germany",
           561583,
           174
          ],
          [
           "Germany",
           561911,
           645
          ],
          [
           "Germany",
           562035,
           262
          ],
          [
           "Germany",
           562038,
           136
          ],
          [
           "Germany",
           562045,
           325
          ],
          [
           "Germany",
           562137,
           187
          ],
          [
           "Germany",
           562370,
           552
          ],
          [
           "Germany",
           562435,
           32
          ],
          [
           "Germany",
           562527,
           132
          ],
          [
           "Germany",
           562537,
           416
          ],
          [
           "Germany",
           562568,
           60
          ],
          [
           "Germany",
           562605,
           271
          ],
          [
           "Germany",
           562729,
           34
          ],
          [
           "Germany",
           563345,
           460
          ],
          [
           "Germany",
           563373,
           20
          ],
          [
           "Germany",
           563540,
           316
          ],
          [
           "Germany",
           563548,
           48
          ],
          [
           "Germany",
           563776,
           99
          ],
          [
           "Germany",
           563808,
           214
          ],
          [
           "Germany",
           563914,
           185
          ],
          [
           "Germany",
           563950,
           384
          ],
          [
           "Germany",
           564039,
           348
          ],
          [
           "Germany",
           564079,
           322
          ],
          [
           "Germany",
           564140,
           359
          ],
          [
           "Germany",
           564216,
           275
          ],
          [
           "Germany",
           564309,
           70
          ],
          [
           "Germany",
           564328,
           176
          ],
          [
           "Germany",
           564329,
           29
          ],
          [
           "Germany",
           564337,
           375
          ],
          [
           "Germany",
           564338,
           6
          ],
          [
           "Germany",
           564360,
           392
          ],
          [
           "Germany",
           564367,
           109
          ],
          [
           "Germany",
           564475,
           288
          ],
          [
           "Germany",
           564638,
           190
          ],
          [
           "Germany",
           564666,
           68
          ],
          [
           "Germany",
           564749,
           131
          ],
          [
           "Germany",
           564856,
           1151
          ],
          [
           "Germany",
           564972,
           486
          ],
          [
           "Germany",
           565261,
           312
          ],
          [
           "Germany",
           565416,
           402
          ],
          [
           "Germany",
           565423,
           38
          ],
          [
           "Germany",
           565430,
           340
          ],
          [
           "Germany",
           565440,
           266
          ],
          [
           "Germany",
           565442,
           556
          ],
          [
           "Germany",
           565759,
           324
          ],
          [
           "Germany",
           565760,
           10
          ],
          [
           "Germany",
           565765,
           316
          ],
          [
           "Germany",
           565777,
           20
          ],
          [
           "Germany",
           566041,
           532
          ],
          [
           "Germany",
           566054,
           124
          ],
          [
           "Germany",
           566059,
           8
          ],
          [
           "Germany",
           566233,
           766
          ],
          [
           "Germany",
           566267,
           193
          ],
          [
           "Germany",
           566268,
           80
          ],
          [
           "Germany",
           566586,
           212
          ],
          [
           "Germany",
           566739,
           262
          ],
          [
           "Germany",
           566984,
           226
          ],
          [
           "Germany",
           566987,
           181
          ],
          [
           "Germany",
           567134,
           68
          ],
          [
           "Germany",
           567291,
           13
          ],
          [
           "Germany",
           567298,
           1231
          ],
          [
           "Germany",
           567305,
           174
          ],
          [
           "Germany",
           567336,
           230
          ],
          [
           "Germany",
           567512,
           104
          ],
          [
           "Germany",
           567578,
           430
          ],
          [
           "Germany",
           567666,
           336
          ],
          [
           "Germany",
           567904,
           128
          ],
          [
           "Germany",
           567914,
           63
          ],
          [
           "Germany",
           567924,
           138
          ],
          [
           "Germany",
           567958,
           424
          ],
          [
           "Germany",
           567959,
           526
          ],
          [
           "Germany",
           568056,
           456
          ],
          [
           "Germany",
           568103,
           292
          ],
          [
           "Germany",
           568350,
           260
          ],
          [
           "Germany",
           568472,
           208
          ],
          [
           "Germany",
           568674,
           163
          ],
          [
           "Germany",
           568987,
           321
          ],
          [
           "Germany",
           569001,
           163
          ],
          [
           "Germany",
           569017,
           175
          ],
          [
           "Germany",
           569562,
           395
          ],
          [
           "Germany",
           569563,
           782
          ],
          [
           "Germany",
           569640,
           962
          ],
          [
           "Germany",
           569721,
           194
          ],
          [
           "Germany",
           569727,
           50
          ],
          [
           "Germany",
           569844,
           849
          ],
          [
           "Germany",
           569860,
           66
          ],
          [
           "Germany",
           569861,
           175
          ],
          [
           "Germany",
           569867,
           244
          ],
          [
           "Germany",
           569893,
           862
          ],
          [
           "Germany",
           569907,
           12
          ],
          [
           "Germany",
           570002,
           346
          ],
          [
           "Germany",
           570007,
           180
          ],
          [
           "Germany",
           570082,
           1292
          ],
          [
           "Germany",
           570095,
           100
          ],
          [
           "Germany",
           570189,
           122
          ],
          [
           "Germany",
           570452,
           112
          ],
          [
           "Germany",
           570637,
           311
          ],
          [
           "Germany",
           570640,
           252
          ],
          [
           "Germany",
           570718,
           322
          ],
          [
           "Germany",
           570754,
           93
          ],
          [
           "Germany",
           570784,
           26
          ],
          [
           "Germany",
           570792,
           328
          ],
          [
           "Germany",
           570881,
           67
          ],
          [
           "Germany",
           571065,
           878
          ],
          [
           "Germany",
           571215,
           176
          ],
          [
           "Germany",
           571227,
           316
          ],
          [
           "Germany",
           571304,
           222
          ],
          [
           "Germany",
           571308,
           532
          ],
          [
           "Germany",
           571312,
           476
          ],
          [
           "Germany",
           571328,
           1550
          ],
          [
           "Germany",
           571556,
           295
          ],
          [
           "Germany",
           571565,
           82
          ],
          [
           "Germany",
           571658,
           343
          ],
          [
           "Germany",
           571724,
           290
          ],
          [
           "Germany",
           571729,
           576
          ],
          [
           "Germany",
           571739,
           1
          ],
          [
           "Germany",
           571824,
           917
          ],
          [
           "Germany",
           571904,
           128
          ],
          [
           "Germany",
           572054,
           106
          ],
          [
           "Germany",
           572060,
           48
          ],
          [
           "Germany",
           572061,
           552
          ],
          [
           "Germany",
           572134,
           201
          ],
          [
           "Germany",
           572241,
           68
          ],
          [
           "Germany",
           572559,
           292
          ],
          [
           "Germany",
           572560,
           128
          ],
          [
           "Germany",
           572894,
           4
          ],
          [
           "Germany",
           572895,
           18
          ],
          [
           "Germany",
           573106,
           136
          ],
          [
           "Germany",
           573136,
           108
          ],
          [
           "Germany",
           573284,
           74
          ],
          [
           "Germany",
           573289,
           457
          ],
          [
           "Germany",
           573417,
           160
          ],
          [
           "Germany",
           573424,
           154
          ],
          [
           "Germany",
           573430,
           112
          ],
          [
           "Germany",
           573629,
           64
          ],
          [
           "Germany",
           574071,
           63
          ],
          [
           "Germany",
           574097,
           372
          ],
          [
           "Germany",
           574255,
           39
          ],
          [
           "Germany",
           574653,
           520
          ],
          [
           "Germany",
           574679,
           256
          ],
          [
           "Germany",
           574713,
           105
          ],
          [
           "Germany",
           574869,
           139
          ],
          [
           "Germany",
           574885,
           136
          ],
          [
           "Germany",
           575352,
           84
          ],
          [
           "Germany",
           575498,
           12
          ],
          [
           "Germany",
           575713,
           146
          ],
          [
           "Germany",
           575732,
           48
          ],
          [
           "Germany",
           575733,
           131
          ],
          [
           "Germany",
           575750,
           158
          ],
          [
           "Germany",
           575787,
           321
          ],
          [
           "Germany",
           575886,
           317
          ],
          [
           "Germany",
           575896,
           603
          ],
          [
           "Germany",
           576322,
           165
          ],
          [
           "Germany",
           576327,
           70
          ],
          [
           "Germany",
           576390,
           55
          ],
          [
           "Germany",
           576607,
           536
          ],
          [
           "Germany",
           576629,
           250
          ],
          [
           "Germany",
           576630,
           90
          ],
          [
           "Germany",
           576657,
           259
          ],
          [
           "Germany",
           576787,
           495
          ],
          [
           "Germany",
           576789,
           108
          ],
          [
           "Germany",
           576790,
           5
          ],
          [
           "Germany",
           576863,
           121
          ],
          [
           "Germany",
           576869,
           576
          ],
          [
           "Germany",
           576890,
           221
          ],
          [
           "Germany",
           576891,
           42
          ],
          [
           "Germany",
           576893,
           152
          ],
          [
           "Germany",
           576909,
           511
          ],
          [
           "Germany",
           576910,
           473
          ],
          [
           "Germany",
           577027,
           127
          ],
          [
           "Germany",
           577054,
           96
          ],
          [
           "Germany",
           577135,
           338
          ],
          [
           "Germany",
           577168,
           56
          ],
          [
           "Germany",
           577299,
           80
          ],
          [
           "Germany",
           577301,
           9
          ],
          [
           "Germany",
           577406,
           52
          ],
          [
           "Germany",
           577615,
           317
          ],
          [
           "Germany",
           577776,
           3
          ],
          [
           "Germany",
           578024,
           341
          ],
          [
           "Germany",
           578043,
           219
          ],
          [
           "Germany",
           578273,
           39
          ],
          [
           "Germany",
           578295,
           72
          ],
          [
           "Germany",
           578298,
           458
          ],
          [
           "Germany",
           578333,
           200
          ],
          [
           "Germany",
           578469,
           256
          ],
          [
           "Germany",
           578472,
           582
          ],
          [
           "Germany",
           578509,
           130
          ],
          [
           "Germany",
           578547,
           358
          ],
          [
           "Germany",
           578550,
           59
          ],
          [
           "Germany",
           578626,
           322
          ],
          [
           "Germany",
           578705,
           45
          ],
          [
           "Germany",
           579094,
           292
          ],
          [
           "Germany",
           579152,
           382
          ],
          [
           "Germany",
           579276,
           48
          ],
          [
           "Germany",
           579393,
           306
          ],
          [
           "Germany",
           579416,
           228
          ],
          [
           "Germany",
           579419,
           48
          ],
          [
           "Germany",
           579747,
           148
          ],
          [
           "Germany",
           579786,
           108
          ],
          [
           "Germany",
           579901,
           85
          ],
          [
           "Germany",
           579927,
           156
          ],
          [
           "Germany",
           580154,
           8
          ],
          [
           "Germany",
           580511,
           286
          ],
          [
           "Germany",
           580512,
           178
          ],
          [
           "Germany",
           580531,
           33
          ],
          [
           "Germany",
           580548,
           6
          ],
          [
           "Germany",
           580648,
           146
          ],
          [
           "Germany",
           581000,
           163
          ],
          [
           "Germany",
           581179,
           889
          ],
          [
           "Germany",
           581183,
           134
          ],
          [
           "Germany",
           581184,
           22
          ],
          [
           "Germany",
           581266,
           987
          ],
          [
           "Germany",
           581494,
           186
          ],
          [
           "Germany",
           581570,
           95
          ],
          [
           "Germany",
           581574,
           86
          ],
          [
           "Germany",
           581578,
           505
          ]
         ],
         "fillcolor": "rgba(255,255,255,0)",
         "hoverlabel": {
          "namelength": 0
         },
         "hoveron": "points",
         "hovertemplate": "Country=%{customdata[0]}<br>Quantity=%{customdata[2]}<br>InvoiceNo=%{customdata[1]}",
         "jitter": 0,
         "legendgroup": "Germany",
         "line": {
          "color": "rgba(255,255,255,0)"
         },
         "marker": {
          "color": "#00cc96",
          "symbol": "line-ns-open"
         },
         "name": "Germany",
         "offsetgroup": "Germany",
         "showlegend": false,
         "type": "box",
         "x": [
          156,
          147,
          76,
          30,
          59,
          76,
          10,
          966,
          295,
          88,
          150,
          132,
          84,
          225,
          82,
          1075,
          2,
          42,
          433,
          6,
          133,
          81,
          322,
          221,
          388,
          333,
          228,
          62,
          866,
          92,
          410,
          1775,
          363,
          242,
          389,
          86,
          95,
          95,
          164,
          10,
          70,
          404,
          171,
          112,
          36,
          245,
          45,
          902,
          603,
          314,
          221,
          482,
          206,
          234,
          125,
          46,
          278,
          180,
          126,
          468,
          59,
          36,
          102,
          174,
          182,
          159,
          50,
          177,
          639,
          46,
          409,
          302,
          76,
          108,
          266,
          515,
          198,
          583,
          122,
          384,
          341,
          192,
          90,
          190,
          76,
          75,
          168,
          189,
          613,
          48,
          366,
          388,
          168,
          288,
          12,
          222,
          546,
          87,
          24,
          484,
          482,
          126,
          480,
          506,
          421,
          268,
          156,
          172,
          48,
          44,
          108,
          347,
          40,
          236,
          757,
          84,
          218,
          244,
          40,
          98,
          728,
          78,
          226,
          27,
          617,
          401,
          466,
          230,
          145,
          68,
          460,
          84,
          639,
          110,
          10,
          142,
          238,
          48,
          16,
          224,
          377,
          164,
          145,
          202,
          83,
          643,
          104,
          695,
          4282,
          288,
          32,
          526,
          425,
          90,
          196,
          468,
          46,
          34,
          578,
          382,
          161,
          12,
          30,
          242,
          119,
          191,
          79,
          39,
          34,
          184,
          337,
          254,
          32,
          553,
          653,
          420,
          22,
          237,
          288,
          290,
          78,
          36,
          88,
          342,
          99,
          412,
          784,
          457,
          12,
          1346,
          270,
          143,
          71,
          15,
          166,
          46,
          578,
          60,
          863,
          292,
          148,
          142,
          396,
          159,
          124,
          252,
          192,
          91,
          776,
          300,
          115,
          294,
          105,
          25,
          56,
          192,
          331,
          812,
          306,
          152,
          516,
          297,
          422,
          469,
          408,
          332,
          222,
          174,
          645,
          262,
          136,
          325,
          187,
          552,
          32,
          132,
          416,
          60,
          271,
          34,
          460,
          20,
          316,
          48,
          99,
          214,
          185,
          384,
          348,
          322,
          359,
          275,
          70,
          176,
          29,
          375,
          6,
          392,
          109,
          288,
          190,
          68,
          131,
          1151,
          486,
          312,
          402,
          38,
          340,
          266,
          556,
          324,
          10,
          316,
          20,
          532,
          124,
          8,
          766,
          193,
          80,
          212,
          262,
          226,
          181,
          68,
          13,
          1231,
          174,
          230,
          104,
          430,
          336,
          128,
          63,
          138,
          424,
          526,
          456,
          292,
          260,
          208,
          163,
          321,
          163,
          175,
          395,
          782,
          962,
          194,
          50,
          849,
          66,
          175,
          244,
          862,
          12,
          346,
          180,
          1292,
          100,
          122,
          112,
          311,
          252,
          322,
          93,
          26,
          328,
          67,
          878,
          176,
          316,
          222,
          532,
          476,
          1550,
          295,
          82,
          343,
          290,
          576,
          1,
          917,
          128,
          106,
          48,
          552,
          201,
          68,
          292,
          128,
          4,
          18,
          136,
          108,
          74,
          457,
          160,
          154,
          112,
          64,
          63,
          372,
          39,
          520,
          256,
          105,
          139,
          136,
          84,
          12,
          146,
          48,
          131,
          158,
          321,
          317,
          603,
          165,
          70,
          55,
          536,
          250,
          90,
          259,
          495,
          108,
          5,
          121,
          576,
          221,
          42,
          152,
          511,
          473,
          127,
          96,
          338,
          56,
          80,
          9,
          52,
          317,
          3,
          341,
          219,
          39,
          72,
          458,
          200,
          256,
          582,
          130,
          358,
          59,
          322,
          45,
          292,
          382,
          48,
          306,
          228,
          48,
          148,
          108,
          85,
          156,
          8,
          286,
          178,
          33,
          6,
          146,
          163,
          889,
          134,
          22,
          987,
          186,
          95,
          86,
          505
         ],
         "xaxis": "x2",
         "yaxis": "y2"
        },
        {
         "alignmentgroup": "True",
         "bingroup": "x",
         "hoverlabel": {
          "namelength": 0
         },
         "hovertemplate": "Country=Netherlands<br>Quantity=%{x}<br>count of InvoiceNo=%{y}",
         "legendgroup": "Netherlands",
         "marker": {
          "color": "#ab63fa"
         },
         "name": "Netherlands",
         "offsetgroup": "Netherlands",
         "orientation": "v",
         "showlegend": true,
         "type": "histogram",
         "x": [
          96,
          45,
          6668,
          8210,
          6072,
          288,
          5730,
          116,
          111,
          1116,
          8174,
          4034,
          2940,
          275,
          151,
          169,
          722,
          103,
          1070,
          11116,
          1208,
          636,
          700,
          426,
          200,
          72,
          924,
          12266,
          72,
          408,
          126,
          960,
          4664,
          64,
          164,
          1038,
          1836,
          328,
          312,
          84,
          4718,
          61,
          350,
          8998,
          424,
          1588,
          9,
          7807,
          375,
          14730,
          992,
          288,
          4628,
          480,
          1012,
          1,
          144,
          4951,
          6932,
          3717,
          545,
          3,
          332,
          15,
          211,
          269,
          13392,
          3020,
          1728,
          1780,
          660,
          29,
          3069,
          2400,
          300,
          2454,
          216,
          62,
          6712,
          1040,
          32,
          146,
          32,
          152,
          372,
          136,
          5760,
          200,
          1284,
          50,
          7366,
          452,
          140
         ],
         "xaxis": "x",
         "y": [
          536403,
          539491,
          539731,
          541206,
          541570,
          541608,
          541711,
          542720,
          542894,
          543387,
          544479,
          544480,
          544672,
          546027,
          546433,
          547365,
          547796,
          547825,
          548010,
          548011,
          548211,
          548969,
          548970,
          551345,
          552845,
          552846,
          552882,
          552883,
          552885,
          553682,
          554038,
          554642,
          554827,
          555003,
          555106,
          555160,
          555164,
          555407,
          555589,
          556235,
          557263,
          557328,
          557525,
          558262,
          558263,
          558311,
          560710,
          562789,
          562790,
          563076,
          563165,
          564169,
          564650,
          564652,
          565967,
          565975,
          566173,
          566557,
          567280,
          567290,
          567795,
          569665,
          569719,
          569720,
          570191,
          571697,
          572035,
          572051,
          572052,
          572123,
          572233,
          572236,
          573002,
          573003,
          573004,
          574056,
          574058,
          574059,
          575508,
          575510,
          575709,
          576664,
          577326,
          577474,
          578034,
          578082,
          578140,
          578141,
          578143,
          579528,
          581175,
          581176,
          581338
         ],
         "yaxis": "y"
        },
        {
         "alignmentgroup": "True",
         "boxpoints": "all",
         "customdata": [
          [
           "Netherlands",
           536403,
           96
          ],
          [
           "Netherlands",
           539491,
           45
          ],
          [
           "Netherlands",
           539731,
           6668
          ],
          [
           "Netherlands",
           541206,
           8210
          ],
          [
           "Netherlands",
           541570,
           6072
          ],
          [
           "Netherlands",
           541608,
           288
          ],
          [
           "Netherlands",
           541711,
           5730
          ],
          [
           "Netherlands",
           542720,
           116
          ],
          [
           "Netherlands",
           542894,
           111
          ],
          [
           "Netherlands",
           543387,
           1116
          ],
          [
           "Netherlands",
           544479,
           8174
          ],
          [
           "Netherlands",
           544480,
           4034
          ],
          [
           "Netherlands",
           544672,
           2940
          ],
          [
           "Netherlands",
           546027,
           275
          ],
          [
           "Netherlands",
           546433,
           151
          ],
          [
           "Netherlands",
           547365,
           169
          ],
          [
           "Netherlands",
           547796,
           722
          ],
          [
           "Netherlands",
           547825,
           103
          ],
          [
           "Netherlands",
           548010,
           1070
          ],
          [
           "Netherlands",
           548011,
           11116
          ],
          [
           "Netherlands",
           548211,
           1208
          ],
          [
           "Netherlands",
           548969,
           636
          ],
          [
           "Netherlands",
           548970,
           700
          ],
          [
           "Netherlands",
           551345,
           426
          ],
          [
           "Netherlands",
           552845,
           200
          ],
          [
           "Netherlands",
           552846,
           72
          ],
          [
           "Netherlands",
           552882,
           924
          ],
          [
           "Netherlands",
           552883,
           12266
          ],
          [
           "Netherlands",
           552885,
           72
          ],
          [
           "Netherlands",
           553682,
           408
          ],
          [
           "Netherlands",
           554038,
           126
          ],
          [
           "Netherlands",
           554642,
           960
          ],
          [
           "Netherlands",
           554827,
           4664
          ],
          [
           "Netherlands",
           555003,
           64
          ],
          [
           "Netherlands",
           555106,
           164
          ],
          [
           "Netherlands",
           555160,
           1038
          ],
          [
           "Netherlands",
           555164,
           1836
          ],
          [
           "Netherlands",
           555407,
           328
          ],
          [
           "Netherlands",
           555589,
           312
          ],
          [
           "Netherlands",
           556235,
           84
          ],
          [
           "Netherlands",
           557263,
           4718
          ],
          [
           "Netherlands",
           557328,
           61
          ],
          [
           "Netherlands",
           557525,
           350
          ],
          [
           "Netherlands",
           558262,
           8998
          ],
          [
           "Netherlands",
           558263,
           424
          ],
          [
           "Netherlands",
           558311,
           1588
          ],
          [
           "Netherlands",
           560710,
           9
          ],
          [
           "Netherlands",
           562789,
           7807
          ],
          [
           "Netherlands",
           562790,
           375
          ],
          [
           "Netherlands",
           563076,
           14730
          ],
          [
           "Netherlands",
           563165,
           992
          ],
          [
           "Netherlands",
           564169,
           288
          ],
          [
           "Netherlands",
           564650,
           4628
          ],
          [
           "Netherlands",
           564652,
           480
          ],
          [
           "Netherlands",
           565967,
           1012
          ],
          [
           "Netherlands",
           565975,
           1
          ],
          [
           "Netherlands",
           566173,
           144
          ],
          [
           "Netherlands",
           566557,
           4951
          ],
          [
           "Netherlands",
           567280,
           6932
          ],
          [
           "Netherlands",
           567290,
           3717
          ],
          [
           "Netherlands",
           567795,
           545
          ],
          [
           "Netherlands",
           569665,
           3
          ],
          [
           "Netherlands",
           569719,
           332
          ],
          [
           "Netherlands",
           569720,
           15
          ],
          [
           "Netherlands",
           570191,
           211
          ],
          [
           "Netherlands",
           571697,
           269
          ],
          [
           "Netherlands",
           572035,
           13392
          ],
          [
           "Netherlands",
           572051,
           3020
          ],
          [
           "Netherlands",
           572052,
           1728
          ],
          [
           "Netherlands",
           572123,
           1780
          ],
          [
           "Netherlands",
           572233,
           660
          ],
          [
           "Netherlands",
           572236,
           29
          ],
          [
           "Netherlands",
           573002,
           3069
          ],
          [
           "Netherlands",
           573003,
           2400
          ],
          [
           "Netherlands",
           573004,
           300
          ],
          [
           "Netherlands",
           574056,
           2454
          ],
          [
           "Netherlands",
           574058,
           216
          ],
          [
           "Netherlands",
           574059,
           62
          ],
          [
           "Netherlands",
           575508,
           6712
          ],
          [
           "Netherlands",
           575510,
           1040
          ],
          [
           "Netherlands",
           575709,
           32
          ],
          [
           "Netherlands",
           576664,
           146
          ],
          [
           "Netherlands",
           577326,
           32
          ],
          [
           "Netherlands",
           577474,
           152
          ],
          [
           "Netherlands",
           578034,
           372
          ],
          [
           "Netherlands",
           578082,
           136
          ],
          [
           "Netherlands",
           578140,
           5760
          ],
          [
           "Netherlands",
           578141,
           200
          ],
          [
           "Netherlands",
           578143,
           1284
          ],
          [
           "Netherlands",
           579528,
           50
          ],
          [
           "Netherlands",
           581175,
           7366
          ],
          [
           "Netherlands",
           581176,
           452
          ],
          [
           "Netherlands",
           581338,
           140
          ]
         ],
         "fillcolor": "rgba(255,255,255,0)",
         "hoverlabel": {
          "namelength": 0
         },
         "hoveron": "points",
         "hovertemplate": "Country=%{customdata[0]}<br>Quantity=%{customdata[2]}<br>InvoiceNo=%{customdata[1]}",
         "jitter": 0,
         "legendgroup": "Netherlands",
         "line": {
          "color": "rgba(255,255,255,0)"
         },
         "marker": {
          "color": "#ab63fa",
          "symbol": "line-ns-open"
         },
         "name": "Netherlands",
         "offsetgroup": "Netherlands",
         "showlegend": false,
         "type": "box",
         "x": [
          96,
          45,
          6668,
          8210,
          6072,
          288,
          5730,
          116,
          111,
          1116,
          8174,
          4034,
          2940,
          275,
          151,
          169,
          722,
          103,
          1070,
          11116,
          1208,
          636,
          700,
          426,
          200,
          72,
          924,
          12266,
          72,
          408,
          126,
          960,
          4664,
          64,
          164,
          1038,
          1836,
          328,
          312,
          84,
          4718,
          61,
          350,
          8998,
          424,
          1588,
          9,
          7807,
          375,
          14730,
          992,
          288,
          4628,
          480,
          1012,
          1,
          144,
          4951,
          6932,
          3717,
          545,
          3,
          332,
          15,
          211,
          269,
          13392,
          3020,
          1728,
          1780,
          660,
          29,
          3069,
          2400,
          300,
          2454,
          216,
          62,
          6712,
          1040,
          32,
          146,
          32,
          152,
          372,
          136,
          5760,
          200,
          1284,
          50,
          7366,
          452,
          140
         ],
         "xaxis": "x2",
         "yaxis": "y2"
        }
       ],
       "layout": {
        "barmode": "relative",
        "legend": {
         "title": {
          "text": "Country"
         },
         "tracegroupgap": 0
        },
        "margin": {
         "t": 60
        },
        "template": {
         "data": {
          "bar": [
           {
            "error_x": {
             "color": "#2a3f5f"
            },
            "error_y": {
             "color": "#2a3f5f"
            },
            "marker": {
             "line": {
              "color": "#E5ECF6",
              "width": 0.5
             }
            },
            "type": "bar"
           }
          ],
          "barpolar": [
           {
            "marker": {
             "line": {
              "color": "#E5ECF6",
              "width": 0.5
             }
            },
            "type": "barpolar"
           }
          ],
          "carpet": [
           {
            "aaxis": {
             "endlinecolor": "#2a3f5f",
             "gridcolor": "white",
             "linecolor": "white",
             "minorgridcolor": "white",
             "startlinecolor": "#2a3f5f"
            },
            "baxis": {
             "endlinecolor": "#2a3f5f",
             "gridcolor": "white",
             "linecolor": "white",
             "minorgridcolor": "white",
             "startlinecolor": "#2a3f5f"
            },
            "type": "carpet"
           }
          ],
          "choropleth": [
           {
            "colorbar": {
             "outlinewidth": 0,
             "ticks": ""
            },
            "type": "choropleth"
           }
          ],
          "contour": [
           {
            "colorbar": {
             "outlinewidth": 0,
             "ticks": ""
            },
            "colorscale": [
             [
              0,
              "#0d0887"
             ],
             [
              0.1111111111111111,
              "#46039f"
             ],
             [
              0.2222222222222222,
              "#7201a8"
             ],
             [
              0.3333333333333333,
              "#9c179e"
             ],
             [
              0.4444444444444444,
              "#bd3786"
             ],
             [
              0.5555555555555556,
              "#d8576b"
             ],
             [
              0.6666666666666666,
              "#ed7953"
             ],
             [
              0.7777777777777778,
              "#fb9f3a"
             ],
             [
              0.8888888888888888,
              "#fdca26"
             ],
             [
              1,
              "#f0f921"
             ]
            ],
            "type": "contour"
           }
          ],
          "contourcarpet": [
           {
            "colorbar": {
             "outlinewidth": 0,
             "ticks": ""
            },
            "type": "contourcarpet"
           }
          ],
          "heatmap": [
           {
            "colorbar": {
             "outlinewidth": 0,
             "ticks": ""
            },
            "colorscale": [
             [
              0,
              "#0d0887"
             ],
             [
              0.1111111111111111,
              "#46039f"
             ],
             [
              0.2222222222222222,
              "#7201a8"
             ],
             [
              0.3333333333333333,
              "#9c179e"
             ],
             [
              0.4444444444444444,
              "#bd3786"
             ],
             [
              0.5555555555555556,
              "#d8576b"
             ],
             [
              0.6666666666666666,
              "#ed7953"
             ],
             [
              0.7777777777777778,
              "#fb9f3a"
             ],
             [
              0.8888888888888888,
              "#fdca26"
             ],
             [
              1,
              "#f0f921"
             ]
            ],
            "type": "heatmap"
           }
          ],
          "heatmapgl": [
           {
            "colorbar": {
             "outlinewidth": 0,
             "ticks": ""
            },
            "colorscale": [
             [
              0,
              "#0d0887"
             ],
             [
              0.1111111111111111,
              "#46039f"
             ],
             [
              0.2222222222222222,
              "#7201a8"
             ],
             [
              0.3333333333333333,
              "#9c179e"
             ],
             [
              0.4444444444444444,
              "#bd3786"
             ],
             [
              0.5555555555555556,
              "#d8576b"
             ],
             [
              0.6666666666666666,
              "#ed7953"
             ],
             [
              0.7777777777777778,
              "#fb9f3a"
             ],
             [
              0.8888888888888888,
              "#fdca26"
             ],
             [
              1,
              "#f0f921"
             ]
            ],
            "type": "heatmapgl"
           }
          ],
          "histogram": [
           {
            "marker": {
             "colorbar": {
              "outlinewidth": 0,
              "ticks": ""
             }
            },
            "type": "histogram"
           }
          ],
          "histogram2d": [
           {
            "colorbar": {
             "outlinewidth": 0,
             "ticks": ""
            },
            "colorscale": [
             [
              0,
              "#0d0887"
             ],
             [
              0.1111111111111111,
              "#46039f"
             ],
             [
              0.2222222222222222,
              "#7201a8"
             ],
             [
              0.3333333333333333,
              "#9c179e"
             ],
             [
              0.4444444444444444,
              "#bd3786"
             ],
             [
              0.5555555555555556,
              "#d8576b"
             ],
             [
              0.6666666666666666,
              "#ed7953"
             ],
             [
              0.7777777777777778,
              "#fb9f3a"
             ],
             [
              0.8888888888888888,
              "#fdca26"
             ],
             [
              1,
              "#f0f921"
             ]
            ],
            "type": "histogram2d"
           }
          ],
          "histogram2dcontour": [
           {
            "colorbar": {
             "outlinewidth": 0,
             "ticks": ""
            },
            "colorscale": [
             [
              0,
              "#0d0887"
             ],
             [
              0.1111111111111111,
              "#46039f"
             ],
             [
              0.2222222222222222,
              "#7201a8"
             ],
             [
              0.3333333333333333,
              "#9c179e"
             ],
             [
              0.4444444444444444,
              "#bd3786"
             ],
             [
              0.5555555555555556,
              "#d8576b"
             ],
             [
              0.6666666666666666,
              "#ed7953"
             ],
             [
              0.7777777777777778,
              "#fb9f3a"
             ],
             [
              0.8888888888888888,
              "#fdca26"
             ],
             [
              1,
              "#f0f921"
             ]
            ],
            "type": "histogram2dcontour"
           }
          ],
          "mesh3d": [
           {
            "colorbar": {
             "outlinewidth": 0,
             "ticks": ""
            },
            "type": "mesh3d"
           }
          ],
          "parcoords": [
           {
            "line": {
             "colorbar": {
              "outlinewidth": 0,
              "ticks": ""
             }
            },
            "type": "parcoords"
           }
          ],
          "pie": [
           {
            "automargin": true,
            "type": "pie"
           }
          ],
          "scatter": [
           {
            "marker": {
             "colorbar": {
              "outlinewidth": 0,
              "ticks": ""
             }
            },
            "type": "scatter"
           }
          ],
          "scatter3d": [
           {
            "line": {
             "colorbar": {
              "outlinewidth": 0,
              "ticks": ""
             }
            },
            "marker": {
             "colorbar": {
              "outlinewidth": 0,
              "ticks": ""
             }
            },
            "type": "scatter3d"
           }
          ],
          "scattercarpet": [
           {
            "marker": {
             "colorbar": {
              "outlinewidth": 0,
              "ticks": ""
             }
            },
            "type": "scattercarpet"
           }
          ],
          "scattergeo": [
           {
            "marker": {
             "colorbar": {
              "outlinewidth": 0,
              "ticks": ""
             }
            },
            "type": "scattergeo"
           }
          ],
          "scattergl": [
           {
            "marker": {
             "colorbar": {
              "outlinewidth": 0,
              "ticks": ""
             }
            },
            "type": "scattergl"
           }
          ],
          "scattermapbox": [
           {
            "marker": {
             "colorbar": {
              "outlinewidth": 0,
              "ticks": ""
             }
            },
            "type": "scattermapbox"
           }
          ],
          "scatterpolar": [
           {
            "marker": {
             "colorbar": {
              "outlinewidth": 0,
              "ticks": ""
             }
            },
            "type": "scatterpolar"
           }
          ],
          "scatterpolargl": [
           {
            "marker": {
             "colorbar": {
              "outlinewidth": 0,
              "ticks": ""
             }
            },
            "type": "scatterpolargl"
           }
          ],
          "scatterternary": [
           {
            "marker": {
             "colorbar": {
              "outlinewidth": 0,
              "ticks": ""
             }
            },
            "type": "scatterternary"
           }
          ],
          "surface": [
           {
            "colorbar": {
             "outlinewidth": 0,
             "ticks": ""
            },
            "colorscale": [
             [
              0,
              "#0d0887"
             ],
             [
              0.1111111111111111,
              "#46039f"
             ],
             [
              0.2222222222222222,
              "#7201a8"
             ],
             [
              0.3333333333333333,
              "#9c179e"
             ],
             [
              0.4444444444444444,
              "#bd3786"
             ],
             [
              0.5555555555555556,
              "#d8576b"
             ],
             [
              0.6666666666666666,
              "#ed7953"
             ],
             [
              0.7777777777777778,
              "#fb9f3a"
             ],
             [
              0.8888888888888888,
              "#fdca26"
             ],
             [
              1,
              "#f0f921"
             ]
            ],
            "type": "surface"
           }
          ],
          "table": [
           {
            "cells": {
             "fill": {
              "color": "#EBF0F8"
             },
             "line": {
              "color": "white"
             }
            },
            "header": {
             "fill": {
              "color": "#C8D4E3"
             },
             "line": {
              "color": "white"
             }
            },
            "type": "table"
           }
          ]
         },
         "layout": {
          "annotationdefaults": {
           "arrowcolor": "#2a3f5f",
           "arrowhead": 0,
           "arrowwidth": 1
          },
          "coloraxis": {
           "colorbar": {
            "outlinewidth": 0,
            "ticks": ""
           }
          },
          "colorscale": {
           "diverging": [
            [
             0,
             "#8e0152"
            ],
            [
             0.1,
             "#c51b7d"
            ],
            [
             0.2,
             "#de77ae"
            ],
            [
             0.3,
             "#f1b6da"
            ],
            [
             0.4,
             "#fde0ef"
            ],
            [
             0.5,
             "#f7f7f7"
            ],
            [
             0.6,
             "#e6f5d0"
            ],
            [
             0.7,
             "#b8e186"
            ],
            [
             0.8,
             "#7fbc41"
            ],
            [
             0.9,
             "#4d9221"
            ],
            [
             1,
             "#276419"
            ]
           ],
           "sequential": [
            [
             0,
             "#0d0887"
            ],
            [
             0.1111111111111111,
             "#46039f"
            ],
            [
             0.2222222222222222,
             "#7201a8"
            ],
            [
             0.3333333333333333,
             "#9c179e"
            ],
            [
             0.4444444444444444,
             "#bd3786"
            ],
            [
             0.5555555555555556,
             "#d8576b"
            ],
            [
             0.6666666666666666,
             "#ed7953"
            ],
            [
             0.7777777777777778,
             "#fb9f3a"
            ],
            [
             0.8888888888888888,
             "#fdca26"
            ],
            [
             1,
             "#f0f921"
            ]
           ],
           "sequentialminus": [
            [
             0,
             "#0d0887"
            ],
            [
             0.1111111111111111,
             "#46039f"
            ],
            [
             0.2222222222222222,
             "#7201a8"
            ],
            [
             0.3333333333333333,
             "#9c179e"
            ],
            [
             0.4444444444444444,
             "#bd3786"
            ],
            [
             0.5555555555555556,
             "#d8576b"
            ],
            [
             0.6666666666666666,
             "#ed7953"
            ],
            [
             0.7777777777777778,
             "#fb9f3a"
            ],
            [
             0.8888888888888888,
             "#fdca26"
            ],
            [
             1,
             "#f0f921"
            ]
           ]
          },
          "colorway": [
           "#636efa",
           "#EF553B",
           "#00cc96",
           "#ab63fa",
           "#FFA15A",
           "#19d3f3",
           "#FF6692",
           "#B6E880",
           "#FF97FF",
           "#FECB52"
          ],
          "font": {
           "color": "#2a3f5f"
          },
          "geo": {
           "bgcolor": "white",
           "lakecolor": "white",
           "landcolor": "#E5ECF6",
           "showlakes": true,
           "showland": true,
           "subunitcolor": "white"
          },
          "hoverlabel": {
           "align": "left"
          },
          "hovermode": "closest",
          "mapbox": {
           "style": "light"
          },
          "paper_bgcolor": "white",
          "plot_bgcolor": "#E5ECF6",
          "polar": {
           "angularaxis": {
            "gridcolor": "white",
            "linecolor": "white",
            "ticks": ""
           },
           "bgcolor": "#E5ECF6",
           "radialaxis": {
            "gridcolor": "white",
            "linecolor": "white",
            "ticks": ""
           }
          },
          "scene": {
           "xaxis": {
            "backgroundcolor": "#E5ECF6",
            "gridcolor": "white",
            "gridwidth": 2,
            "linecolor": "white",
            "showbackground": true,
            "ticks": "",
            "zerolinecolor": "white"
           },
           "yaxis": {
            "backgroundcolor": "#E5ECF6",
            "gridcolor": "white",
            "gridwidth": 2,
            "linecolor": "white",
            "showbackground": true,
            "ticks": "",
            "zerolinecolor": "white"
           },
           "zaxis": {
            "backgroundcolor": "#E5ECF6",
            "gridcolor": "white",
            "gridwidth": 2,
            "linecolor": "white",
            "showbackground": true,
            "ticks": "",
            "zerolinecolor": "white"
           }
          },
          "shapedefaults": {
           "line": {
            "color": "#2a3f5f"
           }
          },
          "ternary": {
           "aaxis": {
            "gridcolor": "white",
            "linecolor": "white",
            "ticks": ""
           },
           "baxis": {
            "gridcolor": "white",
            "linecolor": "white",
            "ticks": ""
           },
           "bgcolor": "#E5ECF6",
           "caxis": {
            "gridcolor": "white",
            "linecolor": "white",
            "ticks": ""
           }
          },
          "title": {
           "x": 0.05
          },
          "xaxis": {
           "automargin": true,
           "gridcolor": "white",
           "linecolor": "white",
           "ticks": "",
           "title": {
            "standoff": 15
           },
           "zerolinecolor": "white",
           "zerolinewidth": 2
          },
          "yaxis": {
           "automargin": true,
           "gridcolor": "white",
           "linecolor": "white",
           "ticks": "",
           "title": {
            "standoff": 15
           },
           "zerolinecolor": "white",
           "zerolinewidth": 2
          }
         }
        },
        "xaxis": {
         "anchor": "y",
         "domain": [
          0,
          1
         ],
         "title": {
          "text": "Quantity"
         }
        },
        "xaxis2": {
         "anchor": "y2",
         "domain": [
          0,
          1
         ],
         "matches": "x",
         "showgrid": true,
         "showticklabels": false
        },
        "yaxis": {
         "anchor": "x",
         "domain": [
          0,
          0.7326
         ],
         "title": {
          "text": "count of InvoiceNo"
         }
        },
        "yaxis2": {
         "anchor": "x2",
         "domain": [
          0.7426,
          1
         ],
         "matches": "y2",
         "showgrid": false,
         "showline": false,
         "showticklabels": false,
         "ticks": ""
        }
       }
      },
      "text/html": [
       "<div>\n",
       "        \n",
       "        \n",
       "            <div id=\"10615658-af9a-4b9f-b119-b0ba2243b138\" class=\"plotly-graph-div\" style=\"height:525px; width:100%;\"></div>\n",
       "            <script type=\"text/javascript\">\n",
       "                require([\"plotly\"], function(Plotly) {\n",
       "                    window.PLOTLYENV=window.PLOTLYENV || {};\n",
       "                    \n",
       "                if (document.getElementById(\"10615658-af9a-4b9f-b119-b0ba2243b138\")) {\n",
       "                    Plotly.newPlot(\n",
       "                        '10615658-af9a-4b9f-b119-b0ba2243b138',\n",
       "                        [{\"alignmentgroup\": \"True\", \"bingroup\": \"x\", \"hoverlabel\": {\"namelength\": 0}, \"hovertemplate\": \"Country=EIRE<br>Quantity=%{x}<br>count of InvoiceNo=%{y}\", \"legendgroup\": \"EIRE\", \"marker\": {\"color\": \"#636efa\"}, \"name\": \"EIRE\", \"offsetgroup\": \"EIRE\", \"orientation\": \"v\", \"showlegend\": true, \"type\": \"histogram\", \"x\": [230, 12, 6, 1548, 827, 134, 475, 3, 287, 379, 358, 373, 154, 344, 107, 84, 6198, 286, 1332, 46, 690, 154, 463, 270, 74, 939, 470, 1932, 86, 60, 668, 669, 263, 593, 263, 2826, 108, 218, 206, 498, 230, 511, 328, 335, 416, 265, 72, 113, 533, 744, 44, 713, 1162, 76, 655, 271, 118, 477, 112, 150, 233, 162, 297, 235, 192, 1694, 446, 138, 526, 543, 711, 494, 636, 112, 284, 225, 401, 304, 4, 4, 404, 191, 2090, 492, 244, 261, 427, 2642, 384, 268, 355, 83, 48, 308, 280, 186, 1, 571, 48, 314, 79, 2086, 17, 394, 81, 18, 697, 20, 688, 177, 1202, 5726, 496, 762, 256, 269, 228, 146, 251, 602, 55, 362, 2270, 286, 1410, 5246, 2270, 744, 603, 391, 314, 872, 554, 491, 579, 579, 12, 38, 644, 147, 572, 276, 1776, 408, 163, 1272, 5034, 456, 1145, 140, 417, 331, 942, 185, 734, 225, 84, 166, 615, 342, 93, 132, 670, 5, 717, 1242, 223, 256, 202, 549, 70, 333, 58, 16, 2720, 385, 18, 228, 448, 360, 646, 12, 85, 416, 1704, 46, 75, 510, 2, 406, 352, 668, 456, 66, 599, 223, 572, 36, 283, 342, 711, 4462, 490, 414, 487, 220, 184, 391, 624, 270, 324, 29, 334, 78, 580, 496, 152, 840, 258, 1200, 945, 205, 533, 198, 52, 226, 194, 2900, 147, 248, 383, 296, 440, 12, 614, 870, 238, 375, 59, 142, 91, 225, 605, 340, 99, 354, 132, 131, 256, 534, 184, 34, 817, 609, 572, 806], \"xaxis\": \"x\", \"y\": [536540, 536541, 536803, 536890, 536975, 537368, 537378, 537386, 538009, 538255, 539320, 539421, 539473, 539722, 539984, 540547, 541220, 541434, 541670, 541979, 542216, 542278, 542777, 543114, 543178, 543828, 544074, 544075, 544210, 544390, 544690, 545320, 545634, 545657, 546172, 546212, 546213, 546263, 546509, 546520, 546541, 546569, 546580, 546660, 546861, 546917, 547048, 547702, 547789, 547882, 548449, 548664, 548718, 548858, 549118, 549196, 549242, 549667, 549721, 550302, 550618, 551187, 551656, 551657, 551950, 552038, 552262, 553203, 553206, 553210, 553348, 553375, 553686, 553897, 553901, 553931, 554139, 554770, 554776, 554791, 555650, 555858, 555947, 556060, 556126, 556206, 556510, 556927, 556928, 556953, 557136, 557318, 557605, 557742, 557759, 557872, 557880, 558067, 558069, 558113, 558114, 558417, 558431, 558613, 558640, 558644, 558684, 559010, 560036, 560041, 560300, 560445, 560446, 560451, 560534, 560894, 560916, 560922, 561257, 561471, 561472, 561631, 561645, 561798, 561870, 561901, 562374, 562560, 562670, 562935, 562960, 562973, 563098, 563169, 563355, 563558, 563559, 563685, 563848, 563913, 564565, 564654, 565213, 565214, 565289, 565412, 565475, 565476, 565748, 565749, 565800, 565851, 565857, 565916, 566625, 566776, 566846, 567334, 567378, 567428, 567616, 567720, 567899, 567900, 568048, 568095, 568221, 568310, 568417, 568654, 568656, 568698, 568706, 568707, 569010, 569028, 569130, 569739, 570016, 570253, 570388, 570485, 570651, 570657, 570674, 570694, 570700, 570703, 570706, 570839, 571129, 571313, 571314, 571377, 571409, 571425, 571446, 571447, 571559, 571562, 571745, 571937, 572069, 572124, 572127, 572459, 573391, 573581, 573748, 573892, 574745, 574841, 574874, 574938, 575486, 575728, 575735, 575751, 575871, 575933, 576051, 576141, 576371, 576595, 576596, 576602, 576603, 576653, 576880, 576899, 577061, 577355, 577479, 577607, 577613, 577850, 578054, 578093, 578105, 578331, 578792, 578994, 579069, 579102, 579539, 579553, 579768, 579910, 580127, 580528, 580555, 580557, 581003, 581006, 581098, 581433], \"yaxis\": \"y\"}, {\"alignmentgroup\": \"True\", \"boxpoints\": \"all\", \"customdata\": [[\"EIRE\", 536540, 230], [\"EIRE\", 536541, 12], [\"EIRE\", 536803, 6], [\"EIRE\", 536890, 1548], [\"EIRE\", 536975, 827], [\"EIRE\", 537368, 134], [\"EIRE\", 537378, 475], [\"EIRE\", 537386, 3], [\"EIRE\", 538009, 287], [\"EIRE\", 538255, 379], [\"EIRE\", 539320, 358], [\"EIRE\", 539421, 373], [\"EIRE\", 539473, 154], [\"EIRE\", 539722, 344], [\"EIRE\", 539984, 107], [\"EIRE\", 540547, 84], [\"EIRE\", 541220, 6198], [\"EIRE\", 541434, 286], [\"EIRE\", 541670, 1332], [\"EIRE\", 541979, 46], [\"EIRE\", 542216, 690], [\"EIRE\", 542278, 154], [\"EIRE\", 542777, 463], [\"EIRE\", 543114, 270], [\"EIRE\", 543178, 74], [\"EIRE\", 543828, 939], [\"EIRE\", 544074, 470], [\"EIRE\", 544075, 1932], [\"EIRE\", 544210, 86], [\"EIRE\", 544390, 60], [\"EIRE\", 544690, 668], [\"EIRE\", 545320, 669], [\"EIRE\", 545634, 263], [\"EIRE\", 545657, 593], [\"EIRE\", 546172, 263], [\"EIRE\", 546212, 2826], [\"EIRE\", 546213, 108], [\"EIRE\", 546263, 218], [\"EIRE\", 546509, 206], [\"EIRE\", 546520, 498], [\"EIRE\", 546541, 230], [\"EIRE\", 546569, 511], [\"EIRE\", 546580, 328], [\"EIRE\", 546660, 335], [\"EIRE\", 546861, 416], [\"EIRE\", 546917, 265], [\"EIRE\", 547048, 72], [\"EIRE\", 547702, 113], [\"EIRE\", 547789, 533], [\"EIRE\", 547882, 744], [\"EIRE\", 548449, 44], [\"EIRE\", 548664, 713], [\"EIRE\", 548718, 1162], [\"EIRE\", 548858, 76], [\"EIRE\", 549118, 655], [\"EIRE\", 549196, 271], [\"EIRE\", 549242, 118], [\"EIRE\", 549667, 477], [\"EIRE\", 549721, 112], [\"EIRE\", 550302, 150], [\"EIRE\", 550618, 233], [\"EIRE\", 551187, 162], [\"EIRE\", 551656, 297], [\"EIRE\", 551657, 235], [\"EIRE\", 551950, 192], [\"EIRE\", 552038, 1694], [\"EIRE\", 552262, 446], [\"EIRE\", 553203, 138], [\"EIRE\", 553206, 526], [\"EIRE\", 553210, 543], [\"EIRE\", 553348, 711], [\"EIRE\", 553375, 494], [\"EIRE\", 553686, 636], [\"EIRE\", 553897, 112], [\"EIRE\", 553901, 284], [\"EIRE\", 553931, 225], [\"EIRE\", 554139, 401], [\"EIRE\", 554770, 304], [\"EIRE\", 554776, 4], [\"EIRE\", 554791, 4], [\"EIRE\", 555650, 404], [\"EIRE\", 555858, 191], [\"EIRE\", 555947, 2090], [\"EIRE\", 556060, 492], [\"EIRE\", 556126, 244], [\"EIRE\", 556206, 261], [\"EIRE\", 556510, 427], [\"EIRE\", 556927, 2642], [\"EIRE\", 556928, 384], [\"EIRE\", 556953, 268], [\"EIRE\", 557136, 355], [\"EIRE\", 557318, 83], [\"EIRE\", 557605, 48], [\"EIRE\", 557742, 308], [\"EIRE\", 557759, 280], [\"EIRE\", 557872, 186], [\"EIRE\", 557880, 1], [\"EIRE\", 558067, 571], [\"EIRE\", 558069, 48], [\"EIRE\", 558113, 314], [\"EIRE\", 558114, 79], [\"EIRE\", 558417, 2086], [\"EIRE\", 558431, 17], [\"EIRE\", 558613, 394], [\"EIRE\", 558640, 81], [\"EIRE\", 558644, 18], [\"EIRE\", 558684, 697], [\"EIRE\", 559010, 20], [\"EIRE\", 560036, 688], [\"EIRE\", 560041, 177], [\"EIRE\", 560300, 1202], [\"EIRE\", 560445, 5726], [\"EIRE\", 560446, 496], [\"EIRE\", 560451, 762], [\"EIRE\", 560534, 256], [\"EIRE\", 560894, 269], [\"EIRE\", 560916, 228], [\"EIRE\", 560922, 146], [\"EIRE\", 561257, 251], [\"EIRE\", 561471, 602], [\"EIRE\", 561472, 55], [\"EIRE\", 561631, 362], [\"EIRE\", 561645, 2270], [\"EIRE\", 561798, 286], [\"EIRE\", 561870, 1410], [\"EIRE\", 561901, 5246], [\"EIRE\", 562374, 2270], [\"EIRE\", 562560, 744], [\"EIRE\", 562670, 603], [\"EIRE\", 562935, 391], [\"EIRE\", 562960, 314], [\"EIRE\", 562973, 872], [\"EIRE\", 563098, 554], [\"EIRE\", 563169, 491], [\"EIRE\", 563355, 579], [\"EIRE\", 563558, 579], [\"EIRE\", 563559, 12], [\"EIRE\", 563685, 38], [\"EIRE\", 563848, 644], [\"EIRE\", 563913, 147], [\"EIRE\", 564565, 572], [\"EIRE\", 564654, 276], [\"EIRE\", 565213, 1776], [\"EIRE\", 565214, 408], [\"EIRE\", 565289, 163], [\"EIRE\", 565412, 1272], [\"EIRE\", 565475, 5034], [\"EIRE\", 565476, 456], [\"EIRE\", 565748, 1145], [\"EIRE\", 565749, 140], [\"EIRE\", 565800, 417], [\"EIRE\", 565851, 331], [\"EIRE\", 565857, 942], [\"EIRE\", 565916, 185], [\"EIRE\", 566625, 734], [\"EIRE\", 566776, 225], [\"EIRE\", 566846, 84], [\"EIRE\", 567334, 166], [\"EIRE\", 567378, 615], [\"EIRE\", 567428, 342], [\"EIRE\", 567616, 93], [\"EIRE\", 567720, 132], [\"EIRE\", 567899, 670], [\"EIRE\", 567900, 5], [\"EIRE\", 568048, 717], [\"EIRE\", 568095, 1242], [\"EIRE\", 568221, 223], [\"EIRE\", 568310, 256], [\"EIRE\", 568417, 202], [\"EIRE\", 568654, 549], [\"EIRE\", 568656, 70], [\"EIRE\", 568698, 333], [\"EIRE\", 568706, 58], [\"EIRE\", 568707, 16], [\"EIRE\", 569010, 2720], [\"EIRE\", 569028, 385], [\"EIRE\", 569130, 18], [\"EIRE\", 569739, 228], [\"EIRE\", 570016, 448], [\"EIRE\", 570253, 360], [\"EIRE\", 570388, 646], [\"EIRE\", 570485, 12], [\"EIRE\", 570651, 85], [\"EIRE\", 570657, 416], [\"EIRE\", 570674, 1704], [\"EIRE\", 570694, 46], [\"EIRE\", 570700, 75], [\"EIRE\", 570703, 510], [\"EIRE\", 570706, 2], [\"EIRE\", 570839, 406], [\"EIRE\", 571129, 352], [\"EIRE\", 571313, 668], [\"EIRE\", 571314, 456], [\"EIRE\", 571377, 66], [\"EIRE\", 571409, 599], [\"EIRE\", 571425, 223], [\"EIRE\", 571446, 572], [\"EIRE\", 571447, 36], [\"EIRE\", 571559, 283], [\"EIRE\", 571562, 342], [\"EIRE\", 571745, 711], [\"EIRE\", 571937, 4462], [\"EIRE\", 572069, 490], [\"EIRE\", 572124, 414], [\"EIRE\", 572127, 487], [\"EIRE\", 572459, 220], [\"EIRE\", 573391, 184], [\"EIRE\", 573581, 391], [\"EIRE\", 573748, 624], [\"EIRE\", 573892, 270], [\"EIRE\", 574745, 324], [\"EIRE\", 574841, 29], [\"EIRE\", 574874, 334], [\"EIRE\", 574938, 78], [\"EIRE\", 575486, 580], [\"EIRE\", 575728, 496], [\"EIRE\", 575735, 152], [\"EIRE\", 575751, 840], [\"EIRE\", 575871, 258], [\"EIRE\", 575933, 1200], [\"EIRE\", 576051, 945], [\"EIRE\", 576141, 205], [\"EIRE\", 576371, 533], [\"EIRE\", 576595, 198], [\"EIRE\", 576596, 52], [\"EIRE\", 576602, 226], [\"EIRE\", 576603, 194], [\"EIRE\", 576653, 2900], [\"EIRE\", 576880, 147], [\"EIRE\", 576899, 248], [\"EIRE\", 577061, 383], [\"EIRE\", 577355, 296], [\"EIRE\", 577479, 440], [\"EIRE\", 577607, 12], [\"EIRE\", 577613, 614], [\"EIRE\", 577850, 870], [\"EIRE\", 578054, 238], [\"EIRE\", 578093, 375], [\"EIRE\", 578105, 59], [\"EIRE\", 578331, 142], [\"EIRE\", 578792, 91], [\"EIRE\", 578994, 225], [\"EIRE\", 579069, 605], [\"EIRE\", 579102, 340], [\"EIRE\", 579539, 99], [\"EIRE\", 579553, 354], [\"EIRE\", 579768, 132], [\"EIRE\", 579910, 131], [\"EIRE\", 580127, 256], [\"EIRE\", 580528, 534], [\"EIRE\", 580555, 184], [\"EIRE\", 580557, 34], [\"EIRE\", 581003, 817], [\"EIRE\", 581006, 609], [\"EIRE\", 581098, 572], [\"EIRE\", 581433, 806]], \"fillcolor\": \"rgba(255,255,255,0)\", \"hoverlabel\": {\"namelength\": 0}, \"hoveron\": \"points\", \"hovertemplate\": \"Country=%{customdata[0]}<br>Quantity=%{customdata[2]}<br>InvoiceNo=%{customdata[1]}\", \"jitter\": 0, \"legendgroup\": \"EIRE\", \"line\": {\"color\": \"rgba(255,255,255,0)\"}, \"marker\": {\"color\": \"#636efa\", \"symbol\": \"line-ns-open\"}, \"name\": \"EIRE\", \"offsetgroup\": \"EIRE\", \"showlegend\": false, \"type\": \"box\", \"x\": [230, 12, 6, 1548, 827, 134, 475, 3, 287, 379, 358, 373, 154, 344, 107, 84, 6198, 286, 1332, 46, 690, 154, 463, 270, 74, 939, 470, 1932, 86, 60, 668, 669, 263, 593, 263, 2826, 108, 218, 206, 498, 230, 511, 328, 335, 416, 265, 72, 113, 533, 744, 44, 713, 1162, 76, 655, 271, 118, 477, 112, 150, 233, 162, 297, 235, 192, 1694, 446, 138, 526, 543, 711, 494, 636, 112, 284, 225, 401, 304, 4, 4, 404, 191, 2090, 492, 244, 261, 427, 2642, 384, 268, 355, 83, 48, 308, 280, 186, 1, 571, 48, 314, 79, 2086, 17, 394, 81, 18, 697, 20, 688, 177, 1202, 5726, 496, 762, 256, 269, 228, 146, 251, 602, 55, 362, 2270, 286, 1410, 5246, 2270, 744, 603, 391, 314, 872, 554, 491, 579, 579, 12, 38, 644, 147, 572, 276, 1776, 408, 163, 1272, 5034, 456, 1145, 140, 417, 331, 942, 185, 734, 225, 84, 166, 615, 342, 93, 132, 670, 5, 717, 1242, 223, 256, 202, 549, 70, 333, 58, 16, 2720, 385, 18, 228, 448, 360, 646, 12, 85, 416, 1704, 46, 75, 510, 2, 406, 352, 668, 456, 66, 599, 223, 572, 36, 283, 342, 711, 4462, 490, 414, 487, 220, 184, 391, 624, 270, 324, 29, 334, 78, 580, 496, 152, 840, 258, 1200, 945, 205, 533, 198, 52, 226, 194, 2900, 147, 248, 383, 296, 440, 12, 614, 870, 238, 375, 59, 142, 91, 225, 605, 340, 99, 354, 132, 131, 256, 534, 184, 34, 817, 609, 572, 806], \"xaxis\": \"x2\", \"yaxis\": \"y2\"}, {\"alignmentgroup\": \"True\", \"bingroup\": \"x\", \"hoverlabel\": {\"namelength\": 0}, \"hovertemplate\": \"Country=France<br>Quantity=%{x}<br>count of InvoiceNo=%{y}\", \"legendgroup\": \"France\", \"marker\": {\"color\": \"#EF553B\"}, \"name\": \"France\", \"offsetgroup\": \"France\", \"orientation\": \"v\", \"showlegend\": true, \"type\": \"histogram\", \"x\": [446, 106, 130, 602, 581, 164, 120, 106, 8, 552, 339, 410, 134, 3, 332, 64, 128, 599, 24, 88, 359, 369, 261, 177, 488, 103, 78, 628, 168, 576, 120, 114, 43, 131, 498, 543, 78, 440, 263, 383, 702, 120, 84, 59, 406, 102, 1617, 202, 197, 159, 206, 611, 214, 298, 452, 96, 772, 114, 748, 15, 256, 77, 264, 96, 70, 213, 310, 72, 54, 245, 329, 314, 24, 123, 323, 183, 184, 314, 97, 62, 422, 85, 5, 198, 136, 713, 242, 130, 261, 59, 842, 946, 132, 2271, 88, 240, 293, 236, 284, 375, 25, 196, 23, 275, 84, 146, 368, 350, 6, 120, 192, 98, 773, 162, 332, 458, 859, 734, 105, 202, 33, 267, 140, 220, 58, 476, 103, 152, 72, 434, 126, 464, 229, 62, 304, 208, 180, 180, 374, 86, 424, 155, 200, 1184, 347, 358, 115, 216, 216, 464, 444, 320, 460, 160, 714, 549, 110, 232, 356, 170, 139, 206, 267, 514, 62, 50, 208, 350, 270, 384, 410, 118, 108, 284, 78, 256, 321, 592, 322, 135, 198, 236, 48, 76, 262, 156, 116, 666, 46, 82, 838, 32, 234, 147, 500, 52, 690, 279, 320, 162, 197, 178, 3, 603, 400, 231, 228, 459, 33, 234, 54, 402, 105, 139, 784, 170, 204, 145, 688, 820, 120, 198, 270, 98, 54, 506, 142, 184, 265, 646, 719, 644, 209, 104, 292, 719, 42, 72, 436, 1060, 164, 6, 228, 241, 177, 189, 306, 274, 416, 64, 63, 484, 255, 172, 282, 475, 169, 111, 64, 265, 335, 162, 201, 286, 710, 173, 183, 156, 80, 34, 885, 160, 188, 2, 29, 184, 342, 60, 158, 2801, 162, 72, 98, 218, 100, 122, 232, 566, 165, 524, 136, 297, 48, 76, 5202, 36, 5, 208, 326, 90, 344, 258, 421, 288, 567, 373, 92, 304, 33, 406, 459, 341, 151, 183, 104, 100, 206, 213, 330, 203, 220, 336, 760, 200, 96, 69, 343, 320, 222, 36, 439, 24, 662, 108, 766, 210, 510, 298, 154, 92, 221, 77, 268, 182, 171, 212, 7, 132, 825, 439, 310, 68, 126, 386, 386, 338, 300, 267, 147, 236, 806, 97, 168, 320, 84, 694, 14, 210, 74, 252, 467, 203, 300, 24, 250, 309, 247, 18, 105], \"xaxis\": \"x\", \"y\": [536370, 536852, 536974, 537065, 537463, 537468, 537693, 537897, 537967, 538008, 538093, 538196, 539050, 539113, 539407, 539435, 539551, 539607, 539727, 539829, 540178, 540239, 540351, 540365, 540455, 540463, 540521, 540642, 540688, 540789, 540824, 540835, 540851, 540972, 540976, 541120, 541121, 541138, 541405, 541567, 541631, 541857, 541981, 542425, 542433, 542535, 542629, 542735, 542904, 542922, 543030, 543188, 543459, 543484, 543625, 544069, 544115, 544200, 544355, 544423, 544470, 544585, 544817, 544818, 545051, 545086, 545105, 545180, 545181, 545235, 545301, 545515, 545517, 545583, 546373, 546428, 546479, 546678, 546765, 546770, 547087, 547194, 547196, 547327, 547492, 547504, 547508, 547520, 547722, 547863, 547892, 548409, 548410, 548496, 548553, 548606, 548737, 549274, 550145, 550313, 550338, 550661, 550821, 550827, 551163, 551389, 551539, 551544, 551545, 551649, 551652, 551887, 552315, 552325, 552464, 552631, 552826, 552851, 552946, 553044, 553143, 553161, 553195, 553208, 553316, 553411, 553566, 553577, 553666, 553838, 553843, 553997, 554097, 554109, 554134, 554356, 554555, 554648, 554650, 554826, 554840, 554940, 555096, 555531, 555547, 555569, 555637, 555933, 555936, 555937, 555941, 556258, 556259, 556305, 556463, 556507, 556526, 556529, 556816, 556819, 556820, 556886, 557069, 557247, 557295, 557483, 557489, 557627, 557669, 557734, 558045, 558124, 558334, 558687, 558699, 558813, 559036, 559134, 559418, 559422, 559441, 559607, 559685, 559699, 559704, 559782, 559819, 559889, 560272, 560363, 560398, 560452, 561029, 561470, 561795, 562039, 562207, 562275, 562450, 562520, 562894, 563189, 563202, 563288, 563502, 563662, 563712, 563753, 563897, 563926, 564159, 564173, 564226, 564314, 564372, 564471, 564479, 564531, 564670, 564897, 564906, 564912, 565239, 565321, 565322, 565443, 565587, 565612, 565801, 565854, 565865, 565930, 565931, 566074, 566115, 566163, 566256, 566492, 566736, 566816, 566873, 566918, 567191, 567293, 567296, 567300, 567380, 567552, 567618, 567640, 567657, 567756, 567793, 567910, 567915, 568040, 568137, 568176, 568518, 568645, 568798, 568953, 568988, 568994, 569097, 569120, 569122, 569332, 569402, 569531, 569568, 569686, 569699, 569701, 569921, 570020, 570030, 570267, 570409, 570672, 570724, 570798, 570823, 570841, 570851, 570879, 571240, 571864, 571923, 572087, 572925, 572986, 572992, 573036, 573153, 573273, 573316, 573402, 573428, 573442, 573867, 573868, 573891, 574068, 574093, 574104, 574252, 574501, 574506, 575049, 575067, 575193, 575326, 575519, 575581, 575584, 575629, 575661, 575671, 575692, 575747, 575845, 575880, 575884, 575916, 576064, 576087, 576222, 576245, 576373, 576399, 576669, 576672, 576894, 576927, 576941, 577121, 577152, 577295, 577344, 577502, 577512, 577687, 577856, 578033, 578277, 578287, 578348, 578541, 578698, 578736, 578835, 579153, 579190, 579193, 579345, 579492, 579529, 579634, 579708, 579792, 579870, 580120, 580126, 580144, 580160, 580285, 580509, 580534, 580536, 580705, 580736, 580753, 580756, 580986, 581001, 581171, 581279, 581587], \"yaxis\": \"y\"}, {\"alignmentgroup\": \"True\", \"boxpoints\": \"all\", \"customdata\": [[\"France\", 536370, 446], [\"France\", 536852, 106], [\"France\", 536974, 130], [\"France\", 537065, 602], [\"France\", 537463, 581], [\"France\", 537468, 164], [\"France\", 537693, 120], [\"France\", 537897, 106], [\"France\", 537967, 8], [\"France\", 538008, 552], [\"France\", 538093, 339], [\"France\", 538196, 410], [\"France\", 539050, 134], [\"France\", 539113, 3], [\"France\", 539407, 332], [\"France\", 539435, 64], [\"France\", 539551, 128], [\"France\", 539607, 599], [\"France\", 539727, 24], [\"France\", 539829, 88], [\"France\", 540178, 359], [\"France\", 540239, 369], [\"France\", 540351, 261], [\"France\", 540365, 177], [\"France\", 540455, 488], [\"France\", 540463, 103], [\"France\", 540521, 78], [\"France\", 540642, 628], [\"France\", 540688, 168], [\"France\", 540789, 576], [\"France\", 540824, 120], [\"France\", 540835, 114], [\"France\", 540851, 43], [\"France\", 540972, 131], [\"France\", 540976, 498], [\"France\", 541120, 543], [\"France\", 541121, 78], [\"France\", 541138, 440], [\"France\", 541405, 263], [\"France\", 541567, 383], [\"France\", 541631, 702], [\"France\", 541857, 120], [\"France\", 541981, 84], [\"France\", 542425, 59], [\"France\", 542433, 406], [\"France\", 542535, 102], [\"France\", 542629, 1617], [\"France\", 542735, 202], [\"France\", 542904, 197], [\"France\", 542922, 159], [\"France\", 543030, 206], [\"France\", 543188, 611], [\"France\", 543459, 214], [\"France\", 543484, 298], [\"France\", 543625, 452], [\"France\", 544069, 96], [\"France\", 544115, 772], [\"France\", 544200, 114], [\"France\", 544355, 748], [\"France\", 544423, 15], [\"France\", 544470, 256], [\"France\", 544585, 77], [\"France\", 544817, 264], [\"France\", 544818, 96], [\"France\", 545051, 70], [\"France\", 545086, 213], [\"France\", 545105, 310], [\"France\", 545180, 72], [\"France\", 545181, 54], [\"France\", 545235, 245], [\"France\", 545301, 329], [\"France\", 545515, 314], [\"France\", 545517, 24], [\"France\", 545583, 123], [\"France\", 546373, 323], [\"France\", 546428, 183], [\"France\", 546479, 184], [\"France\", 546678, 314], [\"France\", 546765, 97], [\"France\", 546770, 62], [\"France\", 547087, 422], [\"France\", 547194, 85], [\"France\", 547196, 5], [\"France\", 547327, 198], [\"France\", 547492, 136], [\"France\", 547504, 713], [\"France\", 547508, 242], [\"France\", 547520, 130], [\"France\", 547722, 261], [\"France\", 547863, 59], [\"France\", 547892, 842], [\"France\", 548409, 946], [\"France\", 548410, 132], [\"France\", 548496, 2271], [\"France\", 548553, 88], [\"France\", 548606, 240], [\"France\", 548737, 293], [\"France\", 549274, 236], [\"France\", 550145, 284], [\"France\", 550313, 375], [\"France\", 550338, 25], [\"France\", 550661, 196], [\"France\", 550821, 23], [\"France\", 550827, 275], [\"France\", 551163, 84], [\"France\", 551389, 146], [\"France\", 551539, 368], [\"France\", 551544, 350], [\"France\", 551545, 6], [\"France\", 551649, 120], [\"France\", 551652, 192], [\"France\", 551887, 98], [\"France\", 552315, 773], [\"France\", 552325, 162], [\"France\", 552464, 332], [\"France\", 552631, 458], [\"France\", 552826, 859], [\"France\", 552851, 734], [\"France\", 552946, 105], [\"France\", 553044, 202], [\"France\", 553143, 33], [\"France\", 553161, 267], [\"France\", 553195, 140], [\"France\", 553208, 220], [\"France\", 553316, 58], [\"France\", 553411, 476], [\"France\", 553566, 103], [\"France\", 553577, 152], [\"France\", 553666, 72], [\"France\", 553838, 434], [\"France\", 553843, 126], [\"France\", 553997, 464], [\"France\", 554097, 229], [\"France\", 554109, 62], [\"France\", 554134, 304], [\"France\", 554356, 208], [\"France\", 554555, 180], [\"France\", 554648, 180], [\"France\", 554650, 374], [\"France\", 554826, 86], [\"France\", 554840, 424], [\"France\", 554940, 155], [\"France\", 555096, 200], [\"France\", 555531, 1184], [\"France\", 555547, 347], [\"France\", 555569, 358], [\"France\", 555637, 115], [\"France\", 555933, 216], [\"France\", 555936, 216], [\"France\", 555937, 464], [\"France\", 555941, 444], [\"France\", 556258, 320], [\"France\", 556259, 460], [\"France\", 556305, 160], [\"France\", 556463, 714], [\"France\", 556507, 549], [\"France\", 556526, 110], [\"France\", 556529, 232], [\"France\", 556816, 356], [\"France\", 556819, 170], [\"France\", 556820, 139], [\"France\", 556886, 206], [\"France\", 557069, 267], [\"France\", 557247, 514], [\"France\", 557295, 62], [\"France\", 557483, 50], [\"France\", 557489, 208], [\"France\", 557627, 350], [\"France\", 557669, 270], [\"France\", 557734, 384], [\"France\", 558045, 410], [\"France\", 558124, 118], [\"France\", 558334, 108], [\"France\", 558687, 284], [\"France\", 558699, 78], [\"France\", 558813, 256], [\"France\", 559036, 321], [\"France\", 559134, 592], [\"France\", 559418, 322], [\"France\", 559422, 135], [\"France\", 559441, 198], [\"France\", 559607, 236], [\"France\", 559685, 48], [\"France\", 559699, 76], [\"France\", 559704, 262], [\"France\", 559782, 156], [\"France\", 559819, 116], [\"France\", 559889, 666], [\"France\", 560272, 46], [\"France\", 560363, 82], [\"France\", 560398, 838], [\"France\", 560452, 32], [\"France\", 561029, 234], [\"France\", 561470, 147], [\"France\", 561795, 500], [\"France\", 562039, 52], [\"France\", 562207, 690], [\"France\", 562275, 279], [\"France\", 562450, 320], [\"France\", 562520, 162], [\"France\", 562894, 197], [\"France\", 563189, 178], [\"France\", 563202, 3], [\"France\", 563288, 603], [\"France\", 563502, 400], [\"France\", 563662, 231], [\"France\", 563712, 228], [\"France\", 563753, 459], [\"France\", 563897, 33], [\"France\", 563926, 234], [\"France\", 564159, 54], [\"France\", 564173, 402], [\"France\", 564226, 105], [\"France\", 564314, 139], [\"France\", 564372, 784], [\"France\", 564471, 170], [\"France\", 564479, 204], [\"France\", 564531, 145], [\"France\", 564670, 688], [\"France\", 564897, 820], [\"France\", 564906, 120], [\"France\", 564912, 198], [\"France\", 565239, 270], [\"France\", 565321, 98], [\"France\", 565322, 54], [\"France\", 565443, 506], [\"France\", 565587, 142], [\"France\", 565612, 184], [\"France\", 565801, 265], [\"France\", 565854, 646], [\"France\", 565865, 719], [\"France\", 565930, 644], [\"France\", 565931, 209], [\"France\", 566074, 104], [\"France\", 566115, 292], [\"France\", 566163, 719], [\"France\", 566256, 42], [\"France\", 566492, 72], [\"France\", 566736, 436], [\"France\", 566816, 1060], [\"France\", 566873, 164], [\"France\", 566918, 6], [\"France\", 567191, 228], [\"France\", 567293, 241], [\"France\", 567296, 177], [\"France\", 567300, 189], [\"France\", 567380, 306], [\"France\", 567552, 274], [\"France\", 567618, 416], [\"France\", 567640, 64], [\"France\", 567657, 63], [\"France\", 567756, 484], [\"France\", 567793, 255], [\"France\", 567910, 172], [\"France\", 567915, 282], [\"France\", 568040, 475], [\"France\", 568137, 169], [\"France\", 568176, 111], [\"France\", 568518, 64], [\"France\", 568645, 265], [\"France\", 568798, 335], [\"France\", 568953, 162], [\"France\", 568988, 201], [\"France\", 568994, 286], [\"France\", 569097, 710], [\"France\", 569120, 173], [\"France\", 569122, 183], [\"France\", 569332, 156], [\"France\", 569402, 80], [\"France\", 569531, 34], [\"France\", 569568, 885], [\"France\", 569686, 160], [\"France\", 569699, 188], [\"France\", 569701, 2], [\"France\", 569921, 29], [\"France\", 570020, 184], [\"France\", 570030, 342], [\"France\", 570267, 60], [\"France\", 570409, 158], [\"France\", 570672, 2801], [\"France\", 570724, 162], [\"France\", 570798, 72], [\"France\", 570823, 98], [\"France\", 570841, 218], [\"France\", 570851, 100], [\"France\", 570879, 122], [\"France\", 571240, 232], [\"France\", 571864, 566], [\"France\", 571923, 165], [\"France\", 572087, 524], [\"France\", 572925, 136], [\"France\", 572986, 297], [\"France\", 572992, 48], [\"France\", 573036, 76], [\"France\", 573153, 5202], [\"France\", 573273, 36], [\"France\", 573316, 5], [\"France\", 573402, 208], [\"France\", 573428, 326], [\"France\", 573442, 90], [\"France\", 573867, 344], [\"France\", 573868, 258], [\"France\", 573891, 421], [\"France\", 574068, 288], [\"France\", 574093, 567], [\"France\", 574104, 373], [\"France\", 574252, 92], [\"France\", 574501, 304], [\"France\", 574506, 33], [\"France\", 575049, 406], [\"France\", 575067, 459], [\"France\", 575193, 341], [\"France\", 575326, 151], [\"France\", 575519, 183], [\"France\", 575581, 104], [\"France\", 575584, 100], [\"France\", 575629, 206], [\"France\", 575661, 213], [\"France\", 575671, 330], [\"France\", 575692, 203], [\"France\", 575747, 220], [\"France\", 575845, 336], [\"France\", 575880, 760], [\"France\", 575884, 200], [\"France\", 575916, 96], [\"France\", 576064, 69], [\"France\", 576087, 343], [\"France\", 576222, 320], [\"France\", 576245, 222], [\"France\", 576373, 36], [\"France\", 576399, 439], [\"France\", 576669, 24], [\"France\", 576672, 662], [\"France\", 576894, 108], [\"France\", 576927, 766], [\"France\", 576941, 210], [\"France\", 577121, 510], [\"France\", 577152, 298], [\"France\", 577295, 154], [\"France\", 577344, 92], [\"France\", 577502, 221], [\"France\", 577512, 77], [\"France\", 577687, 268], [\"France\", 577856, 182], [\"France\", 578033, 171], [\"France\", 578277, 212], [\"France\", 578287, 7], [\"France\", 578348, 132], [\"France\", 578541, 825], [\"France\", 578698, 439], [\"France\", 578736, 310], [\"France\", 578835, 68], [\"France\", 579153, 126], [\"France\", 579190, 386], [\"France\", 579193, 386], [\"France\", 579345, 338], [\"France\", 579492, 300], [\"France\", 579529, 267], [\"France\", 579634, 147], [\"France\", 579708, 236], [\"France\", 579792, 806], [\"France\", 579870, 97], [\"France\", 580120, 168], [\"France\", 580126, 320], [\"France\", 580144, 84], [\"France\", 580160, 694], [\"France\", 580285, 14], [\"France\", 580509, 210], [\"France\", 580534, 74], [\"France\", 580536, 252], [\"France\", 580705, 467], [\"France\", 580736, 203], [\"France\", 580753, 300], [\"France\", 580756, 24], [\"France\", 580986, 250], [\"France\", 581001, 309], [\"France\", 581171, 247], [\"France\", 581279, 18], [\"France\", 581587, 105]], \"fillcolor\": \"rgba(255,255,255,0)\", \"hoverlabel\": {\"namelength\": 0}, \"hoveron\": \"points\", \"hovertemplate\": \"Country=%{customdata[0]}<br>Quantity=%{customdata[2]}<br>InvoiceNo=%{customdata[1]}\", \"jitter\": 0, \"legendgroup\": \"France\", \"line\": {\"color\": \"rgba(255,255,255,0)\"}, \"marker\": {\"color\": \"#EF553B\", \"symbol\": \"line-ns-open\"}, \"name\": \"France\", \"offsetgroup\": \"France\", \"showlegend\": false, \"type\": \"box\", \"x\": [446, 106, 130, 602, 581, 164, 120, 106, 8, 552, 339, 410, 134, 3, 332, 64, 128, 599, 24, 88, 359, 369, 261, 177, 488, 103, 78, 628, 168, 576, 120, 114, 43, 131, 498, 543, 78, 440, 263, 383, 702, 120, 84, 59, 406, 102, 1617, 202, 197, 159, 206, 611, 214, 298, 452, 96, 772, 114, 748, 15, 256, 77, 264, 96, 70, 213, 310, 72, 54, 245, 329, 314, 24, 123, 323, 183, 184, 314, 97, 62, 422, 85, 5, 198, 136, 713, 242, 130, 261, 59, 842, 946, 132, 2271, 88, 240, 293, 236, 284, 375, 25, 196, 23, 275, 84, 146, 368, 350, 6, 120, 192, 98, 773, 162, 332, 458, 859, 734, 105, 202, 33, 267, 140, 220, 58, 476, 103, 152, 72, 434, 126, 464, 229, 62, 304, 208, 180, 180, 374, 86, 424, 155, 200, 1184, 347, 358, 115, 216, 216, 464, 444, 320, 460, 160, 714, 549, 110, 232, 356, 170, 139, 206, 267, 514, 62, 50, 208, 350, 270, 384, 410, 118, 108, 284, 78, 256, 321, 592, 322, 135, 198, 236, 48, 76, 262, 156, 116, 666, 46, 82, 838, 32, 234, 147, 500, 52, 690, 279, 320, 162, 197, 178, 3, 603, 400, 231, 228, 459, 33, 234, 54, 402, 105, 139, 784, 170, 204, 145, 688, 820, 120, 198, 270, 98, 54, 506, 142, 184, 265, 646, 719, 644, 209, 104, 292, 719, 42, 72, 436, 1060, 164, 6, 228, 241, 177, 189, 306, 274, 416, 64, 63, 484, 255, 172, 282, 475, 169, 111, 64, 265, 335, 162, 201, 286, 710, 173, 183, 156, 80, 34, 885, 160, 188, 2, 29, 184, 342, 60, 158, 2801, 162, 72, 98, 218, 100, 122, 232, 566, 165, 524, 136, 297, 48, 76, 5202, 36, 5, 208, 326, 90, 344, 258, 421, 288, 567, 373, 92, 304, 33, 406, 459, 341, 151, 183, 104, 100, 206, 213, 330, 203, 220, 336, 760, 200, 96, 69, 343, 320, 222, 36, 439, 24, 662, 108, 766, 210, 510, 298, 154, 92, 221, 77, 268, 182, 171, 212, 7, 132, 825, 439, 310, 68, 126, 386, 386, 338, 300, 267, 147, 236, 806, 97, 168, 320, 84, 694, 14, 210, 74, 252, 467, 203, 300, 24, 250, 309, 247, 18, 105], \"xaxis\": \"x2\", \"yaxis\": \"y2\"}, {\"alignmentgroup\": \"True\", \"bingroup\": \"x\", \"hoverlabel\": {\"namelength\": 0}, \"hovertemplate\": \"Country=Germany<br>Quantity=%{x}<br>count of InvoiceNo=%{y}\", \"legendgroup\": \"Germany\", \"marker\": {\"color\": \"#00cc96\"}, \"name\": \"Germany\", \"offsetgroup\": \"Germany\", \"orientation\": \"v\", \"showlegend\": true, \"type\": \"histogram\", \"x\": [156, 147, 76, 30, 59, 76, 10, 966, 295, 88, 150, 132, 84, 225, 82, 1075, 2, 42, 433, 6, 133, 81, 322, 221, 388, 333, 228, 62, 866, 92, 410, 1775, 363, 242, 389, 86, 95, 95, 164, 10, 70, 404, 171, 112, 36, 245, 45, 902, 603, 314, 221, 482, 206, 234, 125, 46, 278, 180, 126, 468, 59, 36, 102, 174, 182, 159, 50, 177, 639, 46, 409, 302, 76, 108, 266, 515, 198, 583, 122, 384, 341, 192, 90, 190, 76, 75, 168, 189, 613, 48, 366, 388, 168, 288, 12, 222, 546, 87, 24, 484, 482, 126, 480, 506, 421, 268, 156, 172, 48, 44, 108, 347, 40, 236, 757, 84, 218, 244, 40, 98, 728, 78, 226, 27, 617, 401, 466, 230, 145, 68, 460, 84, 639, 110, 10, 142, 238, 48, 16, 224, 377, 164, 145, 202, 83, 643, 104, 695, 4282, 288, 32, 526, 425, 90, 196, 468, 46, 34, 578, 382, 161, 12, 30, 242, 119, 191, 79, 39, 34, 184, 337, 254, 32, 553, 653, 420, 22, 237, 288, 290, 78, 36, 88, 342, 99, 412, 784, 457, 12, 1346, 270, 143, 71, 15, 166, 46, 578, 60, 863, 292, 148, 142, 396, 159, 124, 252, 192, 91, 776, 300, 115, 294, 105, 25, 56, 192, 331, 812, 306, 152, 516, 297, 422, 469, 408, 332, 222, 174, 645, 262, 136, 325, 187, 552, 32, 132, 416, 60, 271, 34, 460, 20, 316, 48, 99, 214, 185, 384, 348, 322, 359, 275, 70, 176, 29, 375, 6, 392, 109, 288, 190, 68, 131, 1151, 486, 312, 402, 38, 340, 266, 556, 324, 10, 316, 20, 532, 124, 8, 766, 193, 80, 212, 262, 226, 181, 68, 13, 1231, 174, 230, 104, 430, 336, 128, 63, 138, 424, 526, 456, 292, 260, 208, 163, 321, 163, 175, 395, 782, 962, 194, 50, 849, 66, 175, 244, 862, 12, 346, 180, 1292, 100, 122, 112, 311, 252, 322, 93, 26, 328, 67, 878, 176, 316, 222, 532, 476, 1550, 295, 82, 343, 290, 576, 1, 917, 128, 106, 48, 552, 201, 68, 292, 128, 4, 18, 136, 108, 74, 457, 160, 154, 112, 64, 63, 372, 39, 520, 256, 105, 139, 136, 84, 12, 146, 48, 131, 158, 321, 317, 603, 165, 70, 55, 536, 250, 90, 259, 495, 108, 5, 121, 576, 221, 42, 152, 511, 473, 127, 96, 338, 56, 80, 9, 52, 317, 3, 341, 219, 39, 72, 458, 200, 256, 582, 130, 358, 59, 322, 45, 292, 382, 48, 306, 228, 48, 148, 108, 85, 156, 8, 286, 178, 33, 6, 146, 163, 889, 134, 22, 987, 186, 95, 86, 505], \"xaxis\": \"x\", \"y\": [536527, 536840, 536861, 536967, 536983, 537197, 537198, 537201, 537212, 537250, 537594, 537673, 537892, 537894, 537995, 538174, 538644, 539327, 539395, 539398, 539401, 539403, 539405, 539408, 539446, 539466, 539636, 539946, 539957, 540410, 540414, 540458, 540480, 540553, 540562, 540769, 540900, 541093, 541122, 541125, 541224, 541269, 541277, 541480, 541517, 541877, 541962, 541965, 542080, 542106, 542128, 542215, 542229, 542369, 542371, 542375, 542621, 542626, 542648, 542713, 542782, 542926, 543048, 543056, 543121, 543492, 543550, 543587, 543737, 543833, 543900, 544281, 544302, 544340, 544483, 544573, 544811, 544933, 544996, 545295, 545533, 545557, 545706, 545709, 545718, 545916, 545988, 545994, 546365, 546759, 546843, 546851, 546919, 546920, 546921, 546925, 547005, 547071, 547085, 547379, 547383, 547715, 547821, 547822, 547925, 547926, 547934, 548320, 548412, 548489, 548654, 548745, 548746, 549193, 549316, 549434, 549614, 549680, 550002, 550004, 550137, 550162, 550178, 550187, 550527, 550620, 550625, 550665, 550946, 550960, 551258, 551467, 551529, 551728, 551729, 551818, 551820, 551886, 552008, 552211, 552337, 552649, 552656, 552844, 552871, 552874, 552875, 552878, 552978, 553037, 553038, 553547, 553731, 553732, 553741, 553842, 553884, 553885, 554104, 554106, 554137, 554263, 554324, 554325, 554363, 554699, 554700, 554711, 554713, 554794, 554861, 554985, 555093, 555162, 555282, 555383, 555417, 555523, 555553, 555719, 556114, 556118, 556443, 556469, 556509, 556517, 556578, 557055, 557056, 557466, 557569, 557850, 557972, 558109, 558608, 558626, 558628, 558717, 558881, 559298, 559300, 559316, 559362, 559421, 559710, 559797, 559798, 559899, 559987, 560038, 560202, 560211, 560230, 560544, 560545, 560566, 560569, 560590, 560635, 560728, 560876, 560901, 560997, 561037, 561094, 561194, 561468, 561583, 561911, 562035, 562038, 562045, 562137, 562370, 562435, 562527, 562537, 562568, 562605, 562729, 563345, 563373, 563540, 563548, 563776, 563808, 563914, 563950, 564039, 564079, 564140, 564216, 564309, 564328, 564329, 564337, 564338, 564360, 564367, 564475, 564638, 564666, 564749, 564856, 564972, 565261, 565416, 565423, 565430, 565440, 565442, 565759, 565760, 565765, 565777, 566041, 566054, 566059, 566233, 566267, 566268, 566586, 566739, 566984, 566987, 567134, 567291, 567298, 567305, 567336, 567512, 567578, 567666, 567904, 567914, 567924, 567958, 567959, 568056, 568103, 568350, 568472, 568674, 568987, 569001, 569017, 569562, 569563, 569640, 569721, 569727, 569844, 569860, 569861, 569867, 569893, 569907, 570002, 570007, 570082, 570095, 570189, 570452, 570637, 570640, 570718, 570754, 570784, 570792, 570881, 571065, 571215, 571227, 571304, 571308, 571312, 571328, 571556, 571565, 571658, 571724, 571729, 571739, 571824, 571904, 572054, 572060, 572061, 572134, 572241, 572559, 572560, 572894, 572895, 573106, 573136, 573284, 573289, 573417, 573424, 573430, 573629, 574071, 574097, 574255, 574653, 574679, 574713, 574869, 574885, 575352, 575498, 575713, 575732, 575733, 575750, 575787, 575886, 575896, 576322, 576327, 576390, 576607, 576629, 576630, 576657, 576787, 576789, 576790, 576863, 576869, 576890, 576891, 576893, 576909, 576910, 577027, 577054, 577135, 577168, 577299, 577301, 577406, 577615, 577776, 578024, 578043, 578273, 578295, 578298, 578333, 578469, 578472, 578509, 578547, 578550, 578626, 578705, 579094, 579152, 579276, 579393, 579416, 579419, 579747, 579786, 579901, 579927, 580154, 580511, 580512, 580531, 580548, 580648, 581000, 581179, 581183, 581184, 581266, 581494, 581570, 581574, 581578], \"yaxis\": \"y\"}, {\"alignmentgroup\": \"True\", \"boxpoints\": \"all\", \"customdata\": [[\"Germany\", 536527, 156], [\"Germany\", 536840, 147], [\"Germany\", 536861, 76], [\"Germany\", 536967, 30], [\"Germany\", 536983, 59], [\"Germany\", 537197, 76], [\"Germany\", 537198, 10], [\"Germany\", 537201, 966], [\"Germany\", 537212, 295], [\"Germany\", 537250, 88], [\"Germany\", 537594, 150], [\"Germany\", 537673, 132], [\"Germany\", 537892, 84], [\"Germany\", 537894, 225], [\"Germany\", 537995, 82], [\"Germany\", 538174, 1075], [\"Germany\", 538644, 2], [\"Germany\", 539327, 42], [\"Germany\", 539395, 433], [\"Germany\", 539398, 6], [\"Germany\", 539401, 133], [\"Germany\", 539403, 81], [\"Germany\", 539405, 322], [\"Germany\", 539408, 221], [\"Germany\", 539446, 388], [\"Germany\", 539466, 333], [\"Germany\", 539636, 228], [\"Germany\", 539946, 62], [\"Germany\", 539957, 866], [\"Germany\", 540410, 92], [\"Germany\", 540414, 410], [\"Germany\", 540458, 1775], [\"Germany\", 540480, 363], [\"Germany\", 540553, 242], [\"Germany\", 540562, 389], [\"Germany\", 540769, 86], [\"Germany\", 540900, 95], [\"Germany\", 541093, 95], [\"Germany\", 541122, 164], [\"Germany\", 541125, 10], [\"Germany\", 541224, 70], [\"Germany\", 541269, 404], [\"Germany\", 541277, 171], [\"Germany\", 541480, 112], [\"Germany\", 541517, 36], [\"Germany\", 541877, 245], [\"Germany\", 541962, 45], [\"Germany\", 541965, 902], [\"Germany\", 542080, 603], [\"Germany\", 542106, 314], [\"Germany\", 542128, 221], [\"Germany\", 542215, 482], [\"Germany\", 542229, 206], [\"Germany\", 542369, 234], [\"Germany\", 542371, 125], [\"Germany\", 542375, 46], [\"Germany\", 542621, 278], [\"Germany\", 542626, 180], [\"Germany\", 542648, 126], [\"Germany\", 542713, 468], [\"Germany\", 542782, 59], [\"Germany\", 542926, 36], [\"Germany\", 543048, 102], [\"Germany\", 543056, 174], [\"Germany\", 543121, 182], [\"Germany\", 543492, 159], [\"Germany\", 543550, 50], [\"Germany\", 543587, 177], [\"Germany\", 543737, 639], [\"Germany\", 543833, 46], [\"Germany\", 543900, 409], [\"Germany\", 544281, 302], [\"Germany\", 544302, 76], [\"Germany\", 544340, 108], [\"Germany\", 544483, 266], [\"Germany\", 544573, 515], [\"Germany\", 544811, 198], [\"Germany\", 544933, 583], [\"Germany\", 544996, 122], [\"Germany\", 545295, 384], [\"Germany\", 545533, 341], [\"Germany\", 545557, 192], [\"Germany\", 545706, 90], [\"Germany\", 545709, 190], [\"Germany\", 545718, 76], [\"Germany\", 545916, 75], [\"Germany\", 545988, 168], [\"Germany\", 545994, 189], [\"Germany\", 546365, 613], [\"Germany\", 546759, 48], [\"Germany\", 546843, 366], [\"Germany\", 546851, 388], [\"Germany\", 546919, 168], [\"Germany\", 546920, 288], [\"Germany\", 546921, 12], [\"Germany\", 546925, 222], [\"Germany\", 547005, 546], [\"Germany\", 547071, 87], [\"Germany\", 547085, 24], [\"Germany\", 547379, 484], [\"Germany\", 547383, 482], [\"Germany\", 547715, 126], [\"Germany\", 547821, 480], [\"Germany\", 547822, 506], [\"Germany\", 547925, 421], [\"Germany\", 547926, 268], [\"Germany\", 547934, 156], [\"Germany\", 548320, 172], [\"Germany\", 548412, 48], [\"Germany\", 548489, 44], [\"Germany\", 548654, 108], [\"Germany\", 548745, 347], [\"Germany\", 548746, 40], [\"Germany\", 549193, 236], [\"Germany\", 549316, 757], [\"Germany\", 549434, 84], [\"Germany\", 549614, 218], [\"Germany\", 549680, 244], [\"Germany\", 550002, 40], [\"Germany\", 550004, 98], [\"Germany\", 550137, 728], [\"Germany\", 550162, 78], [\"Germany\", 550178, 226], [\"Germany\", 550187, 27], [\"Germany\", 550527, 617], [\"Germany\", 550620, 401], [\"Germany\", 550625, 466], [\"Germany\", 550665, 230], [\"Germany\", 550946, 145], [\"Germany\", 550960, 68], [\"Germany\", 551258, 460], [\"Germany\", 551467, 84], [\"Germany\", 551529, 639], [\"Germany\", 551728, 110], [\"Germany\", 551729, 10], [\"Germany\", 551818, 142], [\"Germany\", 551820, 238], [\"Germany\", 551886, 48], [\"Germany\", 552008, 16], [\"Germany\", 552211, 224], [\"Germany\", 552337, 377], [\"Germany\", 552649, 164], [\"Germany\", 552656, 145], [\"Germany\", 552844, 202], [\"Germany\", 552871, 83], [\"Germany\", 552874, 643], [\"Germany\", 552875, 104], [\"Germany\", 552878, 695], [\"Germany\", 552978, 4282], [\"Germany\", 553037, 288], [\"Germany\", 553038, 32], [\"Germany\", 553547, 526], [\"Germany\", 553731, 425], [\"Germany\", 553732, 90], [\"Germany\", 553741, 196], [\"Germany\", 553842, 468], [\"Germany\", 553884, 46], [\"Germany\", 553885, 34], [\"Germany\", 554104, 578], [\"Germany\", 554106, 382], [\"Germany\", 554137, 161], [\"Germany\", 554263, 12], [\"Germany\", 554324, 30], [\"Germany\", 554325, 242], [\"Germany\", 554363, 119], [\"Germany\", 554699, 191], [\"Germany\", 554700, 79], [\"Germany\", 554711, 39], [\"Germany\", 554713, 34], [\"Germany\", 554794, 184], [\"Germany\", 554861, 337], [\"Germany\", 554985, 254], [\"Germany\", 555093, 32], [\"Germany\", 555162, 553], [\"Germany\", 555282, 653], [\"Germany\", 555383, 420], [\"Germany\", 555417, 22], [\"Germany\", 555523, 237], [\"Germany\", 555553, 288], [\"Germany\", 555719, 290], [\"Germany\", 556114, 78], [\"Germany\", 556118, 36], [\"Germany\", 556443, 88], [\"Germany\", 556469, 342], [\"Germany\", 556509, 99], [\"Germany\", 556517, 412], [\"Germany\", 556578, 784], [\"Germany\", 557055, 457], [\"Germany\", 557056, 12], [\"Germany\", 557466, 1346], [\"Germany\", 557569, 270], [\"Germany\", 557850, 143], [\"Germany\", 557972, 71], [\"Germany\", 558109, 15], [\"Germany\", 558608, 166], [\"Germany\", 558626, 46], [\"Germany\", 558628, 578], [\"Germany\", 558717, 60], [\"Germany\", 558881, 863], [\"Germany\", 559298, 292], [\"Germany\", 559300, 148], [\"Germany\", 559316, 142], [\"Germany\", 559362, 396], [\"Germany\", 559421, 159], [\"Germany\", 559710, 124], [\"Germany\", 559797, 252], [\"Germany\", 559798, 192], [\"Germany\", 559899, 91], [\"Germany\", 559987, 776], [\"Germany\", 560038, 300], [\"Germany\", 560202, 115], [\"Germany\", 560211, 294], [\"Germany\", 560230, 105], [\"Germany\", 560544, 25], [\"Germany\", 560545, 56], [\"Germany\", 560566, 192], [\"Germany\", 560569, 331], [\"Germany\", 560590, 812], [\"Germany\", 560635, 306], [\"Germany\", 560728, 152], [\"Germany\", 560876, 516], [\"Germany\", 560901, 297], [\"Germany\", 560997, 422], [\"Germany\", 561037, 469], [\"Germany\", 561094, 408], [\"Germany\", 561194, 332], [\"Germany\", 561468, 222], [\"Germany\", 561583, 174], [\"Germany\", 561911, 645], [\"Germany\", 562035, 262], [\"Germany\", 562038, 136], [\"Germany\", 562045, 325], [\"Germany\", 562137, 187], [\"Germany\", 562370, 552], [\"Germany\", 562435, 32], [\"Germany\", 562527, 132], [\"Germany\", 562537, 416], [\"Germany\", 562568, 60], [\"Germany\", 562605, 271], [\"Germany\", 562729, 34], [\"Germany\", 563345, 460], [\"Germany\", 563373, 20], [\"Germany\", 563540, 316], [\"Germany\", 563548, 48], [\"Germany\", 563776, 99], [\"Germany\", 563808, 214], [\"Germany\", 563914, 185], [\"Germany\", 563950, 384], [\"Germany\", 564039, 348], [\"Germany\", 564079, 322], [\"Germany\", 564140, 359], [\"Germany\", 564216, 275], [\"Germany\", 564309, 70], [\"Germany\", 564328, 176], [\"Germany\", 564329, 29], [\"Germany\", 564337, 375], [\"Germany\", 564338, 6], [\"Germany\", 564360, 392], [\"Germany\", 564367, 109], [\"Germany\", 564475, 288], [\"Germany\", 564638, 190], [\"Germany\", 564666, 68], [\"Germany\", 564749, 131], [\"Germany\", 564856, 1151], [\"Germany\", 564972, 486], [\"Germany\", 565261, 312], [\"Germany\", 565416, 402], [\"Germany\", 565423, 38], [\"Germany\", 565430, 340], [\"Germany\", 565440, 266], [\"Germany\", 565442, 556], [\"Germany\", 565759, 324], [\"Germany\", 565760, 10], [\"Germany\", 565765, 316], [\"Germany\", 565777, 20], [\"Germany\", 566041, 532], [\"Germany\", 566054, 124], [\"Germany\", 566059, 8], [\"Germany\", 566233, 766], [\"Germany\", 566267, 193], [\"Germany\", 566268, 80], [\"Germany\", 566586, 212], [\"Germany\", 566739, 262], [\"Germany\", 566984, 226], [\"Germany\", 566987, 181], [\"Germany\", 567134, 68], [\"Germany\", 567291, 13], [\"Germany\", 567298, 1231], [\"Germany\", 567305, 174], [\"Germany\", 567336, 230], [\"Germany\", 567512, 104], [\"Germany\", 567578, 430], [\"Germany\", 567666, 336], [\"Germany\", 567904, 128], [\"Germany\", 567914, 63], [\"Germany\", 567924, 138], [\"Germany\", 567958, 424], [\"Germany\", 567959, 526], [\"Germany\", 568056, 456], [\"Germany\", 568103, 292], [\"Germany\", 568350, 260], [\"Germany\", 568472, 208], [\"Germany\", 568674, 163], [\"Germany\", 568987, 321], [\"Germany\", 569001, 163], [\"Germany\", 569017, 175], [\"Germany\", 569562, 395], [\"Germany\", 569563, 782], [\"Germany\", 569640, 962], [\"Germany\", 569721, 194], [\"Germany\", 569727, 50], [\"Germany\", 569844, 849], [\"Germany\", 569860, 66], [\"Germany\", 569861, 175], [\"Germany\", 569867, 244], [\"Germany\", 569893, 862], [\"Germany\", 569907, 12], [\"Germany\", 570002, 346], [\"Germany\", 570007, 180], [\"Germany\", 570082, 1292], [\"Germany\", 570095, 100], [\"Germany\", 570189, 122], [\"Germany\", 570452, 112], [\"Germany\", 570637, 311], [\"Germany\", 570640, 252], [\"Germany\", 570718, 322], [\"Germany\", 570754, 93], [\"Germany\", 570784, 26], [\"Germany\", 570792, 328], [\"Germany\", 570881, 67], [\"Germany\", 571065, 878], [\"Germany\", 571215, 176], [\"Germany\", 571227, 316], [\"Germany\", 571304, 222], [\"Germany\", 571308, 532], [\"Germany\", 571312, 476], [\"Germany\", 571328, 1550], [\"Germany\", 571556, 295], [\"Germany\", 571565, 82], [\"Germany\", 571658, 343], [\"Germany\", 571724, 290], [\"Germany\", 571729, 576], [\"Germany\", 571739, 1], [\"Germany\", 571824, 917], [\"Germany\", 571904, 128], [\"Germany\", 572054, 106], [\"Germany\", 572060, 48], [\"Germany\", 572061, 552], [\"Germany\", 572134, 201], [\"Germany\", 572241, 68], [\"Germany\", 572559, 292], [\"Germany\", 572560, 128], [\"Germany\", 572894, 4], [\"Germany\", 572895, 18], [\"Germany\", 573106, 136], [\"Germany\", 573136, 108], [\"Germany\", 573284, 74], [\"Germany\", 573289, 457], [\"Germany\", 573417, 160], [\"Germany\", 573424, 154], [\"Germany\", 573430, 112], [\"Germany\", 573629, 64], [\"Germany\", 574071, 63], [\"Germany\", 574097, 372], [\"Germany\", 574255, 39], [\"Germany\", 574653, 520], [\"Germany\", 574679, 256], [\"Germany\", 574713, 105], [\"Germany\", 574869, 139], [\"Germany\", 574885, 136], [\"Germany\", 575352, 84], [\"Germany\", 575498, 12], [\"Germany\", 575713, 146], [\"Germany\", 575732, 48], [\"Germany\", 575733, 131], [\"Germany\", 575750, 158], [\"Germany\", 575787, 321], [\"Germany\", 575886, 317], [\"Germany\", 575896, 603], [\"Germany\", 576322, 165], [\"Germany\", 576327, 70], [\"Germany\", 576390, 55], [\"Germany\", 576607, 536], [\"Germany\", 576629, 250], [\"Germany\", 576630, 90], [\"Germany\", 576657, 259], [\"Germany\", 576787, 495], [\"Germany\", 576789, 108], [\"Germany\", 576790, 5], [\"Germany\", 576863, 121], [\"Germany\", 576869, 576], [\"Germany\", 576890, 221], [\"Germany\", 576891, 42], [\"Germany\", 576893, 152], [\"Germany\", 576909, 511], [\"Germany\", 576910, 473], [\"Germany\", 577027, 127], [\"Germany\", 577054, 96], [\"Germany\", 577135, 338], [\"Germany\", 577168, 56], [\"Germany\", 577299, 80], [\"Germany\", 577301, 9], [\"Germany\", 577406, 52], [\"Germany\", 577615, 317], [\"Germany\", 577776, 3], [\"Germany\", 578024, 341], [\"Germany\", 578043, 219], [\"Germany\", 578273, 39], [\"Germany\", 578295, 72], [\"Germany\", 578298, 458], [\"Germany\", 578333, 200], [\"Germany\", 578469, 256], [\"Germany\", 578472, 582], [\"Germany\", 578509, 130], [\"Germany\", 578547, 358], [\"Germany\", 578550, 59], [\"Germany\", 578626, 322], [\"Germany\", 578705, 45], [\"Germany\", 579094, 292], [\"Germany\", 579152, 382], [\"Germany\", 579276, 48], [\"Germany\", 579393, 306], [\"Germany\", 579416, 228], [\"Germany\", 579419, 48], [\"Germany\", 579747, 148], [\"Germany\", 579786, 108], [\"Germany\", 579901, 85], [\"Germany\", 579927, 156], [\"Germany\", 580154, 8], [\"Germany\", 580511, 286], [\"Germany\", 580512, 178], [\"Germany\", 580531, 33], [\"Germany\", 580548, 6], [\"Germany\", 580648, 146], [\"Germany\", 581000, 163], [\"Germany\", 581179, 889], [\"Germany\", 581183, 134], [\"Germany\", 581184, 22], [\"Germany\", 581266, 987], [\"Germany\", 581494, 186], [\"Germany\", 581570, 95], [\"Germany\", 581574, 86], [\"Germany\", 581578, 505]], \"fillcolor\": \"rgba(255,255,255,0)\", \"hoverlabel\": {\"namelength\": 0}, \"hoveron\": \"points\", \"hovertemplate\": \"Country=%{customdata[0]}<br>Quantity=%{customdata[2]}<br>InvoiceNo=%{customdata[1]}\", \"jitter\": 0, \"legendgroup\": \"Germany\", \"line\": {\"color\": \"rgba(255,255,255,0)\"}, \"marker\": {\"color\": \"#00cc96\", \"symbol\": \"line-ns-open\"}, \"name\": \"Germany\", \"offsetgroup\": \"Germany\", \"showlegend\": false, \"type\": \"box\", \"x\": [156, 147, 76, 30, 59, 76, 10, 966, 295, 88, 150, 132, 84, 225, 82, 1075, 2, 42, 433, 6, 133, 81, 322, 221, 388, 333, 228, 62, 866, 92, 410, 1775, 363, 242, 389, 86, 95, 95, 164, 10, 70, 404, 171, 112, 36, 245, 45, 902, 603, 314, 221, 482, 206, 234, 125, 46, 278, 180, 126, 468, 59, 36, 102, 174, 182, 159, 50, 177, 639, 46, 409, 302, 76, 108, 266, 515, 198, 583, 122, 384, 341, 192, 90, 190, 76, 75, 168, 189, 613, 48, 366, 388, 168, 288, 12, 222, 546, 87, 24, 484, 482, 126, 480, 506, 421, 268, 156, 172, 48, 44, 108, 347, 40, 236, 757, 84, 218, 244, 40, 98, 728, 78, 226, 27, 617, 401, 466, 230, 145, 68, 460, 84, 639, 110, 10, 142, 238, 48, 16, 224, 377, 164, 145, 202, 83, 643, 104, 695, 4282, 288, 32, 526, 425, 90, 196, 468, 46, 34, 578, 382, 161, 12, 30, 242, 119, 191, 79, 39, 34, 184, 337, 254, 32, 553, 653, 420, 22, 237, 288, 290, 78, 36, 88, 342, 99, 412, 784, 457, 12, 1346, 270, 143, 71, 15, 166, 46, 578, 60, 863, 292, 148, 142, 396, 159, 124, 252, 192, 91, 776, 300, 115, 294, 105, 25, 56, 192, 331, 812, 306, 152, 516, 297, 422, 469, 408, 332, 222, 174, 645, 262, 136, 325, 187, 552, 32, 132, 416, 60, 271, 34, 460, 20, 316, 48, 99, 214, 185, 384, 348, 322, 359, 275, 70, 176, 29, 375, 6, 392, 109, 288, 190, 68, 131, 1151, 486, 312, 402, 38, 340, 266, 556, 324, 10, 316, 20, 532, 124, 8, 766, 193, 80, 212, 262, 226, 181, 68, 13, 1231, 174, 230, 104, 430, 336, 128, 63, 138, 424, 526, 456, 292, 260, 208, 163, 321, 163, 175, 395, 782, 962, 194, 50, 849, 66, 175, 244, 862, 12, 346, 180, 1292, 100, 122, 112, 311, 252, 322, 93, 26, 328, 67, 878, 176, 316, 222, 532, 476, 1550, 295, 82, 343, 290, 576, 1, 917, 128, 106, 48, 552, 201, 68, 292, 128, 4, 18, 136, 108, 74, 457, 160, 154, 112, 64, 63, 372, 39, 520, 256, 105, 139, 136, 84, 12, 146, 48, 131, 158, 321, 317, 603, 165, 70, 55, 536, 250, 90, 259, 495, 108, 5, 121, 576, 221, 42, 152, 511, 473, 127, 96, 338, 56, 80, 9, 52, 317, 3, 341, 219, 39, 72, 458, 200, 256, 582, 130, 358, 59, 322, 45, 292, 382, 48, 306, 228, 48, 148, 108, 85, 156, 8, 286, 178, 33, 6, 146, 163, 889, 134, 22, 987, 186, 95, 86, 505], \"xaxis\": \"x2\", \"yaxis\": \"y2\"}, {\"alignmentgroup\": \"True\", \"bingroup\": \"x\", \"hoverlabel\": {\"namelength\": 0}, \"hovertemplate\": \"Country=Netherlands<br>Quantity=%{x}<br>count of InvoiceNo=%{y}\", \"legendgroup\": \"Netherlands\", \"marker\": {\"color\": \"#ab63fa\"}, \"name\": \"Netherlands\", \"offsetgroup\": \"Netherlands\", \"orientation\": \"v\", \"showlegend\": true, \"type\": \"histogram\", \"x\": [96, 45, 6668, 8210, 6072, 288, 5730, 116, 111, 1116, 8174, 4034, 2940, 275, 151, 169, 722, 103, 1070, 11116, 1208, 636, 700, 426, 200, 72, 924, 12266, 72, 408, 126, 960, 4664, 64, 164, 1038, 1836, 328, 312, 84, 4718, 61, 350, 8998, 424, 1588, 9, 7807, 375, 14730, 992, 288, 4628, 480, 1012, 1, 144, 4951, 6932, 3717, 545, 3, 332, 15, 211, 269, 13392, 3020, 1728, 1780, 660, 29, 3069, 2400, 300, 2454, 216, 62, 6712, 1040, 32, 146, 32, 152, 372, 136, 5760, 200, 1284, 50, 7366, 452, 140], \"xaxis\": \"x\", \"y\": [536403, 539491, 539731, 541206, 541570, 541608, 541711, 542720, 542894, 543387, 544479, 544480, 544672, 546027, 546433, 547365, 547796, 547825, 548010, 548011, 548211, 548969, 548970, 551345, 552845, 552846, 552882, 552883, 552885, 553682, 554038, 554642, 554827, 555003, 555106, 555160, 555164, 555407, 555589, 556235, 557263, 557328, 557525, 558262, 558263, 558311, 560710, 562789, 562790, 563076, 563165, 564169, 564650, 564652, 565967, 565975, 566173, 566557, 567280, 567290, 567795, 569665, 569719, 569720, 570191, 571697, 572035, 572051, 572052, 572123, 572233, 572236, 573002, 573003, 573004, 574056, 574058, 574059, 575508, 575510, 575709, 576664, 577326, 577474, 578034, 578082, 578140, 578141, 578143, 579528, 581175, 581176, 581338], \"yaxis\": \"y\"}, {\"alignmentgroup\": \"True\", \"boxpoints\": \"all\", \"customdata\": [[\"Netherlands\", 536403, 96], [\"Netherlands\", 539491, 45], [\"Netherlands\", 539731, 6668], [\"Netherlands\", 541206, 8210], [\"Netherlands\", 541570, 6072], [\"Netherlands\", 541608, 288], [\"Netherlands\", 541711, 5730], [\"Netherlands\", 542720, 116], [\"Netherlands\", 542894, 111], [\"Netherlands\", 543387, 1116], [\"Netherlands\", 544479, 8174], [\"Netherlands\", 544480, 4034], [\"Netherlands\", 544672, 2940], [\"Netherlands\", 546027, 275], [\"Netherlands\", 546433, 151], [\"Netherlands\", 547365, 169], [\"Netherlands\", 547796, 722], [\"Netherlands\", 547825, 103], [\"Netherlands\", 548010, 1070], [\"Netherlands\", 548011, 11116], [\"Netherlands\", 548211, 1208], [\"Netherlands\", 548969, 636], [\"Netherlands\", 548970, 700], [\"Netherlands\", 551345, 426], [\"Netherlands\", 552845, 200], [\"Netherlands\", 552846, 72], [\"Netherlands\", 552882, 924], [\"Netherlands\", 552883, 12266], [\"Netherlands\", 552885, 72], [\"Netherlands\", 553682, 408], [\"Netherlands\", 554038, 126], [\"Netherlands\", 554642, 960], [\"Netherlands\", 554827, 4664], [\"Netherlands\", 555003, 64], [\"Netherlands\", 555106, 164], [\"Netherlands\", 555160, 1038], [\"Netherlands\", 555164, 1836], [\"Netherlands\", 555407, 328], [\"Netherlands\", 555589, 312], [\"Netherlands\", 556235, 84], [\"Netherlands\", 557263, 4718], [\"Netherlands\", 557328, 61], [\"Netherlands\", 557525, 350], [\"Netherlands\", 558262, 8998], [\"Netherlands\", 558263, 424], [\"Netherlands\", 558311, 1588], [\"Netherlands\", 560710, 9], [\"Netherlands\", 562789, 7807], [\"Netherlands\", 562790, 375], [\"Netherlands\", 563076, 14730], [\"Netherlands\", 563165, 992], [\"Netherlands\", 564169, 288], [\"Netherlands\", 564650, 4628], [\"Netherlands\", 564652, 480], [\"Netherlands\", 565967, 1012], [\"Netherlands\", 565975, 1], [\"Netherlands\", 566173, 144], [\"Netherlands\", 566557, 4951], [\"Netherlands\", 567280, 6932], [\"Netherlands\", 567290, 3717], [\"Netherlands\", 567795, 545], [\"Netherlands\", 569665, 3], [\"Netherlands\", 569719, 332], [\"Netherlands\", 569720, 15], [\"Netherlands\", 570191, 211], [\"Netherlands\", 571697, 269], [\"Netherlands\", 572035, 13392], [\"Netherlands\", 572051, 3020], [\"Netherlands\", 572052, 1728], [\"Netherlands\", 572123, 1780], [\"Netherlands\", 572233, 660], [\"Netherlands\", 572236, 29], [\"Netherlands\", 573002, 3069], [\"Netherlands\", 573003, 2400], [\"Netherlands\", 573004, 300], [\"Netherlands\", 574056, 2454], [\"Netherlands\", 574058, 216], [\"Netherlands\", 574059, 62], [\"Netherlands\", 575508, 6712], [\"Netherlands\", 575510, 1040], [\"Netherlands\", 575709, 32], [\"Netherlands\", 576664, 146], [\"Netherlands\", 577326, 32], [\"Netherlands\", 577474, 152], [\"Netherlands\", 578034, 372], [\"Netherlands\", 578082, 136], [\"Netherlands\", 578140, 5760], [\"Netherlands\", 578141, 200], [\"Netherlands\", 578143, 1284], [\"Netherlands\", 579528, 50], [\"Netherlands\", 581175, 7366], [\"Netherlands\", 581176, 452], [\"Netherlands\", 581338, 140]], \"fillcolor\": \"rgba(255,255,255,0)\", \"hoverlabel\": {\"namelength\": 0}, \"hoveron\": \"points\", \"hovertemplate\": \"Country=%{customdata[0]}<br>Quantity=%{customdata[2]}<br>InvoiceNo=%{customdata[1]}\", \"jitter\": 0, \"legendgroup\": \"Netherlands\", \"line\": {\"color\": \"rgba(255,255,255,0)\"}, \"marker\": {\"color\": \"#ab63fa\", \"symbol\": \"line-ns-open\"}, \"name\": \"Netherlands\", \"offsetgroup\": \"Netherlands\", \"showlegend\": false, \"type\": \"box\", \"x\": [96, 45, 6668, 8210, 6072, 288, 5730, 116, 111, 1116, 8174, 4034, 2940, 275, 151, 169, 722, 103, 1070, 11116, 1208, 636, 700, 426, 200, 72, 924, 12266, 72, 408, 126, 960, 4664, 64, 164, 1038, 1836, 328, 312, 84, 4718, 61, 350, 8998, 424, 1588, 9, 7807, 375, 14730, 992, 288, 4628, 480, 1012, 1, 144, 4951, 6932, 3717, 545, 3, 332, 15, 211, 269, 13392, 3020, 1728, 1780, 660, 29, 3069, 2400, 300, 2454, 216, 62, 6712, 1040, 32, 146, 32, 152, 372, 136, 5760, 200, 1284, 50, 7366, 452, 140], \"xaxis\": \"x2\", \"yaxis\": \"y2\"}],\n",
       "                        {\"barmode\": \"relative\", \"legend\": {\"title\": {\"text\": \"Country\"}, \"tracegroupgap\": 0}, \"margin\": {\"t\": 60}, \"template\": {\"data\": {\"bar\": [{\"error_x\": {\"color\": \"#2a3f5f\"}, \"error_y\": {\"color\": \"#2a3f5f\"}, \"marker\": {\"line\": {\"color\": \"#E5ECF6\", \"width\": 0.5}}, \"type\": \"bar\"}], \"barpolar\": [{\"marker\": {\"line\": {\"color\": \"#E5ECF6\", \"width\": 0.5}}, \"type\": \"barpolar\"}], \"carpet\": [{\"aaxis\": {\"endlinecolor\": \"#2a3f5f\", \"gridcolor\": \"white\", \"linecolor\": \"white\", \"minorgridcolor\": \"white\", \"startlinecolor\": \"#2a3f5f\"}, \"baxis\": {\"endlinecolor\": \"#2a3f5f\", \"gridcolor\": \"white\", \"linecolor\": \"white\", \"minorgridcolor\": \"white\", \"startlinecolor\": \"#2a3f5f\"}, \"type\": \"carpet\"}], \"choropleth\": [{\"colorbar\": {\"outlinewidth\": 0, \"ticks\": \"\"}, \"type\": \"choropleth\"}], \"contour\": [{\"colorbar\": {\"outlinewidth\": 0, \"ticks\": \"\"}, \"colorscale\": [[0.0, \"#0d0887\"], [0.1111111111111111, \"#46039f\"], [0.2222222222222222, \"#7201a8\"], [0.3333333333333333, \"#9c179e\"], [0.4444444444444444, \"#bd3786\"], [0.5555555555555556, \"#d8576b\"], [0.6666666666666666, \"#ed7953\"], [0.7777777777777778, \"#fb9f3a\"], [0.8888888888888888, \"#fdca26\"], [1.0, \"#f0f921\"]], \"type\": \"contour\"}], \"contourcarpet\": [{\"colorbar\": {\"outlinewidth\": 0, \"ticks\": \"\"}, \"type\": \"contourcarpet\"}], \"heatmap\": [{\"colorbar\": {\"outlinewidth\": 0, \"ticks\": \"\"}, \"colorscale\": [[0.0, \"#0d0887\"], [0.1111111111111111, \"#46039f\"], [0.2222222222222222, \"#7201a8\"], [0.3333333333333333, \"#9c179e\"], [0.4444444444444444, \"#bd3786\"], [0.5555555555555556, \"#d8576b\"], [0.6666666666666666, \"#ed7953\"], [0.7777777777777778, \"#fb9f3a\"], [0.8888888888888888, \"#fdca26\"], [1.0, \"#f0f921\"]], \"type\": \"heatmap\"}], \"heatmapgl\": [{\"colorbar\": {\"outlinewidth\": 0, \"ticks\": \"\"}, \"colorscale\": [[0.0, \"#0d0887\"], [0.1111111111111111, \"#46039f\"], [0.2222222222222222, \"#7201a8\"], [0.3333333333333333, \"#9c179e\"], [0.4444444444444444, \"#bd3786\"], [0.5555555555555556, \"#d8576b\"], [0.6666666666666666, \"#ed7953\"], [0.7777777777777778, \"#fb9f3a\"], [0.8888888888888888, \"#fdca26\"], [1.0, \"#f0f921\"]], \"type\": \"heatmapgl\"}], \"histogram\": [{\"marker\": {\"colorbar\": {\"outlinewidth\": 0, \"ticks\": \"\"}}, \"type\": \"histogram\"}], \"histogram2d\": [{\"colorbar\": {\"outlinewidth\": 0, \"ticks\": \"\"}, \"colorscale\": [[0.0, \"#0d0887\"], [0.1111111111111111, \"#46039f\"], [0.2222222222222222, \"#7201a8\"], [0.3333333333333333, \"#9c179e\"], [0.4444444444444444, \"#bd3786\"], [0.5555555555555556, \"#d8576b\"], [0.6666666666666666, \"#ed7953\"], [0.7777777777777778, \"#fb9f3a\"], [0.8888888888888888, \"#fdca26\"], [1.0, \"#f0f921\"]], \"type\": \"histogram2d\"}], \"histogram2dcontour\": [{\"colorbar\": {\"outlinewidth\": 0, \"ticks\": \"\"}, \"colorscale\": [[0.0, \"#0d0887\"], [0.1111111111111111, \"#46039f\"], [0.2222222222222222, \"#7201a8\"], [0.3333333333333333, \"#9c179e\"], [0.4444444444444444, \"#bd3786\"], [0.5555555555555556, \"#d8576b\"], [0.6666666666666666, \"#ed7953\"], [0.7777777777777778, \"#fb9f3a\"], [0.8888888888888888, \"#fdca26\"], [1.0, \"#f0f921\"]], \"type\": \"histogram2dcontour\"}], \"mesh3d\": [{\"colorbar\": {\"outlinewidth\": 0, \"ticks\": \"\"}, \"type\": \"mesh3d\"}], \"parcoords\": [{\"line\": {\"colorbar\": {\"outlinewidth\": 0, \"ticks\": \"\"}}, \"type\": \"parcoords\"}], \"pie\": [{\"automargin\": true, \"type\": \"pie\"}], \"scatter\": [{\"marker\": {\"colorbar\": {\"outlinewidth\": 0, \"ticks\": \"\"}}, \"type\": \"scatter\"}], \"scatter3d\": [{\"line\": {\"colorbar\": {\"outlinewidth\": 0, \"ticks\": \"\"}}, \"marker\": {\"colorbar\": {\"outlinewidth\": 0, \"ticks\": \"\"}}, \"type\": \"scatter3d\"}], \"scattercarpet\": [{\"marker\": {\"colorbar\": {\"outlinewidth\": 0, \"ticks\": \"\"}}, \"type\": \"scattercarpet\"}], \"scattergeo\": [{\"marker\": {\"colorbar\": {\"outlinewidth\": 0, \"ticks\": \"\"}}, \"type\": \"scattergeo\"}], \"scattergl\": [{\"marker\": {\"colorbar\": {\"outlinewidth\": 0, \"ticks\": \"\"}}, \"type\": \"scattergl\"}], \"scattermapbox\": [{\"marker\": {\"colorbar\": {\"outlinewidth\": 0, \"ticks\": \"\"}}, \"type\": \"scattermapbox\"}], \"scatterpolar\": [{\"marker\": {\"colorbar\": {\"outlinewidth\": 0, \"ticks\": \"\"}}, \"type\": \"scatterpolar\"}], \"scatterpolargl\": [{\"marker\": {\"colorbar\": {\"outlinewidth\": 0, \"ticks\": \"\"}}, \"type\": \"scatterpolargl\"}], \"scatterternary\": [{\"marker\": {\"colorbar\": {\"outlinewidth\": 0, \"ticks\": \"\"}}, \"type\": \"scatterternary\"}], \"surface\": [{\"colorbar\": {\"outlinewidth\": 0, \"ticks\": \"\"}, \"colorscale\": [[0.0, \"#0d0887\"], [0.1111111111111111, \"#46039f\"], [0.2222222222222222, \"#7201a8\"], [0.3333333333333333, \"#9c179e\"], [0.4444444444444444, \"#bd3786\"], [0.5555555555555556, \"#d8576b\"], [0.6666666666666666, \"#ed7953\"], [0.7777777777777778, \"#fb9f3a\"], [0.8888888888888888, \"#fdca26\"], [1.0, \"#f0f921\"]], \"type\": \"surface\"}], \"table\": [{\"cells\": {\"fill\": {\"color\": \"#EBF0F8\"}, \"line\": {\"color\": \"white\"}}, \"header\": {\"fill\": {\"color\": \"#C8D4E3\"}, \"line\": {\"color\": \"white\"}}, \"type\": \"table\"}]}, \"layout\": {\"annotationdefaults\": {\"arrowcolor\": \"#2a3f5f\", \"arrowhead\": 0, \"arrowwidth\": 1}, \"coloraxis\": {\"colorbar\": {\"outlinewidth\": 0, \"ticks\": \"\"}}, \"colorscale\": {\"diverging\": [[0, \"#8e0152\"], [0.1, \"#c51b7d\"], [0.2, \"#de77ae\"], [0.3, \"#f1b6da\"], [0.4, \"#fde0ef\"], [0.5, \"#f7f7f7\"], [0.6, \"#e6f5d0\"], [0.7, \"#b8e186\"], [0.8, \"#7fbc41\"], [0.9, \"#4d9221\"], [1, \"#276419\"]], \"sequential\": [[0.0, \"#0d0887\"], [0.1111111111111111, \"#46039f\"], [0.2222222222222222, \"#7201a8\"], [0.3333333333333333, \"#9c179e\"], [0.4444444444444444, \"#bd3786\"], [0.5555555555555556, \"#d8576b\"], [0.6666666666666666, \"#ed7953\"], [0.7777777777777778, \"#fb9f3a\"], [0.8888888888888888, \"#fdca26\"], [1.0, \"#f0f921\"]], \"sequentialminus\": [[0.0, \"#0d0887\"], [0.1111111111111111, \"#46039f\"], [0.2222222222222222, \"#7201a8\"], [0.3333333333333333, \"#9c179e\"], [0.4444444444444444, \"#bd3786\"], [0.5555555555555556, \"#d8576b\"], [0.6666666666666666, \"#ed7953\"], [0.7777777777777778, \"#fb9f3a\"], [0.8888888888888888, \"#fdca26\"], [1.0, \"#f0f921\"]]}, \"colorway\": [\"#636efa\", \"#EF553B\", \"#00cc96\", \"#ab63fa\", \"#FFA15A\", \"#19d3f3\", \"#FF6692\", \"#B6E880\", \"#FF97FF\", \"#FECB52\"], \"font\": {\"color\": \"#2a3f5f\"}, \"geo\": {\"bgcolor\": \"white\", \"lakecolor\": \"white\", \"landcolor\": \"#E5ECF6\", \"showlakes\": true, \"showland\": true, \"subunitcolor\": \"white\"}, \"hoverlabel\": {\"align\": \"left\"}, \"hovermode\": \"closest\", \"mapbox\": {\"style\": \"light\"}, \"paper_bgcolor\": \"white\", \"plot_bgcolor\": \"#E5ECF6\", \"polar\": {\"angularaxis\": {\"gridcolor\": \"white\", \"linecolor\": \"white\", \"ticks\": \"\"}, \"bgcolor\": \"#E5ECF6\", \"radialaxis\": {\"gridcolor\": \"white\", \"linecolor\": \"white\", \"ticks\": \"\"}}, \"scene\": {\"xaxis\": {\"backgroundcolor\": \"#E5ECF6\", \"gridcolor\": \"white\", \"gridwidth\": 2, \"linecolor\": \"white\", \"showbackground\": true, \"ticks\": \"\", \"zerolinecolor\": \"white\"}, \"yaxis\": {\"backgroundcolor\": \"#E5ECF6\", \"gridcolor\": \"white\", \"gridwidth\": 2, \"linecolor\": \"white\", \"showbackground\": true, \"ticks\": \"\", \"zerolinecolor\": \"white\"}, \"zaxis\": {\"backgroundcolor\": \"#E5ECF6\", \"gridcolor\": \"white\", \"gridwidth\": 2, \"linecolor\": \"white\", \"showbackground\": true, \"ticks\": \"\", \"zerolinecolor\": \"white\"}}, \"shapedefaults\": {\"line\": {\"color\": \"#2a3f5f\"}}, \"ternary\": {\"aaxis\": {\"gridcolor\": \"white\", \"linecolor\": \"white\", \"ticks\": \"\"}, \"baxis\": {\"gridcolor\": \"white\", \"linecolor\": \"white\", \"ticks\": \"\"}, \"bgcolor\": \"#E5ECF6\", \"caxis\": {\"gridcolor\": \"white\", \"linecolor\": \"white\", \"ticks\": \"\"}}, \"title\": {\"x\": 0.05}, \"xaxis\": {\"automargin\": true, \"gridcolor\": \"white\", \"linecolor\": \"white\", \"ticks\": \"\", \"title\": {\"standoff\": 15}, \"zerolinecolor\": \"white\", \"zerolinewidth\": 2}, \"yaxis\": {\"automargin\": true, \"gridcolor\": \"white\", \"linecolor\": \"white\", \"ticks\": \"\", \"title\": {\"standoff\": 15}, \"zerolinecolor\": \"white\", \"zerolinewidth\": 2}}}, \"xaxis\": {\"anchor\": \"y\", \"domain\": [0.0, 1.0], \"title\": {\"text\": \"Quantity\"}}, \"xaxis2\": {\"anchor\": \"y2\", \"domain\": [0.0, 1.0], \"matches\": \"x\", \"showgrid\": true, \"showticklabels\": false}, \"yaxis\": {\"anchor\": \"x\", \"domain\": [0.0, 0.7326], \"title\": {\"text\": \"count of InvoiceNo\"}}, \"yaxis2\": {\"anchor\": \"x2\", \"domain\": [0.7426, 1.0], \"matches\": \"y2\", \"showgrid\": false, \"showline\": false, \"showticklabels\": false, \"ticks\": \"\"}},\n",
       "                        {\"responsive\": true}\n",
       "                    ).then(function(){\n",
       "                            \n",
       "var gd = document.getElementById('10615658-af9a-4b9f-b119-b0ba2243b138');\n",
       "var x = new MutationObserver(function (mutations, observer) {{\n",
       "        var display = window.getComputedStyle(gd).display;\n",
       "        if (!display || display === 'none') {{\n",
       "            console.log([gd, 'removed!']);\n",
       "            Plotly.purge(gd);\n",
       "            observer.disconnect();\n",
       "        }}\n",
       "}});\n",
       "\n",
       "// Listen for the removal of the full notebook cells\n",
       "var notebookContainer = gd.closest('#notebook-container');\n",
       "if (notebookContainer) {{\n",
       "    x.observe(notebookContainer, {childList: true});\n",
       "}}\n",
       "\n",
       "// Listen for the clearing of the current output cell\n",
       "var outputEl = gd.closest('.output');\n",
       "if (outputEl) {{\n",
       "    x.observe(outputEl, {childList: true});\n",
       "}}\n",
       "\n",
       "                        })\n",
       "                };\n",
       "                });\n",
       "            </script>\n",
       "        </div>"
      ]
     },
     "metadata": {},
     "output_type": "display_data"
    }
   ],
   "source": [
    "data.head()\n",
    "filtro4 = data[(data['Country'].str.contains(r\"EIRE|Germany|France|Netherlands\", regex=True))]\n",
    "filtro4 = filtro4.groupby(['Country','InvoiceNo']).agg({'Quantity':'sum'}).reset_index()\n",
    "fig = px.histogram(filtro4, x=\"Quantity\", y=\"InvoiceNo\", color=\"Country\", marginal=\"rug\", hover_data=filtro4.columns)\n",
    "fig.show()"
   ]
  },
  {
   "cell_type": "markdown",
   "metadata": {},
   "source": [
    "## 5. Create an interactive side-by-side bar chart showing the revenue by country listed below (bars) for each of the products listed below."
   ]
  },
  {
   "cell_type": "code",
   "execution_count": 28,
   "metadata": {},
   "outputs": [],
   "source": [
    "product_list = ['JUMBO BAG RED RETROSPOT', \n",
    "                'CREAM HANGING HEART T-LIGHT HOLDER',\n",
    "                'REGENCY CAKESTAND 3 TIER']\n",
    "\n",
    "country_list = ['EIRE', 'Germany', 'France', 'Netherlands']"
   ]
  },
  {
   "cell_type": "code",
   "execution_count": 44,
   "metadata": {},
   "outputs": [
    {
     "data": {
      "application/vnd.plotly.v1+json": {
       "config": {
        "linkText": "Export to plot.ly",
        "plotlyServerURL": "https://plot.ly",
        "showLink": true
       },
       "data": [
        {
         "marker": {
          "color": "rgba(255, 153, 51, 0.6)",
          "line": {
           "color": "rgba(255, 153, 51, 1.0)",
           "width": 1
          }
         },
         "name": "EIRE",
         "orientation": "v",
         "text": "",
         "type": "bar",
         "x": [
          "CREAM HANGING HEART T-LIGHT HOLDER",
          "JUMBO BAG RED RETROSPOT",
          "REGENCY CAKESTAND 3 TIER"
         ],
         "y": [
          68.52000000000001,
          19.90857142857143,
          115.44609374999995
         ]
        },
        {
         "marker": {
          "color": "rgba(55, 128, 191, 0.6)",
          "line": {
           "color": "rgba(55, 128, 191, 1.0)",
           "width": 1
          }
         },
         "name": "France",
         "orientation": "v",
         "text": "",
         "type": "bar",
         "x": [
          "CREAM HANGING HEART T-LIGHT HOLDER",
          "JUMBO BAG RED RETROSPOT",
          "REGENCY CAKESTAND 3 TIER"
         ],
         "y": [
          43.916666666666664,
          23.163333333333327,
          57.48673469387755
         ]
        },
        {
         "marker": {
          "color": "rgba(50, 171, 96, 0.6)",
          "line": {
           "color": "rgba(50, 171, 96, 1.0)",
           "width": 1
          }
         },
         "name": "Germany",
         "orientation": "v",
         "text": "",
         "type": "bar",
         "x": [
          "CREAM HANGING HEART T-LIGHT HOLDER",
          "JUMBO BAG RED RETROSPOT",
          "REGENCY CAKESTAND 3 TIER"
         ],
         "y": [
          35.40000000000001,
          29.798888888888882,
          143.84047619047615
         ]
        },
        {
         "marker": {
          "color": "rgba(128, 0, 128, 0.6)",
          "line": {
           "color": "rgba(128, 0, 128, 1.0)",
           "width": 1
          }
         },
         "name": "Netherlands",
         "orientation": "v",
         "text": "",
         "type": "bar",
         "x": [
          "CREAM HANGING HEART T-LIGHT HOLDER",
          "JUMBO BAG RED RETROSPOT",
          "REGENCY CAKESTAND 3 TIER"
         ],
         "y": [
          194.5,
          247.71428571428572,
          351.81666666666666
         ]
        }
       ],
       "layout": {
        "legend": {
         "bgcolor": "#F5F6F9",
         "font": {
          "color": "#4D5663"
         }
        },
        "paper_bgcolor": "#F5F6F9",
        "plot_bgcolor": "#F5F6F9",
        "template": {
         "data": {
          "bar": [
           {
            "error_x": {
             "color": "#2a3f5f"
            },
            "error_y": {
             "color": "#2a3f5f"
            },
            "marker": {
             "line": {
              "color": "#E5ECF6",
              "width": 0.5
             }
            },
            "type": "bar"
           }
          ],
          "barpolar": [
           {
            "marker": {
             "line": {
              "color": "#E5ECF6",
              "width": 0.5
             }
            },
            "type": "barpolar"
           }
          ],
          "carpet": [
           {
            "aaxis": {
             "endlinecolor": "#2a3f5f",
             "gridcolor": "white",
             "linecolor": "white",
             "minorgridcolor": "white",
             "startlinecolor": "#2a3f5f"
            },
            "baxis": {
             "endlinecolor": "#2a3f5f",
             "gridcolor": "white",
             "linecolor": "white",
             "minorgridcolor": "white",
             "startlinecolor": "#2a3f5f"
            },
            "type": "carpet"
           }
          ],
          "choropleth": [
           {
            "colorbar": {
             "outlinewidth": 0,
             "ticks": ""
            },
            "type": "choropleth"
           }
          ],
          "contour": [
           {
            "colorbar": {
             "outlinewidth": 0,
             "ticks": ""
            },
            "colorscale": [
             [
              0,
              "#0d0887"
             ],
             [
              0.1111111111111111,
              "#46039f"
             ],
             [
              0.2222222222222222,
              "#7201a8"
             ],
             [
              0.3333333333333333,
              "#9c179e"
             ],
             [
              0.4444444444444444,
              "#bd3786"
             ],
             [
              0.5555555555555556,
              "#d8576b"
             ],
             [
              0.6666666666666666,
              "#ed7953"
             ],
             [
              0.7777777777777778,
              "#fb9f3a"
             ],
             [
              0.8888888888888888,
              "#fdca26"
             ],
             [
              1,
              "#f0f921"
             ]
            ],
            "type": "contour"
           }
          ],
          "contourcarpet": [
           {
            "colorbar": {
             "outlinewidth": 0,
             "ticks": ""
            },
            "type": "contourcarpet"
           }
          ],
          "heatmap": [
           {
            "colorbar": {
             "outlinewidth": 0,
             "ticks": ""
            },
            "colorscale": [
             [
              0,
              "#0d0887"
             ],
             [
              0.1111111111111111,
              "#46039f"
             ],
             [
              0.2222222222222222,
              "#7201a8"
             ],
             [
              0.3333333333333333,
              "#9c179e"
             ],
             [
              0.4444444444444444,
              "#bd3786"
             ],
             [
              0.5555555555555556,
              "#d8576b"
             ],
             [
              0.6666666666666666,
              "#ed7953"
             ],
             [
              0.7777777777777778,
              "#fb9f3a"
             ],
             [
              0.8888888888888888,
              "#fdca26"
             ],
             [
              1,
              "#f0f921"
             ]
            ],
            "type": "heatmap"
           }
          ],
          "heatmapgl": [
           {
            "colorbar": {
             "outlinewidth": 0,
             "ticks": ""
            },
            "colorscale": [
             [
              0,
              "#0d0887"
             ],
             [
              0.1111111111111111,
              "#46039f"
             ],
             [
              0.2222222222222222,
              "#7201a8"
             ],
             [
              0.3333333333333333,
              "#9c179e"
             ],
             [
              0.4444444444444444,
              "#bd3786"
             ],
             [
              0.5555555555555556,
              "#d8576b"
             ],
             [
              0.6666666666666666,
              "#ed7953"
             ],
             [
              0.7777777777777778,
              "#fb9f3a"
             ],
             [
              0.8888888888888888,
              "#fdca26"
             ],
             [
              1,
              "#f0f921"
             ]
            ],
            "type": "heatmapgl"
           }
          ],
          "histogram": [
           {
            "marker": {
             "colorbar": {
              "outlinewidth": 0,
              "ticks": ""
             }
            },
            "type": "histogram"
           }
          ],
          "histogram2d": [
           {
            "colorbar": {
             "outlinewidth": 0,
             "ticks": ""
            },
            "colorscale": [
             [
              0,
              "#0d0887"
             ],
             [
              0.1111111111111111,
              "#46039f"
             ],
             [
              0.2222222222222222,
              "#7201a8"
             ],
             [
              0.3333333333333333,
              "#9c179e"
             ],
             [
              0.4444444444444444,
              "#bd3786"
             ],
             [
              0.5555555555555556,
              "#d8576b"
             ],
             [
              0.6666666666666666,
              "#ed7953"
             ],
             [
              0.7777777777777778,
              "#fb9f3a"
             ],
             [
              0.8888888888888888,
              "#fdca26"
             ],
             [
              1,
              "#f0f921"
             ]
            ],
            "type": "histogram2d"
           }
          ],
          "histogram2dcontour": [
           {
            "colorbar": {
             "outlinewidth": 0,
             "ticks": ""
            },
            "colorscale": [
             [
              0,
              "#0d0887"
             ],
             [
              0.1111111111111111,
              "#46039f"
             ],
             [
              0.2222222222222222,
              "#7201a8"
             ],
             [
              0.3333333333333333,
              "#9c179e"
             ],
             [
              0.4444444444444444,
              "#bd3786"
             ],
             [
              0.5555555555555556,
              "#d8576b"
             ],
             [
              0.6666666666666666,
              "#ed7953"
             ],
             [
              0.7777777777777778,
              "#fb9f3a"
             ],
             [
              0.8888888888888888,
              "#fdca26"
             ],
             [
              1,
              "#f0f921"
             ]
            ],
            "type": "histogram2dcontour"
           }
          ],
          "mesh3d": [
           {
            "colorbar": {
             "outlinewidth": 0,
             "ticks": ""
            },
            "type": "mesh3d"
           }
          ],
          "parcoords": [
           {
            "line": {
             "colorbar": {
              "outlinewidth": 0,
              "ticks": ""
             }
            },
            "type": "parcoords"
           }
          ],
          "pie": [
           {
            "automargin": true,
            "type": "pie"
           }
          ],
          "scatter": [
           {
            "marker": {
             "colorbar": {
              "outlinewidth": 0,
              "ticks": ""
             }
            },
            "type": "scatter"
           }
          ],
          "scatter3d": [
           {
            "line": {
             "colorbar": {
              "outlinewidth": 0,
              "ticks": ""
             }
            },
            "marker": {
             "colorbar": {
              "outlinewidth": 0,
              "ticks": ""
             }
            },
            "type": "scatter3d"
           }
          ],
          "scattercarpet": [
           {
            "marker": {
             "colorbar": {
              "outlinewidth": 0,
              "ticks": ""
             }
            },
            "type": "scattercarpet"
           }
          ],
          "scattergeo": [
           {
            "marker": {
             "colorbar": {
              "outlinewidth": 0,
              "ticks": ""
             }
            },
            "type": "scattergeo"
           }
          ],
          "scattergl": [
           {
            "marker": {
             "colorbar": {
              "outlinewidth": 0,
              "ticks": ""
             }
            },
            "type": "scattergl"
           }
          ],
          "scattermapbox": [
           {
            "marker": {
             "colorbar": {
              "outlinewidth": 0,
              "ticks": ""
             }
            },
            "type": "scattermapbox"
           }
          ],
          "scatterpolar": [
           {
            "marker": {
             "colorbar": {
              "outlinewidth": 0,
              "ticks": ""
             }
            },
            "type": "scatterpolar"
           }
          ],
          "scatterpolargl": [
           {
            "marker": {
             "colorbar": {
              "outlinewidth": 0,
              "ticks": ""
             }
            },
            "type": "scatterpolargl"
           }
          ],
          "scatterternary": [
           {
            "marker": {
             "colorbar": {
              "outlinewidth": 0,
              "ticks": ""
             }
            },
            "type": "scatterternary"
           }
          ],
          "surface": [
           {
            "colorbar": {
             "outlinewidth": 0,
             "ticks": ""
            },
            "colorscale": [
             [
              0,
              "#0d0887"
             ],
             [
              0.1111111111111111,
              "#46039f"
             ],
             [
              0.2222222222222222,
              "#7201a8"
             ],
             [
              0.3333333333333333,
              "#9c179e"
             ],
             [
              0.4444444444444444,
              "#bd3786"
             ],
             [
              0.5555555555555556,
              "#d8576b"
             ],
             [
              0.6666666666666666,
              "#ed7953"
             ],
             [
              0.7777777777777778,
              "#fb9f3a"
             ],
             [
              0.8888888888888888,
              "#fdca26"
             ],
             [
              1,
              "#f0f921"
             ]
            ],
            "type": "surface"
           }
          ],
          "table": [
           {
            "cells": {
             "fill": {
              "color": "#EBF0F8"
             },
             "line": {
              "color": "white"
             }
            },
            "header": {
             "fill": {
              "color": "#C8D4E3"
             },
             "line": {
              "color": "white"
             }
            },
            "type": "table"
           }
          ]
         },
         "layout": {
          "annotationdefaults": {
           "arrowcolor": "#2a3f5f",
           "arrowhead": 0,
           "arrowwidth": 1
          },
          "coloraxis": {
           "colorbar": {
            "outlinewidth": 0,
            "ticks": ""
           }
          },
          "colorscale": {
           "diverging": [
            [
             0,
             "#8e0152"
            ],
            [
             0.1,
             "#c51b7d"
            ],
            [
             0.2,
             "#de77ae"
            ],
            [
             0.3,
             "#f1b6da"
            ],
            [
             0.4,
             "#fde0ef"
            ],
            [
             0.5,
             "#f7f7f7"
            ],
            [
             0.6,
             "#e6f5d0"
            ],
            [
             0.7,
             "#b8e186"
            ],
            [
             0.8,
             "#7fbc41"
            ],
            [
             0.9,
             "#4d9221"
            ],
            [
             1,
             "#276419"
            ]
           ],
           "sequential": [
            [
             0,
             "#0d0887"
            ],
            [
             0.1111111111111111,
             "#46039f"
            ],
            [
             0.2222222222222222,
             "#7201a8"
            ],
            [
             0.3333333333333333,
             "#9c179e"
            ],
            [
             0.4444444444444444,
             "#bd3786"
            ],
            [
             0.5555555555555556,
             "#d8576b"
            ],
            [
             0.6666666666666666,
             "#ed7953"
            ],
            [
             0.7777777777777778,
             "#fb9f3a"
            ],
            [
             0.8888888888888888,
             "#fdca26"
            ],
            [
             1,
             "#f0f921"
            ]
           ],
           "sequentialminus": [
            [
             0,
             "#0d0887"
            ],
            [
             0.1111111111111111,
             "#46039f"
            ],
            [
             0.2222222222222222,
             "#7201a8"
            ],
            [
             0.3333333333333333,
             "#9c179e"
            ],
            [
             0.4444444444444444,
             "#bd3786"
            ],
            [
             0.5555555555555556,
             "#d8576b"
            ],
            [
             0.6666666666666666,
             "#ed7953"
            ],
            [
             0.7777777777777778,
             "#fb9f3a"
            ],
            [
             0.8888888888888888,
             "#fdca26"
            ],
            [
             1,
             "#f0f921"
            ]
           ]
          },
          "colorway": [
           "#636efa",
           "#EF553B",
           "#00cc96",
           "#ab63fa",
           "#FFA15A",
           "#19d3f3",
           "#FF6692",
           "#B6E880",
           "#FF97FF",
           "#FECB52"
          ],
          "font": {
           "color": "#2a3f5f"
          },
          "geo": {
           "bgcolor": "white",
           "lakecolor": "white",
           "landcolor": "#E5ECF6",
           "showlakes": true,
           "showland": true,
           "subunitcolor": "white"
          },
          "hoverlabel": {
           "align": "left"
          },
          "hovermode": "closest",
          "mapbox": {
           "style": "light"
          },
          "paper_bgcolor": "white",
          "plot_bgcolor": "#E5ECF6",
          "polar": {
           "angularaxis": {
            "gridcolor": "white",
            "linecolor": "white",
            "ticks": ""
           },
           "bgcolor": "#E5ECF6",
           "radialaxis": {
            "gridcolor": "white",
            "linecolor": "white",
            "ticks": ""
           }
          },
          "scene": {
           "xaxis": {
            "backgroundcolor": "#E5ECF6",
            "gridcolor": "white",
            "gridwidth": 2,
            "linecolor": "white",
            "showbackground": true,
            "ticks": "",
            "zerolinecolor": "white"
           },
           "yaxis": {
            "backgroundcolor": "#E5ECF6",
            "gridcolor": "white",
            "gridwidth": 2,
            "linecolor": "white",
            "showbackground": true,
            "ticks": "",
            "zerolinecolor": "white"
           },
           "zaxis": {
            "backgroundcolor": "#E5ECF6",
            "gridcolor": "white",
            "gridwidth": 2,
            "linecolor": "white",
            "showbackground": true,
            "ticks": "",
            "zerolinecolor": "white"
           }
          },
          "shapedefaults": {
           "line": {
            "color": "#2a3f5f"
           }
          },
          "ternary": {
           "aaxis": {
            "gridcolor": "white",
            "linecolor": "white",
            "ticks": ""
           },
           "baxis": {
            "gridcolor": "white",
            "linecolor": "white",
            "ticks": ""
           },
           "bgcolor": "#E5ECF6",
           "caxis": {
            "gridcolor": "white",
            "linecolor": "white",
            "ticks": ""
           }
          },
          "title": {
           "x": 0.05
          },
          "xaxis": {
           "automargin": true,
           "gridcolor": "white",
           "linecolor": "white",
           "ticks": "",
           "title": {
            "standoff": 15
           },
           "zerolinecolor": "white",
           "zerolinewidth": 2
          },
          "yaxis": {
           "automargin": true,
           "gridcolor": "white",
           "linecolor": "white",
           "ticks": "",
           "title": {
            "standoff": 15
           },
           "zerolinecolor": "white",
           "zerolinewidth": 2
          }
         }
        },
        "title": {
         "font": {
          "color": "#4D5663"
         }
        },
        "xaxis": {
         "gridcolor": "#E1E5ED",
         "showgrid": true,
         "tickfont": {
          "color": "#4D5663"
         },
         "title": {
          "font": {
           "color": "#4D5663"
          },
          "text": ""
         },
         "zerolinecolor": "#E1E5ED"
        },
        "yaxis": {
         "gridcolor": "#E1E5ED",
         "showgrid": true,
         "tickfont": {
          "color": "#4D5663"
         },
         "title": {
          "font": {
           "color": "#4D5663"
          },
          "text": ""
         },
         "zerolinecolor": "#E1E5ED"
        }
       }
      },
      "text/html": [
       "<div>\n",
       "        \n",
       "        \n",
       "            <div id=\"c9346044-da5f-477d-bb18-ab871692a6c8\" class=\"plotly-graph-div\" style=\"height:525px; width:100%;\"></div>\n",
       "            <script type=\"text/javascript\">\n",
       "                require([\"plotly\"], function(Plotly) {\n",
       "                    window.PLOTLYENV=window.PLOTLYENV || {};\n",
       "                    window.PLOTLYENV.BASE_URL='https://plot.ly';\n",
       "                    \n",
       "                if (document.getElementById(\"c9346044-da5f-477d-bb18-ab871692a6c8\")) {\n",
       "                    Plotly.newPlot(\n",
       "                        'c9346044-da5f-477d-bb18-ab871692a6c8',\n",
       "                        [{\"marker\": {\"color\": \"rgba(255, 153, 51, 0.6)\", \"line\": {\"color\": \"rgba(255, 153, 51, 1.0)\", \"width\": 1}}, \"name\": \"EIRE\", \"orientation\": \"v\", \"text\": \"\", \"type\": \"bar\", \"x\": [\"CREAM HANGING HEART T-LIGHT HOLDER\", \"JUMBO BAG RED RETROSPOT\", \"REGENCY CAKESTAND 3 TIER\"], \"y\": [68.52000000000001, 19.90857142857143, 115.44609374999995]}, {\"marker\": {\"color\": \"rgba(55, 128, 191, 0.6)\", \"line\": {\"color\": \"rgba(55, 128, 191, 1.0)\", \"width\": 1}}, \"name\": \"France\", \"orientation\": \"v\", \"text\": \"\", \"type\": \"bar\", \"x\": [\"CREAM HANGING HEART T-LIGHT HOLDER\", \"JUMBO BAG RED RETROSPOT\", \"REGENCY CAKESTAND 3 TIER\"], \"y\": [43.916666666666664, 23.163333333333327, 57.48673469387755]}, {\"marker\": {\"color\": \"rgba(50, 171, 96, 0.6)\", \"line\": {\"color\": \"rgba(50, 171, 96, 1.0)\", \"width\": 1}}, \"name\": \"Germany\", \"orientation\": \"v\", \"text\": \"\", \"type\": \"bar\", \"x\": [\"CREAM HANGING HEART T-LIGHT HOLDER\", \"JUMBO BAG RED RETROSPOT\", \"REGENCY CAKESTAND 3 TIER\"], \"y\": [35.40000000000001, 29.798888888888882, 143.84047619047615]}, {\"marker\": {\"color\": \"rgba(128, 0, 128, 0.6)\", \"line\": {\"color\": \"rgba(128, 0, 128, 1.0)\", \"width\": 1}}, \"name\": \"Netherlands\", \"orientation\": \"v\", \"text\": \"\", \"type\": \"bar\", \"x\": [\"CREAM HANGING HEART T-LIGHT HOLDER\", \"JUMBO BAG RED RETROSPOT\", \"REGENCY CAKESTAND 3 TIER\"], \"y\": [194.5, 247.71428571428572, 351.81666666666666]}],\n",
       "                        {\"legend\": {\"bgcolor\": \"#F5F6F9\", \"font\": {\"color\": \"#4D5663\"}}, \"paper_bgcolor\": \"#F5F6F9\", \"plot_bgcolor\": \"#F5F6F9\", \"template\": {\"data\": {\"bar\": [{\"error_x\": {\"color\": \"#2a3f5f\"}, \"error_y\": {\"color\": \"#2a3f5f\"}, \"marker\": {\"line\": {\"color\": \"#E5ECF6\", \"width\": 0.5}}, \"type\": \"bar\"}], \"barpolar\": [{\"marker\": {\"line\": {\"color\": \"#E5ECF6\", \"width\": 0.5}}, \"type\": \"barpolar\"}], \"carpet\": [{\"aaxis\": {\"endlinecolor\": \"#2a3f5f\", \"gridcolor\": \"white\", \"linecolor\": \"white\", \"minorgridcolor\": \"white\", \"startlinecolor\": \"#2a3f5f\"}, \"baxis\": {\"endlinecolor\": \"#2a3f5f\", \"gridcolor\": \"white\", \"linecolor\": \"white\", \"minorgridcolor\": \"white\", \"startlinecolor\": \"#2a3f5f\"}, \"type\": \"carpet\"}], \"choropleth\": [{\"colorbar\": {\"outlinewidth\": 0, \"ticks\": \"\"}, \"type\": \"choropleth\"}], \"contour\": [{\"colorbar\": {\"outlinewidth\": 0, \"ticks\": \"\"}, \"colorscale\": [[0.0, \"#0d0887\"], [0.1111111111111111, \"#46039f\"], [0.2222222222222222, \"#7201a8\"], [0.3333333333333333, \"#9c179e\"], [0.4444444444444444, \"#bd3786\"], [0.5555555555555556, \"#d8576b\"], [0.6666666666666666, \"#ed7953\"], [0.7777777777777778, \"#fb9f3a\"], [0.8888888888888888, \"#fdca26\"], [1.0, \"#f0f921\"]], \"type\": \"contour\"}], \"contourcarpet\": [{\"colorbar\": {\"outlinewidth\": 0, \"ticks\": \"\"}, \"type\": \"contourcarpet\"}], \"heatmap\": [{\"colorbar\": {\"outlinewidth\": 0, \"ticks\": \"\"}, \"colorscale\": [[0.0, \"#0d0887\"], [0.1111111111111111, \"#46039f\"], [0.2222222222222222, \"#7201a8\"], [0.3333333333333333, \"#9c179e\"], [0.4444444444444444, \"#bd3786\"], [0.5555555555555556, \"#d8576b\"], [0.6666666666666666, \"#ed7953\"], [0.7777777777777778, \"#fb9f3a\"], [0.8888888888888888, \"#fdca26\"], [1.0, \"#f0f921\"]], \"type\": \"heatmap\"}], \"heatmapgl\": [{\"colorbar\": {\"outlinewidth\": 0, \"ticks\": \"\"}, \"colorscale\": [[0.0, \"#0d0887\"], [0.1111111111111111, \"#46039f\"], [0.2222222222222222, \"#7201a8\"], [0.3333333333333333, \"#9c179e\"], [0.4444444444444444, \"#bd3786\"], [0.5555555555555556, \"#d8576b\"], [0.6666666666666666, \"#ed7953\"], [0.7777777777777778, \"#fb9f3a\"], [0.8888888888888888, \"#fdca26\"], [1.0, \"#f0f921\"]], \"type\": \"heatmapgl\"}], \"histogram\": [{\"marker\": {\"colorbar\": {\"outlinewidth\": 0, \"ticks\": \"\"}}, \"type\": \"histogram\"}], \"histogram2d\": [{\"colorbar\": {\"outlinewidth\": 0, \"ticks\": \"\"}, \"colorscale\": [[0.0, \"#0d0887\"], [0.1111111111111111, \"#46039f\"], [0.2222222222222222, \"#7201a8\"], [0.3333333333333333, \"#9c179e\"], [0.4444444444444444, \"#bd3786\"], [0.5555555555555556, \"#d8576b\"], [0.6666666666666666, \"#ed7953\"], [0.7777777777777778, \"#fb9f3a\"], [0.8888888888888888, \"#fdca26\"], [1.0, \"#f0f921\"]], \"type\": \"histogram2d\"}], \"histogram2dcontour\": [{\"colorbar\": {\"outlinewidth\": 0, \"ticks\": \"\"}, \"colorscale\": [[0.0, \"#0d0887\"], [0.1111111111111111, \"#46039f\"], [0.2222222222222222, \"#7201a8\"], [0.3333333333333333, \"#9c179e\"], [0.4444444444444444, \"#bd3786\"], [0.5555555555555556, \"#d8576b\"], [0.6666666666666666, \"#ed7953\"], [0.7777777777777778, \"#fb9f3a\"], [0.8888888888888888, \"#fdca26\"], [1.0, \"#f0f921\"]], \"type\": \"histogram2dcontour\"}], \"mesh3d\": [{\"colorbar\": {\"outlinewidth\": 0, \"ticks\": \"\"}, \"type\": \"mesh3d\"}], \"parcoords\": [{\"line\": {\"colorbar\": {\"outlinewidth\": 0, \"ticks\": \"\"}}, \"type\": \"parcoords\"}], \"pie\": [{\"automargin\": true, \"type\": \"pie\"}], \"scatter\": [{\"marker\": {\"colorbar\": {\"outlinewidth\": 0, \"ticks\": \"\"}}, \"type\": \"scatter\"}], \"scatter3d\": [{\"line\": {\"colorbar\": {\"outlinewidth\": 0, \"ticks\": \"\"}}, \"marker\": {\"colorbar\": {\"outlinewidth\": 0, \"ticks\": \"\"}}, \"type\": \"scatter3d\"}], \"scattercarpet\": [{\"marker\": {\"colorbar\": {\"outlinewidth\": 0, \"ticks\": \"\"}}, \"type\": \"scattercarpet\"}], \"scattergeo\": [{\"marker\": {\"colorbar\": {\"outlinewidth\": 0, \"ticks\": \"\"}}, \"type\": \"scattergeo\"}], \"scattergl\": [{\"marker\": {\"colorbar\": {\"outlinewidth\": 0, \"ticks\": \"\"}}, \"type\": \"scattergl\"}], \"scattermapbox\": [{\"marker\": {\"colorbar\": {\"outlinewidth\": 0, \"ticks\": \"\"}}, \"type\": \"scattermapbox\"}], \"scatterpolar\": [{\"marker\": {\"colorbar\": {\"outlinewidth\": 0, \"ticks\": \"\"}}, \"type\": \"scatterpolar\"}], \"scatterpolargl\": [{\"marker\": {\"colorbar\": {\"outlinewidth\": 0, \"ticks\": \"\"}}, \"type\": \"scatterpolargl\"}], \"scatterternary\": [{\"marker\": {\"colorbar\": {\"outlinewidth\": 0, \"ticks\": \"\"}}, \"type\": \"scatterternary\"}], \"surface\": [{\"colorbar\": {\"outlinewidth\": 0, \"ticks\": \"\"}, \"colorscale\": [[0.0, \"#0d0887\"], [0.1111111111111111, \"#46039f\"], [0.2222222222222222, \"#7201a8\"], [0.3333333333333333, \"#9c179e\"], [0.4444444444444444, \"#bd3786\"], [0.5555555555555556, \"#d8576b\"], [0.6666666666666666, \"#ed7953\"], [0.7777777777777778, \"#fb9f3a\"], [0.8888888888888888, \"#fdca26\"], [1.0, \"#f0f921\"]], \"type\": \"surface\"}], \"table\": [{\"cells\": {\"fill\": {\"color\": \"#EBF0F8\"}, \"line\": {\"color\": \"white\"}}, \"header\": {\"fill\": {\"color\": \"#C8D4E3\"}, \"line\": {\"color\": \"white\"}}, \"type\": \"table\"}]}, \"layout\": {\"annotationdefaults\": {\"arrowcolor\": \"#2a3f5f\", \"arrowhead\": 0, \"arrowwidth\": 1}, \"coloraxis\": {\"colorbar\": {\"outlinewidth\": 0, \"ticks\": \"\"}}, \"colorscale\": {\"diverging\": [[0, \"#8e0152\"], [0.1, \"#c51b7d\"], [0.2, \"#de77ae\"], [0.3, \"#f1b6da\"], [0.4, \"#fde0ef\"], [0.5, \"#f7f7f7\"], [0.6, \"#e6f5d0\"], [0.7, \"#b8e186\"], [0.8, \"#7fbc41\"], [0.9, \"#4d9221\"], [1, \"#276419\"]], \"sequential\": [[0.0, \"#0d0887\"], [0.1111111111111111, \"#46039f\"], [0.2222222222222222, \"#7201a8\"], [0.3333333333333333, \"#9c179e\"], [0.4444444444444444, \"#bd3786\"], [0.5555555555555556, \"#d8576b\"], [0.6666666666666666, \"#ed7953\"], [0.7777777777777778, \"#fb9f3a\"], [0.8888888888888888, \"#fdca26\"], [1.0, \"#f0f921\"]], \"sequentialminus\": [[0.0, \"#0d0887\"], [0.1111111111111111, \"#46039f\"], [0.2222222222222222, \"#7201a8\"], [0.3333333333333333, \"#9c179e\"], [0.4444444444444444, \"#bd3786\"], [0.5555555555555556, \"#d8576b\"], [0.6666666666666666, \"#ed7953\"], [0.7777777777777778, \"#fb9f3a\"], [0.8888888888888888, \"#fdca26\"], [1.0, \"#f0f921\"]]}, \"colorway\": [\"#636efa\", \"#EF553B\", \"#00cc96\", \"#ab63fa\", \"#FFA15A\", \"#19d3f3\", \"#FF6692\", \"#B6E880\", \"#FF97FF\", \"#FECB52\"], \"font\": {\"color\": \"#2a3f5f\"}, \"geo\": {\"bgcolor\": \"white\", \"lakecolor\": \"white\", \"landcolor\": \"#E5ECF6\", \"showlakes\": true, \"showland\": true, \"subunitcolor\": \"white\"}, \"hoverlabel\": {\"align\": \"left\"}, \"hovermode\": \"closest\", \"mapbox\": {\"style\": \"light\"}, \"paper_bgcolor\": \"white\", \"plot_bgcolor\": \"#E5ECF6\", \"polar\": {\"angularaxis\": {\"gridcolor\": \"white\", \"linecolor\": \"white\", \"ticks\": \"\"}, \"bgcolor\": \"#E5ECF6\", \"radialaxis\": {\"gridcolor\": \"white\", \"linecolor\": \"white\", \"ticks\": \"\"}}, \"scene\": {\"xaxis\": {\"backgroundcolor\": \"#E5ECF6\", \"gridcolor\": \"white\", \"gridwidth\": 2, \"linecolor\": \"white\", \"showbackground\": true, \"ticks\": \"\", \"zerolinecolor\": \"white\"}, \"yaxis\": {\"backgroundcolor\": \"#E5ECF6\", \"gridcolor\": \"white\", \"gridwidth\": 2, \"linecolor\": \"white\", \"showbackground\": true, \"ticks\": \"\", \"zerolinecolor\": \"white\"}, \"zaxis\": {\"backgroundcolor\": \"#E5ECF6\", \"gridcolor\": \"white\", \"gridwidth\": 2, \"linecolor\": \"white\", \"showbackground\": true, \"ticks\": \"\", \"zerolinecolor\": \"white\"}}, \"shapedefaults\": {\"line\": {\"color\": \"#2a3f5f\"}}, \"ternary\": {\"aaxis\": {\"gridcolor\": \"white\", \"linecolor\": \"white\", \"ticks\": \"\"}, \"baxis\": {\"gridcolor\": \"white\", \"linecolor\": \"white\", \"ticks\": \"\"}, \"bgcolor\": \"#E5ECF6\", \"caxis\": {\"gridcolor\": \"white\", \"linecolor\": \"white\", \"ticks\": \"\"}}, \"title\": {\"x\": 0.05}, \"xaxis\": {\"automargin\": true, \"gridcolor\": \"white\", \"linecolor\": \"white\", \"ticks\": \"\", \"title\": {\"standoff\": 15}, \"zerolinecolor\": \"white\", \"zerolinewidth\": 2}, \"yaxis\": {\"automargin\": true, \"gridcolor\": \"white\", \"linecolor\": \"white\", \"ticks\": \"\", \"title\": {\"standoff\": 15}, \"zerolinecolor\": \"white\", \"zerolinewidth\": 2}}}, \"title\": {\"font\": {\"color\": \"#4D5663\"}}, \"xaxis\": {\"gridcolor\": \"#E1E5ED\", \"showgrid\": true, \"tickfont\": {\"color\": \"#4D5663\"}, \"title\": {\"font\": {\"color\": \"#4D5663\"}, \"text\": \"\"}, \"zerolinecolor\": \"#E1E5ED\"}, \"yaxis\": {\"gridcolor\": \"#E1E5ED\", \"showgrid\": true, \"tickfont\": {\"color\": \"#4D5663\"}, \"title\": {\"font\": {\"color\": \"#4D5663\"}, \"text\": \"\"}, \"zerolinecolor\": \"#E1E5ED\"}},\n",
       "                        {\"showLink\": true, \"linkText\": \"Export to plot.ly\", \"plotlyServerURL\": \"https://plot.ly\", \"responsive\": true}\n",
       "                    ).then(function(){\n",
       "                            \n",
       "var gd = document.getElementById('c9346044-da5f-477d-bb18-ab871692a6c8');\n",
       "var x = new MutationObserver(function (mutations, observer) {{\n",
       "        var display = window.getComputedStyle(gd).display;\n",
       "        if (!display || display === 'none') {{\n",
       "            console.log([gd, 'removed!']);\n",
       "            Plotly.purge(gd);\n",
       "            observer.disconnect();\n",
       "        }}\n",
       "}});\n",
       "\n",
       "// Listen for the removal of the full notebook cells\n",
       "var notebookContainer = gd.closest('#notebook-container');\n",
       "if (notebookContainer) {{\n",
       "    x.observe(notebookContainer, {childList: true});\n",
       "}}\n",
       "\n",
       "// Listen for the clearing of the current output cell\n",
       "var outputEl = gd.closest('.output');\n",
       "if (outputEl) {{\n",
       "    x.observe(outputEl, {childList: true});\n",
       "}}\n",
       "\n",
       "                        })\n",
       "                };\n",
       "                });\n",
       "            </script>\n",
       "        </div>"
      ]
     },
     "metadata": {},
     "output_type": "display_data"
    }
   ],
   "source": [
    "filtro5 = data[(data['Country'].isin(['EIRE', 'Germany', 'France', 'Netherlands']))&(data['Description'].isin(product_list))]\n",
    "filtro5 = filtro5.pivot_table(columns=\"Country\",index=\"Description\",values=\"Revenue\")\n",
    "filtro5.iplot(kind ='bar')"
   ]
  },
  {
   "cell_type": "markdown",
   "metadata": {},
   "source": [
    "## 6. Create an interactive line chart showing quantity sold by day for the United Kingdom. Add drop-down boxes for Year and Month that allow you to filter the date range that appears in the chart."
   ]
  },
  {
   "cell_type": "code",
   "execution_count": 67,
   "metadata": {},
   "outputs": [],
   "source": [
    "data['Year'] = pd.DatetimeIndex(data['InvoiceDate']).year\n",
    "data['Month'] = pd.DatetimeIndex(data['InvoiceDate']).month\n",
    "data['Day'] = pd.DatetimeIndex(data['InvoiceDate']).day\n",
    "uk = data[data['Country']=='United Kingdom']"
   ]
  },
  {
   "cell_type": "code",
   "execution_count": 65,
   "metadata": {},
   "outputs": [
    {
     "data": {
      "application/vnd.plotly.v1+json": {
       "config": {
        "linkText": "Export to plot.ly",
        "plotlyServerURL": "https://plot.ly",
        "showLink": true
       },
       "data": [
        {
         "line": {
          "color": "rgba(255, 153, 51, 1.0)",
          "dash": "solid",
          "shape": "linear",
          "width": 1.3
         },
         "mode": "lines",
         "name": "(2010, 12)",
         "text": "",
         "type": "scatter",
         "x": [
          1,
          2,
          3,
          4,
          5,
          6,
          7,
          8,
          9,
          10,
          11,
          12,
          13,
          14,
          15,
          16,
          17,
          18,
          19,
          20,
          21,
          22,
          23,
          24,
          25,
          26,
          27,
          28,
          29,
          30,
          31
         ],
         "y": [
          11.87075208913649,
          15.594866633115249,
          8.292841648590022,
          "",
          5.509518023491292,
          8.235138004246284,
          18.1998001998002,
          10.541038525963149,
          9.010006671114077,
          11.212629896083133,
          "",
          5.900576368876081,
          12.083601286173634,
          10.815926892950392,
          14.954918032786885,
          17.296500920810313,
          9.907284768211921,
          "",
          7.183628318584071,
          16.99425287356322,
          13.348920863309353,
          12.754285714285714,
          8.784552845528456,
          "",
          "",
          "",
          "",
          "",
          "",
          "",
          ""
         ]
        },
        {
         "line": {
          "color": "rgba(55, 128, 191, 1.0)",
          "dash": "solid",
          "shape": "linear",
          "width": 1.3
         },
         "mode": "lines",
         "name": "(2011, 1)",
         "text": "",
         "type": "scatter",
         "x": [
          1,
          2,
          3,
          4,
          5,
          6,
          7,
          8,
          9,
          10,
          11,
          12,
          13,
          14,
          15,
          16,
          17,
          18,
          19,
          20,
          21,
          22,
          23,
          24,
          25,
          26,
          27,
          28,
          29,
          30,
          31
         ],
         "y": [
          "",
          "",
          "",
          9.109439124487004,
          18.143004115226336,
          13.936698032506415,
          15.828169014084507,
          "",
          7.224609375,
          11.784345047923322,
          31.17269076305221,
          8.15581098339719,
          11.500770416024654,
          9.602888086642599,
          "",
          6.555382215288612,
          9,
          10.181818181818182,
          9.117728531855956,
          9.898275862068965,
          11.803191489361701,
          "",
          6.03183962264151,
          12.477124183006536,
          11.148362235067438,
          10.470959595959595,
          8.391143911439114,
          10.32046332046332,
          "",
          4.80532212885154,
          11.698136645962732
         ]
        },
        {
         "line": {
          "color": "rgba(50, 171, 96, 1.0)",
          "dash": "solid",
          "shape": "linear",
          "width": 1.3
         },
         "mode": "lines",
         "name": "(2011, 2)",
         "text": "",
         "type": "scatter",
         "x": [
          1,
          2,
          3,
          4,
          5,
          6,
          7,
          8,
          9,
          10,
          11,
          12,
          13,
          14,
          15,
          16,
          17,
          18,
          19,
          20,
          21,
          22,
          23,
          24,
          25,
          26,
          27,
          28,
          29,
          30,
          31
         ],
         "y": [
          12.305454545454545,
          8.697130712008502,
          19.92032967032967,
          17.540308747855917,
          "",
          7.340501792114695,
          9.400234741784038,
          12.547368421052632,
          7.891447368421052,
          17.73482428115016,
          18.70258620689655,
          "",
          4.525451559934319,
          18.770642201834864,
          12.588739290085678,
          14.954651162790698,
          12.297154899894625,
          14.658301158301159,
          "",
          6.234265734265734,
          9.25811209439528,
          16.331818181818182,
          11.955142231947484,
          10.407335907335908,
          12.240320427236314,
          "",
          5.763522012578616,
          8.048220436280138,
          "",
          "",
          ""
         ]
        },
        {
         "line": {
          "color": "rgba(128, 0, 128, 1.0)",
          "dash": "solid",
          "shape": "linear",
          "width": 1.3
         },
         "mode": "lines",
         "name": "(2011, 3)",
         "text": "",
         "type": "scatter",
         "x": [
          1,
          2,
          3,
          4,
          5,
          6,
          7,
          8,
          9,
          10,
          11,
          12,
          13,
          14,
          15,
          16,
          17,
          18,
          19,
          20,
          21,
          22,
          23,
          24,
          25,
          26,
          27,
          28,
          29,
          30,
          31
         ],
         "y": [
          9.637974683544304,
          9.585882352941177,
          10.373015873015873,
          15.365384615384615,
          "",
          6.148599269183922,
          10.325,
          11.377777777777778,
          11.046979865771812,
          13.696011004126547,
          14.671378091872791,
          "",
          4.939688715953308,
          11.223451327433628,
          8.838255977496484,
          16.277188328912466,
          18.84342857142857,
          13.055617352614016,
          "",
          11.157618213660244,
          10.139560439560439,
          11.122989593188269,
          12.13953488372093,
          11.913468248429867,
          12.835686777920412,
          "",
          6.336170212765958,
          7.494995450409463,
          12.655063291139241,
          15.1,
          12.399780941949617
         ]
        },
        {
         "line": {
          "color": "rgba(219, 64, 82, 1.0)",
          "dash": "solid",
          "shape": "linear",
          "width": 1.3
         },
         "mode": "lines",
         "name": "(2011, 4)",
         "text": "",
         "type": "scatter",
         "x": [
          1,
          2,
          3,
          4,
          5,
          6,
          7,
          8,
          9,
          10,
          11,
          12,
          13,
          14,
          15,
          16,
          17,
          18,
          19,
          20,
          21,
          22,
          23,
          24,
          25,
          26,
          27,
          28,
          29,
          30,
          31
         ],
         "y": [
          16.665694849368318,
          "",
          7.881780250347705,
          9.862037871956717,
          13.090458488228006,
          10.040871934604905,
          6.943965517241379,
          11.972881355932204,
          "",
          6,
          11.621814475025484,
          13.652462121212121,
          18.955974842767297,
          12.782839787395597,
          14.516358463726885,
          "",
          8.384615384615385,
          14.135740072202166,
          10.303231939163497,
          19.73120728929385,
          12.837364470391993,
          "",
          "",
          "",
          "",
          12.278846153846153,
          17.052472250252272,
          12.951086956521738,
          "",
          "",
          ""
         ]
        },
        {
         "line": {
          "color": "rgba(0, 128, 128, 1.0)",
          "dash": "solid",
          "shape": "linear",
          "width": 1.3
         },
         "mode": "lines",
         "name": "(2011, 5)",
         "text": "",
         "type": "scatter",
         "x": [
          1,
          2,
          3,
          4,
          5,
          6,
          7,
          8,
          9,
          10,
          11,
          12,
          13,
          14,
          15,
          16,
          17,
          18,
          19,
          20,
          21,
          22,
          23,
          24,
          25,
          26,
          27,
          28,
          29,
          30,
          31
         ],
         "y": [
          7.643373493975903,
          "",
          11.097447795823665,
          14.725730442978323,
          13.281757402101242,
          13.022708840227088,
          "",
          6.827089337175792,
          10.785345717234263,
          12.320851063829787,
          12.12661106899166,
          10.877611940298507,
          11.447265625,
          "",
          6.115803814713897,
          12.343473994111875,
          14.020462633451958,
          16.18139097744361,
          11.428127428127429,
          15.504434589800443,
          "",
          8.138199858256556,
          14.457169459962756,
          13.738669238187079,
          11.582579185520363,
          13.90771349862259,
          18.32128514056225,
          "",
          6.443333333333333,
          "",
          11.946308724832214
         ]
        },
        {
         "line": {
          "color": "rgba(255, 255, 51, 1.0)",
          "dash": "solid",
          "shape": "linear",
          "width": 1.3
         },
         "mode": "lines",
         "name": "(2011, 6)",
         "text": "",
         "type": "scatter",
         "x": [
          1,
          2,
          3,
          4,
          5,
          6,
          7,
          8,
          9,
          10,
          11,
          12,
          13,
          14,
          15,
          16,
          17,
          18,
          19,
          20,
          21,
          22,
          23,
          24,
          25,
          26,
          27,
          28,
          29,
          30,
          31
         ],
         "y": [
          9.607255520504731,
          14.790834312573443,
          11.278947368421052,
          "",
          7.7759522031366695,
          8.695555555555556,
          12.333816075307748,
          11.421221864951768,
          20.905511811023622,
          10.446428571428571,
          "",
          8.110683349374398,
          9.225546605293442,
          12.729146221786065,
          9.8468992248062,
          16.344454463480613,
          13.52017937219731,
          "",
          9.378917378917379,
          12.293975903614458,
          14.152334152334152,
          13.17103762827822,
          8.757742601514108,
          12.340729001584785,
          "",
          5.2271293375394325,
          11.85068493150685,
          14.527407407407408,
          10.193916349809886,
          17.425471698113206,
          ""
         ]
        },
        {
         "line": {
          "color": "rgba(128, 128, 0, 1.0)",
          "dash": "solid",
          "shape": "linear",
          "width": 1.3
         },
         "mode": "lines",
         "name": "(2011, 7)",
         "text": "",
         "type": "scatter",
         "x": [
          1,
          2,
          3,
          4,
          5,
          6,
          7,
          8,
          9,
          10,
          11,
          12,
          13,
          14,
          15,
          16,
          17,
          18,
          19,
          20,
          21,
          22,
          23,
          24,
          25,
          26,
          27,
          28,
          29,
          30,
          31
         ],
         "y": [
          8.269387755102041,
          "",
          5.212374581939799,
          11.289473684210526,
          23.058108108108108,
          12.033514492753623,
          14.47875108412836,
          13.940418679549115,
          "",
          5.235221674876847,
          14.309111880046137,
          16.462279293739968,
          8.371877890841812,
          11.178448275862069,
          8.751506024096386,
          "",
          9.055979643765903,
          8.504540867810293,
          17.75092250922509,
          13.042533936651584,
          15.135204081632653,
          11.058912386706949,
          "",
          16.906952965235174,
          13.230519480519481,
          15.115671641791044,
          13.486211901306241,
          24.286956521739132,
          11.988505747126437,
          "",
          9.977777777777778
         ]
        },
        {
         "line": {
          "color": "rgba(251, 128, 114, 1.0)",
          "dash": "solid",
          "shape": "linear",
          "width": 1.3
         },
         "mode": "lines",
         "name": "(2011, 8)",
         "text": "",
         "type": "scatter",
         "x": [
          1,
          2,
          3,
          4,
          5,
          6,
          7,
          8,
          9,
          10,
          11,
          12,
          13,
          14,
          15,
          16,
          17,
          18,
          19,
          20,
          21,
          22,
          23,
          24,
          25,
          26,
          27,
          28,
          29,
          30,
          31
         ],
         "y": [
          11.370932754880695,
          18.754068716094032,
          11.633846153846154,
          28.087094220110846,
          10.397916666666667,
          "",
          9.81800766283525,
          11.567195767195766,
          9.89076723016905,
          16.91194968553459,
          16.39950372208437,
          15.18503937007874,
          "",
          5.927238805970149,
          9.57845744680851,
          11.754566210045661,
          17.837796480489672,
          15.884848484848485,
          13.610544217687075,
          "",
          6.836032388663968,
          12.370757180156659,
          10.127081507449606,
          18.318051575931232,
          11.040289256198347,
          14.943076923076923,
          "",
          5.562383612662942,
          "",
          11.046575342465754,
          15.47016274864376
         ]
        },
        {
         "line": {
          "color": "rgba(128, 177, 211, 1.0)",
          "dash": "solid",
          "shape": "linear",
          "width": 1.3
         },
         "mode": "lines",
         "name": "(2011, 9)",
         "text": "",
         "type": "scatter",
         "x": [
          1,
          2,
          3,
          4,
          5,
          6,
          7,
          8,
          9,
          10,
          11,
          12,
          13,
          14,
          15,
          16,
          17,
          18,
          19,
          20,
          21,
          22,
          23,
          24,
          25,
          26,
          27,
          28,
          29,
          30,
          31
         ],
         "y": [
          16.770579268292682,
          14.319082377476539,
          "",
          6.698752228163993,
          13.240495867768596,
          13.547128927410618,
          15.573170731707316,
          11.06677796327212,
          12.13926499032882,
          "",
          10.420997920997921,
          11.38365650969529,
          14.209534368070953,
          11.423880597014925,
          17.281812125249832,
          11.3800170794193,
          "",
          7.075531077891424,
          13.08404255319149,
          32.17503924646782,
          10.927586206896551,
          12.454888993859235,
          9.998672859986728,
          "",
          9.641379310344828,
          10.046841731724628,
          14.376055257099003,
          11.582485875706215,
          12.029764762361978,
          13.010614101592115,
          ""
         ]
        },
        {
         "line": {
          "color": "rgba(128, 177, 211, 0.8999999999999999)",
          "dash": "solid",
          "shape": "linear",
          "width": 1.3
         },
         "mode": "lines",
         "name": "(2011, 10)",
         "text": "",
         "type": "scatter",
         "x": [
          1,
          2,
          3,
          4,
          5,
          6,
          7,
          8,
          9,
          10,
          11,
          12,
          13,
          14,
          15,
          16,
          17,
          18,
          19,
          20,
          21,
          22,
          23,
          24,
          25,
          26,
          27,
          28,
          29,
          30,
          31
         ],
         "y": [
          "",
          5.897887323943662,
          14.587813620071685,
          11.401709401709402,
          19.903048780487804,
          14.043863742417173,
          14.699115044247788,
          "",
          6.0709105560032235,
          8.96697543294402,
          15.555908009516257,
          11.234005258545135,
          8.735428945645056,
          10.933280381254963,
          "",
          7.037720706260032,
          9.310485933503836,
          13.33543940264216,
          9.041427660930529,
          8.739455419113721,
          16.94867408041061,
          "",
          4.106271777003484,
          12.599328483491886,
          12.05274043433299,
          11.254500310366232,
          11.976003917727718,
          13.418006430868168,
          "",
          6.539688427299703,
          7.980210265924551
         ]
        },
        {
         "line": {
          "color": "rgba(255, 153, 51, 0.8999999999999999)",
          "dash": "solid",
          "shape": "linear",
          "width": 1.3
         },
         "mode": "lines",
         "name": "(2011, 11)",
         "text": "",
         "type": "scatter",
         "x": [
          1,
          2,
          3,
          4,
          5,
          6,
          7,
          8,
          9,
          10,
          11,
          12,
          13,
          14,
          15,
          16,
          17,
          18,
          19,
          20,
          21,
          22,
          23,
          24,
          25,
          26,
          27,
          28,
          29,
          30,
          31
         ],
         "y": [
          9.419935691318328,
          14.09633312616532,
          17.054474708171206,
          14.062640829202344,
          "",
          5.851532567049809,
          9.145744029393754,
          9.236338797814208,
          16.56357552581262,
          9.960973863229503,
          9.438674579624134,
          "",
          6.605384615384615,
          10.78247958426132,
          10.7778899545684,
          9.147781299524564,
          8.951169470660648,
          9.42841163310962,
          "",
          5.854131247874872,
          10.528913963328632,
          10.450411603292826,
          9.225411157691067,
          9.346360527601368,
          8.065646908859145,
          "",
          4.224548440065681,
          9.974599452911294,
          8.660964230171073,
          10.64153066966798,
          ""
         ]
        },
        {
         "line": {
          "color": "rgba(55, 128, 191, 0.8999999999999999)",
          "dash": "solid",
          "shape": "linear",
          "width": 1.3
         },
         "mode": "lines",
         "name": "(2011, 12)",
         "text": "",
         "type": "scatter",
         "x": [
          1,
          2,
          3,
          4,
          5,
          6,
          7,
          8,
          9,
          10,
          11,
          12,
          13,
          14,
          15,
          16,
          17,
          18,
          19,
          20,
          21,
          22,
          23,
          24,
          25,
          26,
          27,
          28,
          29,
          30,
          31
         ],
         "y": [
          11.55457227138643,
          12.657111356119074,
          "",
          5.45983379501385,
          11.06539173349784,
          11.048614072494669,
          16.876378409750437,
          10.640317858636553,
          14.155963302752294,
          "",
          "",
          "",
          "",
          "",
          "",
          "",
          "",
          "",
          "",
          "",
          "",
          "",
          "",
          "",
          "",
          "",
          "",
          "",
          "",
          "",
          ""
         ]
        }
       ],
       "layout": {
        "legend": {
         "bgcolor": "#F5F6F9",
         "font": {
          "color": "#4D5663"
         }
        },
        "paper_bgcolor": "#F5F6F9",
        "plot_bgcolor": "#F5F6F9",
        "template": {
         "data": {
          "bar": [
           {
            "error_x": {
             "color": "#2a3f5f"
            },
            "error_y": {
             "color": "#2a3f5f"
            },
            "marker": {
             "line": {
              "color": "#E5ECF6",
              "width": 0.5
             }
            },
            "type": "bar"
           }
          ],
          "barpolar": [
           {
            "marker": {
             "line": {
              "color": "#E5ECF6",
              "width": 0.5
             }
            },
            "type": "barpolar"
           }
          ],
          "carpet": [
           {
            "aaxis": {
             "endlinecolor": "#2a3f5f",
             "gridcolor": "white",
             "linecolor": "white",
             "minorgridcolor": "white",
             "startlinecolor": "#2a3f5f"
            },
            "baxis": {
             "endlinecolor": "#2a3f5f",
             "gridcolor": "white",
             "linecolor": "white",
             "minorgridcolor": "white",
             "startlinecolor": "#2a3f5f"
            },
            "type": "carpet"
           }
          ],
          "choropleth": [
           {
            "colorbar": {
             "outlinewidth": 0,
             "ticks": ""
            },
            "type": "choropleth"
           }
          ],
          "contour": [
           {
            "colorbar": {
             "outlinewidth": 0,
             "ticks": ""
            },
            "colorscale": [
             [
              0,
              "#0d0887"
             ],
             [
              0.1111111111111111,
              "#46039f"
             ],
             [
              0.2222222222222222,
              "#7201a8"
             ],
             [
              0.3333333333333333,
              "#9c179e"
             ],
             [
              0.4444444444444444,
              "#bd3786"
             ],
             [
              0.5555555555555556,
              "#d8576b"
             ],
             [
              0.6666666666666666,
              "#ed7953"
             ],
             [
              0.7777777777777778,
              "#fb9f3a"
             ],
             [
              0.8888888888888888,
              "#fdca26"
             ],
             [
              1,
              "#f0f921"
             ]
            ],
            "type": "contour"
           }
          ],
          "contourcarpet": [
           {
            "colorbar": {
             "outlinewidth": 0,
             "ticks": ""
            },
            "type": "contourcarpet"
           }
          ],
          "heatmap": [
           {
            "colorbar": {
             "outlinewidth": 0,
             "ticks": ""
            },
            "colorscale": [
             [
              0,
              "#0d0887"
             ],
             [
              0.1111111111111111,
              "#46039f"
             ],
             [
              0.2222222222222222,
              "#7201a8"
             ],
             [
              0.3333333333333333,
              "#9c179e"
             ],
             [
              0.4444444444444444,
              "#bd3786"
             ],
             [
              0.5555555555555556,
              "#d8576b"
             ],
             [
              0.6666666666666666,
              "#ed7953"
             ],
             [
              0.7777777777777778,
              "#fb9f3a"
             ],
             [
              0.8888888888888888,
              "#fdca26"
             ],
             [
              1,
              "#f0f921"
             ]
            ],
            "type": "heatmap"
           }
          ],
          "heatmapgl": [
           {
            "colorbar": {
             "outlinewidth": 0,
             "ticks": ""
            },
            "colorscale": [
             [
              0,
              "#0d0887"
             ],
             [
              0.1111111111111111,
              "#46039f"
             ],
             [
              0.2222222222222222,
              "#7201a8"
             ],
             [
              0.3333333333333333,
              "#9c179e"
             ],
             [
              0.4444444444444444,
              "#bd3786"
             ],
             [
              0.5555555555555556,
              "#d8576b"
             ],
             [
              0.6666666666666666,
              "#ed7953"
             ],
             [
              0.7777777777777778,
              "#fb9f3a"
             ],
             [
              0.8888888888888888,
              "#fdca26"
             ],
             [
              1,
              "#f0f921"
             ]
            ],
            "type": "heatmapgl"
           }
          ],
          "histogram": [
           {
            "marker": {
             "colorbar": {
              "outlinewidth": 0,
              "ticks": ""
             }
            },
            "type": "histogram"
           }
          ],
          "histogram2d": [
           {
            "colorbar": {
             "outlinewidth": 0,
             "ticks": ""
            },
            "colorscale": [
             [
              0,
              "#0d0887"
             ],
             [
              0.1111111111111111,
              "#46039f"
             ],
             [
              0.2222222222222222,
              "#7201a8"
             ],
             [
              0.3333333333333333,
              "#9c179e"
             ],
             [
              0.4444444444444444,
              "#bd3786"
             ],
             [
              0.5555555555555556,
              "#d8576b"
             ],
             [
              0.6666666666666666,
              "#ed7953"
             ],
             [
              0.7777777777777778,
              "#fb9f3a"
             ],
             [
              0.8888888888888888,
              "#fdca26"
             ],
             [
              1,
              "#f0f921"
             ]
            ],
            "type": "histogram2d"
           }
          ],
          "histogram2dcontour": [
           {
            "colorbar": {
             "outlinewidth": 0,
             "ticks": ""
            },
            "colorscale": [
             [
              0,
              "#0d0887"
             ],
             [
              0.1111111111111111,
              "#46039f"
             ],
             [
              0.2222222222222222,
              "#7201a8"
             ],
             [
              0.3333333333333333,
              "#9c179e"
             ],
             [
              0.4444444444444444,
              "#bd3786"
             ],
             [
              0.5555555555555556,
              "#d8576b"
             ],
             [
              0.6666666666666666,
              "#ed7953"
             ],
             [
              0.7777777777777778,
              "#fb9f3a"
             ],
             [
              0.8888888888888888,
              "#fdca26"
             ],
             [
              1,
              "#f0f921"
             ]
            ],
            "type": "histogram2dcontour"
           }
          ],
          "mesh3d": [
           {
            "colorbar": {
             "outlinewidth": 0,
             "ticks": ""
            },
            "type": "mesh3d"
           }
          ],
          "parcoords": [
           {
            "line": {
             "colorbar": {
              "outlinewidth": 0,
              "ticks": ""
             }
            },
            "type": "parcoords"
           }
          ],
          "pie": [
           {
            "automargin": true,
            "type": "pie"
           }
          ],
          "scatter": [
           {
            "marker": {
             "colorbar": {
              "outlinewidth": 0,
              "ticks": ""
             }
            },
            "type": "scatter"
           }
          ],
          "scatter3d": [
           {
            "line": {
             "colorbar": {
              "outlinewidth": 0,
              "ticks": ""
             }
            },
            "marker": {
             "colorbar": {
              "outlinewidth": 0,
              "ticks": ""
             }
            },
            "type": "scatter3d"
           }
          ],
          "scattercarpet": [
           {
            "marker": {
             "colorbar": {
              "outlinewidth": 0,
              "ticks": ""
             }
            },
            "type": "scattercarpet"
           }
          ],
          "scattergeo": [
           {
            "marker": {
             "colorbar": {
              "outlinewidth": 0,
              "ticks": ""
             }
            },
            "type": "scattergeo"
           }
          ],
          "scattergl": [
           {
            "marker": {
             "colorbar": {
              "outlinewidth": 0,
              "ticks": ""
             }
            },
            "type": "scattergl"
           }
          ],
          "scattermapbox": [
           {
            "marker": {
             "colorbar": {
              "outlinewidth": 0,
              "ticks": ""
             }
            },
            "type": "scattermapbox"
           }
          ],
          "scatterpolar": [
           {
            "marker": {
             "colorbar": {
              "outlinewidth": 0,
              "ticks": ""
             }
            },
            "type": "scatterpolar"
           }
          ],
          "scatterpolargl": [
           {
            "marker": {
             "colorbar": {
              "outlinewidth": 0,
              "ticks": ""
             }
            },
            "type": "scatterpolargl"
           }
          ],
          "scatterternary": [
           {
            "marker": {
             "colorbar": {
              "outlinewidth": 0,
              "ticks": ""
             }
            },
            "type": "scatterternary"
           }
          ],
          "surface": [
           {
            "colorbar": {
             "outlinewidth": 0,
             "ticks": ""
            },
            "colorscale": [
             [
              0,
              "#0d0887"
             ],
             [
              0.1111111111111111,
              "#46039f"
             ],
             [
              0.2222222222222222,
              "#7201a8"
             ],
             [
              0.3333333333333333,
              "#9c179e"
             ],
             [
              0.4444444444444444,
              "#bd3786"
             ],
             [
              0.5555555555555556,
              "#d8576b"
             ],
             [
              0.6666666666666666,
              "#ed7953"
             ],
             [
              0.7777777777777778,
              "#fb9f3a"
             ],
             [
              0.8888888888888888,
              "#fdca26"
             ],
             [
              1,
              "#f0f921"
             ]
            ],
            "type": "surface"
           }
          ],
          "table": [
           {
            "cells": {
             "fill": {
              "color": "#EBF0F8"
             },
             "line": {
              "color": "white"
             }
            },
            "header": {
             "fill": {
              "color": "#C8D4E3"
             },
             "line": {
              "color": "white"
             }
            },
            "type": "table"
           }
          ]
         },
         "layout": {
          "annotationdefaults": {
           "arrowcolor": "#2a3f5f",
           "arrowhead": 0,
           "arrowwidth": 1
          },
          "coloraxis": {
           "colorbar": {
            "outlinewidth": 0,
            "ticks": ""
           }
          },
          "colorscale": {
           "diverging": [
            [
             0,
             "#8e0152"
            ],
            [
             0.1,
             "#c51b7d"
            ],
            [
             0.2,
             "#de77ae"
            ],
            [
             0.3,
             "#f1b6da"
            ],
            [
             0.4,
             "#fde0ef"
            ],
            [
             0.5,
             "#f7f7f7"
            ],
            [
             0.6,
             "#e6f5d0"
            ],
            [
             0.7,
             "#b8e186"
            ],
            [
             0.8,
             "#7fbc41"
            ],
            [
             0.9,
             "#4d9221"
            ],
            [
             1,
             "#276419"
            ]
           ],
           "sequential": [
            [
             0,
             "#0d0887"
            ],
            [
             0.1111111111111111,
             "#46039f"
            ],
            [
             0.2222222222222222,
             "#7201a8"
            ],
            [
             0.3333333333333333,
             "#9c179e"
            ],
            [
             0.4444444444444444,
             "#bd3786"
            ],
            [
             0.5555555555555556,
             "#d8576b"
            ],
            [
             0.6666666666666666,
             "#ed7953"
            ],
            [
             0.7777777777777778,
             "#fb9f3a"
            ],
            [
             0.8888888888888888,
             "#fdca26"
            ],
            [
             1,
             "#f0f921"
            ]
           ],
           "sequentialminus": [
            [
             0,
             "#0d0887"
            ],
            [
             0.1111111111111111,
             "#46039f"
            ],
            [
             0.2222222222222222,
             "#7201a8"
            ],
            [
             0.3333333333333333,
             "#9c179e"
            ],
            [
             0.4444444444444444,
             "#bd3786"
            ],
            [
             0.5555555555555556,
             "#d8576b"
            ],
            [
             0.6666666666666666,
             "#ed7953"
            ],
            [
             0.7777777777777778,
             "#fb9f3a"
            ],
            [
             0.8888888888888888,
             "#fdca26"
            ],
            [
             1,
             "#f0f921"
            ]
           ]
          },
          "colorway": [
           "#636efa",
           "#EF553B",
           "#00cc96",
           "#ab63fa",
           "#FFA15A",
           "#19d3f3",
           "#FF6692",
           "#B6E880",
           "#FF97FF",
           "#FECB52"
          ],
          "font": {
           "color": "#2a3f5f"
          },
          "geo": {
           "bgcolor": "white",
           "lakecolor": "white",
           "landcolor": "#E5ECF6",
           "showlakes": true,
           "showland": true,
           "subunitcolor": "white"
          },
          "hoverlabel": {
           "align": "left"
          },
          "hovermode": "closest",
          "mapbox": {
           "style": "light"
          },
          "paper_bgcolor": "white",
          "plot_bgcolor": "#E5ECF6",
          "polar": {
           "angularaxis": {
            "gridcolor": "white",
            "linecolor": "white",
            "ticks": ""
           },
           "bgcolor": "#E5ECF6",
           "radialaxis": {
            "gridcolor": "white",
            "linecolor": "white",
            "ticks": ""
           }
          },
          "scene": {
           "xaxis": {
            "backgroundcolor": "#E5ECF6",
            "gridcolor": "white",
            "gridwidth": 2,
            "linecolor": "white",
            "showbackground": true,
            "ticks": "",
            "zerolinecolor": "white"
           },
           "yaxis": {
            "backgroundcolor": "#E5ECF6",
            "gridcolor": "white",
            "gridwidth": 2,
            "linecolor": "white",
            "showbackground": true,
            "ticks": "",
            "zerolinecolor": "white"
           },
           "zaxis": {
            "backgroundcolor": "#E5ECF6",
            "gridcolor": "white",
            "gridwidth": 2,
            "linecolor": "white",
            "showbackground": true,
            "ticks": "",
            "zerolinecolor": "white"
           }
          },
          "shapedefaults": {
           "line": {
            "color": "#2a3f5f"
           }
          },
          "ternary": {
           "aaxis": {
            "gridcolor": "white",
            "linecolor": "white",
            "ticks": ""
           },
           "baxis": {
            "gridcolor": "white",
            "linecolor": "white",
            "ticks": ""
           },
           "bgcolor": "#E5ECF6",
           "caxis": {
            "gridcolor": "white",
            "linecolor": "white",
            "ticks": ""
           }
          },
          "title": {
           "x": 0.05
          },
          "xaxis": {
           "automargin": true,
           "gridcolor": "white",
           "linecolor": "white",
           "ticks": "",
           "title": {
            "standoff": 15
           },
           "zerolinecolor": "white",
           "zerolinewidth": 2
          },
          "yaxis": {
           "automargin": true,
           "gridcolor": "white",
           "linecolor": "white",
           "ticks": "",
           "title": {
            "standoff": 15
           },
           "zerolinecolor": "white",
           "zerolinewidth": 2
          }
         }
        },
        "title": {
         "font": {
          "color": "#4D5663"
         }
        },
        "xaxis": {
         "gridcolor": "#E1E5ED",
         "showgrid": true,
         "tickfont": {
          "color": "#4D5663"
         },
         "title": {
          "font": {
           "color": "#4D5663"
          },
          "text": "Day"
         },
         "zerolinecolor": "#E1E5ED"
        },
        "yaxis": {
         "gridcolor": "#E1E5ED",
         "showgrid": true,
         "tickfont": {
          "color": "#4D5663"
         },
         "title": {
          "font": {
           "color": "#4D5663"
          },
          "text": "Quantity"
         },
         "zerolinecolor": "#E1E5ED"
        }
       }
      },
      "text/html": [
       "<div>\n",
       "        \n",
       "        \n",
       "            <div id=\"1c798ac3-53a5-4470-be61-493a099582f4\" class=\"plotly-graph-div\" style=\"height:525px; width:100%;\"></div>\n",
       "            <script type=\"text/javascript\">\n",
       "                require([\"plotly\"], function(Plotly) {\n",
       "                    window.PLOTLYENV=window.PLOTLYENV || {};\n",
       "                    window.PLOTLYENV.BASE_URL='https://plot.ly';\n",
       "                    \n",
       "                if (document.getElementById(\"1c798ac3-53a5-4470-be61-493a099582f4\")) {\n",
       "                    Plotly.newPlot(\n",
       "                        '1c798ac3-53a5-4470-be61-493a099582f4',\n",
       "                        [{\"line\": {\"color\": \"rgba(255, 153, 51, 1.0)\", \"dash\": \"solid\", \"shape\": \"linear\", \"width\": 1.3}, \"mode\": \"lines\", \"name\": \"(2010, 12)\", \"text\": \"\", \"type\": \"scatter\", \"x\": [1, 2, 3, 4, 5, 6, 7, 8, 9, 10, 11, 12, 13, 14, 15, 16, 17, 18, 19, 20, 21, 22, 23, 24, 25, 26, 27, 28, 29, 30, 31], \"y\": [11.87075208913649, 15.594866633115249, 8.292841648590022, \"\", 5.509518023491292, 8.235138004246284, 18.1998001998002, 10.541038525963149, 9.010006671114077, 11.212629896083133, \"\", 5.900576368876081, 12.083601286173634, 10.815926892950392, 14.954918032786885, 17.296500920810313, 9.907284768211921, \"\", 7.183628318584071, 16.99425287356322, 13.348920863309353, 12.754285714285714, 8.784552845528456, \"\", \"\", \"\", \"\", \"\", \"\", \"\", \"\"]}, {\"line\": {\"color\": \"rgba(55, 128, 191, 1.0)\", \"dash\": \"solid\", \"shape\": \"linear\", \"width\": 1.3}, \"mode\": \"lines\", \"name\": \"(2011, 1)\", \"text\": \"\", \"type\": \"scatter\", \"x\": [1, 2, 3, 4, 5, 6, 7, 8, 9, 10, 11, 12, 13, 14, 15, 16, 17, 18, 19, 20, 21, 22, 23, 24, 25, 26, 27, 28, 29, 30, 31], \"y\": [\"\", \"\", \"\", 9.109439124487004, 18.143004115226336, 13.936698032506415, 15.828169014084507, \"\", 7.224609375, 11.784345047923322, 31.17269076305221, 8.15581098339719, 11.500770416024654, 9.602888086642599, \"\", 6.555382215288612, 9.0, 10.181818181818182, 9.117728531855956, 9.898275862068965, 11.803191489361701, \"\", 6.03183962264151, 12.477124183006536, 11.148362235067438, 10.470959595959595, 8.391143911439114, 10.32046332046332, \"\", 4.80532212885154, 11.698136645962732]}, {\"line\": {\"color\": \"rgba(50, 171, 96, 1.0)\", \"dash\": \"solid\", \"shape\": \"linear\", \"width\": 1.3}, \"mode\": \"lines\", \"name\": \"(2011, 2)\", \"text\": \"\", \"type\": \"scatter\", \"x\": [1, 2, 3, 4, 5, 6, 7, 8, 9, 10, 11, 12, 13, 14, 15, 16, 17, 18, 19, 20, 21, 22, 23, 24, 25, 26, 27, 28, 29, 30, 31], \"y\": [12.305454545454545, 8.697130712008502, 19.92032967032967, 17.540308747855917, \"\", 7.340501792114695, 9.400234741784038, 12.547368421052632, 7.891447368421052, 17.73482428115016, 18.70258620689655, \"\", 4.525451559934319, 18.770642201834864, 12.588739290085678, 14.954651162790698, 12.297154899894625, 14.658301158301159, \"\", 6.234265734265734, 9.25811209439528, 16.331818181818182, 11.955142231947484, 10.407335907335908, 12.240320427236314, \"\", 5.763522012578616, 8.048220436280138, \"\", \"\", \"\"]}, {\"line\": {\"color\": \"rgba(128, 0, 128, 1.0)\", \"dash\": \"solid\", \"shape\": \"linear\", \"width\": 1.3}, \"mode\": \"lines\", \"name\": \"(2011, 3)\", \"text\": \"\", \"type\": \"scatter\", \"x\": [1, 2, 3, 4, 5, 6, 7, 8, 9, 10, 11, 12, 13, 14, 15, 16, 17, 18, 19, 20, 21, 22, 23, 24, 25, 26, 27, 28, 29, 30, 31], \"y\": [9.637974683544304, 9.585882352941177, 10.373015873015873, 15.365384615384615, \"\", 6.148599269183922, 10.325, 11.377777777777778, 11.046979865771812, 13.696011004126547, 14.671378091872791, \"\", 4.939688715953308, 11.223451327433628, 8.838255977496484, 16.277188328912466, 18.84342857142857, 13.055617352614016, \"\", 11.157618213660244, 10.139560439560439, 11.122989593188269, 12.13953488372093, 11.913468248429867, 12.835686777920412, \"\", 6.336170212765958, 7.494995450409463, 12.655063291139241, 15.1, 12.399780941949617]}, {\"line\": {\"color\": \"rgba(219, 64, 82, 1.0)\", \"dash\": \"solid\", \"shape\": \"linear\", \"width\": 1.3}, \"mode\": \"lines\", \"name\": \"(2011, 4)\", \"text\": \"\", \"type\": \"scatter\", \"x\": [1, 2, 3, 4, 5, 6, 7, 8, 9, 10, 11, 12, 13, 14, 15, 16, 17, 18, 19, 20, 21, 22, 23, 24, 25, 26, 27, 28, 29, 30, 31], \"y\": [16.665694849368318, \"\", 7.881780250347705, 9.862037871956717, 13.090458488228006, 10.040871934604905, 6.943965517241379, 11.972881355932204, \"\", 6.0, 11.621814475025484, 13.652462121212121, 18.955974842767297, 12.782839787395597, 14.516358463726885, \"\", 8.384615384615385, 14.135740072202166, 10.303231939163497, 19.73120728929385, 12.837364470391993, \"\", \"\", \"\", \"\", 12.278846153846153, 17.052472250252272, 12.951086956521738, \"\", \"\", \"\"]}, {\"line\": {\"color\": \"rgba(0, 128, 128, 1.0)\", \"dash\": \"solid\", \"shape\": \"linear\", \"width\": 1.3}, \"mode\": \"lines\", \"name\": \"(2011, 5)\", \"text\": \"\", \"type\": \"scatter\", \"x\": [1, 2, 3, 4, 5, 6, 7, 8, 9, 10, 11, 12, 13, 14, 15, 16, 17, 18, 19, 20, 21, 22, 23, 24, 25, 26, 27, 28, 29, 30, 31], \"y\": [7.643373493975903, \"\", 11.097447795823665, 14.725730442978323, 13.281757402101242, 13.022708840227088, \"\", 6.827089337175792, 10.785345717234263, 12.320851063829787, 12.12661106899166, 10.877611940298507, 11.447265625, \"\", 6.115803814713897, 12.343473994111875, 14.020462633451958, 16.18139097744361, 11.428127428127429, 15.504434589800443, \"\", 8.138199858256556, 14.457169459962756, 13.738669238187079, 11.582579185520363, 13.90771349862259, 18.32128514056225, \"\", 6.443333333333333, \"\", 11.946308724832214]}, {\"line\": {\"color\": \"rgba(255, 255, 51, 1.0)\", \"dash\": \"solid\", \"shape\": \"linear\", \"width\": 1.3}, \"mode\": \"lines\", \"name\": \"(2011, 6)\", \"text\": \"\", \"type\": \"scatter\", \"x\": [1, 2, 3, 4, 5, 6, 7, 8, 9, 10, 11, 12, 13, 14, 15, 16, 17, 18, 19, 20, 21, 22, 23, 24, 25, 26, 27, 28, 29, 30, 31], \"y\": [9.607255520504731, 14.790834312573443, 11.278947368421052, \"\", 7.7759522031366695, 8.695555555555556, 12.333816075307748, 11.421221864951768, 20.905511811023622, 10.446428571428571, \"\", 8.110683349374398, 9.225546605293442, 12.729146221786065, 9.8468992248062, 16.344454463480613, 13.52017937219731, \"\", 9.378917378917379, 12.293975903614458, 14.152334152334152, 13.17103762827822, 8.757742601514108, 12.340729001584785, \"\", 5.2271293375394325, 11.85068493150685, 14.527407407407408, 10.193916349809886, 17.425471698113206, \"\"]}, {\"line\": {\"color\": \"rgba(128, 128, 0, 1.0)\", \"dash\": \"solid\", \"shape\": \"linear\", \"width\": 1.3}, \"mode\": \"lines\", \"name\": \"(2011, 7)\", \"text\": \"\", \"type\": \"scatter\", \"x\": [1, 2, 3, 4, 5, 6, 7, 8, 9, 10, 11, 12, 13, 14, 15, 16, 17, 18, 19, 20, 21, 22, 23, 24, 25, 26, 27, 28, 29, 30, 31], \"y\": [8.269387755102041, \"\", 5.212374581939799, 11.289473684210526, 23.058108108108108, 12.033514492753623, 14.47875108412836, 13.940418679549115, \"\", 5.235221674876847, 14.309111880046137, 16.462279293739968, 8.371877890841812, 11.178448275862069, 8.751506024096386, \"\", 9.055979643765903, 8.504540867810293, 17.75092250922509, 13.042533936651584, 15.135204081632653, 11.058912386706949, \"\", 16.906952965235174, 13.230519480519481, 15.115671641791044, 13.486211901306241, 24.286956521739132, 11.988505747126437, \"\", 9.977777777777778]}, {\"line\": {\"color\": \"rgba(251, 128, 114, 1.0)\", \"dash\": \"solid\", \"shape\": \"linear\", \"width\": 1.3}, \"mode\": \"lines\", \"name\": \"(2011, 8)\", \"text\": \"\", \"type\": \"scatter\", \"x\": [1, 2, 3, 4, 5, 6, 7, 8, 9, 10, 11, 12, 13, 14, 15, 16, 17, 18, 19, 20, 21, 22, 23, 24, 25, 26, 27, 28, 29, 30, 31], \"y\": [11.370932754880695, 18.754068716094032, 11.633846153846154, 28.087094220110846, 10.397916666666667, \"\", 9.81800766283525, 11.567195767195766, 9.89076723016905, 16.91194968553459, 16.39950372208437, 15.18503937007874, \"\", 5.927238805970149, 9.57845744680851, 11.754566210045661, 17.837796480489672, 15.884848484848485, 13.610544217687075, \"\", 6.836032388663968, 12.370757180156659, 10.127081507449606, 18.318051575931232, 11.040289256198347, 14.943076923076923, \"\", 5.562383612662942, \"\", 11.046575342465754, 15.47016274864376]}, {\"line\": {\"color\": \"rgba(128, 177, 211, 1.0)\", \"dash\": \"solid\", \"shape\": \"linear\", \"width\": 1.3}, \"mode\": \"lines\", \"name\": \"(2011, 9)\", \"text\": \"\", \"type\": \"scatter\", \"x\": [1, 2, 3, 4, 5, 6, 7, 8, 9, 10, 11, 12, 13, 14, 15, 16, 17, 18, 19, 20, 21, 22, 23, 24, 25, 26, 27, 28, 29, 30, 31], \"y\": [16.770579268292682, 14.319082377476539, \"\", 6.698752228163993, 13.240495867768596, 13.547128927410618, 15.573170731707316, 11.06677796327212, 12.13926499032882, \"\", 10.420997920997921, 11.38365650969529, 14.209534368070953, 11.423880597014925, 17.281812125249832, 11.3800170794193, \"\", 7.075531077891424, 13.08404255319149, 32.17503924646782, 10.927586206896551, 12.454888993859235, 9.998672859986728, \"\", 9.641379310344828, 10.046841731724628, 14.376055257099003, 11.582485875706215, 12.029764762361978, 13.010614101592115, \"\"]}, {\"line\": {\"color\": \"rgba(128, 177, 211, 0.8999999999999999)\", \"dash\": \"solid\", \"shape\": \"linear\", \"width\": 1.3}, \"mode\": \"lines\", \"name\": \"(2011, 10)\", \"text\": \"\", \"type\": \"scatter\", \"x\": [1, 2, 3, 4, 5, 6, 7, 8, 9, 10, 11, 12, 13, 14, 15, 16, 17, 18, 19, 20, 21, 22, 23, 24, 25, 26, 27, 28, 29, 30, 31], \"y\": [\"\", 5.897887323943662, 14.587813620071685, 11.401709401709402, 19.903048780487804, 14.043863742417173, 14.699115044247788, \"\", 6.0709105560032235, 8.96697543294402, 15.555908009516257, 11.234005258545135, 8.735428945645056, 10.933280381254963, \"\", 7.037720706260032, 9.310485933503836, 13.33543940264216, 9.041427660930529, 8.739455419113721, 16.94867408041061, \"\", 4.106271777003484, 12.599328483491886, 12.05274043433299, 11.254500310366232, 11.976003917727718, 13.418006430868168, \"\", 6.539688427299703, 7.980210265924551]}, {\"line\": {\"color\": \"rgba(255, 153, 51, 0.8999999999999999)\", \"dash\": \"solid\", \"shape\": \"linear\", \"width\": 1.3}, \"mode\": \"lines\", \"name\": \"(2011, 11)\", \"text\": \"\", \"type\": \"scatter\", \"x\": [1, 2, 3, 4, 5, 6, 7, 8, 9, 10, 11, 12, 13, 14, 15, 16, 17, 18, 19, 20, 21, 22, 23, 24, 25, 26, 27, 28, 29, 30, 31], \"y\": [9.419935691318328, 14.09633312616532, 17.054474708171206, 14.062640829202344, \"\", 5.851532567049809, 9.145744029393754, 9.236338797814208, 16.56357552581262, 9.960973863229503, 9.438674579624134, \"\", 6.605384615384615, 10.78247958426132, 10.7778899545684, 9.147781299524564, 8.951169470660648, 9.42841163310962, \"\", 5.854131247874872, 10.528913963328632, 10.450411603292826, 9.225411157691067, 9.346360527601368, 8.065646908859145, \"\", 4.224548440065681, 9.974599452911294, 8.660964230171073, 10.64153066966798, \"\"]}, {\"line\": {\"color\": \"rgba(55, 128, 191, 0.8999999999999999)\", \"dash\": \"solid\", \"shape\": \"linear\", \"width\": 1.3}, \"mode\": \"lines\", \"name\": \"(2011, 12)\", \"text\": \"\", \"type\": \"scatter\", \"x\": [1, 2, 3, 4, 5, 6, 7, 8, 9, 10, 11, 12, 13, 14, 15, 16, 17, 18, 19, 20, 21, 22, 23, 24, 25, 26, 27, 28, 29, 30, 31], \"y\": [11.55457227138643, 12.657111356119074, \"\", 5.45983379501385, 11.06539173349784, 11.048614072494669, 16.876378409750437, 10.640317858636553, 14.155963302752294, \"\", \"\", \"\", \"\", \"\", \"\", \"\", \"\", \"\", \"\", \"\", \"\", \"\", \"\", \"\", \"\", \"\", \"\", \"\", \"\", \"\", \"\"]}],\n",
       "                        {\"legend\": {\"bgcolor\": \"#F5F6F9\", \"font\": {\"color\": \"#4D5663\"}}, \"paper_bgcolor\": \"#F5F6F9\", \"plot_bgcolor\": \"#F5F6F9\", \"template\": {\"data\": {\"bar\": [{\"error_x\": {\"color\": \"#2a3f5f\"}, \"error_y\": {\"color\": \"#2a3f5f\"}, \"marker\": {\"line\": {\"color\": \"#E5ECF6\", \"width\": 0.5}}, \"type\": \"bar\"}], \"barpolar\": [{\"marker\": {\"line\": {\"color\": \"#E5ECF6\", \"width\": 0.5}}, \"type\": \"barpolar\"}], \"carpet\": [{\"aaxis\": {\"endlinecolor\": \"#2a3f5f\", \"gridcolor\": \"white\", \"linecolor\": \"white\", \"minorgridcolor\": \"white\", \"startlinecolor\": \"#2a3f5f\"}, \"baxis\": {\"endlinecolor\": \"#2a3f5f\", \"gridcolor\": \"white\", \"linecolor\": \"white\", \"minorgridcolor\": \"white\", \"startlinecolor\": \"#2a3f5f\"}, \"type\": \"carpet\"}], \"choropleth\": [{\"colorbar\": {\"outlinewidth\": 0, \"ticks\": \"\"}, \"type\": \"choropleth\"}], \"contour\": [{\"colorbar\": {\"outlinewidth\": 0, \"ticks\": \"\"}, \"colorscale\": [[0.0, \"#0d0887\"], [0.1111111111111111, \"#46039f\"], [0.2222222222222222, \"#7201a8\"], [0.3333333333333333, \"#9c179e\"], [0.4444444444444444, \"#bd3786\"], [0.5555555555555556, \"#d8576b\"], [0.6666666666666666, \"#ed7953\"], [0.7777777777777778, \"#fb9f3a\"], [0.8888888888888888, \"#fdca26\"], [1.0, \"#f0f921\"]], \"type\": \"contour\"}], \"contourcarpet\": [{\"colorbar\": {\"outlinewidth\": 0, \"ticks\": \"\"}, \"type\": \"contourcarpet\"}], \"heatmap\": [{\"colorbar\": {\"outlinewidth\": 0, \"ticks\": \"\"}, \"colorscale\": [[0.0, \"#0d0887\"], [0.1111111111111111, \"#46039f\"], [0.2222222222222222, \"#7201a8\"], [0.3333333333333333, \"#9c179e\"], [0.4444444444444444, \"#bd3786\"], [0.5555555555555556, \"#d8576b\"], [0.6666666666666666, \"#ed7953\"], [0.7777777777777778, \"#fb9f3a\"], [0.8888888888888888, \"#fdca26\"], [1.0, \"#f0f921\"]], \"type\": \"heatmap\"}], \"heatmapgl\": [{\"colorbar\": {\"outlinewidth\": 0, \"ticks\": \"\"}, \"colorscale\": [[0.0, \"#0d0887\"], [0.1111111111111111, \"#46039f\"], [0.2222222222222222, \"#7201a8\"], [0.3333333333333333, \"#9c179e\"], [0.4444444444444444, \"#bd3786\"], [0.5555555555555556, \"#d8576b\"], [0.6666666666666666, \"#ed7953\"], [0.7777777777777778, \"#fb9f3a\"], [0.8888888888888888, \"#fdca26\"], [1.0, \"#f0f921\"]], \"type\": \"heatmapgl\"}], \"histogram\": [{\"marker\": {\"colorbar\": {\"outlinewidth\": 0, \"ticks\": \"\"}}, \"type\": \"histogram\"}], \"histogram2d\": [{\"colorbar\": {\"outlinewidth\": 0, \"ticks\": \"\"}, \"colorscale\": [[0.0, \"#0d0887\"], [0.1111111111111111, \"#46039f\"], [0.2222222222222222, \"#7201a8\"], [0.3333333333333333, \"#9c179e\"], [0.4444444444444444, \"#bd3786\"], [0.5555555555555556, \"#d8576b\"], [0.6666666666666666, \"#ed7953\"], [0.7777777777777778, \"#fb9f3a\"], [0.8888888888888888, \"#fdca26\"], [1.0, \"#f0f921\"]], \"type\": \"histogram2d\"}], \"histogram2dcontour\": [{\"colorbar\": {\"outlinewidth\": 0, \"ticks\": \"\"}, \"colorscale\": [[0.0, \"#0d0887\"], [0.1111111111111111, \"#46039f\"], [0.2222222222222222, \"#7201a8\"], [0.3333333333333333, \"#9c179e\"], [0.4444444444444444, \"#bd3786\"], [0.5555555555555556, \"#d8576b\"], [0.6666666666666666, \"#ed7953\"], [0.7777777777777778, \"#fb9f3a\"], [0.8888888888888888, \"#fdca26\"], [1.0, \"#f0f921\"]], \"type\": \"histogram2dcontour\"}], \"mesh3d\": [{\"colorbar\": {\"outlinewidth\": 0, \"ticks\": \"\"}, \"type\": \"mesh3d\"}], \"parcoords\": [{\"line\": {\"colorbar\": {\"outlinewidth\": 0, \"ticks\": \"\"}}, \"type\": \"parcoords\"}], \"pie\": [{\"automargin\": true, \"type\": \"pie\"}], \"scatter\": [{\"marker\": {\"colorbar\": {\"outlinewidth\": 0, \"ticks\": \"\"}}, \"type\": \"scatter\"}], \"scatter3d\": [{\"line\": {\"colorbar\": {\"outlinewidth\": 0, \"ticks\": \"\"}}, \"marker\": {\"colorbar\": {\"outlinewidth\": 0, \"ticks\": \"\"}}, \"type\": \"scatter3d\"}], \"scattercarpet\": [{\"marker\": {\"colorbar\": {\"outlinewidth\": 0, \"ticks\": \"\"}}, \"type\": \"scattercarpet\"}], \"scattergeo\": [{\"marker\": {\"colorbar\": {\"outlinewidth\": 0, \"ticks\": \"\"}}, \"type\": \"scattergeo\"}], \"scattergl\": [{\"marker\": {\"colorbar\": {\"outlinewidth\": 0, \"ticks\": \"\"}}, \"type\": \"scattergl\"}], \"scattermapbox\": [{\"marker\": {\"colorbar\": {\"outlinewidth\": 0, \"ticks\": \"\"}}, \"type\": \"scattermapbox\"}], \"scatterpolar\": [{\"marker\": {\"colorbar\": {\"outlinewidth\": 0, \"ticks\": \"\"}}, \"type\": \"scatterpolar\"}], \"scatterpolargl\": [{\"marker\": {\"colorbar\": {\"outlinewidth\": 0, \"ticks\": \"\"}}, \"type\": \"scatterpolargl\"}], \"scatterternary\": [{\"marker\": {\"colorbar\": {\"outlinewidth\": 0, \"ticks\": \"\"}}, \"type\": \"scatterternary\"}], \"surface\": [{\"colorbar\": {\"outlinewidth\": 0, \"ticks\": \"\"}, \"colorscale\": [[0.0, \"#0d0887\"], [0.1111111111111111, \"#46039f\"], [0.2222222222222222, \"#7201a8\"], [0.3333333333333333, \"#9c179e\"], [0.4444444444444444, \"#bd3786\"], [0.5555555555555556, \"#d8576b\"], [0.6666666666666666, \"#ed7953\"], [0.7777777777777778, \"#fb9f3a\"], [0.8888888888888888, \"#fdca26\"], [1.0, \"#f0f921\"]], \"type\": \"surface\"}], \"table\": [{\"cells\": {\"fill\": {\"color\": \"#EBF0F8\"}, \"line\": {\"color\": \"white\"}}, \"header\": {\"fill\": {\"color\": \"#C8D4E3\"}, \"line\": {\"color\": \"white\"}}, \"type\": \"table\"}]}, \"layout\": {\"annotationdefaults\": {\"arrowcolor\": \"#2a3f5f\", \"arrowhead\": 0, \"arrowwidth\": 1}, \"coloraxis\": {\"colorbar\": {\"outlinewidth\": 0, \"ticks\": \"\"}}, \"colorscale\": {\"diverging\": [[0, \"#8e0152\"], [0.1, \"#c51b7d\"], [0.2, \"#de77ae\"], [0.3, \"#f1b6da\"], [0.4, \"#fde0ef\"], [0.5, \"#f7f7f7\"], [0.6, \"#e6f5d0\"], [0.7, \"#b8e186\"], [0.8, \"#7fbc41\"], [0.9, \"#4d9221\"], [1, \"#276419\"]], \"sequential\": [[0.0, \"#0d0887\"], [0.1111111111111111, \"#46039f\"], [0.2222222222222222, \"#7201a8\"], [0.3333333333333333, \"#9c179e\"], [0.4444444444444444, \"#bd3786\"], [0.5555555555555556, \"#d8576b\"], [0.6666666666666666, \"#ed7953\"], [0.7777777777777778, \"#fb9f3a\"], [0.8888888888888888, \"#fdca26\"], [1.0, \"#f0f921\"]], \"sequentialminus\": [[0.0, \"#0d0887\"], [0.1111111111111111, \"#46039f\"], [0.2222222222222222, \"#7201a8\"], [0.3333333333333333, \"#9c179e\"], [0.4444444444444444, \"#bd3786\"], [0.5555555555555556, \"#d8576b\"], [0.6666666666666666, \"#ed7953\"], [0.7777777777777778, \"#fb9f3a\"], [0.8888888888888888, \"#fdca26\"], [1.0, \"#f0f921\"]]}, \"colorway\": [\"#636efa\", \"#EF553B\", \"#00cc96\", \"#ab63fa\", \"#FFA15A\", \"#19d3f3\", \"#FF6692\", \"#B6E880\", \"#FF97FF\", \"#FECB52\"], \"font\": {\"color\": \"#2a3f5f\"}, \"geo\": {\"bgcolor\": \"white\", \"lakecolor\": \"white\", \"landcolor\": \"#E5ECF6\", \"showlakes\": true, \"showland\": true, \"subunitcolor\": \"white\"}, \"hoverlabel\": {\"align\": \"left\"}, \"hovermode\": \"closest\", \"mapbox\": {\"style\": \"light\"}, \"paper_bgcolor\": \"white\", \"plot_bgcolor\": \"#E5ECF6\", \"polar\": {\"angularaxis\": {\"gridcolor\": \"white\", \"linecolor\": \"white\", \"ticks\": \"\"}, \"bgcolor\": \"#E5ECF6\", \"radialaxis\": {\"gridcolor\": \"white\", \"linecolor\": \"white\", \"ticks\": \"\"}}, \"scene\": {\"xaxis\": {\"backgroundcolor\": \"#E5ECF6\", \"gridcolor\": \"white\", \"gridwidth\": 2, \"linecolor\": \"white\", \"showbackground\": true, \"ticks\": \"\", \"zerolinecolor\": \"white\"}, \"yaxis\": {\"backgroundcolor\": \"#E5ECF6\", \"gridcolor\": \"white\", \"gridwidth\": 2, \"linecolor\": \"white\", \"showbackground\": true, \"ticks\": \"\", \"zerolinecolor\": \"white\"}, \"zaxis\": {\"backgroundcolor\": \"#E5ECF6\", \"gridcolor\": \"white\", \"gridwidth\": 2, \"linecolor\": \"white\", \"showbackground\": true, \"ticks\": \"\", \"zerolinecolor\": \"white\"}}, \"shapedefaults\": {\"line\": {\"color\": \"#2a3f5f\"}}, \"ternary\": {\"aaxis\": {\"gridcolor\": \"white\", \"linecolor\": \"white\", \"ticks\": \"\"}, \"baxis\": {\"gridcolor\": \"white\", \"linecolor\": \"white\", \"ticks\": \"\"}, \"bgcolor\": \"#E5ECF6\", \"caxis\": {\"gridcolor\": \"white\", \"linecolor\": \"white\", \"ticks\": \"\"}}, \"title\": {\"x\": 0.05}, \"xaxis\": {\"automargin\": true, \"gridcolor\": \"white\", \"linecolor\": \"white\", \"ticks\": \"\", \"title\": {\"standoff\": 15}, \"zerolinecolor\": \"white\", \"zerolinewidth\": 2}, \"yaxis\": {\"automargin\": true, \"gridcolor\": \"white\", \"linecolor\": \"white\", \"ticks\": \"\", \"title\": {\"standoff\": 15}, \"zerolinecolor\": \"white\", \"zerolinewidth\": 2}}}, \"title\": {\"font\": {\"color\": \"#4D5663\"}}, \"xaxis\": {\"gridcolor\": \"#E1E5ED\", \"showgrid\": true, \"tickfont\": {\"color\": \"#4D5663\"}, \"title\": {\"font\": {\"color\": \"#4D5663\"}, \"text\": \"Day\"}, \"zerolinecolor\": \"#E1E5ED\"}, \"yaxis\": {\"gridcolor\": \"#E1E5ED\", \"showgrid\": true, \"tickfont\": {\"color\": \"#4D5663\"}, \"title\": {\"font\": {\"color\": \"#4D5663\"}, \"text\": \"Quantity\"}, \"zerolinecolor\": \"#E1E5ED\"}},\n",
       "                        {\"showLink\": true, \"linkText\": \"Export to plot.ly\", \"plotlyServerURL\": \"https://plot.ly\", \"responsive\": true}\n",
       "                    ).then(function(){\n",
       "                            \n",
       "var gd = document.getElementById('1c798ac3-53a5-4470-be61-493a099582f4');\n",
       "var x = new MutationObserver(function (mutations, observer) {{\n",
       "        var display = window.getComputedStyle(gd).display;\n",
       "        if (!display || display === 'none') {{\n",
       "            console.log([gd, 'removed!']);\n",
       "            Plotly.purge(gd);\n",
       "            observer.disconnect();\n",
       "        }}\n",
       "}});\n",
       "\n",
       "// Listen for the removal of the full notebook cells\n",
       "var notebookContainer = gd.closest('#notebook-container');\n",
       "if (notebookContainer) {{\n",
       "    x.observe(notebookContainer, {childList: true});\n",
       "}}\n",
       "\n",
       "// Listen for the clearing of the current output cell\n",
       "var outputEl = gd.closest('.output');\n",
       "if (outputEl) {{\n",
       "    x.observe(outputEl, {childList: true});\n",
       "}}\n",
       "\n",
       "                        })\n",
       "                };\n",
       "                });\n",
       "            </script>\n",
       "        </div>"
      ]
     },
     "metadata": {},
     "output_type": "display_data"
    }
   ],
   "source": [
    "uk = uk.pivot_table(values='Quantity', columns=['Year','Month'], index='Day')\n",
    "uk.iplot(kind='line', xTitle ='Day', yTitle='Quantity')"
   ]
  },
  {
   "cell_type": "markdown",
   "metadata": {},
   "source": [
    "## 7. Create an interactive scatter plot that plots number of invoices (x-axis) vs. number of customers (y-axis) and the plot points represent individual products. Add two sliders that control the x and y axis ranges."
   ]
  },
  {
   "cell_type": "code",
   "execution_count": 68,
   "metadata": {},
   "outputs": [],
   "source": [
    "agg_func = {'InvoiceNo':'nunique',\n",
    "            'Quantity':'sum',\n",
    "            'UnitPrice':'mean',\n",
    "            'Revenue':'sum',\n",
    "            'CustomerID':'nunique'}\n",
    "\n",
    "products = uk.groupby('Description').agg(agg_func)"
   ]
  },
  {
   "cell_type": "code",
   "execution_count": 69,
   "metadata": {},
   "outputs": [
    {
     "data": {
      "text/html": [
       "<div>\n",
       "<style scoped>\n",
       "    .dataframe tbody tr th:only-of-type {\n",
       "        vertical-align: middle;\n",
       "    }\n",
       "\n",
       "    .dataframe tbody tr th {\n",
       "        vertical-align: top;\n",
       "    }\n",
       "\n",
       "    .dataframe thead th {\n",
       "        text-align: right;\n",
       "    }\n",
       "</style>\n",
       "<table border=\"1\" class=\"dataframe\">\n",
       "  <thead>\n",
       "    <tr style=\"text-align: right;\">\n",
       "      <th></th>\n",
       "      <th>InvoiceNo</th>\n",
       "      <th>Quantity</th>\n",
       "      <th>UnitPrice</th>\n",
       "      <th>Revenue</th>\n",
       "      <th>CustomerID</th>\n",
       "    </tr>\n",
       "    <tr>\n",
       "      <th>Description</th>\n",
       "      <th></th>\n",
       "      <th></th>\n",
       "      <th></th>\n",
       "      <th></th>\n",
       "      <th></th>\n",
       "    </tr>\n",
       "  </thead>\n",
       "  <tbody>\n",
       "    <tr>\n",
       "      <th>4 PURPLE FLOCK DINNER CANDLES</th>\n",
       "      <td>35</td>\n",
       "      <td>134</td>\n",
       "      <td>2.318421</td>\n",
       "      <td>255.46</td>\n",
       "      <td>30</td>\n",
       "    </tr>\n",
       "    <tr>\n",
       "      <th>50'S CHRISTMAS GIFT BAG LARGE</th>\n",
       "      <td>100</td>\n",
       "      <td>1721</td>\n",
       "      <td>1.247900</td>\n",
       "      <td>2067.25</td>\n",
       "      <td>98</td>\n",
       "    </tr>\n",
       "    <tr>\n",
       "      <th>DOLLY GIRL BEAKER</th>\n",
       "      <td>100</td>\n",
       "      <td>661</td>\n",
       "      <td>1.250000</td>\n",
       "      <td>826.25</td>\n",
       "      <td>77</td>\n",
       "    </tr>\n",
       "    <tr>\n",
       "      <th>I LOVE LONDON MINI BACKPACK</th>\n",
       "      <td>55</td>\n",
       "      <td>181</td>\n",
       "      <td>4.150000</td>\n",
       "      <td>751.15</td>\n",
       "      <td>46</td>\n",
       "    </tr>\n",
       "    <tr>\n",
       "      <th>NINE DRAWER OFFICE TIDY</th>\n",
       "      <td>25</td>\n",
       "      <td>44</td>\n",
       "      <td>14.761538</td>\n",
       "      <td>628.40</td>\n",
       "      <td>24</td>\n",
       "    </tr>\n",
       "    <tr>\n",
       "      <th>...</th>\n",
       "      <td>...</td>\n",
       "      <td>...</td>\n",
       "      <td>...</td>\n",
       "      <td>...</td>\n",
       "      <td>...</td>\n",
       "    </tr>\n",
       "    <tr>\n",
       "      <th>ZINC T-LIGHT HOLDER STARS SMALL</th>\n",
       "      <td>220</td>\n",
       "      <td>4258</td>\n",
       "      <td>0.839005</td>\n",
       "      <td>3399.62</td>\n",
       "      <td>168</td>\n",
       "    </tr>\n",
       "    <tr>\n",
       "      <th>ZINC TOP  2 DOOR WOODEN SHELF</th>\n",
       "      <td>9</td>\n",
       "      <td>10</td>\n",
       "      <td>16.950000</td>\n",
       "      <td>169.50</td>\n",
       "      <td>9</td>\n",
       "    </tr>\n",
       "    <tr>\n",
       "      <th>ZINC WILLIE WINKIE  CANDLE STICK</th>\n",
       "      <td>169</td>\n",
       "      <td>2007</td>\n",
       "      <td>0.877052</td>\n",
       "      <td>1716.87</td>\n",
       "      <td>123</td>\n",
       "    </tr>\n",
       "    <tr>\n",
       "      <th>ZINC WIRE KITCHEN ORGANISER</th>\n",
       "      <td>11</td>\n",
       "      <td>24</td>\n",
       "      <td>6.881818</td>\n",
       "      <td>146.40</td>\n",
       "      <td>11</td>\n",
       "    </tr>\n",
       "    <tr>\n",
       "      <th>ZINC WIRE SWEETHEART LETTER TRAY</th>\n",
       "      <td>19</td>\n",
       "      <td>72</td>\n",
       "      <td>3.570000</td>\n",
       "      <td>243.24</td>\n",
       "      <td>17</td>\n",
       "    </tr>\n",
       "  </tbody>\n",
       "</table>\n",
       "<p>3620 rows × 5 columns</p>\n",
       "</div>"
      ],
      "text/plain": [
       "                                  InvoiceNo  Quantity  UnitPrice  Revenue  \\\n",
       "Description                                                                 \n",
       " 4 PURPLE FLOCK DINNER CANDLES           35       134   2.318421   255.46   \n",
       " 50'S CHRISTMAS GIFT BAG LARGE          100      1721   1.247900  2067.25   \n",
       " DOLLY GIRL BEAKER                      100       661   1.250000   826.25   \n",
       " I LOVE LONDON MINI BACKPACK             55       181   4.150000   751.15   \n",
       " NINE DRAWER OFFICE TIDY                 25        44  14.761538   628.40   \n",
       "...                                     ...       ...        ...      ...   \n",
       "ZINC T-LIGHT HOLDER STARS SMALL         220      4258   0.839005  3399.62   \n",
       "ZINC TOP  2 DOOR WOODEN SHELF             9        10  16.950000   169.50   \n",
       "ZINC WILLIE WINKIE  CANDLE STICK        169      2007   0.877052  1716.87   \n",
       "ZINC WIRE KITCHEN ORGANISER              11        24   6.881818   146.40   \n",
       "ZINC WIRE SWEETHEART LETTER TRAY         19        72   3.570000   243.24   \n",
       "\n",
       "                                  CustomerID  \n",
       "Description                                   \n",
       " 4 PURPLE FLOCK DINNER CANDLES            30  \n",
       " 50'S CHRISTMAS GIFT BAG LARGE            98  \n",
       " DOLLY GIRL BEAKER                        77  \n",
       " I LOVE LONDON MINI BACKPACK              46  \n",
       " NINE DRAWER OFFICE TIDY                  24  \n",
       "...                                      ...  \n",
       "ZINC T-LIGHT HOLDER STARS SMALL          168  \n",
       "ZINC TOP  2 DOOR WOODEN SHELF              9  \n",
       "ZINC WILLIE WINKIE  CANDLE STICK         123  \n",
       "ZINC WIRE KITCHEN ORGANISER               11  \n",
       "ZINC WIRE SWEETHEART LETTER TRAY          17  \n",
       "\n",
       "[3620 rows x 5 columns]"
      ]
     },
     "execution_count": 69,
     "metadata": {},
     "output_type": "execute_result"
    }
   ],
   "source": [
    "products.iplot(kind='scatter',)\n",
    "products = products.pivot_table(values='Quantity', columns=['Year','Month'], index='Day')"
   ]
  },
  {
   "cell_type": "markdown",
   "metadata": {},
   "source": [
    "## 8. Creat an interactive bar chart that shows revenue by product description. Add a text field widget that filters the results to show the product that contain the text entered in their description."
   ]
  },
  {
   "cell_type": "code",
   "execution_count": null,
   "metadata": {},
   "outputs": [],
   "source": []
  }
 ],
 "metadata": {
  "kernelspec": {
   "display_name": "Python 3",
   "language": "python",
   "name": "python3"
  },
  "language_info": {
   "codemirror_mode": {
    "name": "ipython",
    "version": 3
   },
   "file_extension": ".py",
   "mimetype": "text/x-python",
   "name": "python",
   "nbconvert_exporter": "python",
   "pygments_lexer": "ipython3",
   "version": "3.7.5"
  }
 },
 "nbformat": 4,
 "nbformat_minor": 2
}
